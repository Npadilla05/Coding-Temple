{
 "cells": [
  {
   "attachments": {},
   "cell_type": "markdown",
   "metadata": {},
   "source": [
    "# Parking Garage Project\n",
    "\n",
    "Your assignment for today is to create a parking garage class to get more familiar with Object Oriented Programming(OOP). \n",
    "\n",
    "Your parking gargage class should have the following methods:\n",
    "- take_ticket\n",
    "   - This should decrease the amount of tickets available by 1\n",
    "   - This should decrease the amount of parking_spaces available by 1\n",
    "- pay_for_parking\n",
    "   - Display an input that waits for an amount from the user and store it in a variable\n",
    "   - If the payment variable is not empty then ->  display a message to the user that their ticket has been paid and they have 15mins to leave\n",
    "   - This should update the \"current_ticket\" dictionary key \"paid\" to True\n",
    "-leave_garage\n",
    "   - If the ticket has been paid, display a message of \"Thank You, have a nice day\"\n",
    "   - If the ticket has not been paid, display an input prompt for payment\n",
    "      - Once paid, display message \"Thank you, have a nice day!\"\n",
    "   - Update parking_spaces list to increase by 1\n",
    "   - Update tickets list to increase by 1\n",
    "\n",
    "You will need a few attributes as well:\n",
    "- tickets -> list\n",
    "- parking_spaces -> list\n",
    "- current_ticket -> dictionary"
   ]
  },
  {
   "cell_type": "code",
   "execution_count": 15,
   "metadata": {},
   "outputs": [
    {
     "name": "stdout",
     "output_type": "stream",
     "text": [
      "Thank you, have a nice day!\n"
     ]
    }
   ],
   "source": [
    "class ParkingGarage:\n",
    "    # Constants \\/\n",
    "    tickets_available = 6 \n",
    "    parking_spaces = [1,2,3,4,5,6] # parking spaces is a list\n",
    "    current_ticket = {'paid': False} # current ticket is a dictionary and will be false unless \"paid\" \n",
    "    occupied_space = [] # empty list so we can add into it from parking spaces\n",
    "    def __init__(self, tickets: list):\n",
    "        self.tickets = tickets\n",
    "        \n",
    "    def take_ticket(self):\n",
    "        self.occupied_space.append(self.parking_spaces[0]) # taking a space from the list of parking spaces and adding it to the EMPTY list of occupied space\n",
    "                                                           # Grabbing [0] from parking spaces -> [1]\n",
    "        self.tickets_available -= 1 # minus 1 because we are taking parking spaces and moving it to occupied space. \n",
    "        self.parking_spaces.remove(self.parking_spaces[0]) # removing a spot from parking spaces\n",
    "        \n",
    "    def leave_garage(self):\n",
    "        if self.current_ticket['paid']:\n",
    "            print('Thank you, have a nice day!')\n",
    "        else:    \n",
    "            payment = input('Please pay now')\n",
    "            print('Thank you, have a nice day!')\n",
    "        self.parking_spaces.append(self.occupied_space[0]) # adding a space from parking spaces to the EMPTY list of occupied space\n",
    "        self.occupied_space.remove(self.parking_spaces[-1]) # removing a space from occupied back to the original list of parking space\n",
    "        self.tickets_available += 1 # Adding 1 because we are removing from OCCUPIED back to PARKING \n",
    "          \n",
    "    def pay_for_parking(self):\n",
    "        response = input(\"Please pay 20 dollars to enter or hit paid\") # Use INPUT instead of print because we need an action to trigger 'paid' or 'pay'\n",
    "        if response.lower() == 'paid':\n",
    "            print('Your ticket has been paid and you have 15 minutes to leave.')\n",
    "            self.current_ticket['paid'] = True # Dictionary is set to False so once we pay, it will be True\n",
    "        elif response.lower == 'pay':\n",
    "            print('The total is 20 dollars | Pay') \n",
    "                   \n",
    "parking = ParkingGarage([])\n",
    "parking.take_ticket()    \n",
    "parking.pay_for_parking()  \n",
    "parking.leave_garage()\n"
   ]
  }
 ],
 "metadata": {
  "kernelspec": {
   "display_name": "Python 3",
   "language": "python",
   "name": "python3"
  },
  "language_info": {
   "codemirror_mode": {
    "name": "ipython",
    "version": 3
   },
   "file_extension": ".py",
   "mimetype": "text/x-python",
   "name": "python",
   "nbconvert_exporter": "python",
   "pygments_lexer": "ipython3",
   "version": "3.8.9"
  },
  "vscode": {
   "interpreter": {
    "hash": "31f2aee4e71d21fbe5cf8b01ff0e069b9275f58929596ceb00d14d90e3e16cd6"
   }
  }
 },
 "nbformat": 4,
 "nbformat_minor": 2
}
