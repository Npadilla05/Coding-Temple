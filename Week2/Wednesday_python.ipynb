{
 "cells": [
  {
   "attachments": {},
   "cell_type": "markdown",
   "metadata": {},
   "source": [
    "# Coding Temple's Data Analytics Program\n",
    "---\n",
    "## Python Basics Assignment 3\n",
    "---"
   ]
  },
  {
   "attachments": {},
   "cell_type": "markdown",
   "metadata": {},
   "source": [
    "### **Task 1: Build a Shopping Cart**\n",
    "**You can use either lists or dictionaries. The program should have the following capabilites:**\n",
    "* Takes a string as an input\n",
    "* Stores user input in a dictionary or list\n",
    "* Users should be able to:\n",
    "    * Add Items\n",
    "    * Delete Items\n",
    "    * See current shopping cart\n",
    "* The program should loop until user 'quits'\n",
    "* Upon quitting the program, print out all items in the user's list"
   ]
  },
  {
   "cell_type": "code",
   "execution_count": 7,
   "metadata": {},
   "outputs": [
    {
     "name": "stdout",
     "output_type": "stream",
     "text": [
      "['milk']\n",
      "[]\n",
      "[]\n"
     ]
    }
   ],
   "source": [
    "from IPython.display import clear_output\n",
    "\n",
    "# Ask the user 5 bits of input: Do you want to : Show/Add/Delete/clear or Quit?\n",
    "# YOUR CODE HERE\n",
    "def store_info():\n",
    "    d = []\n",
    "    while True: # So we can trigger an infinite loop. It will happen until we tell it to stop\n",
    "        answer = input('Do you want to : show, add, delete, clear or quit')\n",
    "        if answer.lower() == 'add':\n",
    "            item = input('What do you want to add?') # Need this line otherwise 'add' will be in list\n",
    "            d.append(item) # (item) instead of (answer) becaue we will get \"add\" instead of items\n",
    "        elif answer.lower() == 'delete':\n",
    "            item = input('What do you want to delete?')\n",
    "            d.remove(item)\n",
    "        elif answer.lower() == 'show':\n",
    "            print(d)\n",
    "        elif answer.lower() == 'clear':\n",
    "            d = []\n",
    "        elif answer.lower() == 'quit':\n",
    "            print(d)\n",
    "            break\n",
    "store_info()"
   ]
  },
  {
   "attachments": {},
   "cell_type": "markdown",
   "metadata": {},
   "source": [
    "### **Task 2: Create a Module and Import it**\n",
    "Create a Module in VS Code and import it into a Jupyter Notebook. \n",
    "\n",
    "**Your module should have the following capabilities:**\n",
    "* Has a function to calculate the square footage of a house\n",
    "* Has a function to calculate the circumference of a circle\n",
    "* Has a function to change feet to inches\n",
    "\n",
    "The program in Jupyter Notebook should take in user input and use the imported functions for their calculations!"
   ]
  },
  {
   "cell_type": "code",
   "execution_count": 9,
   "metadata": {},
   "outputs": [
    {
     "name": "stdout",
     "output_type": "stream",
     "text": [
      "15\n",
      "62.83185307179586\n",
      "60\n"
     ]
    }
   ],
   "source": [
    "import module\n",
    "\n",
    "print(module.sq_ft(3,5))\n",
    "print(module.circle(10))\n",
    "print(module.inches(5))\n"
   ]
  },
  {
   "attachments": {},
   "cell_type": "markdown",
   "metadata": {},
   "source": [
    "### **Task 3.1: Lists**\n",
    "Create 4 lists. Two of these lists should be keys, two of these lists should be values"
   ]
  },
  {
   "cell_type": "code",
   "execution_count": 10,
   "metadata": {},
   "outputs": [],
   "source": [
    "l_1 = ['Noki', 'Matt', 'Troy', 'Ryan']\n",
    "l_2 = ['brand', 'athlete', 'team', 'shoe']\n",
    "l_3 = ['yellow', 'blue', 'green', 'red']\n",
    "l_4 = ['nike', 'Lebron', 'Lakers', '20']"
   ]
  },
  {
   "attachments": {},
   "cell_type": "markdown",
   "metadata": {},
   "source": [
    "### **Task 3.2: Create a function that converts two lists into a dictionary, then merges two dictionaries into one.**\n",
    "\n",
    "Using your 4 lists, create a function which combines the keys lists with the values lists into a dictionary, then merges and returns the two dictionaries together."
   ]
  },
  {
   "cell_type": "code",
   "execution_count": 70,
   "metadata": {},
   "outputs": [
    {
     "name": "stdout",
     "output_type": "stream",
     "text": [
      "{'Noki': 'yellow', 'Matt': 'blue', 'Troy': 'green', 'Ryan': 'red'} {'brand': 'nike', 'athlete': 'Lebron', 'team': 'Lakers', 'shoe': '20'}\n",
      "None\n"
     ]
    },
    {
     "data": {
      "text/plain": [
       "{'Noki': 'yellow', 'Matt': 'blue', 'Troy': 'green', 'Ryan': 'red'}"
      ]
     },
     "execution_count": 70,
     "metadata": {},
     "output_type": "execute_result"
    }
   ],
   "source": [
    "def merge_list(dict_1, dict_2):\n",
    "    dict_1 = {l_1[i]: l_3[i] for i in range(len(l_1))}\n",
    "    dict_2 = {l_2[i]: l_4[i] for i in range(len(l_2))}\n",
    "    print(dict_1, dict_2)\n",
    "    \n",
    "print(merge_list(l_2,l_4)) \n",
    "\n",
    "def lists_to_dict(list1, list2):\n",
    "    result = {}\n",
    "    for key, value in zip(list1, list2):\n",
    "        result[key] = value\n",
    "    return result\n",
    "\n",
    "lists_to_dict(l_1,l_3)"
   ]
  }
 ],
 "metadata": {
  "kernelspec": {
   "display_name": "Python 3",
   "language": "python",
   "name": "python3"
  },
  "language_info": {
   "codemirror_mode": {
    "name": "ipython",
    "version": 3
   },
   "file_extension": ".py",
   "mimetype": "text/x-python",
   "name": "python",
   "nbconvert_exporter": "python",
   "pygments_lexer": "ipython3",
   "version": "3.8.9"
  },
  "orig_nbformat": 4,
  "vscode": {
   "interpreter": {
    "hash": "31f2aee4e71d21fbe5cf8b01ff0e069b9275f58929596ceb00d14d90e3e16cd6"
   }
  }
 },
 "nbformat": 4,
 "nbformat_minor": 2
}
