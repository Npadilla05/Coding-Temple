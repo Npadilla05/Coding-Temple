{
  "cells": [
    {
      "attachments": {},
      "cell_type": "markdown",
      "metadata": {
        "id": "A3jUapQsAZn-"
      },
      "source": [
        "# Coding Temple's Data Analytics Course\n",
        "---\n",
        "## Advanced Python Day 1: Regular Expressions"
      ]
    },
    {
      "attachments": {},
      "cell_type": "markdown",
      "metadata": {
        "id": "PdLjKD4UAZn_"
      },
      "source": [
        "## Tasks today:\n",
        "1) <b>Importing</b> <br>\n",
        "2) <b>Using Regular Expressions</b> <br>\n",
        " &nbsp;&nbsp;&nbsp;&nbsp; a) re.compile() <br>\n",
        " &nbsp;&nbsp;&nbsp;&nbsp; b) re.match() <br>\n",
        " &nbsp;&nbsp;&nbsp;&nbsp; c) re.findall() <br>\n",
        " &nbsp;&nbsp;&nbsp;&nbsp; d) re.search() <br>\n",
        "3) <b>Sets</b> <br>\n",
        " &nbsp;&nbsp;&nbsp;&nbsp; a) Integer Ranges <br>\n",
        " &nbsp;&nbsp;&nbsp;&nbsp; b) Character Ranges <br>\n",
        "4) <b>Counting Occurences</b> <br>\n",
        " &nbsp;&nbsp;&nbsp;&nbsp; a) {x} <br>\n",
        " &nbsp;&nbsp;&nbsp;&nbsp; b) {, x} <br>\n",
        " &nbsp;&nbsp;&nbsp;&nbsp; c) {?} <br>\n",
        " &nbsp;&nbsp;&nbsp;&nbsp; d) {*} <br>\n",
        " &nbsp;&nbsp;&nbsp;&nbsp; e) {+} <br>\n",
        "5) <b>In-Class Exercise #1</b> <br>\n",
        "6) <b>Escaping Characters</b> <br>\n",
        "7) <b>Grouping</b> <br>\n",
        "8) <b>In-Class Exercise #2</b> <br>\n",
        "9) <b>Opening a File</b> <br>\n",
        " &nbsp;&nbsp;&nbsp;&nbsp; a) open() <br>\n",
        " &nbsp;&nbsp;&nbsp;&nbsp; b) with open() <br>\n",
        " &nbsp;&nbsp;&nbsp;&nbsp; c) re.match() <br>\n",
        " &nbsp;&nbsp;&nbsp;&nbsp; d) re.search() <br>\n",
        " &nbsp;&nbsp;&nbsp;&nbsp; e) Store the String in a Variable <br>\n",
        "10) <b>Regex Project</b> <br>"
      ]
    },
    {
      "cell_type": "markdown",
      "metadata": {
        "id": "PAC04z0nAZoA"
      },
      "source": [
        "### Importing <br>\n",
        "<p>Regular Expressions are universal throughout most programming languages... They are generally imported through the module 're'.</p>"
      ]
    },
    {
      "cell_type": "code",
      "execution_count": 1,
      "metadata": {
        "id": "SxP-cmPsAZoA"
      },
      "outputs": [],
      "source": [
        "#Import statments\n",
        "import re"
      ]
    },
    {
      "cell_type": "markdown",
      "metadata": {
        "id": "M7A6o9vXAZoB"
      },
      "source": [
        "### Using Regular Expressions <br>\n",
        "<p>Regular expressions give us the ability to search for patterns within text, strings, files, etc. They serve several uses, such as; security measures, searching, filtering, pattern recognition, and more...</p>"
      ]
    },
    {
      "cell_type": "markdown",
      "metadata": {
        "id": "LwC1v9vRAZoB"
      },
      "source": [
        "##### re.compile()"
      ]
    },
    {
      "cell_type": "code",
      "execution_count": 2,
      "metadata": {
        "id": "ldZfAB8FAZoB"
      },
      "outputs": [
        {
          "name": "stdout",
          "output_type": "stream",
          "text": [
            "Help on function compile in module re:\n",
            "\n",
            "compile(pattern, flags=0)\n",
            "    Compile a regular expression pattern, returning a Pattern object.\n",
            "\n",
            "None\n"
          ]
        }
      ],
      "source": [
        "# using compile, pre determines the string to be used in regular expression methods\n",
        "print(help(re.compile))\n",
        "pattern = re.compile('abcd')"
      ]
    },
    {
      "cell_type": "markdown",
      "metadata": {
        "id": "CvfW_ms2AZoC"
      },
      "source": [
        "##### re.match()"
      ]
    },
    {
      "cell_type": "code",
      "execution_count": 3,
      "metadata": {
        "id": "-zJbcV12AZoC"
      },
      "outputs": [
        {
          "name": "stdout",
          "output_type": "stream",
          "text": [
            "Help on function match in module re:\n",
            "\n",
            "match(pattern, string, flags=0)\n",
            "    Try to apply the pattern at the start of the string, returning\n",
            "    a Match object, or None if no match was found.\n",
            "\n",
            "None\n",
            "<re.Match object; span=(0, 4), match='abcd'>\n",
            "(0, 4)\n"
          ]
        },
        {
          "data": {
            "text/plain": [
              "'\\nregex101.com\\ngood resource to write and test regex with excellent breakdown walkthroughs\\non how the code executes.\\n'"
            ]
          },
          "execution_count": 3,
          "metadata": {},
          "output_type": "execute_result"
        }
      ],
      "source": [
        "print(help(re.match))\n",
        "match = pattern.match('abcd123')\n",
        "\n",
        "# Accessing the span of the match\n",
        "# span shows the range of which the match found within the string given.\n",
        "print(match)\n",
        "print(match.span())\n",
        "\n",
        "\"\"\"\n",
        "regex101.com\n",
        "good resource to write and test regex with excellent breakdown walkthroughs\n",
        "on how the code executes.\n",
        "\"\"\""
      ]
    },
    {
      "cell_type": "markdown",
      "metadata": {
        "id": "b10Z-_c0AZoC"
      },
      "source": [
        "##### re.findall()"
      ]
    },
    {
      "cell_type": "code",
      "execution_count": 5,
      "metadata": {
        "id": "Edc4cN4yAZoC"
      },
      "outputs": [
        {
          "name": "stdout",
          "output_type": "stream",
          "text": [
            "Help on function findall in module re:\n",
            "\n",
            "findall(pattern, string, flags=0)\n",
            "    Return a list of all non-overlapping matches in the string.\n",
            "    \n",
            "    If one or more capturing groups are present in the pattern, return\n",
            "    a list of groups; this will be a list of tuples if the pattern\n",
            "    has more than one group.\n",
            "    \n",
            "    Empty matches are included in the result.\n",
            "\n",
            "None\n",
            "['abcd']\n"
          ]
        }
      ],
      "source": [
        "print(help(re.findall))\n",
        "finders = pattern.findall('abcd123')\n",
        "print(finders)"
      ]
    },
    {
      "cell_type": "markdown",
      "metadata": {
        "id": "YGpNo_XZAZoC"
      },
      "source": [
        "##### re.search()"
      ]
    },
    {
      "cell_type": "code",
      "execution_count": 7,
      "metadata": {
        "id": "0DolcygtAZoD"
      },
      "outputs": [
        {
          "name": "stdout",
          "output_type": "stream",
          "text": [
            "Help on function search in module re:\n",
            "\n",
            "search(pattern, string, flags=0)\n",
            "    Scan through string looking for a match to the pattern, returning\n",
            "    a Match object, or None if no match was found.\n",
            "\n",
            "None\n",
            "<re.Match object; span=(12, 16), match='abcd'>\n",
            "(12, 16) <class 'tuple'>\n",
            "abcd\n",
            "abcd\n"
          ]
        }
      ],
      "source": [
        "print(help(re.search))\n",
        "# Instantiate string\n",
        "random_string = '123 123 234 abcd abc'\n",
        "\n",
        "# Search string for pattern\n",
        "search = pattern.search(random_string)\n",
        "print(search)\n",
        "\n",
        "# Grab matching indicies and return them\n",
        "span = search.span()\n",
        "print(span, type(span))\n",
        "\n",
        "# Hard-coding. non-reproducible code.\n",
        "# No matter how the values for each variable change, these dont.\n",
        "print(random_string[12:16]) # 12 will always be 12 ( index ), 16 will always be 16 ( index )\n",
        "\n",
        "# Same thing except one is reproducible, one is not\n",
        "print(random_string[span[0]: span[1]])"
      ]
    },
    {
      "cell_type": "markdown",
      "metadata": {
        "id": "KbKNBUxLAZoD"
      },
      "source": [
        "### Sets <br>\n",
        "<p>The following cells will allow you to use regular expressions to search for certain values within a range such as numbers 1 through 4.</p>"
      ]
    },
    {
      "cell_type": "markdown",
      "metadata": {
        "id": "_2G-uS27AZoD"
      },
      "source": [
        "##### [a-z] or [A-Z] - any lowercase/uppercase letters from a to z<br/>[^2] - anything that's not 2"
      ]
    },
    {
      "cell_type": "markdown",
      "metadata": {
        "id": "H6y2Ls9aAZoD"
      },
      "source": [
        "##### Integer Ranges"
      ]
    },
    {
      "cell_type": "code",
      "execution_count": 8,
      "metadata": {},
      "outputs": [
        {
          "name": "stdout",
          "output_type": "stream",
          "text": [
            "<re.Match object; span=(2, 5), match='383'>\n",
            "383\n"
          ]
        }
      ],
      "source": [
        "# Compile an integer pattern and create integer string\n",
        "pattern_int = re.compile('[0-4][7-9][0-3]')\n",
        "int_str = '67383'\n",
        "\n",
        "# Search a string for all matching numbers\n",
        "random_numbers = pattern_int.search(int_str)\n",
        "print(random_numbers)\n",
        "\n",
        "# Find matching numbers and return them\n",
        "span = random_numbers.span()\n",
        "print(int_str[span[0]:span[1]])"
      ]
    },
    {
      "cell_type": "code",
      "execution_count": 7,
      "metadata": {
        "id": "FGn5mZlzAZoD"
      },
      "outputs": [
        {
          "name": "stdout",
          "output_type": "stream",
          "text": [
            "383\n"
          ]
        }
      ],
      "source": [
        "# Can also iterate over integer values using .search!\n",
        "# Compile an integer pattern and create integer string\n",
        "pattern_int = re.compile('[0-4][7-9][0-3]')\n",
        "int_str = 67383\n",
        "\n",
        "# Search a string for all matching numbers\n",
        "random_numbers = pattern_int.search(str(int_str))\n",
        "\n",
        "# Find matching numbers and return them\n",
        "span = random_numbers.span()\n",
        "print(str(int_str)[span[0]:span[1]])"
      ]
    },
    {
      "cell_type": "markdown",
      "metadata": {
        "id": "PgBHuJW2AZoD"
      },
      "source": [
        "##### Character Ranges"
      ]
    },
    {
      "cell_type": "code",
      "execution_count": 8,
      "metadata": {
        "id": "DPU6DLtZAZoD"
      },
      "outputs": [
        {
          "name": "stdout",
          "output_type": "stream",
          "text": [
            "['He', 'Th', 'Mr', 'An']\n"
          ]
        }
      ],
      "source": [
        "#Compile a character pattern and create string object\n",
        "char_pattern = re.compile('[A-Z][a-z]')\n",
        "my_str = 'Hello There Mr. Anderson'\n",
        "\n",
        "#Search string for all matching characters in pattern and return them\n",
        "found = char_pattern.findall(my_str)\n",
        "print(found)"
      ]
    },
    {
      "cell_type": "markdown",
      "metadata": {
        "id": "cNrmcRxBAZoE"
      },
      "source": [
        "### Counting Occurences"
      ]
    },
    {
      "cell_type": "markdown",
      "metadata": {
        "id": "52zJm_dTAZoE"
      },
      "source": [
        "##### {x} - something that occurs {num_of_times}"
      ]
    },
    {
      "cell_type": "code",
      "execution_count": 10,
      "metadata": {
        "id": "OfFlvkxaAZoE"
      },
      "outputs": [
        {
          "name": "stdout",
          "output_type": "stream",
          "text": [
            "['An33']\n"
          ]
        }
      ],
      "source": [
        "\"\"\"\n",
        "What does this .compile do?\n",
        "Create pattern looking for uppercase letter, lowercase letter,\n",
        "and two digits between 0 and 3.\n",
        "\"\"\"\n",
        "char_pattern_count = re.compile('[A-Z][a-z][0-3]{2}')\n",
        "\n",
        "# Search a string for values matching the pattern and return them\n",
        "found_count = char_pattern_count.findall('Hello Mr. An33derson')\n",
        "print(found_count)"
      ]
    },
    {
      "cell_type": "markdown",
      "metadata": {
        "id": "S0BYqWlLAZoE"
      },
      "source": [
        "##### {x, x} - something that occurs between x and x times"
      ]
    },
    {
      "cell_type": "code",
      "execution_count": 11,
      "metadata": {
        "id": "YfOZVHsXAZoE"
      },
      "outputs": [
        {
          "name": "stdout",
          "output_type": "stream",
          "text": [
            "['m', 'mm', 'mmmmm', 'm', 'm']\n"
          ]
        }
      ],
      "source": [
        "\"\"\"\n",
        "What does this .compile do? \n",
        "\n",
        "Creates a pattern looking for any occurance of the letter 'm' where it occurs 1-5 times.\n",
        "\"\"\"\n",
        "random_pattern = re.compile('m{1,5}')\n",
        "\n",
        "# Search a string for values matching the pattern and return them\n",
        "random_statement = random_pattern.findall('m mm mmmmm this was a great soup! I am in love with tomato soup!')\n",
        "print(random_statement)"
      ]
    },
    {
      "cell_type": "markdown",
      "metadata": {
        "id": "3B6Nre9mAZoE"
      },
      "source": [
        "##### ? - something that occurs 0 or 1 time"
      ]
    },
    {
      "cell_type": "code",
      "execution_count": 12,
      "metadata": {
        "id": "_XAtCwCLAZoE"
      },
      "outputs": [
        {
          "name": "stdout",
          "output_type": "stream",
          "text": [
            "['Mrs']\n"
          ]
        }
      ],
      "source": [
        "\"\"\"\n",
        "What does this .compile do?\n",
        "\n",
        "Creates a pattern of 'Mrs'. The s? means we are looking for if this occurs. \n",
        "If it does not, it will ignore this character\n",
        "\"\"\"\n",
        "pattern = re.compile('Mrss?')\n",
        "\n",
        "# Search a string for values matching the pattern and return them\n",
        "found_pat = pattern.findall('Hello M there Nr. Anderson. How is Mrs.Anderson, and Ms.Anderson')\n",
        "print(found_pat)"
      ]
    },
    {
      "cell_type": "markdown",
      "metadata": {
        "id": "gP5_jLEpAZoE"
      },
      "source": [
        "##### * - something that occurs at least 0 times"
      ]
    },
    {
      "cell_type": "code",
      "execution_count": 12,
      "metadata": {
        "id": "5pf3JL1cAZoE"
      },
      "outputs": [
        {
          "name": "stdout",
          "output_type": "stream",
          "text": [
            "['MMMs', 's', 'Ms', 's', 's', 'Ms', 's', 's', 's', 's']\n"
          ]
        }
      ],
      "source": [
        "\"\"\"\n",
        "What does this .compile do?\n",
        "\n",
        "Creates a pattern that searches for s with any number of captial M's occurances preceding it.\n",
        "This pattern will also return any singular 's' values as the value M is NOT required to preceed it\n",
        "\"\"\"\n",
        "pattern_m = re.compile('M*s')\n",
        "\n",
        "# Search a string for values matching the pattern and return them\n",
        "found_m = pattern_m.findall('MMMs name is Ms.Smith. This is Msssss')\n",
        "print(found_m)"
      ]
    },
    {
      "cell_type": "markdown",
      "metadata": {
        "id": "9S37A82sAZoE"
      },
      "source": [
        "##### + - something that occurs at least once"
      ]
    },
    {
      "cell_type": "code",
      "execution_count": 13,
      "metadata": {
        "id": "PfyTRw_OAZoF"
      },
      "outputs": [
        {
          "name": "stdout",
          "output_type": "stream",
          "text": [
            "['Ms', 'MMMMMMMs']\n"
          ]
        }
      ],
      "source": [
        "\"\"\"\n",
        "What does this .compile do?\n",
        "\n",
        "Creates a pattern for s with at least 1 occurance of a captial M preceding it.\n",
        "\"\"\"\n",
        "pattern_again = re.compile('M+s')\n",
        "\n",
        "# Search a string for values matching the pattern and return them\n",
        "found_patt = pattern_again.findall(\"My name is Ms. Smith. This is MMMMMMMsssssss\")\n",
        "print(found_patt)"
      ]
    },
    {
      "cell_type": "markdown",
      "metadata": {
        "id": "KpVslvyuAZoF"
      },
      "source": [
        "##### In-class exercise 1: \n",
        "\n",
        "Use a regular expression to find every number in the given string"
      ]
    },
    {
      "cell_type": "code",
      "execution_count": 28,
      "metadata": {
        "id": "IyVgLkCSAZoF"
      },
      "outputs": [
        {
          "name": "stdout",
          "output_type": "stream",
          "text": [
            "['10909090', '1', '2']\n"
          ]
        }
      ],
      "source": [
        "my_string = 'This string has 10909090 numbers, but it is only 1 string. I hope you solve this 2day'\n",
        "\n",
        "new_string1 = re.compile('[*0-9]+')\n",
        "\n",
        "new_string = new_string1.findall('This string has 10909090 numbers, but it is only 1 string. I hope you solve this 2day')\n",
        "print(new_string)\n",
        "# Output: ['10909090', '1', '2']\n"
      ]
    },
    {
      "cell_type": "markdown",
      "metadata": {
        "id": "h0NrOe0OAZoF"
      },
      "source": [
        "### Escaping Characters"
      ]
    },
    {
      "cell_type": "markdown",
      "metadata": {
        "id": "h4orJZqnAZoF"
      },
      "source": [
        "##### \\w - look for any Unicode character<br/>\\W - look for anything that isnt a Unicode character\n",
        "\n",
        "[History on Unicode](http://unicode.org/standard/WhatIsUnicode.html)\n",
        "\n",
        "[More on Unicode Characters](https://en.wikipedia.org/wiki/List_of_Unicode_characters)"
      ]
    },
    {
      "cell_type": "code",
      "execution_count": 26,
      "metadata": {
        "id": "Plsf-e0bAZoF"
      },
      "outputs": [
        {
          "name": "stdout",
          "output_type": "stream",
          "text": [
            "🔥🔥\n",
            "🔥\n",
            "🔥🔥\n"
          ]
        }
      ],
      "source": [
        "print('\\U0001f525\\U0001f525\\n\\U0001f525')\n",
        "print('\\U0001f525\\U0001f525')"
      ]
    },
    {
      "cell_type": "code",
      "execution_count": 27,
      "metadata": {},
      "outputs": [
        {
          "name": "stdout",
          "output_type": "stream",
          "text": [
            "['This', 'is', 'a', 'sentence', 'With', 'an', 'exclamation', 'mark', 'at', 'the', 'end']\n",
            "[' ', ' ', ' ', '. ', ' ', ', ', ' ', ' ', ' ', ' ', '!']\n"
          ]
        }
      ],
      "source": [
        "# Anything that is a unicode\n",
        "# Plus means i want everything that follows\n",
        "pattern_uni = re.compile('[\\w]+')\n",
        "\n",
        "# Anything that is NOT a unicode character\n",
        "pattern_2 = re.compile('[\\W]+')\n",
        "\n",
        "found_1 = pattern_uni.findall('This is a sentence. With an, exclamation mark at the end!')\n",
        "found_2 = pattern_2.findall('This is a sentence. With an, exclamation mark at the end!')\n",
        "\n",
        "print(found_1)\n",
        "print(found_2)"
      ]
    },
    {
      "cell_type": "markdown",
      "metadata": {
        "id": "0iUynUmbAZoF"
      },
      "source": [
        "##### \\d - look for any digit 0-9<br/>\\D - look for anything that isnt a digit"
      ]
    },
    {
      "cell_type": "code",
      "execution_count": 30,
      "metadata": {
        "id": "day5uczJAZoF"
      },
      "outputs": [
        {
          "name": "stdout",
          "output_type": "stream",
          "text": [
            "['20th', '11 d', '1st']\n"
          ]
        }
      ],
      "source": [
        "date = 'Today is the 20th. In 11 days, it will be the 1st.'\n",
        "\n",
        "pattern_nums = re.compile('\\d{1,2}[\\D]{2}')\n",
        "found_date = pattern_nums.findall(date)\n",
        "\n",
        "print(found_date)\n"
      ]
    },
    {
      "cell_type": "markdown",
      "metadata": {
        "id": "s40MLh_BAZoF"
      },
      "source": [
        "##### \\s - look for any white space<br/>\\S - look for anything that isnt whitespace"
      ]
    },
    {
      "cell_type": "code",
      "execution_count": 36,
      "metadata": {
        "id": "7iygJ50-AZoG"
      },
      "outputs": [
        {
          "name": "stdout",
          "output_type": "stream",
          "text": [
            "['Are', 'you', 'afraid', 'of', 'the', 'dark']\n",
            "[' ', ' ', ' ', ' ', ' ']\n"
          ]
        }
      ],
      "source": [
        "string = 'Are you afraid of the dark'\n",
        "# Whitespace is any form of space in the string\n",
        "# ex = ' ', ' , ', '    This is an example'\n",
        "pattern_no_space = re.compile('\\S[a-z]+')\n",
        "found_dark = pattern_no_space.findall(string)\n",
        "\n",
        "# Pattern with any whitespace\n",
        "pattern_space = re.compile('\\s+')\n",
        "found_space = pattern_space.findall(string)\n",
        "\n",
        "\n",
        "print(found_dark)\n",
        "print(found_space)\n",
        "\n"
      ]
    },
    {
      "cell_type": "markdown",
      "metadata": {
        "id": "ocOxfZxHAZoG"
      },
      "source": [
        "##### \\b - look for boundaries or edges of a word<br/>\\B - look for anything that isnt a boundary"
      ]
    },
    {
      "cell_type": "code",
      "execution_count": 19,
      "metadata": {
        "id": "f_qVKVvsAZoG"
      },
      "outputs": [
        {
          "name": "stdout",
          "output_type": "stream",
          "text": [
            "[]\n",
            "['TheCodingTemple']\n"
          ]
        }
      ],
      "source": [
        "# r means read this as a literal, not as a string\n",
        "pattern_bound = re.compile(r'\\bTheCodingTemple\\b')\n",
        "pattern_bound_none_1 = pattern_bound.findall(\"TheCodingTemple\")\n",
        "\n",
        "# Anything that isnt the boundary\n",
        "pattern_bound_none = re.compile(r'\\BTheCodingTemple\\B')\n",
        "no_found_bound =pattern_bound_none.findall(\"TheCodingTemple\")\n",
        "\n",
        "\n",
        "print(no_found_bound)\n",
        "print(pattern_bound_none_1)"
      ]
    },
    {
      "cell_type": "markdown",
      "metadata": {
        "id": "M69Sj-rDAZoG"
      },
      "source": [
        "### Grouping"
      ]
    },
    {
      "cell_type": "code",
      "execution_count": 39,
      "metadata": {
        "id": "yWMQqGQkAZoG"
      },
      "outputs": [
        {
          "name": "stdout",
          "output_type": "stream",
          "text": [
            "[('Max', 'Smith'), ('Sam', 'Darnold'), ('LeBron', 'James'), ('Michael', 'Jordan'), ('Kevin', 'Durant'), ('Patrick', 'McCormik')]\n",
            "('Max', 'Smith')\n",
            "Not a Name\n",
            "('Sam', 'Darnold')\n",
            "('LeBron', 'James')\n",
            "('Michael', 'Jordan')\n",
            "('Kevin', 'Durant')\n",
            "('Patrick', 'McCormik')\n"
          ]
        }
      ],
      "source": [
        "my_string_again = \"Max Smith, aaron rodgers, Sam Darnold, LeBron James, Michael Jordan, Kevin Durant, Patrick McCormik\"\n",
        "\n",
        "\"\"\"\n",
        "What is this .compile statment doing?\n",
        "\n",
        "We search for patterns matching either pattern in our compile function.\n",
        "The first pattern is handling our name exceptions (i.e LeBron, McCormik), searching for a capital character\n",
        "followed by a lowercase, then another uppercase, then any additional lowercase characters that may come after.\n",
        "\n",
        "The second pattern searches for a capital character followed by any capital and lowercase letters that come after it.\n",
        "\"\"\"\n",
        "\n",
        "pattern_name = re.compile('([A-Z][a-zA-Za-z]+) ([A-Z][A-Za-z]+)')\n",
        "found_names = pattern_name.findall(my_string_again)\n",
        "print(found_names)\n",
        "\n",
        "# What if I want to see when my search is not adding an item to found_names?\n",
        "\"\"\"\n",
        "What is my loop doing?\n",
        "I am splitting each name in the string. Seperating by the comma.\n",
        "Then, I search for all matches with the string and pattern.\n",
        "If it matches any, it will print off the name. .groups take the number of outputs as an input.\n",
        "\"\"\"\n",
        "for name in my_string_again.split(','):\n",
        "    match = pattern_name.search(name)\n",
        "    if match:\n",
        "        print(match.groups(2))\n",
        "    else:\n",
        "        print('Not a Name')"
      ]
    },
    {
      "cell_type": "markdown",
      "metadata": {
        "id": "_9k6rLgMAZoG"
      },
      "source": [
        "##### In-class Exercise 2:\n",
        "\n",
        "Write a function using regular expressions to find the domain name in the given email addresses (and return None for the invalid email addresses)<br><b>HINT: Use '|' for either or</b>"
      ]
    },
    {
      "cell_type": "code",
      "execution_count": 193,
      "metadata": {
        "id": "H6q94xwIAZoG"
      },
      "outputs": [
        {
          "name": "stdout",
          "output_type": "stream",
          "text": [
            "None\n",
            "None\n",
            "None\n",
            "None\n",
            "None\n"
          ]
        }
      ],
      "source": [
        "my_emails = [\"jordanw@codingtemple.orgcom\", \"pocohontas1776@gmail.com\", \"helloworld@aol..com\",\n",
        "             \"yourfavoriteband@g6.org\", \"@codingtemple.com\"]\n",
        "# Domain name is after the @\n",
        "# You can also use the $ at the end of your compile expression -- this stops the search\n",
        "\n",
        "#.com OR .org => com|org\n",
        "def validate_email(email):\n",
        "    pattern = re.compile(r\"([A-Za-z0-9]+ )@([A-Za-z0-9]+ )(org$|com)\")\n",
        "    if pattern in email == True:\n",
        "        print(pattern)\n",
        "    else:\n",
        "        return None\n",
        "    \n",
        "for pattern in my_emails:\n",
        "    print(validate_email(my_emails))\n",
        "    \n",
        "#Expected output:\n",
        "#None\n",
        "#pocohontas1776@gmail.com\n",
        "#None\n",
        "#yourfavoriteband@g6.org\n",
        "#None\n",
        "\n",
        "\n"
      ]
    },
    {
      "cell_type": "markdown",
      "metadata": {
        "id": "7SvPDEPUAZoH"
      },
      "source": [
        "### Opening a File <br>\n",
        "<p>Python gives us a couple ways to import files, below are the two used most often.</p>"
      ]
    },
    {
      "cell_type": "markdown",
      "metadata": {
        "id": "7NshyCNvAZoH"
      },
      "source": [
        "##### open()"
      ]
    },
    {
      "cell_type": "code",
      "execution_count": 3,
      "metadata": {
        "id": "R06Sh5-FAZoH"
      },
      "outputs": [
        {
          "name": "stdout",
          "output_type": "stream",
          "text": [
            "Hawkins, Derek        derek@codingtemple.com        (555) 555-5555        Teacher, Coding Temple        @derekhawkins\n",
            "Zhai, Mo        mozhai@codingtemple.com        (555) 555-5554        Teacher, Coding Temple\n",
            "Johnson, Joe        joejohnson@codingtemple.com                Johson, Joe\n",
            "Osterberg, Sven-Erik        governor@norrbotten.co.se                Governor, Norrbotten        @sverik\n",
            ", Tim        tim@killerrabbit.com                Enchanter, Killer Rabbit Cave\n",
            "Butz, Ryan        ryanb@codingtemple.com        (555) 555-5543        CEO, Coding Temple        @ryanbutz\n",
            "Doctor, The        doctor+companion@tardis.co.uk                Time Lord, Gallifrey\n",
            "Exampleson, Example        me@example.com        555-555-5552        Example, Example Co.        @example\n",
            "Pael, Ripal        ripalp@codingtemple.com        (555) 555-5553        Teacher, Coding Temple        @ripalp\n",
            "Vader, Darth        darth-vader@empire.gov        (555) 555-4444        Sith Lord, Galactic Empire        @darthvader\n",
            "Fernandez de la Vega Sanz, Maria Teresa        mtfvs@spain.gov                First Deputy Prime Minister, Spanish Gov\n",
            "<class 'str'>\n"
          ]
        }
      ],
      "source": [
        "# Open the file\n",
        "f = open('/Users/nokipadilla/Downloads/names.txt')\n",
        "\n",
        "#Read the data\n",
        "data = f.read()\n",
        "\n",
        "#Print the data and type\n",
        "print(data)\n",
        "print(type(data))\n",
        "\n",
        "# Always close the file! #\n",
        "f.close()"
      ]
    },
    {
      "cell_type": "markdown",
      "metadata": {
        "id": "ACOU8PwzAZoH"
      },
      "source": [
        "##### with open()"
      ]
    },
    {
      "cell_type": "code",
      "execution_count": 10,
      "metadata": {
        "id": "WTo40P6FAZoH"
      },
      "outputs": [
        {
          "name": "stdout",
          "output_type": "stream",
          "text": [
            "Hawkins, Derek        derek@codingtemple.com        (555) 555-5555        Teacher, Coding Temple        @derekhawkins\n",
            "Zhai, Mo        mozhai@codingtemple.com        (555) 555-5554        Teacher, Coding Temple\n",
            "Johnson, Joe        joejohnson@codingtemple.com                Johson, Joe\n",
            "Osterberg, Sven-Erik        governor@norrbotten.co.se                Governor, Norrbotten        @sverik\n",
            ", Tim        tim@killerrabbit.com                Enchanter, Killer Rabbit Cave\n",
            "Butz, Ryan        ryanb@codingtemple.com        (555) 555-5543        CEO, Coding Temple        @ryanbutz\n",
            "Doctor, The        doctor+companion@tardis.co.uk                Time Lord, Gallifrey\n",
            "Exampleson, Example        me@example.com        555-555-5552        Example, Example Co.        @example\n",
            "Pael, Ripal        ripalp@codingtemple.com        (555) 555-5553        Teacher, Coding Temple        @ripalp\n",
            "Vader, Darth        darth-vader@empire.gov        (555) 555-4444        Sith Lord, Galactic Empire        @darthvader\n",
            "Fernandez de la Vega Sanz, Maria Teresa        mtfvs@spain.gov                First Deputy Prime Minister, Spanish Gov\n"
          ]
        }
      ],
      "source": [
        "with open(r'/Users/nokipadilla/Downloads/names.txt',encoding='utf-8') as f:\n",
        "    data = f.read()\n",
        "    print(data)\n"
      ]
    },
    {
      "cell_type": "markdown",
      "metadata": {
        "id": "LeX9ZH_nAZoH"
      },
      "source": [
        "##### re.search()"
      ]
    },
    {
      "cell_type": "code",
      "execution_count": 12,
      "metadata": {
        "id": "UE5h5Z59AZoH"
      },
      "outputs": [
        {
          "data": {
            "text/plain": [
              "<re.Match object; span=(786, 809), match='ripalp@codingtemple.com'>"
            ]
          },
          "execution_count": 12,
          "metadata": {},
          "output_type": "execute_result"
        }
      ],
      "source": [
        "import re\n",
        "re.search(r'ripalp@codingtemple.com', data)"
      ]
    },
    {
      "cell_type": "markdown",
      "metadata": {
        "id": "89ATa2GmAZoI"
      },
      "source": [
        "##### Store the String to a Variable"
      ]
    },
    {
      "cell_type": "code",
      "execution_count": 17,
      "metadata": {
        "id": "eVZ7Ly1qAZoI"
      },
      "outputs": [
        {
          "name": "stdout",
          "output_type": "stream",
          "text": [
            "Nothing here folks!\n"
          ]
        }
      ],
      "source": [
        "answer = input(\"What would you like to search for..?\")\n",
        "found = re.findall(answer, data)\n",
        "if found:\n",
        "    print(f'I found your data: {found}')\n",
        "else:\n",
        "    print('Nothing here folks!')"
      ]
    },
    {
      "cell_type": "markdown",
      "metadata": {
        "id": "SSiDJtVyAZoI"
      },
      "source": [
        "### In-Class Exercise #3 <br>\n",
        "<p>Print each persons name and twitter handle, using groups, should look like:</p>\n",
        "<p>==============<br>\n",
        "   Full Name / Twitter<br>\n",
        "   ==============</p>\n",
        "Derek Hawkins / @derekhawkins\n",
        "\n",
        " Erik Sven-Osterberg / @sverik\n",
        "\n",
        " Ryan Butz / @ryanbutz\n",
        "\n",
        " Example Exampleson / @example\n",
        "\n",
        " Ripal Pael / @ripalp\n",
        "\n",
        " Darth Vader / @darthvader"
      ]
    },
    {
      "cell_type": "code",
      "execution_count": 166,
      "metadata": {
        "id": "xEI3yx-gAZoI",
        "scrolled": true
      },
      "outputs": [
        {
          "name": "stdout",
          "output_type": "stream",
          "text": [
            "Derek Hawkins | @derekhawkins\n",
            " Erik Sven-Osterberg | @sverik\n",
            " Ryan Butz | @ryanbutz\n",
            " Example Exampleson | @example\n",
            " Ripal Pael | @ripalp\n",
            " Darth Vader | @darthvader\n"
          ]
        }
      ],
      "source": [
        "name = \"Derek Hawkins, Erik Sven-Osterberg, Ryan Butz, Example Exampleson, Ripal Pael, Darth Vader\"\n",
        "handle = \"@derekhawkins, @sverik, @ryanbutz, @example, @ripalp, @darthvader\"\n",
        "\n",
        "# full_name = re.compile('([A-z]+ [A-z]+)')\n",
        "# full = full_name.findall(name)\n",
        "# print(full)\n",
        "\n",
        "# twitter_handle = re.compile('(\\S[a-z]+)')\n",
        "# twitter = twitter_handle.findall(handle)\n",
        "# print(twitter)\n",
        "\n",
        "name_handle = \"Derek Hawkins (@derekhawkins) Erik Sven-Osterberg (@sverik) Ryan Butz (@ryanbutz) Example Exampleson (@example) Ripal Pael (@ripalp) Darth Vader (@darthvader)\"\n",
        "\n",
        "pattern = \"([\\w\\s-]+)\\s\\(@(\\w+)\\)\"\n",
        "\n",
        "for match in re.findall(pattern, name_handle):\n",
        "    full_name = match[0]\n",
        "    twitter_handle = match[1]\n",
        "    print(f\"{full_name} | @{twitter_handle}\")\n",
        "\n",
        "\n",
        "        \n"
      ]
    },
    {
      "cell_type": "markdown",
      "metadata": {
        "id": "eAwupXwrAZoI"
      },
      "source": [
        "### Regex project\n",
        "\n",
        "Use python to read the file regex_test.txt and print the last name on each line using regular expressions and groups (return None for names with no first and last name, or names that aren't properly capitalized)\n",
        "##### Hint: use with open() and readlines()"
      ]
    },
    {
      "cell_type": "code",
      "execution_count": 195,
      "metadata": {
        "id": "9eGnLRbGAZoI"
      },
      "outputs": [
        {
          "name": "stdout",
          "output_type": "stream",
          "text": [
            "Abraham Lincoln\n",
            "Andrew P Garfield\n",
            "Connor Milliken\n",
            "Jordan Alexander Williams\n",
            "Madonna\n",
            "programming is cool\n",
            "\n",
            "\n",
            "Abraham Lincoln \n",
            "Andrew  \n",
            "Connor Milliken \n",
            "Jordan Alexander  Williams\n",
            "Madonna  \n",
            "None\n"
          ]
        },
        {
          "data": {
            "text/plain": [
              "'\\nExpected Output\\nAbraham Lincoln\\nAndrew P Garfield\\nConnor Milliken\\nJordan Alexander Williams\\nNone\\nNone\\n'"
            ]
          },
          "execution_count": 195,
          "metadata": {},
          "output_type": "execute_result"
        }
      ],
      "source": [
        "with open ('/Users/nokipadilla/Coding Temple/Week_3/regex_test.txt') as g:\n",
        "    lines = g.readlines()\n",
        "    for line in lines:\n",
        "        print(line.strip())\n",
        "    print('\\n')\n",
        "    g.close()\n",
        "\n",
        "pattern = r\"\\b([A-Z][a-z]+)(?:\\s([A-Z][a-z]+))?(\\s[A-Z][a-z]+)?\\b\"\n",
        "\n",
        "\n",
        "for line in lines:\n",
        "    match = re.search(pattern, line)\n",
        "    if match:\n",
        "        first_name = match.group(1)\n",
        "        middle_name = match.group(2) or \"\"\n",
        "        last_name = match.group(3) or \"\"\n",
        "        print(first_name, middle_name, last_name)\n",
        "    else:\n",
        "        print(None)\n",
        "\n",
        "\"\"\"\n",
        "Expected Output\n",
        "Abraham Lincoln\n",
        "Andrew P Garfield\n",
        "Connor Milliken\n",
        "Jordan Alexander Williams\n",
        "None\n",
        "None\n",
        "\"\"\"\n"
      ]
    },
    {
      "cell_type": "code",
      "execution_count": null,
      "metadata": {
        "id": "6SE1nVdpAZoI"
      },
      "outputs": [],
      "source": []
    }
  ],
  "metadata": {
    "colab": {
      "provenance": []
    },
    "kernelspec": {
      "display_name": "Python 3",
      "language": "python",
      "name": "python3"
    },
    "language_info": {
      "codemirror_mode": {
        "name": "ipython",
        "version": 3
      },
      "file_extension": ".py",
      "mimetype": "text/x-python",
      "name": "python",
      "nbconvert_exporter": "python",
      "pygments_lexer": "ipython3",
      "version": "3.8.9"
    },
    "vscode": {
      "interpreter": {
        "hash": "31f2aee4e71d21fbe5cf8b01ff0e069b9275f58929596ceb00d14d90e3e16cd6"
      }
    }
  },
  "nbformat": 4,
  "nbformat_minor": 0
}
