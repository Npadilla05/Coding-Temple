{
 "cells": [
  {
   "cell_type": "code",
   "execution_count": 15,
   "metadata": {},
   "outputs": [],
   "source": [
    "# Spotify Weekend Project\n",
    "# Connect to API and return back liked songs\n",
    "# Return audio features API obj for each song\n",
    "# Create a df of audio features of each song\n",
    "# Create visualizations and complete your own analysis of the songs in your playlist\n"
   ]
  },
  {
   "cell_type": "code",
   "execution_count": 16,
   "metadata": {},
   "outputs": [],
   "source": [
    "import pandas as pd\n",
    "import base64\n",
    "import requests \n",
    "import spotipy \n",
    "from spotipy.oauth2 import SpotifyOAuth\n",
    "# import datetime\n",
    "\n",
    "client_id = '47d7d2de4e1340039a2854375c3ab680' # Client ID from spotify\n",
    "client_secret = '8aad7c3782534dd497940bdb622f1057' # Client Secret from spotify\n",
    "redirect = 'http://localhost:3000' # Redirect from spotify\n",
    "\n",
    "client_creds = f'{client_id}:{client_secret}'\n",
    "client_creds.encode()\n",
    "client_creds_b64 = base64.b64encode(client_creds.encode())\n",
    "\n",
    "token_url = \"https://accounts.spotify.com/api/token\"\n",
    "method = \"POST\"\n",
    "token_data = {\n",
    "    \"grant_type\": \"client_credentials\"\n",
    "}\n",
    "token_headers = {\n",
    "    \"Authorization\": f\"Basic {client_creds_b64.decode()}\"\n",
    "}"
   ]
  },
  {
   "cell_type": "code",
   "execution_count": 17,
   "metadata": {},
   "outputs": [
    {
     "name": "stdout",
     "output_type": "stream",
     "text": [
      "{'access_token': 'BQBLOV8XJIFILEnkXwV1cI4FW1RJHmNSwmJ_SHEuXiKNTDgCkrzVXBtQdnvM6z3-11AE554ljTNgVbOdSuno2DH7FRlA7NZen6eI-tsoZ4Cer361cutf', 'token_type': 'Bearer', 'expires_in': 3600}\n"
     ]
    }
   ],
   "source": [
    "r = requests.post(token_url, data=token_data, headers=token_headers)\n",
    "print(r.json()) # Access token here"
   ]
  },
  {
   "cell_type": "code",
   "execution_count": 19,
   "metadata": {},
   "outputs": [],
   "source": [
    "def get_auth_header(token):\n",
    "    return {\"Authorization\": \"Bearer \" + token }"
   ]
  },
  {
   "cell_type": "code",
   "execution_count": 20,
   "metadata": {},
   "outputs": [
    {
     "data": {
      "text/plain": [
       "'Angst : INZO : Angst -> https://p.scdn.co/mp3-preview/a80f8e10b15e2c7a4b86e850b6f4ca143aa0dde1?cid=47d7d2de4e1340039a2854375c3ab680'"
      ]
     },
     "metadata": {},
     "output_type": "display_data"
    },
    {
     "data": {
      "text/plain": [
       "'4 Me (feat. Kali Uchis) : Don Toliver : Love Sick -> https://p.scdn.co/mp3-preview/0df86e591cfc0007ca149e09ab7034f5df75b1b3?cid=47d7d2de4e1340039a2854375c3ab680'"
      ]
     },
     "metadata": {},
     "output_type": "display_data"
    },
    {
     "data": {
      "text/plain": [
       "'Been Away : Brent Faiyaz : Fuck The World -> https://p.scdn.co/mp3-preview/4b0945a347761e01bbc949c604c58c4cc93e6810?cid=47d7d2de4e1340039a2854375c3ab680'"
      ]
     },
     "metadata": {},
     "output_type": "display_data"
    },
    {
     "data": {
      "text/plain": [
       "'Pieces : Rod Wave : Beautiful Mind -> https://p.scdn.co/mp3-preview/e662f4d4a34590042de6975110fd1e50e55f1f0f?cid=47d7d2de4e1340039a2854375c3ab680'"
      ]
     },
     "metadata": {},
     "output_type": "display_data"
    },
    {
     "data": {
      "text/plain": [
       "'Born Sinner (feat. James Fauntleroy) : J. Cole : Born Sinner (Deluxe Version) -> https://p.scdn.co/mp3-preview/4d4079222858c440de7a9eeb12fbf9c49f9e1920?cid=47d7d2de4e1340039a2854375c3ab680'"
      ]
     },
     "metadata": {},
     "output_type": "display_data"
    },
    {
     "data": {
      "text/plain": [
       "'Softest Touch : Khalid : Softest Touch -> https://p.scdn.co/mp3-preview/fcfd83425f5e2b6d54eb7100a1e783006d6e5bf0?cid=47d7d2de4e1340039a2854375c3ab680'"
      ]
     },
     "metadata": {},
     "output_type": "display_data"
    },
    {
     "data": {
      "text/plain": [
       "'Passionate (feat. Roddy Ricch) : Blxst : Just For Clarity 2 -> https://p.scdn.co/mp3-preview/c2a9b4f8daff0ec9b0b1037cbec658a923ffd7c7?cid=47d7d2de4e1340039a2854375c3ab680'"
      ]
     },
     "metadata": {},
     "output_type": "display_data"
    },
    {
     "data": {
      "text/plain": [
       "'Set Me Free Pt.2 : Jimin : Set Me Free Pt.2 -> https://p.scdn.co/mp3-preview/275a3a0843bb55c251cda45ef17a905dab31624c?cid=47d7d2de4e1340039a2854375c3ab680'"
      ]
     },
     "metadata": {},
     "output_type": "display_data"
    },
    {
     "data": {
      "text/plain": [
       "'Because Of You - Remix : Ne-Yo : Because Of You (Remix feat. Kanye West) -> https://p.scdn.co/mp3-preview/63c0bf6a9a0a9f23cc6f99189f63c29ad0e5aeb5?cid=47d7d2de4e1340039a2854375c3ab680'"
      ]
     },
     "metadata": {},
     "output_type": "display_data"
    },
    {
     "data": {
      "text/plain": [
       "'Mbappé - Remix : Eladio Carrion : 3MEN2 KBRN -> https://p.scdn.co/mp3-preview/52621aac4c5f1910faf5bb1530983457d7bec1dd?cid=47d7d2de4e1340039a2854375c3ab680'"
      ]
     },
     "metadata": {},
     "output_type": "display_data"
    },
    {
     "data": {
      "text/plain": [
       "'Open Arms (feat. Travis Scott) : SZA : SOS -> https://p.scdn.co/mp3-preview/3bc7e3a481a7cbaeb578f3fdd426fef59676cf42?cid=47d7d2de4e1340039a2854375c3ab680'"
      ]
     },
     "metadata": {},
     "output_type": "display_data"
    },
    {
     "data": {
      "text/plain": [
       "'Believe : Masove : Believe -> https://p.scdn.co/mp3-preview/34a2eab3a57e4f3ad2f34099d6ed49d34fcbcb94?cid=47d7d2de4e1340039a2854375c3ab680'"
      ]
     },
     "metadata": {},
     "output_type": "display_data"
    },
    {
     "data": {
      "text/plain": [
       "'Sail Away (feat. Jay Mason) : Trivecta : The Way Back Up -> https://p.scdn.co/mp3-preview/76615b9e2063fb23ba135d55329ce84441310436?cid=47d7d2de4e1340039a2854375c3ab680'"
      ]
     },
     "metadata": {},
     "output_type": "display_data"
    },
    {
     "data": {
      "text/plain": [
       "'on the street (with J. Cole) : j-hope : on the street (with J. Cole) -> https://p.scdn.co/mp3-preview/c69cf6ed41027bd08a5953b556cca144ff8ed2bf?cid=47d7d2de4e1340039a2854375c3ab680'"
      ]
     },
     "metadata": {},
     "output_type": "display_data"
    },
    {
     "data": {
      "text/plain": [
       "'HO4ME : DJ Drama : HO4ME -> https://p.scdn.co/mp3-preview/9ebb6b056d6c33bbbbc1c5aa680dd2977fe135c5?cid=47d7d2de4e1340039a2854375c3ab680'"
      ]
     },
     "metadata": {},
     "output_type": "display_data"
    },
    {
     "data": {
      "text/plain": [
       "'Slow Motion (feat. Wizkid) : Don Toliver : Love Sick -> https://p.scdn.co/mp3-preview/5a287ccfa78240127d8881341782c78776f2775a?cid=47d7d2de4e1340039a2854375c3ab680'"
      ]
     },
     "metadata": {},
     "output_type": "display_data"
    },
    {
     "data": {
      "text/plain": [
       "'PAINTING PICTURES : Superstar Pride : 5LBS OF PRESSURE -> https://p.scdn.co/mp3-preview/4ceef01432c389864b9c18412383edd371aba63c?cid=47d7d2de4e1340039a2854375c3ab680'"
      ]
     },
     "metadata": {},
     "output_type": "display_data"
    },
    {
     "data": {
      "text/plain": [
       "'Red Ruby Da Sleeze : Nicki Minaj : Red Ruby Da Sleeze -> https://p.scdn.co/mp3-preview/9bc0ac164ed040ebd2318951f3a07d672ea34868?cid=47d7d2de4e1340039a2854375c3ab680'"
      ]
     },
     "metadata": {},
     "output_type": "display_data"
    },
    {
     "data": {
      "text/plain": [
       "'Greatness : Quavo : Greatness -> https://p.scdn.co/mp3-preview/0ba8cc243687467851508789815a2fa7fdffa940?cid=47d7d2de4e1340039a2854375c3ab680'"
      ]
     },
     "metadata": {},
     "output_type": "display_data"
    },
    {
     "data": {
      "text/plain": [
       "\"Don't Let Me Down (feat. Daya) - Hardwell & Sephyx Remix : The Chainsmokers : Don't Let Me Down (feat. Daya) [Hardwell & Sephyx Remix] -> https://p.scdn.co/mp3-preview/f34b6efc6f34ad53cc26c4f50e1c9bbda8dd4568?cid=47d7d2de4e1340039a2854375c3ab680\""
      ]
     },
     "metadata": {},
     "output_type": "display_data"
    },
    {
     "data": {
      "text/plain": [
       "'Rave Love : W&W : Rave Love -> https://p.scdn.co/mp3-preview/69331c8e68f44b41792a95b915888ff30f30b177?cid=47d7d2de4e1340039a2854375c3ab680'"
      ]
     },
     "metadata": {},
     "output_type": "display_data"
    },
    {
     "data": {
      "text/plain": [
       "'Pareja Del Año : Sebastian Yatra : Dharma -> https://p.scdn.co/mp3-preview/8f0b765d57ec6a60804935cf705ada6cf4e2fd54?cid=47d7d2de4e1340039a2854375c3ab680'"
      ]
     },
     "metadata": {},
     "output_type": "display_data"
    },
    {
     "data": {
      "text/plain": [
       "'Zombie - Bassjackers Remix : Ran-D : Zombie (Remixes) -> https://p.scdn.co/mp3-preview/110f65748b5b8d1df114625e1812b2405766bfa0?cid=47d7d2de4e1340039a2854375c3ab680'"
      ]
     },
     "metadata": {},
     "output_type": "display_data"
    },
    {
     "data": {
      "text/plain": [
       "'La Bachata : Manuel Turizo : La Bachata -> https://p.scdn.co/mp3-preview/0232b53fd7849e6696e1ab3099dd01dd00823f17?cid=47d7d2de4e1340039a2854375c3ab680'"
      ]
     },
     "metadata": {},
     "output_type": "display_data"
    },
    {
     "data": {
      "text/plain": [
       "'Quevedo: Bzrp Music Sessions, Vol. 52 : Bizarrap : Quevedo: Bzrp Music Sessions, Vol. 52 -> https://p.scdn.co/mp3-preview/e9c0ed735e611f6af45bc946bd4c31590df09ed6?cid=47d7d2de4e1340039a2854375c3ab680'"
      ]
     },
     "metadata": {},
     "output_type": "display_data"
    },
    {
     "data": {
      "text/plain": [
       "'honey see you : Xjloma : honey see you -> None'"
      ]
     },
     "metadata": {},
     "output_type": "display_data"
    },
    {
     "data": {
      "text/plain": [
       "'Coupe : Pop Smoke : Faith -> https://p.scdn.co/mp3-preview/898dab34c0509fb9d2b399bcdfec221bcd283c03?cid=47d7d2de4e1340039a2854375c3ab680'"
      ]
     },
     "metadata": {},
     "output_type": "display_data"
    },
    {
     "data": {
      "text/plain": [
       "'Ready (feat. Gunna) : Lil Baby : Street Gossip -> https://p.scdn.co/mp3-preview/91cc5359a9748d4c2508edb5cb518e91e04d5121?cid=47d7d2de4e1340039a2854375c3ab680'"
      ]
     },
     "metadata": {},
     "output_type": "display_data"
    },
    {
     "data": {
      "text/plain": [
       "'Lady Of Namek : Tory Lanez : Lady Of Namek -> https://p.scdn.co/mp3-preview/13ec6bf54c1cb41de7cc78a2a9d8fc7d3402ebec?cid=47d7d2de4e1340039a2854375c3ab680'"
      ]
     },
     "metadata": {},
     "output_type": "display_data"
    },
    {
     "data": {
      "text/plain": [
       "'Ballad of a Badman : Tory Lanez : Alone At Prom -> https://p.scdn.co/mp3-preview/d078ce4603f9ba24021473c31e0bc9619bb51f01?cid=47d7d2de4e1340039a2854375c3ab680'"
      ]
     },
     "metadata": {},
     "output_type": "display_data"
    },
    {
     "data": {
      "text/plain": [
       "'you broke me first : Dash Berlin : you broke me first -> https://p.scdn.co/mp3-preview/0761cffd118dcc6cc9f21c8177cc42dd39164cab?cid=47d7d2de4e1340039a2854375c3ab680'"
      ]
     },
     "metadata": {},
     "output_type": "display_data"
    },
    {
     "data": {
      "text/plain": [
       "'Joro : Wizkid : Joro -> https://p.scdn.co/mp3-preview/c7edc433128dc4fa1853e94e61b7cdd0629c9714?cid=47d7d2de4e1340039a2854375c3ab680'"
      ]
     },
     "metadata": {},
     "output_type": "display_data"
    },
    {
     "data": {
      "text/plain": [
       "'Beautiful : Hulvey : Beautiful -> https://p.scdn.co/mp3-preview/1b9ab4bbd2c369894e88c2f6bee5ff27e2c2f45d?cid=47d7d2de4e1340039a2854375c3ab680'"
      ]
     },
     "metadata": {},
     "output_type": "display_data"
    },
    {
     "data": {
      "text/plain": [
       "'Thrills : Wax Motif : House of Wax -> https://p.scdn.co/mp3-preview/6226fdb0462c376fc3b6f9fe4c8a6898e2c26006?cid=47d7d2de4e1340039a2854375c3ab680'"
      ]
     },
     "metadata": {},
     "output_type": "display_data"
    },
    {
     "data": {
      "text/plain": [
       "'Follow : 12th Planet : Follow -> https://p.scdn.co/mp3-preview/ece7fca46fe4cf6be04c70433b146250ac7f7c73?cid=47d7d2de4e1340039a2854375c3ab680'"
      ]
     },
     "metadata": {},
     "output_type": "display_data"
    },
    {
     "data": {
      "text/plain": [
       "'In My Mind : ILLENIUM : Fallen Embers -> https://p.scdn.co/mp3-preview/6d5252b3a7962a8c23bd0c8b425b6c1d7a285b45?cid=47d7d2de4e1340039a2854375c3ab680'"
      ]
     },
     "metadata": {},
     "output_type": "display_data"
    },
    {
     "data": {
      "text/plain": [
       "'Beautiful But Broken : 3Breezy : Beautiful But Broken -> https://p.scdn.co/mp3-preview/2f4637a39090c8b5b331fd04df94032c6b86d210?cid=47d7d2de4e1340039a2854375c3ab680'"
      ]
     },
     "metadata": {},
     "output_type": "display_data"
    },
    {
     "data": {
      "text/plain": [
       "\"Don't Forget Me : Yatta Bandz : Perfect Storm -> https://p.scdn.co/mp3-preview/418999a3a8d0136eeac9fe977433cc02b20fcaa6?cid=47d7d2de4e1340039a2854375c3ab680\""
      ]
     },
     "metadata": {},
     "output_type": "display_data"
    },
    {
     "data": {
      "text/plain": [
       "\"Creepin' (with The Weeknd & 21 Savage) : Metro Boomin : HEROES & VILLAINS -> https://p.scdn.co/mp3-preview/adc5d059e4ccc40bbad75f3844eb03546d9ab05a?cid=47d7d2de4e1340039a2854375c3ab680\""
      ]
     },
     "metadata": {},
     "output_type": "display_data"
    },
    {
     "data": {
      "text/plain": [
       "'Into You : Matisse & Sadko : Into You -> https://p.scdn.co/mp3-preview/ebe3cf6644fd411ccda8250c2b5323e4542272c5?cid=47d7d2de4e1340039a2854375c3ab680'"
      ]
     },
     "metadata": {},
     "output_type": "display_data"
    },
    {
     "data": {
      "text/plain": [
       "'Libre (feat. Tommy Royale) : KB : His Glory Alone -> https://p.scdn.co/mp3-preview/fba43ef8a9091c30f88c79c00356753d1fd93b8f?cid=47d7d2de4e1340039a2854375c3ab680'"
      ]
     },
     "metadata": {},
     "output_type": "display_data"
    },
    {
     "data": {
      "text/plain": [
       "'Habitat : 12th Planet : Habitat -> https://p.scdn.co/mp3-preview/bec0e790fee48ef84923ab93badfa426979f6801?cid=47d7d2de4e1340039a2854375c3ab680'"
      ]
     },
     "metadata": {},
     "output_type": "display_data"
    },
    {
     "data": {
      "text/plain": [
       "'Baila Conmigo : Tiësto : Baila Conmigo -> https://p.scdn.co/mp3-preview/e0e893134154d1042daf5d080ab8ed2e031968c1?cid=47d7d2de4e1340039a2854375c3ab680'"
      ]
     },
     "metadata": {},
     "output_type": "display_data"
    },
    {
     "data": {
      "text/plain": [
       "'World, Hold On - FISHER Rework : Bob Sinclar : World, Hold On (FISHER Rework) -> https://p.scdn.co/mp3-preview/adae361145c433bcc47279b57374767940b96957?cid=47d7d2de4e1340039a2854375c3ab680'"
      ]
     },
     "metadata": {},
     "output_type": "display_data"
    },
    {
     "data": {
      "text/plain": [
       "'Heaven - DJ Isaac Remix : Dash Berlin : Heaven (Remixes) -> https://p.scdn.co/mp3-preview/a8c7b1a18b49842e263451e37938c01914686070?cid=47d7d2de4e1340039a2854375c3ab680'"
      ]
     },
     "metadata": {},
     "output_type": "display_data"
    },
    {
     "data": {
      "text/plain": [
       "\"You'll Be Sorry (feat. Brooklyn Love) : Yung Bleu : Love Scars: The 5 Stages Of Emotions (Deluxe) -> https://p.scdn.co/mp3-preview/c796dc84e8a06502d327b6ba943d5b00ff69e6e4?cid=47d7d2de4e1340039a2854375c3ab680\""
      ]
     },
     "metadata": {},
     "output_type": "display_data"
    },
    {
     "data": {
      "text/plain": [
       "'Clockwork - Original Mix : Subtronics : String Theory EP -> https://p.scdn.co/mp3-preview/76dad3a4111dd985c303cbb6cd19648ae28f7fc3?cid=47d7d2de4e1340039a2854375c3ab680'"
      ]
     },
     "metadata": {},
     "output_type": "display_data"
    },
    {
     "data": {
      "text/plain": [
       "'Worst Day - Tungevaag Remix : ILLENIUM : Worst Day (Tungevaag Remix) -> https://p.scdn.co/mp3-preview/e59a04fd79ca11938a6854c01f2871ca64f6d3d5?cid=47d7d2de4e1340039a2854375c3ab680'"
      ]
     },
     "metadata": {},
     "output_type": "display_data"
    },
    {
     "data": {
      "text/plain": [
       "'Paper Thin - Headhunterz Remix : ILLENIUM : Paper Thin (Headhunterz Remix) -> https://p.scdn.co/mp3-preview/c6916b75640fa89dd2e6ba7d08918046c20a0ced?cid=47d7d2de4e1340039a2854375c3ab680'"
      ]
     },
     "metadata": {},
     "output_type": "display_data"
    },
    {
     "data": {
      "text/plain": [
       "'#1 Freak (feat. Ty Dolla $ign) : Roddy Ricch : Feed Tha Streets III -> https://p.scdn.co/mp3-preview/4e161641649870f4cad9c6398c7328a312f16f14?cid=47d7d2de4e1340039a2854375c3ab680'"
      ]
     },
     "metadata": {},
     "output_type": "display_data"
    },
    {
     "data": {
      "text/html": [
       "<div>\n",
       "<style scoped>\n",
       "    .dataframe tbody tr th:only-of-type {\n",
       "        vertical-align: middle;\n",
       "    }\n",
       "\n",
       "    .dataframe tbody tr th {\n",
       "        vertical-align: top;\n",
       "    }\n",
       "\n",
       "    .dataframe thead th {\n",
       "        text-align: right;\n",
       "    }\n",
       "</style>\n",
       "<table border=\"1\" class=\"dataframe\">\n",
       "  <thead>\n",
       "    <tr style=\"text-align: right;\">\n",
       "      <th></th>\n",
       "      <th>Track Name</th>\n",
       "    </tr>\n",
       "  </thead>\n",
       "  <tbody>\n",
       "    <tr>\n",
       "      <th>INZO</th>\n",
       "      <td>Angst</td>\n",
       "    </tr>\n",
       "    <tr>\n",
       "      <th>Don Toliver</th>\n",
       "      <td>4 Me (feat. Kali Uchis)</td>\n",
       "    </tr>\n",
       "    <tr>\n",
       "      <th>Brent Faiyaz</th>\n",
       "      <td>Been Away</td>\n",
       "    </tr>\n",
       "    <tr>\n",
       "      <th>Rod Wave</th>\n",
       "      <td>Pieces</td>\n",
       "    </tr>\n",
       "    <tr>\n",
       "      <th>J. Cole</th>\n",
       "      <td>Born Sinner (feat. James Fauntleroy)</td>\n",
       "    </tr>\n",
       "    <tr>\n",
       "      <th>Khalid</th>\n",
       "      <td>Softest Touch</td>\n",
       "    </tr>\n",
       "    <tr>\n",
       "      <th>Blxst</th>\n",
       "      <td>Passionate (feat. Roddy Ricch)</td>\n",
       "    </tr>\n",
       "    <tr>\n",
       "      <th>Jimin</th>\n",
       "      <td>Set Me Free Pt.2</td>\n",
       "    </tr>\n",
       "    <tr>\n",
       "      <th>Ne-Yo</th>\n",
       "      <td>Because Of You - Remix</td>\n",
       "    </tr>\n",
       "    <tr>\n",
       "      <th>Eladio Carrion</th>\n",
       "      <td>Mbappé - Remix</td>\n",
       "    </tr>\n",
       "    <tr>\n",
       "      <th>SZA</th>\n",
       "      <td>Open Arms (feat. Travis Scott)</td>\n",
       "    </tr>\n",
       "    <tr>\n",
       "      <th>Masove</th>\n",
       "      <td>Believe</td>\n",
       "    </tr>\n",
       "    <tr>\n",
       "      <th>Trivecta</th>\n",
       "      <td>Sail Away (feat. Jay Mason)</td>\n",
       "    </tr>\n",
       "    <tr>\n",
       "      <th>j-hope</th>\n",
       "      <td>on the street (with J. Cole)</td>\n",
       "    </tr>\n",
       "    <tr>\n",
       "      <th>DJ Drama</th>\n",
       "      <td>HO4ME</td>\n",
       "    </tr>\n",
       "    <tr>\n",
       "      <th>Don Toliver</th>\n",
       "      <td>Slow Motion (feat. Wizkid)</td>\n",
       "    </tr>\n",
       "    <tr>\n",
       "      <th>Superstar Pride</th>\n",
       "      <td>PAINTING PICTURES</td>\n",
       "    </tr>\n",
       "    <tr>\n",
       "      <th>Nicki Minaj</th>\n",
       "      <td>Red Ruby Da Sleeze</td>\n",
       "    </tr>\n",
       "    <tr>\n",
       "      <th>Quavo</th>\n",
       "      <td>Greatness</td>\n",
       "    </tr>\n",
       "    <tr>\n",
       "      <th>The Chainsmokers</th>\n",
       "      <td>Don't Let Me Down (feat. Daya) - Hardwell &amp; Se...</td>\n",
       "    </tr>\n",
       "    <tr>\n",
       "      <th>W&amp;W</th>\n",
       "      <td>Rave Love</td>\n",
       "    </tr>\n",
       "    <tr>\n",
       "      <th>Sebastian Yatra</th>\n",
       "      <td>Pareja Del Año</td>\n",
       "    </tr>\n",
       "    <tr>\n",
       "      <th>Ran-D</th>\n",
       "      <td>Zombie - Bassjackers Remix</td>\n",
       "    </tr>\n",
       "    <tr>\n",
       "      <th>Manuel Turizo</th>\n",
       "      <td>La Bachata</td>\n",
       "    </tr>\n",
       "    <tr>\n",
       "      <th>Bizarrap</th>\n",
       "      <td>Quevedo: Bzrp Music Sessions, Vol. 52</td>\n",
       "    </tr>\n",
       "    <tr>\n",
       "      <th>Xjloma</th>\n",
       "      <td>honey see you</td>\n",
       "    </tr>\n",
       "    <tr>\n",
       "      <th>Pop Smoke</th>\n",
       "      <td>Coupe</td>\n",
       "    </tr>\n",
       "    <tr>\n",
       "      <th>Lil Baby</th>\n",
       "      <td>Ready (feat. Gunna)</td>\n",
       "    </tr>\n",
       "    <tr>\n",
       "      <th>Tory Lanez</th>\n",
       "      <td>Lady Of Namek</td>\n",
       "    </tr>\n",
       "    <tr>\n",
       "      <th>Tory Lanez</th>\n",
       "      <td>Ballad of a Badman</td>\n",
       "    </tr>\n",
       "    <tr>\n",
       "      <th>Dash Berlin</th>\n",
       "      <td>you broke me first</td>\n",
       "    </tr>\n",
       "    <tr>\n",
       "      <th>Wizkid</th>\n",
       "      <td>Joro</td>\n",
       "    </tr>\n",
       "    <tr>\n",
       "      <th>Hulvey</th>\n",
       "      <td>Beautiful</td>\n",
       "    </tr>\n",
       "    <tr>\n",
       "      <th>Wax Motif</th>\n",
       "      <td>Thrills</td>\n",
       "    </tr>\n",
       "    <tr>\n",
       "      <th>12th Planet</th>\n",
       "      <td>Follow</td>\n",
       "    </tr>\n",
       "    <tr>\n",
       "      <th>ILLENIUM</th>\n",
       "      <td>In My Mind</td>\n",
       "    </tr>\n",
       "    <tr>\n",
       "      <th>3Breezy</th>\n",
       "      <td>Beautiful But Broken</td>\n",
       "    </tr>\n",
       "    <tr>\n",
       "      <th>Yatta Bandz</th>\n",
       "      <td>Don't Forget Me</td>\n",
       "    </tr>\n",
       "    <tr>\n",
       "      <th>Metro Boomin</th>\n",
       "      <td>Creepin' (with The Weeknd &amp; 21 Savage)</td>\n",
       "    </tr>\n",
       "    <tr>\n",
       "      <th>Matisse &amp; Sadko</th>\n",
       "      <td>Into You</td>\n",
       "    </tr>\n",
       "    <tr>\n",
       "      <th>KB</th>\n",
       "      <td>Libre (feat. Tommy Royale)</td>\n",
       "    </tr>\n",
       "    <tr>\n",
       "      <th>12th Planet</th>\n",
       "      <td>Habitat</td>\n",
       "    </tr>\n",
       "    <tr>\n",
       "      <th>Tiësto</th>\n",
       "      <td>Baila Conmigo</td>\n",
       "    </tr>\n",
       "    <tr>\n",
       "      <th>Bob Sinclar</th>\n",
       "      <td>World, Hold On - FISHER Rework</td>\n",
       "    </tr>\n",
       "    <tr>\n",
       "      <th>Dash Berlin</th>\n",
       "      <td>Heaven - DJ Isaac Remix</td>\n",
       "    </tr>\n",
       "    <tr>\n",
       "      <th>Yung Bleu</th>\n",
       "      <td>You'll Be Sorry (feat. Brooklyn Love)</td>\n",
       "    </tr>\n",
       "    <tr>\n",
       "      <th>Subtronics</th>\n",
       "      <td>Clockwork - Original Mix</td>\n",
       "    </tr>\n",
       "    <tr>\n",
       "      <th>ILLENIUM</th>\n",
       "      <td>Worst Day - Tungevaag Remix</td>\n",
       "    </tr>\n",
       "    <tr>\n",
       "      <th>ILLENIUM</th>\n",
       "      <td>Paper Thin - Headhunterz Remix</td>\n",
       "    </tr>\n",
       "    <tr>\n",
       "      <th>Roddy Ricch</th>\n",
       "      <td>#1 Freak (feat. Ty Dolla $ign)</td>\n",
       "    </tr>\n",
       "  </tbody>\n",
       "</table>\n",
       "</div>"
      ],
      "text/plain": [
       "                                                         Track Name\n",
       "INZO                                                          Angst\n",
       "Don Toliver                                 4 Me (feat. Kali Uchis)\n",
       "Brent Faiyaz                                              Been Away\n",
       "Rod Wave                                                     Pieces\n",
       "J. Cole                        Born Sinner (feat. James Fauntleroy)\n",
       "Khalid                                                Softest Touch\n",
       "Blxst                                Passionate (feat. Roddy Ricch)\n",
       "Jimin                                              Set Me Free Pt.2\n",
       "Ne-Yo                                        Because Of You - Remix\n",
       "Eladio Carrion                                       Mbappé - Remix\n",
       "SZA                                  Open Arms (feat. Travis Scott)\n",
       "Masove                                                      Believe\n",
       "Trivecta                                Sail Away (feat. Jay Mason)\n",
       "j-hope                                 on the street (with J. Cole)\n",
       "DJ Drama                                                      HO4ME\n",
       "Don Toliver                              Slow Motion (feat. Wizkid)\n",
       "Superstar Pride                                   PAINTING PICTURES\n",
       "Nicki Minaj                                      Red Ruby Da Sleeze\n",
       "Quavo                                                     Greatness\n",
       "The Chainsmokers  Don't Let Me Down (feat. Daya) - Hardwell & Se...\n",
       "W&W                                                       Rave Love\n",
       "Sebastian Yatra                                      Pareja Del Año\n",
       "Ran-D                                    Zombie - Bassjackers Remix\n",
       "Manuel Turizo                                            La Bachata\n",
       "Bizarrap                      Quevedo: Bzrp Music Sessions, Vol. 52\n",
       "Xjloma                                                honey see you\n",
       "Pop Smoke                                                     Coupe\n",
       "Lil Baby                                        Ready (feat. Gunna)\n",
       "Tory Lanez                                            Lady Of Namek\n",
       "Tory Lanez                                       Ballad of a Badman\n",
       "Dash Berlin                                      you broke me first\n",
       "Wizkid                                                         Joro\n",
       "Hulvey                                                    Beautiful\n",
       "Wax Motif                                                   Thrills\n",
       "12th Planet                                                  Follow\n",
       "ILLENIUM                                                 In My Mind\n",
       "3Breezy                                        Beautiful But Broken\n",
       "Yatta Bandz                                         Don't Forget Me\n",
       "Metro Boomin                 Creepin' (with The Weeknd & 21 Savage)\n",
       "Matisse & Sadko                                            Into You\n",
       "KB                                       Libre (feat. Tommy Royale)\n",
       "12th Planet                                                 Habitat\n",
       "Tiësto                                                Baila Conmigo\n",
       "Bob Sinclar                          World, Hold On - FISHER Rework\n",
       "Dash Berlin                                 Heaven - DJ Isaac Remix\n",
       "Yung Bleu                     You'll Be Sorry (feat. Brooklyn Love)\n",
       "Subtronics                                 Clockwork - Original Mix\n",
       "ILLENIUM                                Worst Day - Tungevaag Remix\n",
       "ILLENIUM                             Paper Thin - Headhunterz Remix\n",
       "Roddy Ricch                          #1 Freak (feat. Ty Dolla $ign)"
      ]
     },
     "metadata": {},
     "output_type": "display_data"
    },
    {
     "data": {
      "text/html": [
       "<div>\n",
       "<style scoped>\n",
       "    .dataframe tbody tr th:only-of-type {\n",
       "        vertical-align: middle;\n",
       "    }\n",
       "\n",
       "    .dataframe tbody tr th {\n",
       "        vertical-align: top;\n",
       "    }\n",
       "\n",
       "    .dataframe thead th {\n",
       "        text-align: right;\n",
       "    }\n",
       "</style>\n",
       "<table border=\"1\" class=\"dataframe\">\n",
       "  <thead>\n",
       "    <tr style=\"text-align: right;\">\n",
       "      <th></th>\n",
       "      <th>danceability</th>\n",
       "      <th>energy</th>\n",
       "      <th>key</th>\n",
       "      <th>loudness</th>\n",
       "      <th>mode</th>\n",
       "      <th>speechiness</th>\n",
       "      <th>acousticness</th>\n",
       "      <th>instrumentalness</th>\n",
       "      <th>liveness</th>\n",
       "      <th>valence</th>\n",
       "      <th>tempo</th>\n",
       "      <th>type</th>\n",
       "      <th>id</th>\n",
       "      <th>uri</th>\n",
       "      <th>track_href</th>\n",
       "      <th>analysis_url</th>\n",
       "      <th>duration_ms</th>\n",
       "      <th>time_signature</th>\n",
       "    </tr>\n",
       "  </thead>\n",
       "  <tbody>\n",
       "    <tr>\n",
       "      <th>0</th>\n",
       "      <td>0.285</td>\n",
       "      <td>0.782</td>\n",
       "      <td>7</td>\n",
       "      <td>-6.243</td>\n",
       "      <td>0</td>\n",
       "      <td>0.1260</td>\n",
       "      <td>0.01890</td>\n",
       "      <td>0.023300</td>\n",
       "      <td>0.0994</td>\n",
       "      <td>0.0793</td>\n",
       "      <td>149.951</td>\n",
       "      <td>audio_features</td>\n",
       "      <td>501czsZhsXGZKJXB6Qxq1t</td>\n",
       "      <td>spotify:track:501czsZhsXGZKJXB6Qxq1t</td>\n",
       "      <td>https://api.spotify.com/v1/tracks/501czsZhsXGZ...</td>\n",
       "      <td>https://api.spotify.com/v1/audio-analysis/501c...</td>\n",
       "      <td>202400</td>\n",
       "      <td>3</td>\n",
       "    </tr>\n",
       "    <tr>\n",
       "      <th>1</th>\n",
       "      <td>0.510</td>\n",
       "      <td>0.709</td>\n",
       "      <td>8</td>\n",
       "      <td>-5.408</td>\n",
       "      <td>1</td>\n",
       "      <td>0.1670</td>\n",
       "      <td>0.14900</td>\n",
       "      <td>0.000000</td>\n",
       "      <td>0.4500</td>\n",
       "      <td>0.7640</td>\n",
       "      <td>118.353</td>\n",
       "      <td>audio_features</td>\n",
       "      <td>7H08E8B32OZ1vJE7AtCwaG</td>\n",
       "      <td>spotify:track:7H08E8B32OZ1vJE7AtCwaG</td>\n",
       "      <td>https://api.spotify.com/v1/tracks/7H08E8B32OZ1...</td>\n",
       "      <td>https://api.spotify.com/v1/audio-analysis/7H08...</td>\n",
       "      <td>160427</td>\n",
       "      <td>5</td>\n",
       "    </tr>\n",
       "    <tr>\n",
       "      <th>2</th>\n",
       "      <td>0.602</td>\n",
       "      <td>0.500</td>\n",
       "      <td>8</td>\n",
       "      <td>-9.377</td>\n",
       "      <td>1</td>\n",
       "      <td>0.2980</td>\n",
       "      <td>0.47700</td>\n",
       "      <td>0.000057</td>\n",
       "      <td>0.2950</td>\n",
       "      <td>0.3950</td>\n",
       "      <td>132.798</td>\n",
       "      <td>audio_features</td>\n",
       "      <td>5PvVkf1Yuq3XyMqqjPiKPd</td>\n",
       "      <td>spotify:track:5PvVkf1Yuq3XyMqqjPiKPd</td>\n",
       "      <td>https://api.spotify.com/v1/tracks/5PvVkf1Yuq3X...</td>\n",
       "      <td>https://api.spotify.com/v1/audio-analysis/5PvV...</td>\n",
       "      <td>223630</td>\n",
       "      <td>4</td>\n",
       "    </tr>\n",
       "    <tr>\n",
       "      <th>3</th>\n",
       "      <td>0.565</td>\n",
       "      <td>0.558</td>\n",
       "      <td>5</td>\n",
       "      <td>-7.634</td>\n",
       "      <td>1</td>\n",
       "      <td>0.0453</td>\n",
       "      <td>0.37900</td>\n",
       "      <td>0.000000</td>\n",
       "      <td>0.0896</td>\n",
       "      <td>0.0778</td>\n",
       "      <td>82.998</td>\n",
       "      <td>audio_features</td>\n",
       "      <td>6T7tWJsjBpLb95rNqSLcih</td>\n",
       "      <td>spotify:track:6T7tWJsjBpLb95rNqSLcih</td>\n",
       "      <td>https://api.spotify.com/v1/tracks/6T7tWJsjBpLb...</td>\n",
       "      <td>https://api.spotify.com/v1/audio-analysis/6T7t...</td>\n",
       "      <td>208193</td>\n",
       "      <td>4</td>\n",
       "    </tr>\n",
       "    <tr>\n",
       "      <th>4</th>\n",
       "      <td>0.556</td>\n",
       "      <td>0.908</td>\n",
       "      <td>5</td>\n",
       "      <td>-4.759</td>\n",
       "      <td>0</td>\n",
       "      <td>0.2450</td>\n",
       "      <td>0.30400</td>\n",
       "      <td>0.000000</td>\n",
       "      <td>0.1290</td>\n",
       "      <td>0.7150</td>\n",
       "      <td>158.172</td>\n",
       "      <td>audio_features</td>\n",
       "      <td>47A2jHhdcuOozYPYhttXPs</td>\n",
       "      <td>spotify:track:47A2jHhdcuOozYPYhttXPs</td>\n",
       "      <td>https://api.spotify.com/v1/tracks/47A2jHhdcuOo...</td>\n",
       "      <td>https://api.spotify.com/v1/audio-analysis/47A2...</td>\n",
       "      <td>209360</td>\n",
       "      <td>4</td>\n",
       "    </tr>\n",
       "    <tr>\n",
       "      <th>5</th>\n",
       "      <td>0.809</td>\n",
       "      <td>0.631</td>\n",
       "      <td>4</td>\n",
       "      <td>-7.099</td>\n",
       "      <td>1</td>\n",
       "      <td>0.0423</td>\n",
       "      <td>0.06590</td>\n",
       "      <td>0.001420</td>\n",
       "      <td>0.1340</td>\n",
       "      <td>0.7530</td>\n",
       "      <td>107.050</td>\n",
       "      <td>audio_features</td>\n",
       "      <td>42QLP7Z6KvkOV7vYr8RaLD</td>\n",
       "      <td>spotify:track:42QLP7Z6KvkOV7vYr8RaLD</td>\n",
       "      <td>https://api.spotify.com/v1/tracks/42QLP7Z6KvkO...</td>\n",
       "      <td>https://api.spotify.com/v1/audio-analysis/42QL...</td>\n",
       "      <td>164282</td>\n",
       "      <td>4</td>\n",
       "    </tr>\n",
       "    <tr>\n",
       "      <th>6</th>\n",
       "      <td>0.770</td>\n",
       "      <td>0.573</td>\n",
       "      <td>6</td>\n",
       "      <td>-5.872</td>\n",
       "      <td>0</td>\n",
       "      <td>0.1690</td>\n",
       "      <td>0.59600</td>\n",
       "      <td>0.000000</td>\n",
       "      <td>0.1020</td>\n",
       "      <td>0.2140</td>\n",
       "      <td>98.036</td>\n",
       "      <td>audio_features</td>\n",
       "      <td>5k3xP19vac82Kweo4mOvlw</td>\n",
       "      <td>spotify:track:5k3xP19vac82Kweo4mOvlw</td>\n",
       "      <td>https://api.spotify.com/v1/tracks/5k3xP19vac82...</td>\n",
       "      <td>https://api.spotify.com/v1/audio-analysis/5k3x...</td>\n",
       "      <td>170097</td>\n",
       "      <td>4</td>\n",
       "    </tr>\n",
       "    <tr>\n",
       "      <th>7</th>\n",
       "      <td>0.585</td>\n",
       "      <td>0.815</td>\n",
       "      <td>0</td>\n",
       "      <td>-4.165</td>\n",
       "      <td>0</td>\n",
       "      <td>0.0565</td>\n",
       "      <td>0.11500</td>\n",
       "      <td>0.000000</td>\n",
       "      <td>0.1240</td>\n",
       "      <td>0.5640</td>\n",
       "      <td>132.090</td>\n",
       "      <td>audio_features</td>\n",
       "      <td>59hBR0BCtJsfIbV9VzCVAp</td>\n",
       "      <td>spotify:track:59hBR0BCtJsfIbV9VzCVAp</td>\n",
       "      <td>https://api.spotify.com/v1/tracks/59hBR0BCtJsf...</td>\n",
       "      <td>https://api.spotify.com/v1/audio-analysis/59hB...</td>\n",
       "      <td>200930</td>\n",
       "      <td>4</td>\n",
       "    </tr>\n",
       "    <tr>\n",
       "      <th>8</th>\n",
       "      <td>0.836</td>\n",
       "      <td>0.538</td>\n",
       "      <td>10</td>\n",
       "      <td>-4.992</td>\n",
       "      <td>0</td>\n",
       "      <td>0.0332</td>\n",
       "      <td>0.38100</td>\n",
       "      <td>0.000000</td>\n",
       "      <td>0.1030</td>\n",
       "      <td>0.7800</td>\n",
       "      <td>109.983</td>\n",
       "      <td>audio_features</td>\n",
       "      <td>0mYYDj882nEd5qzldZJ39o</td>\n",
       "      <td>spotify:track:0mYYDj882nEd5qzldZJ39o</td>\n",
       "      <td>https://api.spotify.com/v1/tracks/0mYYDj882nEd...</td>\n",
       "      <td>https://api.spotify.com/v1/audio-analysis/0mYY...</td>\n",
       "      <td>224507</td>\n",
       "      <td>4</td>\n",
       "    </tr>\n",
       "    <tr>\n",
       "      <th>9</th>\n",
       "      <td>0.729</td>\n",
       "      <td>0.680</td>\n",
       "      <td>7</td>\n",
       "      <td>-5.502</td>\n",
       "      <td>1</td>\n",
       "      <td>0.0762</td>\n",
       "      <td>0.21900</td>\n",
       "      <td>0.000000</td>\n",
       "      <td>0.2460</td>\n",
       "      <td>0.5040</td>\n",
       "      <td>130.019</td>\n",
       "      <td>audio_features</td>\n",
       "      <td>1T6CF1qnG0hK0absyeVL5H</td>\n",
       "      <td>spotify:track:1T6CF1qnG0hK0absyeVL5H</td>\n",
       "      <td>https://api.spotify.com/v1/tracks/1T6CF1qnG0hK...</td>\n",
       "      <td>https://api.spotify.com/v1/audio-analysis/1T6C...</td>\n",
       "      <td>237345</td>\n",
       "      <td>4</td>\n",
       "    </tr>\n",
       "    <tr>\n",
       "      <th>10</th>\n",
       "      <td>0.434</td>\n",
       "      <td>0.586</td>\n",
       "      <td>9</td>\n",
       "      <td>-7.612</td>\n",
       "      <td>1</td>\n",
       "      <td>0.1380</td>\n",
       "      <td>0.75300</td>\n",
       "      <td>0.014400</td>\n",
       "      <td>0.1460</td>\n",
       "      <td>0.2390</td>\n",
       "      <td>78.259</td>\n",
       "      <td>audio_features</td>\n",
       "      <td>6koKhrBBcExADvWuOgceNZ</td>\n",
       "      <td>spotify:track:6koKhrBBcExADvWuOgceNZ</td>\n",
       "      <td>https://api.spotify.com/v1/tracks/6koKhrBBcExA...</td>\n",
       "      <td>https://api.spotify.com/v1/audio-analysis/6koK...</td>\n",
       "      <td>239613</td>\n",
       "      <td>4</td>\n",
       "    </tr>\n",
       "    <tr>\n",
       "      <th>11</th>\n",
       "      <td>0.480</td>\n",
       "      <td>0.698</td>\n",
       "      <td>6</td>\n",
       "      <td>-6.356</td>\n",
       "      <td>1</td>\n",
       "      <td>0.0623</td>\n",
       "      <td>0.01650</td>\n",
       "      <td>0.000075</td>\n",
       "      <td>0.0647</td>\n",
       "      <td>0.5360</td>\n",
       "      <td>120.944</td>\n",
       "      <td>audio_features</td>\n",
       "      <td>4w4vhxcqJ6TVdUkL5WZC2J</td>\n",
       "      <td>spotify:track:4w4vhxcqJ6TVdUkL5WZC2J</td>\n",
       "      <td>https://api.spotify.com/v1/tracks/4w4vhxcqJ6TV...</td>\n",
       "      <td>https://api.spotify.com/v1/audio-analysis/4w4v...</td>\n",
       "      <td>149078</td>\n",
       "      <td>4</td>\n",
       "    </tr>\n",
       "    <tr>\n",
       "      <th>12</th>\n",
       "      <td>0.309</td>\n",
       "      <td>0.724</td>\n",
       "      <td>7</td>\n",
       "      <td>-4.815</td>\n",
       "      <td>1</td>\n",
       "      <td>0.0470</td>\n",
       "      <td>0.01730</td>\n",
       "      <td>0.000000</td>\n",
       "      <td>0.4170</td>\n",
       "      <td>0.2860</td>\n",
       "      <td>150.246</td>\n",
       "      <td>audio_features</td>\n",
       "      <td>7b7zBr2crDpbwSyA9pzlLK</td>\n",
       "      <td>spotify:track:7b7zBr2crDpbwSyA9pzlLK</td>\n",
       "      <td>https://api.spotify.com/v1/tracks/7b7zBr2crDpb...</td>\n",
       "      <td>https://api.spotify.com/v1/audio-analysis/7b7z...</td>\n",
       "      <td>252200</td>\n",
       "      <td>4</td>\n",
       "    </tr>\n",
       "    <tr>\n",
       "      <th>13</th>\n",
       "      <td>0.681</td>\n",
       "      <td>0.821</td>\n",
       "      <td>11</td>\n",
       "      <td>-5.120</td>\n",
       "      <td>0</td>\n",
       "      <td>0.1310</td>\n",
       "      <td>0.53200</td>\n",
       "      <td>0.001110</td>\n",
       "      <td>0.0921</td>\n",
       "      <td>0.8130</td>\n",
       "      <td>94.074</td>\n",
       "      <td>audio_features</td>\n",
       "      <td>5wxYxygyHpbgv0EXZuqb9V</td>\n",
       "      <td>spotify:track:5wxYxygyHpbgv0EXZuqb9V</td>\n",
       "      <td>https://api.spotify.com/v1/tracks/5wxYxygyHpbg...</td>\n",
       "      <td>https://api.spotify.com/v1/audio-analysis/5wxY...</td>\n",
       "      <td>214701</td>\n",
       "      <td>4</td>\n",
       "    </tr>\n",
       "    <tr>\n",
       "      <th>14</th>\n",
       "      <td>0.511</td>\n",
       "      <td>0.541</td>\n",
       "      <td>10</td>\n",
       "      <td>-10.100</td>\n",
       "      <td>0</td>\n",
       "      <td>0.4210</td>\n",
       "      <td>0.07690</td>\n",
       "      <td>0.000000</td>\n",
       "      <td>0.1000</td>\n",
       "      <td>0.2480</td>\n",
       "      <td>101.228</td>\n",
       "      <td>audio_features</td>\n",
       "      <td>7hrcHfHWaLhooHzGltlCYB</td>\n",
       "      <td>spotify:track:7hrcHfHWaLhooHzGltlCYB</td>\n",
       "      <td>https://api.spotify.com/v1/tracks/7hrcHfHWaLho...</td>\n",
       "      <td>https://api.spotify.com/v1/audio-analysis/7hrc...</td>\n",
       "      <td>235711</td>\n",
       "      <td>3</td>\n",
       "    </tr>\n",
       "    <tr>\n",
       "      <th>15</th>\n",
       "      <td>0.500</td>\n",
       "      <td>0.738</td>\n",
       "      <td>1</td>\n",
       "      <td>-4.477</td>\n",
       "      <td>0</td>\n",
       "      <td>0.4170</td>\n",
       "      <td>0.41000</td>\n",
       "      <td>0.000004</td>\n",
       "      <td>0.2230</td>\n",
       "      <td>0.4330</td>\n",
       "      <td>185.577</td>\n",
       "      <td>audio_features</td>\n",
       "      <td>1OdxQvBNOgCDE3SyqoEDha</td>\n",
       "      <td>spotify:track:1OdxQvBNOgCDE3SyqoEDha</td>\n",
       "      <td>https://api.spotify.com/v1/tracks/1OdxQvBNOgCD...</td>\n",
       "      <td>https://api.spotify.com/v1/audio-analysis/1Odx...</td>\n",
       "      <td>168627</td>\n",
       "      <td>4</td>\n",
       "    </tr>\n",
       "    <tr>\n",
       "      <th>16</th>\n",
       "      <td>0.956</td>\n",
       "      <td>0.515</td>\n",
       "      <td>11</td>\n",
       "      <td>-9.962</td>\n",
       "      <td>0</td>\n",
       "      <td>0.3370</td>\n",
       "      <td>0.30500</td>\n",
       "      <td>0.000000</td>\n",
       "      <td>0.1560</td>\n",
       "      <td>0.6900</td>\n",
       "      <td>119.937</td>\n",
       "      <td>audio_features</td>\n",
       "      <td>7oLKoGzQVwjZ91AzCn560T</td>\n",
       "      <td>spotify:track:7oLKoGzQVwjZ91AzCn560T</td>\n",
       "      <td>https://api.spotify.com/v1/tracks/7oLKoGzQVwjZ...</td>\n",
       "      <td>https://api.spotify.com/v1/audio-analysis/7oLK...</td>\n",
       "      <td>122070</td>\n",
       "      <td>4</td>\n",
       "    </tr>\n",
       "    <tr>\n",
       "      <th>17</th>\n",
       "      <td>0.696</td>\n",
       "      <td>0.733</td>\n",
       "      <td>1</td>\n",
       "      <td>-6.181</td>\n",
       "      <td>1</td>\n",
       "      <td>0.2560</td>\n",
       "      <td>0.11500</td>\n",
       "      <td>0.000000</td>\n",
       "      <td>0.1110</td>\n",
       "      <td>0.2920</td>\n",
       "      <td>98.355</td>\n",
       "      <td>audio_features</td>\n",
       "      <td>4ZYAU4A2YBtlNdqOUtc7T2</td>\n",
       "      <td>spotify:track:4ZYAU4A2YBtlNdqOUtc7T2</td>\n",
       "      <td>https://api.spotify.com/v1/tracks/4ZYAU4A2YBtl...</td>\n",
       "      <td>https://api.spotify.com/v1/audio-analysis/4ZYA...</td>\n",
       "      <td>214445</td>\n",
       "      <td>4</td>\n",
       "    </tr>\n",
       "    <tr>\n",
       "      <th>18</th>\n",
       "      <td>0.825</td>\n",
       "      <td>0.718</td>\n",
       "      <td>1</td>\n",
       "      <td>-2.896</td>\n",
       "      <td>1</td>\n",
       "      <td>0.0518</td>\n",
       "      <td>0.07320</td>\n",
       "      <td>0.000157</td>\n",
       "      <td>0.1420</td>\n",
       "      <td>0.9190</td>\n",
       "      <td>139.983</td>\n",
       "      <td>audio_features</td>\n",
       "      <td>2eN0rxTtgxKkmVCNgizayr</td>\n",
       "      <td>spotify:track:2eN0rxTtgxKkmVCNgizayr</td>\n",
       "      <td>https://api.spotify.com/v1/tracks/2eN0rxTtgxKk...</td>\n",
       "      <td>https://api.spotify.com/v1/audio-analysis/2eN0...</td>\n",
       "      <td>185001</td>\n",
       "      <td>4</td>\n",
       "    </tr>\n",
       "    <tr>\n",
       "      <th>19</th>\n",
       "      <td>0.509</td>\n",
       "      <td>0.897</td>\n",
       "      <td>8</td>\n",
       "      <td>-3.418</td>\n",
       "      <td>0</td>\n",
       "      <td>0.0454</td>\n",
       "      <td>0.08610</td>\n",
       "      <td>0.000634</td>\n",
       "      <td>0.0625</td>\n",
       "      <td>0.2830</td>\n",
       "      <td>149.864</td>\n",
       "      <td>audio_features</td>\n",
       "      <td>1JI70l1lE5IF2tgJm5TnMD</td>\n",
       "      <td>spotify:track:1JI70l1lE5IF2tgJm5TnMD</td>\n",
       "      <td>https://api.spotify.com/v1/tracks/1JI70l1lE5IF...</td>\n",
       "      <td>https://api.spotify.com/v1/audio-analysis/1JI7...</td>\n",
       "      <td>162440</td>\n",
       "      <td>4</td>\n",
       "    </tr>\n",
       "    <tr>\n",
       "      <th>20</th>\n",
       "      <td>0.393</td>\n",
       "      <td>0.895</td>\n",
       "      <td>6</td>\n",
       "      <td>-4.935</td>\n",
       "      <td>0</td>\n",
       "      <td>0.0493</td>\n",
       "      <td>0.00259</td>\n",
       "      <td>0.000407</td>\n",
       "      <td>0.1510</td>\n",
       "      <td>0.1830</td>\n",
       "      <td>160.057</td>\n",
       "      <td>audio_features</td>\n",
       "      <td>0YHL0wDP6b7ov6h0yEhorO</td>\n",
       "      <td>spotify:track:0YHL0wDP6b7ov6h0yEhorO</td>\n",
       "      <td>https://api.spotify.com/v1/tracks/0YHL0wDP6b7o...</td>\n",
       "      <td>https://api.spotify.com/v1/audio-analysis/0YHL...</td>\n",
       "      <td>189000</td>\n",
       "      <td>4</td>\n",
       "    </tr>\n",
       "    <tr>\n",
       "      <th>21</th>\n",
       "      <td>0.715</td>\n",
       "      <td>0.611</td>\n",
       "      <td>4</td>\n",
       "      <td>-5.094</td>\n",
       "      <td>0</td>\n",
       "      <td>0.0519</td>\n",
       "      <td>0.17600</td>\n",
       "      <td>0.000000</td>\n",
       "      <td>0.0949</td>\n",
       "      <td>0.7760</td>\n",
       "      <td>79.971</td>\n",
       "      <td>audio_features</td>\n",
       "      <td>655JkvIwu2rDCaD1hPf04g</td>\n",
       "      <td>spotify:track:655JkvIwu2rDCaD1hPf04g</td>\n",
       "      <td>https://api.spotify.com/v1/tracks/655JkvIwu2rD...</td>\n",
       "      <td>https://api.spotify.com/v1/audio-analysis/655J...</td>\n",
       "      <td>195333</td>\n",
       "      <td>4</td>\n",
       "    </tr>\n",
       "    <tr>\n",
       "      <th>22</th>\n",
       "      <td>0.530</td>\n",
       "      <td>0.883</td>\n",
       "      <td>4</td>\n",
       "      <td>-3.262</td>\n",
       "      <td>0</td>\n",
       "      <td>0.0367</td>\n",
       "      <td>0.00463</td>\n",
       "      <td>0.000000</td>\n",
       "      <td>0.1000</td>\n",
       "      <td>0.0696</td>\n",
       "      <td>74.982</td>\n",
       "      <td>audio_features</td>\n",
       "      <td>7qfZTBNZQqvg0hMamrAQB1</td>\n",
       "      <td>spotify:track:7qfZTBNZQqvg0hMamrAQB1</td>\n",
       "      <td>https://api.spotify.com/v1/tracks/7qfZTBNZQqvg...</td>\n",
       "      <td>https://api.spotify.com/v1/audio-analysis/7qfZ...</td>\n",
       "      <td>211192</td>\n",
       "      <td>4</td>\n",
       "    </tr>\n",
       "    <tr>\n",
       "      <th>23</th>\n",
       "      <td>0.835</td>\n",
       "      <td>0.679</td>\n",
       "      <td>7</td>\n",
       "      <td>-5.329</td>\n",
       "      <td>0</td>\n",
       "      <td>0.0364</td>\n",
       "      <td>0.58300</td>\n",
       "      <td>0.000002</td>\n",
       "      <td>0.2180</td>\n",
       "      <td>0.8500</td>\n",
       "      <td>124.980</td>\n",
       "      <td>audio_features</td>\n",
       "      <td>5ww2BF9slyYgNOk37BlC4u</td>\n",
       "      <td>spotify:track:5ww2BF9slyYgNOk37BlC4u</td>\n",
       "      <td>https://api.spotify.com/v1/tracks/5ww2BF9slyYg...</td>\n",
       "      <td>https://api.spotify.com/v1/audio-analysis/5ww2...</td>\n",
       "      <td>162638</td>\n",
       "      <td>4</td>\n",
       "    </tr>\n",
       "    <tr>\n",
       "      <th>24</th>\n",
       "      <td>0.621</td>\n",
       "      <td>0.782</td>\n",
       "      <td>2</td>\n",
       "      <td>-5.548</td>\n",
       "      <td>1</td>\n",
       "      <td>0.0440</td>\n",
       "      <td>0.01250</td>\n",
       "      <td>0.033000</td>\n",
       "      <td>0.2300</td>\n",
       "      <td>0.5500</td>\n",
       "      <td>128.033</td>\n",
       "      <td>audio_features</td>\n",
       "      <td>2tTmW7RDtMQtBk7m2rYeSw</td>\n",
       "      <td>spotify:track:2tTmW7RDtMQtBk7m2rYeSw</td>\n",
       "      <td>https://api.spotify.com/v1/tracks/2tTmW7RDtMQt...</td>\n",
       "      <td>https://api.spotify.com/v1/audio-analysis/2tTm...</td>\n",
       "      <td>198938</td>\n",
       "      <td>4</td>\n",
       "    </tr>\n",
       "    <tr>\n",
       "      <th>25</th>\n",
       "      <td>0.398</td>\n",
       "      <td>0.549</td>\n",
       "      <td>6</td>\n",
       "      <td>-10.560</td>\n",
       "      <td>1</td>\n",
       "      <td>0.2300</td>\n",
       "      <td>0.07570</td>\n",
       "      <td>0.000000</td>\n",
       "      <td>0.1850</td>\n",
       "      <td>0.5600</td>\n",
       "      <td>172.414</td>\n",
       "      <td>audio_features</td>\n",
       "      <td>14OrHwWtkFa9yJLgR0odzZ</td>\n",
       "      <td>spotify:track:14OrHwWtkFa9yJLgR0odzZ</td>\n",
       "      <td>https://api.spotify.com/v1/tracks/14OrHwWtkFa9...</td>\n",
       "      <td>https://api.spotify.com/v1/audio-analysis/14Or...</td>\n",
       "      <td>88700</td>\n",
       "      <td>4</td>\n",
       "    </tr>\n",
       "    <tr>\n",
       "      <th>26</th>\n",
       "      <td>0.912</td>\n",
       "      <td>0.589</td>\n",
       "      <td>8</td>\n",
       "      <td>-7.476</td>\n",
       "      <td>1</td>\n",
       "      <td>0.2000</td>\n",
       "      <td>0.03320</td>\n",
       "      <td>0.016200</td>\n",
       "      <td>0.0795</td>\n",
       "      <td>0.4860</td>\n",
       "      <td>135.921</td>\n",
       "      <td>audio_features</td>\n",
       "      <td>4wNKxMbE3n1gRm4F6OaCP1</td>\n",
       "      <td>spotify:track:4wNKxMbE3n1gRm4F6OaCP1</td>\n",
       "      <td>https://api.spotify.com/v1/tracks/4wNKxMbE3n1g...</td>\n",
       "      <td>https://api.spotify.com/v1/audio-analysis/4wNK...</td>\n",
       "      <td>123549</td>\n",
       "      <td>4</td>\n",
       "    </tr>\n",
       "    <tr>\n",
       "      <th>27</th>\n",
       "      <td>0.793</td>\n",
       "      <td>0.395</td>\n",
       "      <td>1</td>\n",
       "      <td>-5.578</td>\n",
       "      <td>1</td>\n",
       "      <td>0.3850</td>\n",
       "      <td>0.27700</td>\n",
       "      <td>0.000014</td>\n",
       "      <td>0.1090</td>\n",
       "      <td>0.1290</td>\n",
       "      <td>77.027</td>\n",
       "      <td>audio_features</td>\n",
       "      <td>4F6yN5FsFW10Ucx7cLCzBh</td>\n",
       "      <td>spotify:track:4F6yN5FsFW10Ucx7cLCzBh</td>\n",
       "      <td>https://api.spotify.com/v1/tracks/4F6yN5FsFW10...</td>\n",
       "      <td>https://api.spotify.com/v1/audio-analysis/4F6y...</td>\n",
       "      <td>213287</td>\n",
       "      <td>4</td>\n",
       "    </tr>\n",
       "    <tr>\n",
       "      <th>28</th>\n",
       "      <td>0.676</td>\n",
       "      <td>0.659</td>\n",
       "      <td>11</td>\n",
       "      <td>-5.123</td>\n",
       "      <td>0</td>\n",
       "      <td>0.0476</td>\n",
       "      <td>0.19400</td>\n",
       "      <td>0.000000</td>\n",
       "      <td>0.2830</td>\n",
       "      <td>0.5950</td>\n",
       "      <td>134.985</td>\n",
       "      <td>audio_features</td>\n",
       "      <td>6btIpLff2jE56h2N40smAj</td>\n",
       "      <td>spotify:track:6btIpLff2jE56h2N40smAj</td>\n",
       "      <td>https://api.spotify.com/v1/tracks/6btIpLff2jE5...</td>\n",
       "      <td>https://api.spotify.com/v1/audio-analysis/6btI...</td>\n",
       "      <td>193994</td>\n",
       "      <td>4</td>\n",
       "    </tr>\n",
       "    <tr>\n",
       "      <th>29</th>\n",
       "      <td>0.546</td>\n",
       "      <td>0.845</td>\n",
       "      <td>1</td>\n",
       "      <td>-5.884</td>\n",
       "      <td>0</td>\n",
       "      <td>0.0630</td>\n",
       "      <td>0.00341</td>\n",
       "      <td>0.000000</td>\n",
       "      <td>0.4500</td>\n",
       "      <td>0.5810</td>\n",
       "      <td>162.101</td>\n",
       "      <td>audio_features</td>\n",
       "      <td>2PLOCIYlFr8XxNsz0Lgs4l</td>\n",
       "      <td>spotify:track:2PLOCIYlFr8XxNsz0Lgs4l</td>\n",
       "      <td>https://api.spotify.com/v1/tracks/2PLOCIYlFr8X...</td>\n",
       "      <td>https://api.spotify.com/v1/audio-analysis/2PLO...</td>\n",
       "      <td>254764</td>\n",
       "      <td>4</td>\n",
       "    </tr>\n",
       "    <tr>\n",
       "      <th>30</th>\n",
       "      <td>0.644</td>\n",
       "      <td>0.833</td>\n",
       "      <td>7</td>\n",
       "      <td>-2.861</td>\n",
       "      <td>1</td>\n",
       "      <td>0.0398</td>\n",
       "      <td>0.06890</td>\n",
       "      <td>0.000013</td>\n",
       "      <td>0.1520</td>\n",
       "      <td>0.1610</td>\n",
       "      <td>129.933</td>\n",
       "      <td>audio_features</td>\n",
       "      <td>3ztpVHzt35X2zwBbEh4gMg</td>\n",
       "      <td>spotify:track:3ztpVHzt35X2zwBbEh4gMg</td>\n",
       "      <td>https://api.spotify.com/v1/tracks/3ztpVHzt35X2...</td>\n",
       "      <td>https://api.spotify.com/v1/audio-analysis/3ztp...</td>\n",
       "      <td>161538</td>\n",
       "      <td>4</td>\n",
       "    </tr>\n",
       "    <tr>\n",
       "      <th>31</th>\n",
       "      <td>0.686</td>\n",
       "      <td>0.694</td>\n",
       "      <td>7</td>\n",
       "      <td>-3.693</td>\n",
       "      <td>0</td>\n",
       "      <td>0.2570</td>\n",
       "      <td>0.25300</td>\n",
       "      <td>0.000904</td>\n",
       "      <td>0.1090</td>\n",
       "      <td>0.5870</td>\n",
       "      <td>189.998</td>\n",
       "      <td>audio_features</td>\n",
       "      <td>3Yt1ovsh3v3VEzRuhI1TL5</td>\n",
       "      <td>spotify:track:3Yt1ovsh3v3VEzRuhI1TL5</td>\n",
       "      <td>https://api.spotify.com/v1/tracks/3Yt1ovsh3v3V...</td>\n",
       "      <td>https://api.spotify.com/v1/audio-analysis/3Yt1...</td>\n",
       "      <td>262737</td>\n",
       "      <td>4</td>\n",
       "    </tr>\n",
       "    <tr>\n",
       "      <th>32</th>\n",
       "      <td>0.702</td>\n",
       "      <td>0.647</td>\n",
       "      <td>2</td>\n",
       "      <td>-7.271</td>\n",
       "      <td>1</td>\n",
       "      <td>0.1440</td>\n",
       "      <td>0.12000</td>\n",
       "      <td>0.000053</td>\n",
       "      <td>0.4630</td>\n",
       "      <td>0.5790</td>\n",
       "      <td>86.542</td>\n",
       "      <td>audio_features</td>\n",
       "      <td>4B15esl9pBFYa82fLVPD2H</td>\n",
       "      <td>spotify:track:4B15esl9pBFYa82fLVPD2H</td>\n",
       "      <td>https://api.spotify.com/v1/tracks/4B15esl9pBFY...</td>\n",
       "      <td>https://api.spotify.com/v1/audio-analysis/4B15...</td>\n",
       "      <td>169717</td>\n",
       "      <td>4</td>\n",
       "    </tr>\n",
       "    <tr>\n",
       "      <th>33</th>\n",
       "      <td>0.657</td>\n",
       "      <td>0.670</td>\n",
       "      <td>4</td>\n",
       "      <td>-5.578</td>\n",
       "      <td>0</td>\n",
       "      <td>0.0670</td>\n",
       "      <td>0.05560</td>\n",
       "      <td>0.000037</td>\n",
       "      <td>0.0639</td>\n",
       "      <td>0.0586</td>\n",
       "      <td>123.024</td>\n",
       "      <td>audio_features</td>\n",
       "      <td>5grnUbUVG0URemXdvhnHqm</td>\n",
       "      <td>spotify:track:5grnUbUVG0URemXdvhnHqm</td>\n",
       "      <td>https://api.spotify.com/v1/tracks/5grnUbUVG0UR...</td>\n",
       "      <td>https://api.spotify.com/v1/audio-analysis/5grn...</td>\n",
       "      <td>202524</td>\n",
       "      <td>4</td>\n",
       "    </tr>\n",
       "    <tr>\n",
       "      <th>34</th>\n",
       "      <td>0.533</td>\n",
       "      <td>0.938</td>\n",
       "      <td>4</td>\n",
       "      <td>-2.762</td>\n",
       "      <td>0</td>\n",
       "      <td>0.0535</td>\n",
       "      <td>0.02740</td>\n",
       "      <td>0.004720</td>\n",
       "      <td>0.1910</td>\n",
       "      <td>0.1180</td>\n",
       "      <td>149.998</td>\n",
       "      <td>audio_features</td>\n",
       "      <td>1HJW2w61lh3XcsnfnOR9p4</td>\n",
       "      <td>spotify:track:1HJW2w61lh3XcsnfnOR9p4</td>\n",
       "      <td>https://api.spotify.com/v1/tracks/1HJW2w61lh3X...</td>\n",
       "      <td>https://api.spotify.com/v1/audio-analysis/1HJW...</td>\n",
       "      <td>172800</td>\n",
       "      <td>4</td>\n",
       "    </tr>\n",
       "    <tr>\n",
       "      <th>35</th>\n",
       "      <td>0.344</td>\n",
       "      <td>0.663</td>\n",
       "      <td>8</td>\n",
       "      <td>-4.448</td>\n",
       "      <td>0</td>\n",
       "      <td>0.0595</td>\n",
       "      <td>0.12000</td>\n",
       "      <td>0.000000</td>\n",
       "      <td>0.0957</td>\n",
       "      <td>0.2330</td>\n",
       "      <td>140.129</td>\n",
       "      <td>audio_features</td>\n",
       "      <td>4nRbhflKt9BAc6YulQ22ga</td>\n",
       "      <td>spotify:track:4nRbhflKt9BAc6YulQ22ga</td>\n",
       "      <td>https://api.spotify.com/v1/tracks/4nRbhflKt9BA...</td>\n",
       "      <td>https://api.spotify.com/v1/audio-analysis/4nRb...</td>\n",
       "      <td>300222</td>\n",
       "      <td>4</td>\n",
       "    </tr>\n",
       "    <tr>\n",
       "      <th>36</th>\n",
       "      <td>0.724</td>\n",
       "      <td>0.438</td>\n",
       "      <td>9</td>\n",
       "      <td>-8.550</td>\n",
       "      <td>0</td>\n",
       "      <td>0.1370</td>\n",
       "      <td>0.81500</td>\n",
       "      <td>0.000000</td>\n",
       "      <td>0.1690</td>\n",
       "      <td>0.7720</td>\n",
       "      <td>87.824</td>\n",
       "      <td>audio_features</td>\n",
       "      <td>1ErzdvxEDAu3gL7Iu6FpJs</td>\n",
       "      <td>spotify:track:1ErzdvxEDAu3gL7Iu6FpJs</td>\n",
       "      <td>https://api.spotify.com/v1/tracks/1ErzdvxEDAu3...</td>\n",
       "      <td>https://api.spotify.com/v1/audio-analysis/1Erz...</td>\n",
       "      <td>98864</td>\n",
       "      <td>4</td>\n",
       "    </tr>\n",
       "    <tr>\n",
       "      <th>37</th>\n",
       "      <td>0.770</td>\n",
       "      <td>0.349</td>\n",
       "      <td>0</td>\n",
       "      <td>-12.085</td>\n",
       "      <td>0</td>\n",
       "      <td>0.3310</td>\n",
       "      <td>0.17300</td>\n",
       "      <td>0.000000</td>\n",
       "      <td>0.1160</td>\n",
       "      <td>0.7540</td>\n",
       "      <td>80.000</td>\n",
       "      <td>audio_features</td>\n",
       "      <td>3KCdyM6vGYY4rU15dezvrJ</td>\n",
       "      <td>spotify:track:3KCdyM6vGYY4rU15dezvrJ</td>\n",
       "      <td>https://api.spotify.com/v1/tracks/3KCdyM6vGYY4...</td>\n",
       "      <td>https://api.spotify.com/v1/audio-analysis/3KCd...</td>\n",
       "      <td>157056</td>\n",
       "      <td>4</td>\n",
       "    </tr>\n",
       "    <tr>\n",
       "      <th>38</th>\n",
       "      <td>0.715</td>\n",
       "      <td>0.620</td>\n",
       "      <td>1</td>\n",
       "      <td>-6.005</td>\n",
       "      <td>0</td>\n",
       "      <td>0.0484</td>\n",
       "      <td>0.41700</td>\n",
       "      <td>0.000000</td>\n",
       "      <td>0.0822</td>\n",
       "      <td>0.1720</td>\n",
       "      <td>97.950</td>\n",
       "      <td>audio_features</td>\n",
       "      <td>2dHHgzDwk4BJdRwy9uXhTO</td>\n",
       "      <td>spotify:track:2dHHgzDwk4BJdRwy9uXhTO</td>\n",
       "      <td>https://api.spotify.com/v1/tracks/2dHHgzDwk4BJ...</td>\n",
       "      <td>https://api.spotify.com/v1/audio-analysis/2dHH...</td>\n",
       "      <td>221520</td>\n",
       "      <td>4</td>\n",
       "    </tr>\n",
       "    <tr>\n",
       "      <th>39</th>\n",
       "      <td>0.553</td>\n",
       "      <td>0.687</td>\n",
       "      <td>8</td>\n",
       "      <td>-6.400</td>\n",
       "      <td>1</td>\n",
       "      <td>0.0340</td>\n",
       "      <td>0.03360</td>\n",
       "      <td>0.000000</td>\n",
       "      <td>0.1250</td>\n",
       "      <td>0.2780</td>\n",
       "      <td>156.000</td>\n",
       "      <td>audio_features</td>\n",
       "      <td>2PhlrsYp7TSkK96ngbmL38</td>\n",
       "      <td>spotify:track:2PhlrsYp7TSkK96ngbmL38</td>\n",
       "      <td>https://api.spotify.com/v1/tracks/2PhlrsYp7TSk...</td>\n",
       "      <td>https://api.spotify.com/v1/audio-analysis/2Phl...</td>\n",
       "      <td>161538</td>\n",
       "      <td>4</td>\n",
       "    </tr>\n",
       "    <tr>\n",
       "      <th>40</th>\n",
       "      <td>0.851</td>\n",
       "      <td>0.658</td>\n",
       "      <td>6</td>\n",
       "      <td>-6.400</td>\n",
       "      <td>0</td>\n",
       "      <td>0.0600</td>\n",
       "      <td>0.06720</td>\n",
       "      <td>0.001290</td>\n",
       "      <td>0.1220</td>\n",
       "      <td>0.6650</td>\n",
       "      <td>122.960</td>\n",
       "      <td>audio_features</td>\n",
       "      <td>7GloK7WTwb5wK8rIjymhRC</td>\n",
       "      <td>spotify:track:7GloK7WTwb5wK8rIjymhRC</td>\n",
       "      <td>https://api.spotify.com/v1/tracks/7GloK7WTwb5w...</td>\n",
       "      <td>https://api.spotify.com/v1/audio-analysis/7Glo...</td>\n",
       "      <td>229325</td>\n",
       "      <td>4</td>\n",
       "    </tr>\n",
       "    <tr>\n",
       "      <th>41</th>\n",
       "      <td>0.532</td>\n",
       "      <td>0.938</td>\n",
       "      <td>4</td>\n",
       "      <td>-2.879</td>\n",
       "      <td>0</td>\n",
       "      <td>0.1130</td>\n",
       "      <td>0.01200</td>\n",
       "      <td>0.000058</td>\n",
       "      <td>0.1260</td>\n",
       "      <td>0.2180</td>\n",
       "      <td>75.066</td>\n",
       "      <td>audio_features</td>\n",
       "      <td>16fy74yXmGeSMk2yqbPlLV</td>\n",
       "      <td>spotify:track:16fy74yXmGeSMk2yqbPlLV</td>\n",
       "      <td>https://api.spotify.com/v1/tracks/16fy74yXmGeS...</td>\n",
       "      <td>https://api.spotify.com/v1/audio-analysis/16fy...</td>\n",
       "      <td>161600</td>\n",
       "      <td>4</td>\n",
       "    </tr>\n",
       "    <tr>\n",
       "      <th>42</th>\n",
       "      <td>0.652</td>\n",
       "      <td>0.855</td>\n",
       "      <td>7</td>\n",
       "      <td>-6.411</td>\n",
       "      <td>1</td>\n",
       "      <td>0.0775</td>\n",
       "      <td>0.00658</td>\n",
       "      <td>0.409000</td>\n",
       "      <td>0.3410</td>\n",
       "      <td>0.0834</td>\n",
       "      <td>127.964</td>\n",
       "      <td>audio_features</td>\n",
       "      <td>3KruoUtSkm84Az0bJunnxl</td>\n",
       "      <td>spotify:track:3KruoUtSkm84Az0bJunnxl</td>\n",
       "      <td>https://api.spotify.com/v1/tracks/3KruoUtSkm84...</td>\n",
       "      <td>https://api.spotify.com/v1/audio-analysis/3Kru...</td>\n",
       "      <td>146250</td>\n",
       "      <td>4</td>\n",
       "    </tr>\n",
       "    <tr>\n",
       "      <th>43</th>\n",
       "      <td>0.781</td>\n",
       "      <td>0.889</td>\n",
       "      <td>1</td>\n",
       "      <td>-5.298</td>\n",
       "      <td>0</td>\n",
       "      <td>0.0573</td>\n",
       "      <td>0.00664</td>\n",
       "      <td>0.005710</td>\n",
       "      <td>0.0980</td>\n",
       "      <td>0.8590</td>\n",
       "      <td>127.010</td>\n",
       "      <td>audio_features</td>\n",
       "      <td>6quGF3Kvzd5WYEEuCmvCe1</td>\n",
       "      <td>spotify:track:6quGF3Kvzd5WYEEuCmvCe1</td>\n",
       "      <td>https://api.spotify.com/v1/tracks/6quGF3Kvzd5W...</td>\n",
       "      <td>https://api.spotify.com/v1/audio-analysis/6quG...</td>\n",
       "      <td>178305</td>\n",
       "      <td>4</td>\n",
       "    </tr>\n",
       "    <tr>\n",
       "      <th>44</th>\n",
       "      <td>0.300</td>\n",
       "      <td>0.897</td>\n",
       "      <td>0</td>\n",
       "      <td>-1.600</td>\n",
       "      <td>0</td>\n",
       "      <td>0.0481</td>\n",
       "      <td>0.02510</td>\n",
       "      <td>0.000000</td>\n",
       "      <td>0.3280</td>\n",
       "      <td>0.2370</td>\n",
       "      <td>150.062</td>\n",
       "      <td>audio_features</td>\n",
       "      <td>6If6tXpbwYs5zBop1AqfwG</td>\n",
       "      <td>spotify:track:6If6tXpbwYs5zBop1AqfwG</td>\n",
       "      <td>https://api.spotify.com/v1/tracks/6If6tXpbwYs5...</td>\n",
       "      <td>https://api.spotify.com/v1/audio-analysis/6If6...</td>\n",
       "      <td>198010</td>\n",
       "      <td>3</td>\n",
       "    </tr>\n",
       "    <tr>\n",
       "      <th>45</th>\n",
       "      <td>0.582</td>\n",
       "      <td>0.444</td>\n",
       "      <td>6</td>\n",
       "      <td>-11.399</td>\n",
       "      <td>0</td>\n",
       "      <td>0.0825</td>\n",
       "      <td>0.06760</td>\n",
       "      <td>0.000000</td>\n",
       "      <td>0.1140</td>\n",
       "      <td>0.2960</td>\n",
       "      <td>88.439</td>\n",
       "      <td>audio_features</td>\n",
       "      <td>4jfzqJjt9qlYsTeLZG08sR</td>\n",
       "      <td>spotify:track:4jfzqJjt9qlYsTeLZG08sR</td>\n",
       "      <td>https://api.spotify.com/v1/tracks/4jfzqJjt9qlY...</td>\n",
       "      <td>https://api.spotify.com/v1/audio-analysis/4jfz...</td>\n",
       "      <td>142432</td>\n",
       "      <td>4</td>\n",
       "    </tr>\n",
       "    <tr>\n",
       "      <th>46</th>\n",
       "      <td>0.778</td>\n",
       "      <td>0.924</td>\n",
       "      <td>2</td>\n",
       "      <td>-1.108</td>\n",
       "      <td>1</td>\n",
       "      <td>0.0943</td>\n",
       "      <td>0.16100</td>\n",
       "      <td>0.027500</td>\n",
       "      <td>0.0819</td>\n",
       "      <td>0.7360</td>\n",
       "      <td>144.994</td>\n",
       "      <td>audio_features</td>\n",
       "      <td>4DKxWLVkjGZoZtCPtDxIcH</td>\n",
       "      <td>spotify:track:4DKxWLVkjGZoZtCPtDxIcH</td>\n",
       "      <td>https://api.spotify.com/v1/tracks/4DKxWLVkjGZo...</td>\n",
       "      <td>https://api.spotify.com/v1/audio-analysis/4DKx...</td>\n",
       "      <td>231724</td>\n",
       "      <td>4</td>\n",
       "    </tr>\n",
       "    <tr>\n",
       "      <th>47</th>\n",
       "      <td>0.535</td>\n",
       "      <td>0.869</td>\n",
       "      <td>2</td>\n",
       "      <td>-3.097</td>\n",
       "      <td>1</td>\n",
       "      <td>0.0406</td>\n",
       "      <td>0.01490</td>\n",
       "      <td>0.000000</td>\n",
       "      <td>0.4390</td>\n",
       "      <td>0.5290</td>\n",
       "      <td>155.020</td>\n",
       "      <td>audio_features</td>\n",
       "      <td>6cjTfylmzQS83eVV763tl3</td>\n",
       "      <td>spotify:track:6cjTfylmzQS83eVV763tl3</td>\n",
       "      <td>https://api.spotify.com/v1/tracks/6cjTfylmzQS8...</td>\n",
       "      <td>https://api.spotify.com/v1/audio-analysis/6cjT...</td>\n",
       "      <td>188903</td>\n",
       "      <td>4</td>\n",
       "    </tr>\n",
       "    <tr>\n",
       "      <th>48</th>\n",
       "      <td>0.398</td>\n",
       "      <td>0.799</td>\n",
       "      <td>1</td>\n",
       "      <td>-4.424</td>\n",
       "      <td>1</td>\n",
       "      <td>0.0484</td>\n",
       "      <td>0.03100</td>\n",
       "      <td>0.000007</td>\n",
       "      <td>0.1900</td>\n",
       "      <td>0.2880</td>\n",
       "      <td>154.046</td>\n",
       "      <td>audio_features</td>\n",
       "      <td>0OKHUom3gY9xWago6Y1BKk</td>\n",
       "      <td>spotify:track:0OKHUom3gY9xWago6Y1BKk</td>\n",
       "      <td>https://api.spotify.com/v1/tracks/0OKHUom3gY9x...</td>\n",
       "      <td>https://api.spotify.com/v1/audio-analysis/0OKH...</td>\n",
       "      <td>245392</td>\n",
       "      <td>4</td>\n",
       "    </tr>\n",
       "    <tr>\n",
       "      <th>49</th>\n",
       "      <td>0.827</td>\n",
       "      <td>0.564</td>\n",
       "      <td>4</td>\n",
       "      <td>-7.967</td>\n",
       "      <td>0</td>\n",
       "      <td>0.0838</td>\n",
       "      <td>0.09500</td>\n",
       "      <td>0.000000</td>\n",
       "      <td>0.3570</td>\n",
       "      <td>0.7810</td>\n",
       "      <td>125.081</td>\n",
       "      <td>audio_features</td>\n",
       "      <td>0tgAhrvNPhSyMZR0wWbv6Z</td>\n",
       "      <td>spotify:track:0tgAhrvNPhSyMZR0wWbv6Z</td>\n",
       "      <td>https://api.spotify.com/v1/tracks/0tgAhrvNPhSy...</td>\n",
       "      <td>https://api.spotify.com/v1/audio-analysis/0tgA...</td>\n",
       "      <td>184368</td>\n",
       "      <td>4</td>\n",
       "    </tr>\n",
       "  </tbody>\n",
       "</table>\n",
       "</div>"
      ],
      "text/plain": [
       "    danceability  energy  key  loudness  mode  speechiness  acousticness  \\\n",
       "0          0.285   0.782    7    -6.243     0       0.1260       0.01890   \n",
       "1          0.510   0.709    8    -5.408     1       0.1670       0.14900   \n",
       "2          0.602   0.500    8    -9.377     1       0.2980       0.47700   \n",
       "3          0.565   0.558    5    -7.634     1       0.0453       0.37900   \n",
       "4          0.556   0.908    5    -4.759     0       0.2450       0.30400   \n",
       "5          0.809   0.631    4    -7.099     1       0.0423       0.06590   \n",
       "6          0.770   0.573    6    -5.872     0       0.1690       0.59600   \n",
       "7          0.585   0.815    0    -4.165     0       0.0565       0.11500   \n",
       "8          0.836   0.538   10    -4.992     0       0.0332       0.38100   \n",
       "9          0.729   0.680    7    -5.502     1       0.0762       0.21900   \n",
       "10         0.434   0.586    9    -7.612     1       0.1380       0.75300   \n",
       "11         0.480   0.698    6    -6.356     1       0.0623       0.01650   \n",
       "12         0.309   0.724    7    -4.815     1       0.0470       0.01730   \n",
       "13         0.681   0.821   11    -5.120     0       0.1310       0.53200   \n",
       "14         0.511   0.541   10   -10.100     0       0.4210       0.07690   \n",
       "15         0.500   0.738    1    -4.477     0       0.4170       0.41000   \n",
       "16         0.956   0.515   11    -9.962     0       0.3370       0.30500   \n",
       "17         0.696   0.733    1    -6.181     1       0.2560       0.11500   \n",
       "18         0.825   0.718    1    -2.896     1       0.0518       0.07320   \n",
       "19         0.509   0.897    8    -3.418     0       0.0454       0.08610   \n",
       "20         0.393   0.895    6    -4.935     0       0.0493       0.00259   \n",
       "21         0.715   0.611    4    -5.094     0       0.0519       0.17600   \n",
       "22         0.530   0.883    4    -3.262     0       0.0367       0.00463   \n",
       "23         0.835   0.679    7    -5.329     0       0.0364       0.58300   \n",
       "24         0.621   0.782    2    -5.548     1       0.0440       0.01250   \n",
       "25         0.398   0.549    6   -10.560     1       0.2300       0.07570   \n",
       "26         0.912   0.589    8    -7.476     1       0.2000       0.03320   \n",
       "27         0.793   0.395    1    -5.578     1       0.3850       0.27700   \n",
       "28         0.676   0.659   11    -5.123     0       0.0476       0.19400   \n",
       "29         0.546   0.845    1    -5.884     0       0.0630       0.00341   \n",
       "30         0.644   0.833    7    -2.861     1       0.0398       0.06890   \n",
       "31         0.686   0.694    7    -3.693     0       0.2570       0.25300   \n",
       "32         0.702   0.647    2    -7.271     1       0.1440       0.12000   \n",
       "33         0.657   0.670    4    -5.578     0       0.0670       0.05560   \n",
       "34         0.533   0.938    4    -2.762     0       0.0535       0.02740   \n",
       "35         0.344   0.663    8    -4.448     0       0.0595       0.12000   \n",
       "36         0.724   0.438    9    -8.550     0       0.1370       0.81500   \n",
       "37         0.770   0.349    0   -12.085     0       0.3310       0.17300   \n",
       "38         0.715   0.620    1    -6.005     0       0.0484       0.41700   \n",
       "39         0.553   0.687    8    -6.400     1       0.0340       0.03360   \n",
       "40         0.851   0.658    6    -6.400     0       0.0600       0.06720   \n",
       "41         0.532   0.938    4    -2.879     0       0.1130       0.01200   \n",
       "42         0.652   0.855    7    -6.411     1       0.0775       0.00658   \n",
       "43         0.781   0.889    1    -5.298     0       0.0573       0.00664   \n",
       "44         0.300   0.897    0    -1.600     0       0.0481       0.02510   \n",
       "45         0.582   0.444    6   -11.399     0       0.0825       0.06760   \n",
       "46         0.778   0.924    2    -1.108     1       0.0943       0.16100   \n",
       "47         0.535   0.869    2    -3.097     1       0.0406       0.01490   \n",
       "48         0.398   0.799    1    -4.424     1       0.0484       0.03100   \n",
       "49         0.827   0.564    4    -7.967     0       0.0838       0.09500   \n",
       "\n",
       "    instrumentalness  liveness  valence    tempo            type  \\\n",
       "0           0.023300    0.0994   0.0793  149.951  audio_features   \n",
       "1           0.000000    0.4500   0.7640  118.353  audio_features   \n",
       "2           0.000057    0.2950   0.3950  132.798  audio_features   \n",
       "3           0.000000    0.0896   0.0778   82.998  audio_features   \n",
       "4           0.000000    0.1290   0.7150  158.172  audio_features   \n",
       "5           0.001420    0.1340   0.7530  107.050  audio_features   \n",
       "6           0.000000    0.1020   0.2140   98.036  audio_features   \n",
       "7           0.000000    0.1240   0.5640  132.090  audio_features   \n",
       "8           0.000000    0.1030   0.7800  109.983  audio_features   \n",
       "9           0.000000    0.2460   0.5040  130.019  audio_features   \n",
       "10          0.014400    0.1460   0.2390   78.259  audio_features   \n",
       "11          0.000075    0.0647   0.5360  120.944  audio_features   \n",
       "12          0.000000    0.4170   0.2860  150.246  audio_features   \n",
       "13          0.001110    0.0921   0.8130   94.074  audio_features   \n",
       "14          0.000000    0.1000   0.2480  101.228  audio_features   \n",
       "15          0.000004    0.2230   0.4330  185.577  audio_features   \n",
       "16          0.000000    0.1560   0.6900  119.937  audio_features   \n",
       "17          0.000000    0.1110   0.2920   98.355  audio_features   \n",
       "18          0.000157    0.1420   0.9190  139.983  audio_features   \n",
       "19          0.000634    0.0625   0.2830  149.864  audio_features   \n",
       "20          0.000407    0.1510   0.1830  160.057  audio_features   \n",
       "21          0.000000    0.0949   0.7760   79.971  audio_features   \n",
       "22          0.000000    0.1000   0.0696   74.982  audio_features   \n",
       "23          0.000002    0.2180   0.8500  124.980  audio_features   \n",
       "24          0.033000    0.2300   0.5500  128.033  audio_features   \n",
       "25          0.000000    0.1850   0.5600  172.414  audio_features   \n",
       "26          0.016200    0.0795   0.4860  135.921  audio_features   \n",
       "27          0.000014    0.1090   0.1290   77.027  audio_features   \n",
       "28          0.000000    0.2830   0.5950  134.985  audio_features   \n",
       "29          0.000000    0.4500   0.5810  162.101  audio_features   \n",
       "30          0.000013    0.1520   0.1610  129.933  audio_features   \n",
       "31          0.000904    0.1090   0.5870  189.998  audio_features   \n",
       "32          0.000053    0.4630   0.5790   86.542  audio_features   \n",
       "33          0.000037    0.0639   0.0586  123.024  audio_features   \n",
       "34          0.004720    0.1910   0.1180  149.998  audio_features   \n",
       "35          0.000000    0.0957   0.2330  140.129  audio_features   \n",
       "36          0.000000    0.1690   0.7720   87.824  audio_features   \n",
       "37          0.000000    0.1160   0.7540   80.000  audio_features   \n",
       "38          0.000000    0.0822   0.1720   97.950  audio_features   \n",
       "39          0.000000    0.1250   0.2780  156.000  audio_features   \n",
       "40          0.001290    0.1220   0.6650  122.960  audio_features   \n",
       "41          0.000058    0.1260   0.2180   75.066  audio_features   \n",
       "42          0.409000    0.3410   0.0834  127.964  audio_features   \n",
       "43          0.005710    0.0980   0.8590  127.010  audio_features   \n",
       "44          0.000000    0.3280   0.2370  150.062  audio_features   \n",
       "45          0.000000    0.1140   0.2960   88.439  audio_features   \n",
       "46          0.027500    0.0819   0.7360  144.994  audio_features   \n",
       "47          0.000000    0.4390   0.5290  155.020  audio_features   \n",
       "48          0.000007    0.1900   0.2880  154.046  audio_features   \n",
       "49          0.000000    0.3570   0.7810  125.081  audio_features   \n",
       "\n",
       "                        id                                   uri  \\\n",
       "0   501czsZhsXGZKJXB6Qxq1t  spotify:track:501czsZhsXGZKJXB6Qxq1t   \n",
       "1   7H08E8B32OZ1vJE7AtCwaG  spotify:track:7H08E8B32OZ1vJE7AtCwaG   \n",
       "2   5PvVkf1Yuq3XyMqqjPiKPd  spotify:track:5PvVkf1Yuq3XyMqqjPiKPd   \n",
       "3   6T7tWJsjBpLb95rNqSLcih  spotify:track:6T7tWJsjBpLb95rNqSLcih   \n",
       "4   47A2jHhdcuOozYPYhttXPs  spotify:track:47A2jHhdcuOozYPYhttXPs   \n",
       "5   42QLP7Z6KvkOV7vYr8RaLD  spotify:track:42QLP7Z6KvkOV7vYr8RaLD   \n",
       "6   5k3xP19vac82Kweo4mOvlw  spotify:track:5k3xP19vac82Kweo4mOvlw   \n",
       "7   59hBR0BCtJsfIbV9VzCVAp  spotify:track:59hBR0BCtJsfIbV9VzCVAp   \n",
       "8   0mYYDj882nEd5qzldZJ39o  spotify:track:0mYYDj882nEd5qzldZJ39o   \n",
       "9   1T6CF1qnG0hK0absyeVL5H  spotify:track:1T6CF1qnG0hK0absyeVL5H   \n",
       "10  6koKhrBBcExADvWuOgceNZ  spotify:track:6koKhrBBcExADvWuOgceNZ   \n",
       "11  4w4vhxcqJ6TVdUkL5WZC2J  spotify:track:4w4vhxcqJ6TVdUkL5WZC2J   \n",
       "12  7b7zBr2crDpbwSyA9pzlLK  spotify:track:7b7zBr2crDpbwSyA9pzlLK   \n",
       "13  5wxYxygyHpbgv0EXZuqb9V  spotify:track:5wxYxygyHpbgv0EXZuqb9V   \n",
       "14  7hrcHfHWaLhooHzGltlCYB  spotify:track:7hrcHfHWaLhooHzGltlCYB   \n",
       "15  1OdxQvBNOgCDE3SyqoEDha  spotify:track:1OdxQvBNOgCDE3SyqoEDha   \n",
       "16  7oLKoGzQVwjZ91AzCn560T  spotify:track:7oLKoGzQVwjZ91AzCn560T   \n",
       "17  4ZYAU4A2YBtlNdqOUtc7T2  spotify:track:4ZYAU4A2YBtlNdqOUtc7T2   \n",
       "18  2eN0rxTtgxKkmVCNgizayr  spotify:track:2eN0rxTtgxKkmVCNgizayr   \n",
       "19  1JI70l1lE5IF2tgJm5TnMD  spotify:track:1JI70l1lE5IF2tgJm5TnMD   \n",
       "20  0YHL0wDP6b7ov6h0yEhorO  spotify:track:0YHL0wDP6b7ov6h0yEhorO   \n",
       "21  655JkvIwu2rDCaD1hPf04g  spotify:track:655JkvIwu2rDCaD1hPf04g   \n",
       "22  7qfZTBNZQqvg0hMamrAQB1  spotify:track:7qfZTBNZQqvg0hMamrAQB1   \n",
       "23  5ww2BF9slyYgNOk37BlC4u  spotify:track:5ww2BF9slyYgNOk37BlC4u   \n",
       "24  2tTmW7RDtMQtBk7m2rYeSw  spotify:track:2tTmW7RDtMQtBk7m2rYeSw   \n",
       "25  14OrHwWtkFa9yJLgR0odzZ  spotify:track:14OrHwWtkFa9yJLgR0odzZ   \n",
       "26  4wNKxMbE3n1gRm4F6OaCP1  spotify:track:4wNKxMbE3n1gRm4F6OaCP1   \n",
       "27  4F6yN5FsFW10Ucx7cLCzBh  spotify:track:4F6yN5FsFW10Ucx7cLCzBh   \n",
       "28  6btIpLff2jE56h2N40smAj  spotify:track:6btIpLff2jE56h2N40smAj   \n",
       "29  2PLOCIYlFr8XxNsz0Lgs4l  spotify:track:2PLOCIYlFr8XxNsz0Lgs4l   \n",
       "30  3ztpVHzt35X2zwBbEh4gMg  spotify:track:3ztpVHzt35X2zwBbEh4gMg   \n",
       "31  3Yt1ovsh3v3VEzRuhI1TL5  spotify:track:3Yt1ovsh3v3VEzRuhI1TL5   \n",
       "32  4B15esl9pBFYa82fLVPD2H  spotify:track:4B15esl9pBFYa82fLVPD2H   \n",
       "33  5grnUbUVG0URemXdvhnHqm  spotify:track:5grnUbUVG0URemXdvhnHqm   \n",
       "34  1HJW2w61lh3XcsnfnOR9p4  spotify:track:1HJW2w61lh3XcsnfnOR9p4   \n",
       "35  4nRbhflKt9BAc6YulQ22ga  spotify:track:4nRbhflKt9BAc6YulQ22ga   \n",
       "36  1ErzdvxEDAu3gL7Iu6FpJs  spotify:track:1ErzdvxEDAu3gL7Iu6FpJs   \n",
       "37  3KCdyM6vGYY4rU15dezvrJ  spotify:track:3KCdyM6vGYY4rU15dezvrJ   \n",
       "38  2dHHgzDwk4BJdRwy9uXhTO  spotify:track:2dHHgzDwk4BJdRwy9uXhTO   \n",
       "39  2PhlrsYp7TSkK96ngbmL38  spotify:track:2PhlrsYp7TSkK96ngbmL38   \n",
       "40  7GloK7WTwb5wK8rIjymhRC  spotify:track:7GloK7WTwb5wK8rIjymhRC   \n",
       "41  16fy74yXmGeSMk2yqbPlLV  spotify:track:16fy74yXmGeSMk2yqbPlLV   \n",
       "42  3KruoUtSkm84Az0bJunnxl  spotify:track:3KruoUtSkm84Az0bJunnxl   \n",
       "43  6quGF3Kvzd5WYEEuCmvCe1  spotify:track:6quGF3Kvzd5WYEEuCmvCe1   \n",
       "44  6If6tXpbwYs5zBop1AqfwG  spotify:track:6If6tXpbwYs5zBop1AqfwG   \n",
       "45  4jfzqJjt9qlYsTeLZG08sR  spotify:track:4jfzqJjt9qlYsTeLZG08sR   \n",
       "46  4DKxWLVkjGZoZtCPtDxIcH  spotify:track:4DKxWLVkjGZoZtCPtDxIcH   \n",
       "47  6cjTfylmzQS83eVV763tl3  spotify:track:6cjTfylmzQS83eVV763tl3   \n",
       "48  0OKHUom3gY9xWago6Y1BKk  spotify:track:0OKHUom3gY9xWago6Y1BKk   \n",
       "49  0tgAhrvNPhSyMZR0wWbv6Z  spotify:track:0tgAhrvNPhSyMZR0wWbv6Z   \n",
       "\n",
       "                                           track_href  \\\n",
       "0   https://api.spotify.com/v1/tracks/501czsZhsXGZ...   \n",
       "1   https://api.spotify.com/v1/tracks/7H08E8B32OZ1...   \n",
       "2   https://api.spotify.com/v1/tracks/5PvVkf1Yuq3X...   \n",
       "3   https://api.spotify.com/v1/tracks/6T7tWJsjBpLb...   \n",
       "4   https://api.spotify.com/v1/tracks/47A2jHhdcuOo...   \n",
       "5   https://api.spotify.com/v1/tracks/42QLP7Z6KvkO...   \n",
       "6   https://api.spotify.com/v1/tracks/5k3xP19vac82...   \n",
       "7   https://api.spotify.com/v1/tracks/59hBR0BCtJsf...   \n",
       "8   https://api.spotify.com/v1/tracks/0mYYDj882nEd...   \n",
       "9   https://api.spotify.com/v1/tracks/1T6CF1qnG0hK...   \n",
       "10  https://api.spotify.com/v1/tracks/6koKhrBBcExA...   \n",
       "11  https://api.spotify.com/v1/tracks/4w4vhxcqJ6TV...   \n",
       "12  https://api.spotify.com/v1/tracks/7b7zBr2crDpb...   \n",
       "13  https://api.spotify.com/v1/tracks/5wxYxygyHpbg...   \n",
       "14  https://api.spotify.com/v1/tracks/7hrcHfHWaLho...   \n",
       "15  https://api.spotify.com/v1/tracks/1OdxQvBNOgCD...   \n",
       "16  https://api.spotify.com/v1/tracks/7oLKoGzQVwjZ...   \n",
       "17  https://api.spotify.com/v1/tracks/4ZYAU4A2YBtl...   \n",
       "18  https://api.spotify.com/v1/tracks/2eN0rxTtgxKk...   \n",
       "19  https://api.spotify.com/v1/tracks/1JI70l1lE5IF...   \n",
       "20  https://api.spotify.com/v1/tracks/0YHL0wDP6b7o...   \n",
       "21  https://api.spotify.com/v1/tracks/655JkvIwu2rD...   \n",
       "22  https://api.spotify.com/v1/tracks/7qfZTBNZQqvg...   \n",
       "23  https://api.spotify.com/v1/tracks/5ww2BF9slyYg...   \n",
       "24  https://api.spotify.com/v1/tracks/2tTmW7RDtMQt...   \n",
       "25  https://api.spotify.com/v1/tracks/14OrHwWtkFa9...   \n",
       "26  https://api.spotify.com/v1/tracks/4wNKxMbE3n1g...   \n",
       "27  https://api.spotify.com/v1/tracks/4F6yN5FsFW10...   \n",
       "28  https://api.spotify.com/v1/tracks/6btIpLff2jE5...   \n",
       "29  https://api.spotify.com/v1/tracks/2PLOCIYlFr8X...   \n",
       "30  https://api.spotify.com/v1/tracks/3ztpVHzt35X2...   \n",
       "31  https://api.spotify.com/v1/tracks/3Yt1ovsh3v3V...   \n",
       "32  https://api.spotify.com/v1/tracks/4B15esl9pBFY...   \n",
       "33  https://api.spotify.com/v1/tracks/5grnUbUVG0UR...   \n",
       "34  https://api.spotify.com/v1/tracks/1HJW2w61lh3X...   \n",
       "35  https://api.spotify.com/v1/tracks/4nRbhflKt9BA...   \n",
       "36  https://api.spotify.com/v1/tracks/1ErzdvxEDAu3...   \n",
       "37  https://api.spotify.com/v1/tracks/3KCdyM6vGYY4...   \n",
       "38  https://api.spotify.com/v1/tracks/2dHHgzDwk4BJ...   \n",
       "39  https://api.spotify.com/v1/tracks/2PhlrsYp7TSk...   \n",
       "40  https://api.spotify.com/v1/tracks/7GloK7WTwb5w...   \n",
       "41  https://api.spotify.com/v1/tracks/16fy74yXmGeS...   \n",
       "42  https://api.spotify.com/v1/tracks/3KruoUtSkm84...   \n",
       "43  https://api.spotify.com/v1/tracks/6quGF3Kvzd5W...   \n",
       "44  https://api.spotify.com/v1/tracks/6If6tXpbwYs5...   \n",
       "45  https://api.spotify.com/v1/tracks/4jfzqJjt9qlY...   \n",
       "46  https://api.spotify.com/v1/tracks/4DKxWLVkjGZo...   \n",
       "47  https://api.spotify.com/v1/tracks/6cjTfylmzQS8...   \n",
       "48  https://api.spotify.com/v1/tracks/0OKHUom3gY9x...   \n",
       "49  https://api.spotify.com/v1/tracks/0tgAhrvNPhSy...   \n",
       "\n",
       "                                         analysis_url  duration_ms  \\\n",
       "0   https://api.spotify.com/v1/audio-analysis/501c...       202400   \n",
       "1   https://api.spotify.com/v1/audio-analysis/7H08...       160427   \n",
       "2   https://api.spotify.com/v1/audio-analysis/5PvV...       223630   \n",
       "3   https://api.spotify.com/v1/audio-analysis/6T7t...       208193   \n",
       "4   https://api.spotify.com/v1/audio-analysis/47A2...       209360   \n",
       "5   https://api.spotify.com/v1/audio-analysis/42QL...       164282   \n",
       "6   https://api.spotify.com/v1/audio-analysis/5k3x...       170097   \n",
       "7   https://api.spotify.com/v1/audio-analysis/59hB...       200930   \n",
       "8   https://api.spotify.com/v1/audio-analysis/0mYY...       224507   \n",
       "9   https://api.spotify.com/v1/audio-analysis/1T6C...       237345   \n",
       "10  https://api.spotify.com/v1/audio-analysis/6koK...       239613   \n",
       "11  https://api.spotify.com/v1/audio-analysis/4w4v...       149078   \n",
       "12  https://api.spotify.com/v1/audio-analysis/7b7z...       252200   \n",
       "13  https://api.spotify.com/v1/audio-analysis/5wxY...       214701   \n",
       "14  https://api.spotify.com/v1/audio-analysis/7hrc...       235711   \n",
       "15  https://api.spotify.com/v1/audio-analysis/1Odx...       168627   \n",
       "16  https://api.spotify.com/v1/audio-analysis/7oLK...       122070   \n",
       "17  https://api.spotify.com/v1/audio-analysis/4ZYA...       214445   \n",
       "18  https://api.spotify.com/v1/audio-analysis/2eN0...       185001   \n",
       "19  https://api.spotify.com/v1/audio-analysis/1JI7...       162440   \n",
       "20  https://api.spotify.com/v1/audio-analysis/0YHL...       189000   \n",
       "21  https://api.spotify.com/v1/audio-analysis/655J...       195333   \n",
       "22  https://api.spotify.com/v1/audio-analysis/7qfZ...       211192   \n",
       "23  https://api.spotify.com/v1/audio-analysis/5ww2...       162638   \n",
       "24  https://api.spotify.com/v1/audio-analysis/2tTm...       198938   \n",
       "25  https://api.spotify.com/v1/audio-analysis/14Or...        88700   \n",
       "26  https://api.spotify.com/v1/audio-analysis/4wNK...       123549   \n",
       "27  https://api.spotify.com/v1/audio-analysis/4F6y...       213287   \n",
       "28  https://api.spotify.com/v1/audio-analysis/6btI...       193994   \n",
       "29  https://api.spotify.com/v1/audio-analysis/2PLO...       254764   \n",
       "30  https://api.spotify.com/v1/audio-analysis/3ztp...       161538   \n",
       "31  https://api.spotify.com/v1/audio-analysis/3Yt1...       262737   \n",
       "32  https://api.spotify.com/v1/audio-analysis/4B15...       169717   \n",
       "33  https://api.spotify.com/v1/audio-analysis/5grn...       202524   \n",
       "34  https://api.spotify.com/v1/audio-analysis/1HJW...       172800   \n",
       "35  https://api.spotify.com/v1/audio-analysis/4nRb...       300222   \n",
       "36  https://api.spotify.com/v1/audio-analysis/1Erz...        98864   \n",
       "37  https://api.spotify.com/v1/audio-analysis/3KCd...       157056   \n",
       "38  https://api.spotify.com/v1/audio-analysis/2dHH...       221520   \n",
       "39  https://api.spotify.com/v1/audio-analysis/2Phl...       161538   \n",
       "40  https://api.spotify.com/v1/audio-analysis/7Glo...       229325   \n",
       "41  https://api.spotify.com/v1/audio-analysis/16fy...       161600   \n",
       "42  https://api.spotify.com/v1/audio-analysis/3Kru...       146250   \n",
       "43  https://api.spotify.com/v1/audio-analysis/6quG...       178305   \n",
       "44  https://api.spotify.com/v1/audio-analysis/6If6...       198010   \n",
       "45  https://api.spotify.com/v1/audio-analysis/4jfz...       142432   \n",
       "46  https://api.spotify.com/v1/audio-analysis/4DKx...       231724   \n",
       "47  https://api.spotify.com/v1/audio-analysis/6cjT...       188903   \n",
       "48  https://api.spotify.com/v1/audio-analysis/0OKH...       245392   \n",
       "49  https://api.spotify.com/v1/audio-analysis/0tgA...       184368   \n",
       "\n",
       "    time_signature  \n",
       "0                3  \n",
       "1                5  \n",
       "2                4  \n",
       "3                4  \n",
       "4                4  \n",
       "5                4  \n",
       "6                4  \n",
       "7                4  \n",
       "8                4  \n",
       "9                4  \n",
       "10               4  \n",
       "11               4  \n",
       "12               4  \n",
       "13               4  \n",
       "14               3  \n",
       "15               4  \n",
       "16               4  \n",
       "17               4  \n",
       "18               4  \n",
       "19               4  \n",
       "20               4  \n",
       "21               4  \n",
       "22               4  \n",
       "23               4  \n",
       "24               4  \n",
       "25               4  \n",
       "26               4  \n",
       "27               4  \n",
       "28               4  \n",
       "29               4  \n",
       "30               4  \n",
       "31               4  \n",
       "32               4  \n",
       "33               4  \n",
       "34               4  \n",
       "35               4  \n",
       "36               4  \n",
       "37               4  \n",
       "38               4  \n",
       "39               4  \n",
       "40               4  \n",
       "41               4  \n",
       "42               4  \n",
       "43               4  \n",
       "44               3  \n",
       "45               4  \n",
       "46               4  \n",
       "47               4  \n",
       "48               4  \n",
       "49               4  "
      ]
     },
     "metadata": {},
     "output_type": "display_data"
    }
   ],
   "source": [
    "auth_manager = SpotifyOAuth(client_id=client_id, client_secret=client_secret, redirect_uri=redirect, scope='user-library-read')\n",
    "\n",
    "sp = spotipy.Spotify(auth_manager=auth_manager)\n",
    "\n",
    "# Use the Spotipy client to get the user's saved tracks\n",
    "results = sp.current_user_saved_tracks(limit=50) # limit = # of tracks to return\n",
    "\n",
    "artist = []\n",
    "song_name = []\n",
    "\n",
    "# Print the name of each saved track\n",
    "for item in results['items']:\n",
    "    track = item['track']\n",
    "\n",
    "    track_name = track['name']\n",
    "    song_name.append(track_name)\n",
    "\n",
    "    artist_name = track['artists'][0]['name']\n",
    "    artist.append(artist_name)\n",
    "\n",
    "    album_name = track['album']['name']\n",
    "    preview = track['preview_url']\n",
    "\n",
    "    display(f'{track_name} : {artist_name} : {album_name} -> {preview}')\n",
    "\n",
    "df = pd.DataFrame(song_name, artist)\n",
    "df.columns=['Track Name']\n",
    "\n",
    "# New list to store audio features of the track\n",
    "audio_features_list = []\n",
    "\n",
    "for item in results['items']:\n",
    "    track_id = item['track']['id']\n",
    "    audio_features = sp.audio_features(track_id)\n",
    "    audio_features_list.append(audio_features[0])\n",
    "\n",
    "    df1 = pd.DataFrame(audio_features_list) # Dataframe to display audio features of the song\n",
    "    \n",
    "\n",
    "display(df)\n",
    "display(df1)"
   ]
  },
  {
   "cell_type": "code",
   "execution_count": 21,
   "metadata": {},
   "outputs": [
    {
     "data": {
      "application/vnd.plotly.v1+json": {
       "config": {
        "plotlyServerURL": "https://plot.ly"
       },
       "data": [
        {
         "alignmentgroup": "True",
         "hovertemplate": "Track Name=Angst<br>x=%{x}<br>count=%{y}<extra></extra>",
         "legendgroup": "Angst",
         "marker": {
          "color": "teal",
          "pattern": {
           "shape": ""
          }
         },
         "name": "Angst",
         "offsetgroup": "Angst",
         "orientation": "v",
         "showlegend": true,
         "textposition": "auto",
         "type": "bar",
         "x": [
          "INZO"
         ],
         "xaxis": "x",
         "y": [
          1
         ],
         "yaxis": "y"
        },
        {
         "alignmentgroup": "True",
         "hovertemplate": "Track Name=4 Me (feat. Kali Uchis)<br>x=%{x}<br>count=%{y}<extra></extra>",
         "legendgroup": "4 Me (feat. Kali Uchis)",
         "marker": {
          "color": "teal",
          "pattern": {
           "shape": "/"
          }
         },
         "name": "4 Me (feat. Kali Uchis)",
         "offsetgroup": "4 Me (feat. Kali Uchis)",
         "orientation": "v",
         "showlegend": true,
         "textposition": "auto",
         "type": "bar",
         "x": [
          "Don Toliver"
         ],
         "xaxis": "x",
         "y": [
          1
         ],
         "yaxis": "y"
        },
        {
         "alignmentgroup": "True",
         "hovertemplate": "Track Name=Been Away<br>x=%{x}<br>count=%{y}<extra></extra>",
         "legendgroup": "Been Away",
         "marker": {
          "color": "teal",
          "pattern": {
           "shape": "\\"
          }
         },
         "name": "Been Away",
         "offsetgroup": "Been Away",
         "orientation": "v",
         "showlegend": true,
         "textposition": "auto",
         "type": "bar",
         "x": [
          "Brent Faiyaz"
         ],
         "xaxis": "x",
         "y": [
          1
         ],
         "yaxis": "y"
        },
        {
         "alignmentgroup": "True",
         "hovertemplate": "Track Name=Pieces<br>x=%{x}<br>count=%{y}<extra></extra>",
         "legendgroup": "Pieces",
         "marker": {
          "color": "teal",
          "pattern": {
           "shape": "x"
          }
         },
         "name": "Pieces",
         "offsetgroup": "Pieces",
         "orientation": "v",
         "showlegend": true,
         "textposition": "auto",
         "type": "bar",
         "x": [
          "Rod Wave"
         ],
         "xaxis": "x",
         "y": [
          1
         ],
         "yaxis": "y"
        },
        {
         "alignmentgroup": "True",
         "hovertemplate": "Track Name=Born Sinner (feat. James Fauntleroy)<br>x=%{x}<br>count=%{y}<extra></extra>",
         "legendgroup": "Born Sinner (feat. James Fauntleroy)",
         "marker": {
          "color": "teal",
          "pattern": {
           "shape": "+"
          }
         },
         "name": "Born Sinner (feat. James Fauntleroy)",
         "offsetgroup": "Born Sinner (feat. James Fauntleroy)",
         "orientation": "v",
         "showlegend": true,
         "textposition": "auto",
         "type": "bar",
         "x": [
          "J. Cole"
         ],
         "xaxis": "x",
         "y": [
          1
         ],
         "yaxis": "y"
        },
        {
         "alignmentgroup": "True",
         "hovertemplate": "Track Name=Softest Touch<br>x=%{x}<br>count=%{y}<extra></extra>",
         "legendgroup": "Softest Touch",
         "marker": {
          "color": "teal",
          "pattern": {
           "shape": "."
          }
         },
         "name": "Softest Touch",
         "offsetgroup": "Softest Touch",
         "orientation": "v",
         "showlegend": true,
         "textposition": "auto",
         "type": "bar",
         "x": [
          "Khalid"
         ],
         "xaxis": "x",
         "y": [
          1
         ],
         "yaxis": "y"
        },
        {
         "alignmentgroup": "True",
         "hovertemplate": "Track Name=Passionate (feat. Roddy Ricch)<br>x=%{x}<br>count=%{y}<extra></extra>",
         "legendgroup": "Passionate (feat. Roddy Ricch)",
         "marker": {
          "color": "teal",
          "pattern": {
           "shape": ""
          }
         },
         "name": "Passionate (feat. Roddy Ricch)",
         "offsetgroup": "Passionate (feat. Roddy Ricch)",
         "orientation": "v",
         "showlegend": true,
         "textposition": "auto",
         "type": "bar",
         "x": [
          "Blxst"
         ],
         "xaxis": "x",
         "y": [
          1
         ],
         "yaxis": "y"
        },
        {
         "alignmentgroup": "True",
         "hovertemplate": "Track Name=Set Me Free Pt.2<br>x=%{x}<br>count=%{y}<extra></extra>",
         "legendgroup": "Set Me Free Pt.2",
         "marker": {
          "color": "teal",
          "pattern": {
           "shape": "/"
          }
         },
         "name": "Set Me Free Pt.2",
         "offsetgroup": "Set Me Free Pt.2",
         "orientation": "v",
         "showlegend": true,
         "textposition": "auto",
         "type": "bar",
         "x": [
          "Jimin"
         ],
         "xaxis": "x",
         "y": [
          1
         ],
         "yaxis": "y"
        },
        {
         "alignmentgroup": "True",
         "hovertemplate": "Track Name=Because Of You - Remix<br>x=%{x}<br>count=%{y}<extra></extra>",
         "legendgroup": "Because Of You - Remix",
         "marker": {
          "color": "teal",
          "pattern": {
           "shape": "\\"
          }
         },
         "name": "Because Of You - Remix",
         "offsetgroup": "Because Of You - Remix",
         "orientation": "v",
         "showlegend": true,
         "textposition": "auto",
         "type": "bar",
         "x": [
          "Ne-Yo"
         ],
         "xaxis": "x",
         "y": [
          1
         ],
         "yaxis": "y"
        },
        {
         "alignmentgroup": "True",
         "hovertemplate": "Track Name=Mbappé - Remix<br>x=%{x}<br>count=%{y}<extra></extra>",
         "legendgroup": "Mbappé - Remix",
         "marker": {
          "color": "teal",
          "pattern": {
           "shape": "x"
          }
         },
         "name": "Mbappé - Remix",
         "offsetgroup": "Mbappé - Remix",
         "orientation": "v",
         "showlegend": true,
         "textposition": "auto",
         "type": "bar",
         "x": [
          "Eladio Carrion"
         ],
         "xaxis": "x",
         "y": [
          1
         ],
         "yaxis": "y"
        },
        {
         "alignmentgroup": "True",
         "hovertemplate": "Track Name=Open Arms (feat. Travis Scott)<br>x=%{x}<br>count=%{y}<extra></extra>",
         "legendgroup": "Open Arms (feat. Travis Scott)",
         "marker": {
          "color": "teal",
          "pattern": {
           "shape": "+"
          }
         },
         "name": "Open Arms (feat. Travis Scott)",
         "offsetgroup": "Open Arms (feat. Travis Scott)",
         "orientation": "v",
         "showlegend": true,
         "textposition": "auto",
         "type": "bar",
         "x": [
          "SZA"
         ],
         "xaxis": "x",
         "y": [
          1
         ],
         "yaxis": "y"
        },
        {
         "alignmentgroup": "True",
         "hovertemplate": "Track Name=Believe<br>x=%{x}<br>count=%{y}<extra></extra>",
         "legendgroup": "Believe",
         "marker": {
          "color": "teal",
          "pattern": {
           "shape": "."
          }
         },
         "name": "Believe",
         "offsetgroup": "Believe",
         "orientation": "v",
         "showlegend": true,
         "textposition": "auto",
         "type": "bar",
         "x": [
          "Masove"
         ],
         "xaxis": "x",
         "y": [
          1
         ],
         "yaxis": "y"
        },
        {
         "alignmentgroup": "True",
         "hovertemplate": "Track Name=Sail Away (feat. Jay Mason)<br>x=%{x}<br>count=%{y}<extra></extra>",
         "legendgroup": "Sail Away (feat. Jay Mason)",
         "marker": {
          "color": "teal",
          "pattern": {
           "shape": ""
          }
         },
         "name": "Sail Away (feat. Jay Mason)",
         "offsetgroup": "Sail Away (feat. Jay Mason)",
         "orientation": "v",
         "showlegend": true,
         "textposition": "auto",
         "type": "bar",
         "x": [
          "Trivecta"
         ],
         "xaxis": "x",
         "y": [
          1
         ],
         "yaxis": "y"
        },
        {
         "alignmentgroup": "True",
         "hovertemplate": "Track Name=on the street (with J. Cole)<br>x=%{x}<br>count=%{y}<extra></extra>",
         "legendgroup": "on the street (with J. Cole)",
         "marker": {
          "color": "teal",
          "pattern": {
           "shape": "/"
          }
         },
         "name": "on the street (with J. Cole)",
         "offsetgroup": "on the street (with J. Cole)",
         "orientation": "v",
         "showlegend": true,
         "textposition": "auto",
         "type": "bar",
         "x": [
          "j-hope"
         ],
         "xaxis": "x",
         "y": [
          1
         ],
         "yaxis": "y"
        },
        {
         "alignmentgroup": "True",
         "hovertemplate": "Track Name=HO4ME<br>x=%{x}<br>count=%{y}<extra></extra>",
         "legendgroup": "HO4ME",
         "marker": {
          "color": "teal",
          "pattern": {
           "shape": "\\"
          }
         },
         "name": "HO4ME",
         "offsetgroup": "HO4ME",
         "orientation": "v",
         "showlegend": true,
         "textposition": "auto",
         "type": "bar",
         "x": [
          "DJ Drama"
         ],
         "xaxis": "x",
         "y": [
          1
         ],
         "yaxis": "y"
        },
        {
         "alignmentgroup": "True",
         "hovertemplate": "Track Name=Slow Motion (feat. Wizkid)<br>x=%{x}<br>count=%{y}<extra></extra>",
         "legendgroup": "Slow Motion (feat. Wizkid)",
         "marker": {
          "color": "teal",
          "pattern": {
           "shape": "x"
          }
         },
         "name": "Slow Motion (feat. Wizkid)",
         "offsetgroup": "Slow Motion (feat. Wizkid)",
         "orientation": "v",
         "showlegend": true,
         "textposition": "auto",
         "type": "bar",
         "x": [
          "Don Toliver"
         ],
         "xaxis": "x",
         "y": [
          1
         ],
         "yaxis": "y"
        },
        {
         "alignmentgroup": "True",
         "hovertemplate": "Track Name=PAINTING PICTURES<br>x=%{x}<br>count=%{y}<extra></extra>",
         "legendgroup": "PAINTING PICTURES",
         "marker": {
          "color": "teal",
          "pattern": {
           "shape": "+"
          }
         },
         "name": "PAINTING PICTURES",
         "offsetgroup": "PAINTING PICTURES",
         "orientation": "v",
         "showlegend": true,
         "textposition": "auto",
         "type": "bar",
         "x": [
          "Superstar Pride"
         ],
         "xaxis": "x",
         "y": [
          1
         ],
         "yaxis": "y"
        },
        {
         "alignmentgroup": "True",
         "hovertemplate": "Track Name=Red Ruby Da Sleeze<br>x=%{x}<br>count=%{y}<extra></extra>",
         "legendgroup": "Red Ruby Da Sleeze",
         "marker": {
          "color": "teal",
          "pattern": {
           "shape": "."
          }
         },
         "name": "Red Ruby Da Sleeze",
         "offsetgroup": "Red Ruby Da Sleeze",
         "orientation": "v",
         "showlegend": true,
         "textposition": "auto",
         "type": "bar",
         "x": [
          "Nicki Minaj"
         ],
         "xaxis": "x",
         "y": [
          1
         ],
         "yaxis": "y"
        },
        {
         "alignmentgroup": "True",
         "hovertemplate": "Track Name=Greatness<br>x=%{x}<br>count=%{y}<extra></extra>",
         "legendgroup": "Greatness",
         "marker": {
          "color": "teal",
          "pattern": {
           "shape": ""
          }
         },
         "name": "Greatness",
         "offsetgroup": "Greatness",
         "orientation": "v",
         "showlegend": true,
         "textposition": "auto",
         "type": "bar",
         "x": [
          "Quavo"
         ],
         "xaxis": "x",
         "y": [
          1
         ],
         "yaxis": "y"
        },
        {
         "alignmentgroup": "True",
         "hovertemplate": "Track Name=Don't Let Me Down (feat. Daya) - Hardwell & Sephyx Remix<br>x=%{x}<br>count=%{y}<extra></extra>",
         "legendgroup": "Don't Let Me Down (feat. Daya) - Hardwell & Sephyx Remix",
         "marker": {
          "color": "teal",
          "pattern": {
           "shape": "/"
          }
         },
         "name": "Don't Let Me Down (feat. Daya) - Hardwell & Sephyx Remix",
         "offsetgroup": "Don't Let Me Down (feat. Daya) - Hardwell & Sephyx Remix",
         "orientation": "v",
         "showlegend": true,
         "textposition": "auto",
         "type": "bar",
         "x": [
          "The Chainsmokers"
         ],
         "xaxis": "x",
         "y": [
          1
         ],
         "yaxis": "y"
        },
        {
         "alignmentgroup": "True",
         "hovertemplate": "Track Name=Rave Love<br>x=%{x}<br>count=%{y}<extra></extra>",
         "legendgroup": "Rave Love",
         "marker": {
          "color": "teal",
          "pattern": {
           "shape": "\\"
          }
         },
         "name": "Rave Love",
         "offsetgroup": "Rave Love",
         "orientation": "v",
         "showlegend": true,
         "textposition": "auto",
         "type": "bar",
         "x": [
          "W&W"
         ],
         "xaxis": "x",
         "y": [
          1
         ],
         "yaxis": "y"
        },
        {
         "alignmentgroup": "True",
         "hovertemplate": "Track Name=Pareja Del Año<br>x=%{x}<br>count=%{y}<extra></extra>",
         "legendgroup": "Pareja Del Año",
         "marker": {
          "color": "teal",
          "pattern": {
           "shape": "x"
          }
         },
         "name": "Pareja Del Año",
         "offsetgroup": "Pareja Del Año",
         "orientation": "v",
         "showlegend": true,
         "textposition": "auto",
         "type": "bar",
         "x": [
          "Sebastian Yatra"
         ],
         "xaxis": "x",
         "y": [
          1
         ],
         "yaxis": "y"
        },
        {
         "alignmentgroup": "True",
         "hovertemplate": "Track Name=Zombie - Bassjackers Remix<br>x=%{x}<br>count=%{y}<extra></extra>",
         "legendgroup": "Zombie - Bassjackers Remix",
         "marker": {
          "color": "teal",
          "pattern": {
           "shape": "+"
          }
         },
         "name": "Zombie - Bassjackers Remix",
         "offsetgroup": "Zombie - Bassjackers Remix",
         "orientation": "v",
         "showlegend": true,
         "textposition": "auto",
         "type": "bar",
         "x": [
          "Ran-D"
         ],
         "xaxis": "x",
         "y": [
          1
         ],
         "yaxis": "y"
        },
        {
         "alignmentgroup": "True",
         "hovertemplate": "Track Name=La Bachata<br>x=%{x}<br>count=%{y}<extra></extra>",
         "legendgroup": "La Bachata",
         "marker": {
          "color": "teal",
          "pattern": {
           "shape": "."
          }
         },
         "name": "La Bachata",
         "offsetgroup": "La Bachata",
         "orientation": "v",
         "showlegend": true,
         "textposition": "auto",
         "type": "bar",
         "x": [
          "Manuel Turizo"
         ],
         "xaxis": "x",
         "y": [
          1
         ],
         "yaxis": "y"
        },
        {
         "alignmentgroup": "True",
         "hovertemplate": "Track Name=Quevedo: Bzrp Music Sessions, Vol. 52<br>x=%{x}<br>count=%{y}<extra></extra>",
         "legendgroup": "Quevedo: Bzrp Music Sessions, Vol. 52",
         "marker": {
          "color": "teal",
          "pattern": {
           "shape": ""
          }
         },
         "name": "Quevedo: Bzrp Music Sessions, Vol. 52",
         "offsetgroup": "Quevedo: Bzrp Music Sessions, Vol. 52",
         "orientation": "v",
         "showlegend": true,
         "textposition": "auto",
         "type": "bar",
         "x": [
          "Bizarrap"
         ],
         "xaxis": "x",
         "y": [
          1
         ],
         "yaxis": "y"
        },
        {
         "alignmentgroup": "True",
         "hovertemplate": "Track Name=honey see you<br>x=%{x}<br>count=%{y}<extra></extra>",
         "legendgroup": "honey see you",
         "marker": {
          "color": "teal",
          "pattern": {
           "shape": "/"
          }
         },
         "name": "honey see you",
         "offsetgroup": "honey see you",
         "orientation": "v",
         "showlegend": true,
         "textposition": "auto",
         "type": "bar",
         "x": [
          "Xjloma"
         ],
         "xaxis": "x",
         "y": [
          1
         ],
         "yaxis": "y"
        },
        {
         "alignmentgroup": "True",
         "hovertemplate": "Track Name=Coupe<br>x=%{x}<br>count=%{y}<extra></extra>",
         "legendgroup": "Coupe",
         "marker": {
          "color": "teal",
          "pattern": {
           "shape": "\\"
          }
         },
         "name": "Coupe",
         "offsetgroup": "Coupe",
         "orientation": "v",
         "showlegend": true,
         "textposition": "auto",
         "type": "bar",
         "x": [
          "Pop Smoke"
         ],
         "xaxis": "x",
         "y": [
          1
         ],
         "yaxis": "y"
        },
        {
         "alignmentgroup": "True",
         "hovertemplate": "Track Name=Ready (feat. Gunna)<br>x=%{x}<br>count=%{y}<extra></extra>",
         "legendgroup": "Ready (feat. Gunna)",
         "marker": {
          "color": "teal",
          "pattern": {
           "shape": "x"
          }
         },
         "name": "Ready (feat. Gunna)",
         "offsetgroup": "Ready (feat. Gunna)",
         "orientation": "v",
         "showlegend": true,
         "textposition": "auto",
         "type": "bar",
         "x": [
          "Lil Baby"
         ],
         "xaxis": "x",
         "y": [
          1
         ],
         "yaxis": "y"
        },
        {
         "alignmentgroup": "True",
         "hovertemplate": "Track Name=Lady Of Namek<br>x=%{x}<br>count=%{y}<extra></extra>",
         "legendgroup": "Lady Of Namek",
         "marker": {
          "color": "teal",
          "pattern": {
           "shape": "+"
          }
         },
         "name": "Lady Of Namek",
         "offsetgroup": "Lady Of Namek",
         "orientation": "v",
         "showlegend": true,
         "textposition": "auto",
         "type": "bar",
         "x": [
          "Tory Lanez"
         ],
         "xaxis": "x",
         "y": [
          1
         ],
         "yaxis": "y"
        },
        {
         "alignmentgroup": "True",
         "hovertemplate": "Track Name=Ballad of a Badman<br>x=%{x}<br>count=%{y}<extra></extra>",
         "legendgroup": "Ballad of a Badman",
         "marker": {
          "color": "teal",
          "pattern": {
           "shape": "."
          }
         },
         "name": "Ballad of a Badman",
         "offsetgroup": "Ballad of a Badman",
         "orientation": "v",
         "showlegend": true,
         "textposition": "auto",
         "type": "bar",
         "x": [
          "Tory Lanez"
         ],
         "xaxis": "x",
         "y": [
          1
         ],
         "yaxis": "y"
        },
        {
         "alignmentgroup": "True",
         "hovertemplate": "Track Name=you broke me first<br>x=%{x}<br>count=%{y}<extra></extra>",
         "legendgroup": "you broke me first",
         "marker": {
          "color": "teal",
          "pattern": {
           "shape": ""
          }
         },
         "name": "you broke me first",
         "offsetgroup": "you broke me first",
         "orientation": "v",
         "showlegend": true,
         "textposition": "auto",
         "type": "bar",
         "x": [
          "Dash Berlin"
         ],
         "xaxis": "x",
         "y": [
          1
         ],
         "yaxis": "y"
        },
        {
         "alignmentgroup": "True",
         "hovertemplate": "Track Name=Joro<br>x=%{x}<br>count=%{y}<extra></extra>",
         "legendgroup": "Joro",
         "marker": {
          "color": "teal",
          "pattern": {
           "shape": "/"
          }
         },
         "name": "Joro",
         "offsetgroup": "Joro",
         "orientation": "v",
         "showlegend": true,
         "textposition": "auto",
         "type": "bar",
         "x": [
          "Wizkid"
         ],
         "xaxis": "x",
         "y": [
          1
         ],
         "yaxis": "y"
        },
        {
         "alignmentgroup": "True",
         "hovertemplate": "Track Name=Beautiful<br>x=%{x}<br>count=%{y}<extra></extra>",
         "legendgroup": "Beautiful",
         "marker": {
          "color": "teal",
          "pattern": {
           "shape": "\\"
          }
         },
         "name": "Beautiful",
         "offsetgroup": "Beautiful",
         "orientation": "v",
         "showlegend": true,
         "textposition": "auto",
         "type": "bar",
         "x": [
          "Hulvey"
         ],
         "xaxis": "x",
         "y": [
          1
         ],
         "yaxis": "y"
        },
        {
         "alignmentgroup": "True",
         "hovertemplate": "Track Name=Thrills<br>x=%{x}<br>count=%{y}<extra></extra>",
         "legendgroup": "Thrills",
         "marker": {
          "color": "teal",
          "pattern": {
           "shape": "x"
          }
         },
         "name": "Thrills",
         "offsetgroup": "Thrills",
         "orientation": "v",
         "showlegend": true,
         "textposition": "auto",
         "type": "bar",
         "x": [
          "Wax Motif"
         ],
         "xaxis": "x",
         "y": [
          1
         ],
         "yaxis": "y"
        },
        {
         "alignmentgroup": "True",
         "hovertemplate": "Track Name=Follow<br>x=%{x}<br>count=%{y}<extra></extra>",
         "legendgroup": "Follow",
         "marker": {
          "color": "teal",
          "pattern": {
           "shape": "+"
          }
         },
         "name": "Follow",
         "offsetgroup": "Follow",
         "orientation": "v",
         "showlegend": true,
         "textposition": "auto",
         "type": "bar",
         "x": [
          "12th Planet"
         ],
         "xaxis": "x",
         "y": [
          1
         ],
         "yaxis": "y"
        },
        {
         "alignmentgroup": "True",
         "hovertemplate": "Track Name=In My Mind<br>x=%{x}<br>count=%{y}<extra></extra>",
         "legendgroup": "In My Mind",
         "marker": {
          "color": "teal",
          "pattern": {
           "shape": "."
          }
         },
         "name": "In My Mind",
         "offsetgroup": "In My Mind",
         "orientation": "v",
         "showlegend": true,
         "textposition": "auto",
         "type": "bar",
         "x": [
          "ILLENIUM"
         ],
         "xaxis": "x",
         "y": [
          1
         ],
         "yaxis": "y"
        },
        {
         "alignmentgroup": "True",
         "hovertemplate": "Track Name=Beautiful But Broken<br>x=%{x}<br>count=%{y}<extra></extra>",
         "legendgroup": "Beautiful But Broken",
         "marker": {
          "color": "teal",
          "pattern": {
           "shape": ""
          }
         },
         "name": "Beautiful But Broken",
         "offsetgroup": "Beautiful But Broken",
         "orientation": "v",
         "showlegend": true,
         "textposition": "auto",
         "type": "bar",
         "x": [
          "3Breezy"
         ],
         "xaxis": "x",
         "y": [
          1
         ],
         "yaxis": "y"
        },
        {
         "alignmentgroup": "True",
         "hovertemplate": "Track Name=Don't Forget Me<br>x=%{x}<br>count=%{y}<extra></extra>",
         "legendgroup": "Don't Forget Me",
         "marker": {
          "color": "teal",
          "pattern": {
           "shape": "/"
          }
         },
         "name": "Don't Forget Me",
         "offsetgroup": "Don't Forget Me",
         "orientation": "v",
         "showlegend": true,
         "textposition": "auto",
         "type": "bar",
         "x": [
          "Yatta Bandz"
         ],
         "xaxis": "x",
         "y": [
          1
         ],
         "yaxis": "y"
        },
        {
         "alignmentgroup": "True",
         "hovertemplate": "Track Name=Creepin' (with The Weeknd & 21 Savage)<br>x=%{x}<br>count=%{y}<extra></extra>",
         "legendgroup": "Creepin' (with The Weeknd & 21 Savage)",
         "marker": {
          "color": "teal",
          "pattern": {
           "shape": "\\"
          }
         },
         "name": "Creepin' (with The Weeknd & 21 Savage)",
         "offsetgroup": "Creepin' (with The Weeknd & 21 Savage)",
         "orientation": "v",
         "showlegend": true,
         "textposition": "auto",
         "type": "bar",
         "x": [
          "Metro Boomin"
         ],
         "xaxis": "x",
         "y": [
          1
         ],
         "yaxis": "y"
        },
        {
         "alignmentgroup": "True",
         "hovertemplate": "Track Name=Into You<br>x=%{x}<br>count=%{y}<extra></extra>",
         "legendgroup": "Into You",
         "marker": {
          "color": "teal",
          "pattern": {
           "shape": "x"
          }
         },
         "name": "Into You",
         "offsetgroup": "Into You",
         "orientation": "v",
         "showlegend": true,
         "textposition": "auto",
         "type": "bar",
         "x": [
          "Matisse & Sadko"
         ],
         "xaxis": "x",
         "y": [
          1
         ],
         "yaxis": "y"
        },
        {
         "alignmentgroup": "True",
         "hovertemplate": "Track Name=Libre (feat. Tommy Royale)<br>x=%{x}<br>count=%{y}<extra></extra>",
         "legendgroup": "Libre (feat. Tommy Royale)",
         "marker": {
          "color": "teal",
          "pattern": {
           "shape": "+"
          }
         },
         "name": "Libre (feat. Tommy Royale)",
         "offsetgroup": "Libre (feat. Tommy Royale)",
         "orientation": "v",
         "showlegend": true,
         "textposition": "auto",
         "type": "bar",
         "x": [
          "KB"
         ],
         "xaxis": "x",
         "y": [
          1
         ],
         "yaxis": "y"
        },
        {
         "alignmentgroup": "True",
         "hovertemplate": "Track Name=Habitat<br>x=%{x}<br>count=%{y}<extra></extra>",
         "legendgroup": "Habitat",
         "marker": {
          "color": "teal",
          "pattern": {
           "shape": "."
          }
         },
         "name": "Habitat",
         "offsetgroup": "Habitat",
         "orientation": "v",
         "showlegend": true,
         "textposition": "auto",
         "type": "bar",
         "x": [
          "12th Planet"
         ],
         "xaxis": "x",
         "y": [
          1
         ],
         "yaxis": "y"
        },
        {
         "alignmentgroup": "True",
         "hovertemplate": "Track Name=Baila Conmigo<br>x=%{x}<br>count=%{y}<extra></extra>",
         "legendgroup": "Baila Conmigo",
         "marker": {
          "color": "teal",
          "pattern": {
           "shape": ""
          }
         },
         "name": "Baila Conmigo",
         "offsetgroup": "Baila Conmigo",
         "orientation": "v",
         "showlegend": true,
         "textposition": "auto",
         "type": "bar",
         "x": [
          "Tiësto"
         ],
         "xaxis": "x",
         "y": [
          1
         ],
         "yaxis": "y"
        },
        {
         "alignmentgroup": "True",
         "hovertemplate": "Track Name=World, Hold On - FISHER Rework<br>x=%{x}<br>count=%{y}<extra></extra>",
         "legendgroup": "World, Hold On - FISHER Rework",
         "marker": {
          "color": "teal",
          "pattern": {
           "shape": "/"
          }
         },
         "name": "World, Hold On - FISHER Rework",
         "offsetgroup": "World, Hold On - FISHER Rework",
         "orientation": "v",
         "showlegend": true,
         "textposition": "auto",
         "type": "bar",
         "x": [
          "Bob Sinclar"
         ],
         "xaxis": "x",
         "y": [
          1
         ],
         "yaxis": "y"
        },
        {
         "alignmentgroup": "True",
         "hovertemplate": "Track Name=Heaven - DJ Isaac Remix<br>x=%{x}<br>count=%{y}<extra></extra>",
         "legendgroup": "Heaven - DJ Isaac Remix",
         "marker": {
          "color": "teal",
          "pattern": {
           "shape": "\\"
          }
         },
         "name": "Heaven - DJ Isaac Remix",
         "offsetgroup": "Heaven - DJ Isaac Remix",
         "orientation": "v",
         "showlegend": true,
         "textposition": "auto",
         "type": "bar",
         "x": [
          "Dash Berlin"
         ],
         "xaxis": "x",
         "y": [
          1
         ],
         "yaxis": "y"
        },
        {
         "alignmentgroup": "True",
         "hovertemplate": "Track Name=You'll Be Sorry (feat. Brooklyn Love)<br>x=%{x}<br>count=%{y}<extra></extra>",
         "legendgroup": "You'll Be Sorry (feat. Brooklyn Love)",
         "marker": {
          "color": "teal",
          "pattern": {
           "shape": "x"
          }
         },
         "name": "You'll Be Sorry (feat. Brooklyn Love)",
         "offsetgroup": "You'll Be Sorry (feat. Brooklyn Love)",
         "orientation": "v",
         "showlegend": true,
         "textposition": "auto",
         "type": "bar",
         "x": [
          "Yung Bleu"
         ],
         "xaxis": "x",
         "y": [
          1
         ],
         "yaxis": "y"
        },
        {
         "alignmentgroup": "True",
         "hovertemplate": "Track Name=Clockwork - Original Mix<br>x=%{x}<br>count=%{y}<extra></extra>",
         "legendgroup": "Clockwork - Original Mix",
         "marker": {
          "color": "teal",
          "pattern": {
           "shape": "+"
          }
         },
         "name": "Clockwork - Original Mix",
         "offsetgroup": "Clockwork - Original Mix",
         "orientation": "v",
         "showlegend": true,
         "textposition": "auto",
         "type": "bar",
         "x": [
          "Subtronics"
         ],
         "xaxis": "x",
         "y": [
          1
         ],
         "yaxis": "y"
        },
        {
         "alignmentgroup": "True",
         "hovertemplate": "Track Name=Worst Day - Tungevaag Remix<br>x=%{x}<br>count=%{y}<extra></extra>",
         "legendgroup": "Worst Day - Tungevaag Remix",
         "marker": {
          "color": "teal",
          "pattern": {
           "shape": "."
          }
         },
         "name": "Worst Day - Tungevaag Remix",
         "offsetgroup": "Worst Day - Tungevaag Remix",
         "orientation": "v",
         "showlegend": true,
         "textposition": "auto",
         "type": "bar",
         "x": [
          "ILLENIUM"
         ],
         "xaxis": "x",
         "y": [
          1
         ],
         "yaxis": "y"
        },
        {
         "alignmentgroup": "True",
         "hovertemplate": "Track Name=Paper Thin - Headhunterz Remix<br>x=%{x}<br>count=%{y}<extra></extra>",
         "legendgroup": "Paper Thin - Headhunterz Remix",
         "marker": {
          "color": "teal",
          "pattern": {
           "shape": ""
          }
         },
         "name": "Paper Thin - Headhunterz Remix",
         "offsetgroup": "Paper Thin - Headhunterz Remix",
         "orientation": "v",
         "showlegend": true,
         "textposition": "auto",
         "type": "bar",
         "x": [
          "ILLENIUM"
         ],
         "xaxis": "x",
         "y": [
          1
         ],
         "yaxis": "y"
        },
        {
         "alignmentgroup": "True",
         "hovertemplate": "Track Name=#1 Freak (feat. Ty Dolla $ign)<br>x=%{x}<br>count=%{y}<extra></extra>",
         "legendgroup": "#1 Freak (feat. Ty Dolla $ign)",
         "marker": {
          "color": "teal",
          "pattern": {
           "shape": "/"
          }
         },
         "name": "#1 Freak (feat. Ty Dolla $ign)",
         "offsetgroup": "#1 Freak (feat. Ty Dolla $ign)",
         "orientation": "v",
         "showlegend": true,
         "textposition": "auto",
         "type": "bar",
         "x": [
          "Roddy Ricch"
         ],
         "xaxis": "x",
         "y": [
          1
         ],
         "yaxis": "y"
        }
       ],
       "layout": {
        "barmode": "relative",
        "legend": {
         "title": {
          "text": "Track Name"
         },
         "tracegroupgap": 0
        },
        "template": {
         "data": {
          "bar": [
           {
            "error_x": {
             "color": "#2a3f5f"
            },
            "error_y": {
             "color": "#2a3f5f"
            },
            "marker": {
             "line": {
              "color": "#E5ECF6",
              "width": 0.5
             },
             "pattern": {
              "fillmode": "overlay",
              "size": 10,
              "solidity": 0.2
             }
            },
            "type": "bar"
           }
          ],
          "barpolar": [
           {
            "marker": {
             "line": {
              "color": "#E5ECF6",
              "width": 0.5
             },
             "pattern": {
              "fillmode": "overlay",
              "size": 10,
              "solidity": 0.2
             }
            },
            "type": "barpolar"
           }
          ],
          "carpet": [
           {
            "aaxis": {
             "endlinecolor": "#2a3f5f",
             "gridcolor": "white",
             "linecolor": "white",
             "minorgridcolor": "white",
             "startlinecolor": "#2a3f5f"
            },
            "baxis": {
             "endlinecolor": "#2a3f5f",
             "gridcolor": "white",
             "linecolor": "white",
             "minorgridcolor": "white",
             "startlinecolor": "#2a3f5f"
            },
            "type": "carpet"
           }
          ],
          "choropleth": [
           {
            "colorbar": {
             "outlinewidth": 0,
             "ticks": ""
            },
            "type": "choropleth"
           }
          ],
          "contour": [
           {
            "colorbar": {
             "outlinewidth": 0,
             "ticks": ""
            },
            "colorscale": [
             [
              0,
              "#0d0887"
             ],
             [
              0.1111111111111111,
              "#46039f"
             ],
             [
              0.2222222222222222,
              "#7201a8"
             ],
             [
              0.3333333333333333,
              "#9c179e"
             ],
             [
              0.4444444444444444,
              "#bd3786"
             ],
             [
              0.5555555555555556,
              "#d8576b"
             ],
             [
              0.6666666666666666,
              "#ed7953"
             ],
             [
              0.7777777777777778,
              "#fb9f3a"
             ],
             [
              0.8888888888888888,
              "#fdca26"
             ],
             [
              1,
              "#f0f921"
             ]
            ],
            "type": "contour"
           }
          ],
          "contourcarpet": [
           {
            "colorbar": {
             "outlinewidth": 0,
             "ticks": ""
            },
            "type": "contourcarpet"
           }
          ],
          "heatmap": [
           {
            "colorbar": {
             "outlinewidth": 0,
             "ticks": ""
            },
            "colorscale": [
             [
              0,
              "#0d0887"
             ],
             [
              0.1111111111111111,
              "#46039f"
             ],
             [
              0.2222222222222222,
              "#7201a8"
             ],
             [
              0.3333333333333333,
              "#9c179e"
             ],
             [
              0.4444444444444444,
              "#bd3786"
             ],
             [
              0.5555555555555556,
              "#d8576b"
             ],
             [
              0.6666666666666666,
              "#ed7953"
             ],
             [
              0.7777777777777778,
              "#fb9f3a"
             ],
             [
              0.8888888888888888,
              "#fdca26"
             ],
             [
              1,
              "#f0f921"
             ]
            ],
            "type": "heatmap"
           }
          ],
          "heatmapgl": [
           {
            "colorbar": {
             "outlinewidth": 0,
             "ticks": ""
            },
            "colorscale": [
             [
              0,
              "#0d0887"
             ],
             [
              0.1111111111111111,
              "#46039f"
             ],
             [
              0.2222222222222222,
              "#7201a8"
             ],
             [
              0.3333333333333333,
              "#9c179e"
             ],
             [
              0.4444444444444444,
              "#bd3786"
             ],
             [
              0.5555555555555556,
              "#d8576b"
             ],
             [
              0.6666666666666666,
              "#ed7953"
             ],
             [
              0.7777777777777778,
              "#fb9f3a"
             ],
             [
              0.8888888888888888,
              "#fdca26"
             ],
             [
              1,
              "#f0f921"
             ]
            ],
            "type": "heatmapgl"
           }
          ],
          "histogram": [
           {
            "marker": {
             "pattern": {
              "fillmode": "overlay",
              "size": 10,
              "solidity": 0.2
             }
            },
            "type": "histogram"
           }
          ],
          "histogram2d": [
           {
            "colorbar": {
             "outlinewidth": 0,
             "ticks": ""
            },
            "colorscale": [
             [
              0,
              "#0d0887"
             ],
             [
              0.1111111111111111,
              "#46039f"
             ],
             [
              0.2222222222222222,
              "#7201a8"
             ],
             [
              0.3333333333333333,
              "#9c179e"
             ],
             [
              0.4444444444444444,
              "#bd3786"
             ],
             [
              0.5555555555555556,
              "#d8576b"
             ],
             [
              0.6666666666666666,
              "#ed7953"
             ],
             [
              0.7777777777777778,
              "#fb9f3a"
             ],
             [
              0.8888888888888888,
              "#fdca26"
             ],
             [
              1,
              "#f0f921"
             ]
            ],
            "type": "histogram2d"
           }
          ],
          "histogram2dcontour": [
           {
            "colorbar": {
             "outlinewidth": 0,
             "ticks": ""
            },
            "colorscale": [
             [
              0,
              "#0d0887"
             ],
             [
              0.1111111111111111,
              "#46039f"
             ],
             [
              0.2222222222222222,
              "#7201a8"
             ],
             [
              0.3333333333333333,
              "#9c179e"
             ],
             [
              0.4444444444444444,
              "#bd3786"
             ],
             [
              0.5555555555555556,
              "#d8576b"
             ],
             [
              0.6666666666666666,
              "#ed7953"
             ],
             [
              0.7777777777777778,
              "#fb9f3a"
             ],
             [
              0.8888888888888888,
              "#fdca26"
             ],
             [
              1,
              "#f0f921"
             ]
            ],
            "type": "histogram2dcontour"
           }
          ],
          "mesh3d": [
           {
            "colorbar": {
             "outlinewidth": 0,
             "ticks": ""
            },
            "type": "mesh3d"
           }
          ],
          "parcoords": [
           {
            "line": {
             "colorbar": {
              "outlinewidth": 0,
              "ticks": ""
             }
            },
            "type": "parcoords"
           }
          ],
          "pie": [
           {
            "automargin": true,
            "type": "pie"
           }
          ],
          "scatter": [
           {
            "fillpattern": {
             "fillmode": "overlay",
             "size": 10,
             "solidity": 0.2
            },
            "type": "scatter"
           }
          ],
          "scatter3d": [
           {
            "line": {
             "colorbar": {
              "outlinewidth": 0,
              "ticks": ""
             }
            },
            "marker": {
             "colorbar": {
              "outlinewidth": 0,
              "ticks": ""
             }
            },
            "type": "scatter3d"
           }
          ],
          "scattercarpet": [
           {
            "marker": {
             "colorbar": {
              "outlinewidth": 0,
              "ticks": ""
             }
            },
            "type": "scattercarpet"
           }
          ],
          "scattergeo": [
           {
            "marker": {
             "colorbar": {
              "outlinewidth": 0,
              "ticks": ""
             }
            },
            "type": "scattergeo"
           }
          ],
          "scattergl": [
           {
            "marker": {
             "colorbar": {
              "outlinewidth": 0,
              "ticks": ""
             }
            },
            "type": "scattergl"
           }
          ],
          "scattermapbox": [
           {
            "marker": {
             "colorbar": {
              "outlinewidth": 0,
              "ticks": ""
             }
            },
            "type": "scattermapbox"
           }
          ],
          "scatterpolar": [
           {
            "marker": {
             "colorbar": {
              "outlinewidth": 0,
              "ticks": ""
             }
            },
            "type": "scatterpolar"
           }
          ],
          "scatterpolargl": [
           {
            "marker": {
             "colorbar": {
              "outlinewidth": 0,
              "ticks": ""
             }
            },
            "type": "scatterpolargl"
           }
          ],
          "scatterternary": [
           {
            "marker": {
             "colorbar": {
              "outlinewidth": 0,
              "ticks": ""
             }
            },
            "type": "scatterternary"
           }
          ],
          "surface": [
           {
            "colorbar": {
             "outlinewidth": 0,
             "ticks": ""
            },
            "colorscale": [
             [
              0,
              "#0d0887"
             ],
             [
              0.1111111111111111,
              "#46039f"
             ],
             [
              0.2222222222222222,
              "#7201a8"
             ],
             [
              0.3333333333333333,
              "#9c179e"
             ],
             [
              0.4444444444444444,
              "#bd3786"
             ],
             [
              0.5555555555555556,
              "#d8576b"
             ],
             [
              0.6666666666666666,
              "#ed7953"
             ],
             [
              0.7777777777777778,
              "#fb9f3a"
             ],
             [
              0.8888888888888888,
              "#fdca26"
             ],
             [
              1,
              "#f0f921"
             ]
            ],
            "type": "surface"
           }
          ],
          "table": [
           {
            "cells": {
             "fill": {
              "color": "#EBF0F8"
             },
             "line": {
              "color": "white"
             }
            },
            "header": {
             "fill": {
              "color": "#C8D4E3"
             },
             "line": {
              "color": "white"
             }
            },
            "type": "table"
           }
          ]
         },
         "layout": {
          "annotationdefaults": {
           "arrowcolor": "#2a3f5f",
           "arrowhead": 0,
           "arrowwidth": 1
          },
          "autotypenumbers": "strict",
          "coloraxis": {
           "colorbar": {
            "outlinewidth": 0,
            "ticks": ""
           }
          },
          "colorscale": {
           "diverging": [
            [
             0,
             "#8e0152"
            ],
            [
             0.1,
             "#c51b7d"
            ],
            [
             0.2,
             "#de77ae"
            ],
            [
             0.3,
             "#f1b6da"
            ],
            [
             0.4,
             "#fde0ef"
            ],
            [
             0.5,
             "#f7f7f7"
            ],
            [
             0.6,
             "#e6f5d0"
            ],
            [
             0.7,
             "#b8e186"
            ],
            [
             0.8,
             "#7fbc41"
            ],
            [
             0.9,
             "#4d9221"
            ],
            [
             1,
             "#276419"
            ]
           ],
           "sequential": [
            [
             0,
             "#0d0887"
            ],
            [
             0.1111111111111111,
             "#46039f"
            ],
            [
             0.2222222222222222,
             "#7201a8"
            ],
            [
             0.3333333333333333,
             "#9c179e"
            ],
            [
             0.4444444444444444,
             "#bd3786"
            ],
            [
             0.5555555555555556,
             "#d8576b"
            ],
            [
             0.6666666666666666,
             "#ed7953"
            ],
            [
             0.7777777777777778,
             "#fb9f3a"
            ],
            [
             0.8888888888888888,
             "#fdca26"
            ],
            [
             1,
             "#f0f921"
            ]
           ],
           "sequentialminus": [
            [
             0,
             "#0d0887"
            ],
            [
             0.1111111111111111,
             "#46039f"
            ],
            [
             0.2222222222222222,
             "#7201a8"
            ],
            [
             0.3333333333333333,
             "#9c179e"
            ],
            [
             0.4444444444444444,
             "#bd3786"
            ],
            [
             0.5555555555555556,
             "#d8576b"
            ],
            [
             0.6666666666666666,
             "#ed7953"
            ],
            [
             0.7777777777777778,
             "#fb9f3a"
            ],
            [
             0.8888888888888888,
             "#fdca26"
            ],
            [
             1,
             "#f0f921"
            ]
           ]
          },
          "colorway": [
           "#636efa",
           "#EF553B",
           "#00cc96",
           "#ab63fa",
           "#FFA15A",
           "#19d3f3",
           "#FF6692",
           "#B6E880",
           "#FF97FF",
           "#FECB52"
          ],
          "font": {
           "color": "#2a3f5f"
          },
          "geo": {
           "bgcolor": "white",
           "lakecolor": "white",
           "landcolor": "#E5ECF6",
           "showlakes": true,
           "showland": true,
           "subunitcolor": "white"
          },
          "hoverlabel": {
           "align": "left"
          },
          "hovermode": "closest",
          "mapbox": {
           "style": "light"
          },
          "paper_bgcolor": "white",
          "plot_bgcolor": "#E5ECF6",
          "polar": {
           "angularaxis": {
            "gridcolor": "white",
            "linecolor": "white",
            "ticks": ""
           },
           "bgcolor": "#E5ECF6",
           "radialaxis": {
            "gridcolor": "white",
            "linecolor": "white",
            "ticks": ""
           }
          },
          "scene": {
           "xaxis": {
            "backgroundcolor": "#E5ECF6",
            "gridcolor": "white",
            "gridwidth": 2,
            "linecolor": "white",
            "showbackground": true,
            "ticks": "",
            "zerolinecolor": "white"
           },
           "yaxis": {
            "backgroundcolor": "#E5ECF6",
            "gridcolor": "white",
            "gridwidth": 2,
            "linecolor": "white",
            "showbackground": true,
            "ticks": "",
            "zerolinecolor": "white"
           },
           "zaxis": {
            "backgroundcolor": "#E5ECF6",
            "gridcolor": "white",
            "gridwidth": 2,
            "linecolor": "white",
            "showbackground": true,
            "ticks": "",
            "zerolinecolor": "white"
           }
          },
          "shapedefaults": {
           "line": {
            "color": "#2a3f5f"
           }
          },
          "ternary": {
           "aaxis": {
            "gridcolor": "white",
            "linecolor": "white",
            "ticks": ""
           },
           "baxis": {
            "gridcolor": "white",
            "linecolor": "white",
            "ticks": ""
           },
           "bgcolor": "#E5ECF6",
           "caxis": {
            "gridcolor": "white",
            "linecolor": "white",
            "ticks": ""
           }
          },
          "title": {
           "x": 0.05
          },
          "xaxis": {
           "automargin": true,
           "gridcolor": "white",
           "linecolor": "white",
           "ticks": "",
           "title": {
            "standoff": 15
           },
           "zerolinecolor": "white",
           "zerolinewidth": 2
          },
          "yaxis": {
           "automargin": true,
           "gridcolor": "white",
           "linecolor": "white",
           "ticks": "",
           "title": {
            "standoff": 15
           },
           "zerolinecolor": "white",
           "zerolinewidth": 2
          }
         }
        },
        "title": {
         "text": "Arists in my Top 50 Liked Songs"
        },
        "xaxis": {
         "anchor": "y",
         "domain": [
          0,
          1
         ],
         "title": {
          "text": "x"
         }
        },
        "yaxis": {
         "anchor": "x",
         "domain": [
          0,
          1
         ],
         "title": {
          "text": "count"
         }
        }
       }
      }
     },
     "metadata": {},
     "output_type": "display_data"
    }
   ],
   "source": [
    "import plotly.express as px\n",
    "fig = px.bar(df, x = artist, color_discrete_sequence=['teal'], title= 'Arists in my Top 50 Liked Songs',pattern_shape='Track Name')\n",
    "display(fig)"
   ]
  },
  {
   "cell_type": "code",
   "execution_count": null,
   "metadata": {},
   "outputs": [],
   "source": []
  }
 ],
 "metadata": {
  "kernelspec": {
   "display_name": "Python 3",
   "language": "python",
   "name": "python3"
  },
  "language_info": {
   "codemirror_mode": {
    "name": "ipython",
    "version": 3
   },
   "file_extension": ".py",
   "mimetype": "text/x-python",
   "name": "python",
   "nbconvert_exporter": "python",
   "pygments_lexer": "ipython3",
   "version": "3.11.2"
  },
  "orig_nbformat": 4,
  "vscode": {
   "interpreter": {
    "hash": "5238573367df39f7286bb46f9ff5f08f63a01a80960060ce41e3c79b190280fa"
   }
  }
 },
 "nbformat": 4,
 "nbformat_minor": 2
}
