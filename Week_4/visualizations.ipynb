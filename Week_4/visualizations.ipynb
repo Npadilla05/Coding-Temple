{
 "cells": [
  {
   "attachments": {},
   "cell_type": "markdown",
   "metadata": {},
   "source": [
    "# **Coding Temple's Data Analytics Program**\n",
    "---\n",
    "## **Adv Python 2: Data Visualizations Assignment**\n",
    "\n",
    "## **Part 1:**"
   ]
  },
  {
   "attachments": {},
   "cell_type": "markdown",
   "metadata": {},
   "source": [
    "### Getting Started\n",
    "For today's assignment, you will work with a dataset all about Kickstarter Funding.To download the data, click [here](https://www.kaggle.com/datasets/patkle/most-funded-kickstarter-projects)."
   ]
  },
  {
   "attachments": {},
   "cell_type": "markdown",
   "metadata": {},
   "source": [
    "### Task 1: Imports\n",
    "For this assignment, you will need to import pandas and matplotlib. Alias them according to the common naming conventions for both!"
   ]
  },
  {
   "cell_type": "code",
   "execution_count": 45,
   "metadata": {},
   "outputs": [],
   "source": [
    "import pandas as pd\n",
    "import matplotlib.pyplot as plt\n",
    "import numpy as np"
   ]
  },
  {
   "attachments": {},
   "cell_type": "markdown",
   "metadata": {},
   "source": [
    "### Task 2: Load the data\n",
    "Using pandas, load the data into a dataframe object and view the first 20 rows"
   ]
  },
  {
   "cell_type": "code",
   "execution_count": 72,
   "metadata": {},
   "outputs": [
    {
     "data": {
      "text/html": [
       "<div>\n",
       "<style scoped>\n",
       "    .dataframe tbody tr th:only-of-type {\n",
       "        vertical-align: middle;\n",
       "    }\n",
       "\n",
       "    .dataframe tbody tr th {\n",
       "        vertical-align: top;\n",
       "    }\n",
       "\n",
       "    .dataframe thead th {\n",
       "        text-align: right;\n",
       "    }\n",
       "</style>\n",
       "<table border=\"1\" class=\"dataframe\">\n",
       "  <thead>\n",
       "    <tr style=\"text-align: right;\">\n",
       "      <th></th>\n",
       "      <th>id</th>\n",
       "      <th>backers_count</th>\n",
       "      <th>blurb</th>\n",
       "      <th>category_id</th>\n",
       "      <th>category_name</th>\n",
       "      <th>category_parent_id</th>\n",
       "      <th>category_parent_name</th>\n",
       "      <th>category_url</th>\n",
       "      <th>converted_pledged_amount</th>\n",
       "      <th>country</th>\n",
       "      <th>...</th>\n",
       "      <th>profile_state_changed_at</th>\n",
       "      <th>project_url</th>\n",
       "      <th>spotlight</th>\n",
       "      <th>staff_pick</th>\n",
       "      <th>state</th>\n",
       "      <th>state_changed_at</th>\n",
       "      <th>static_usd_rate</th>\n",
       "      <th>usd_exchange_rate</th>\n",
       "      <th>usd_pledged</th>\n",
       "      <th>usd_type</th>\n",
       "    </tr>\n",
       "  </thead>\n",
       "  <tbody>\n",
       "    <tr>\n",
       "      <th>0</th>\n",
       "      <td>1497949659</td>\n",
       "      <td>185341</td>\n",
       "      <td>A Year of Sanderson: Enjoy books and swag boxe...</td>\n",
       "      <td>47</td>\n",
       "      <td>Fiction</td>\n",
       "      <td>18.0</td>\n",
       "      <td>Publishing</td>\n",
       "      <td>http://www.kickstarter.com/discover/categories...</td>\n",
       "      <td>41754153</td>\n",
       "      <td>US</td>\n",
       "      <td>...</td>\n",
       "      <td>1648767693</td>\n",
       "      <td>https://www.kickstarter.com/projects/dragonste...</td>\n",
       "      <td>True</td>\n",
       "      <td>True</td>\n",
       "      <td>successful</td>\n",
       "      <td>1648767600</td>\n",
       "      <td>1.000000</td>\n",
       "      <td>1.00000</td>\n",
       "      <td>4.175415e+07</td>\n",
       "      <td>domestic</td>\n",
       "    </tr>\n",
       "    <tr>\n",
       "      <th>1</th>\n",
       "      <td>1799979574</td>\n",
       "      <td>78471</td>\n",
       "      <td>Color e-paper smartwatch with up to 7 days of ...</td>\n",
       "      <td>28</td>\n",
       "      <td>Product Design</td>\n",
       "      <td>7.0</td>\n",
       "      <td>Design</td>\n",
       "      <td>http://www.kickstarter.com/discover/categories...</td>\n",
       "      <td>20338986</td>\n",
       "      <td>US</td>\n",
       "      <td>...</td>\n",
       "      <td>1427589733</td>\n",
       "      <td>https://www.kickstarter.com/projects/getpebble...</td>\n",
       "      <td>True</td>\n",
       "      <td>True</td>\n",
       "      <td>successful</td>\n",
       "      <td>1427508015</td>\n",
       "      <td>1.000000</td>\n",
       "      <td>1.00000</td>\n",
       "      <td>2.033899e+07</td>\n",
       "      <td>domestic</td>\n",
       "    </tr>\n",
       "    <tr>\n",
       "      <th>2</th>\n",
       "      <td>342886736</td>\n",
       "      <td>62642</td>\n",
       "      <td>The COOLEST is a portable party disguised as a...</td>\n",
       "      <td>28</td>\n",
       "      <td>Product Design</td>\n",
       "      <td>7.0</td>\n",
       "      <td>Design</td>\n",
       "      <td>http://www.kickstarter.com/discover/categories...</td>\n",
       "      <td>13285226</td>\n",
       "      <td>US</td>\n",
       "      <td>...</td>\n",
       "      <td>1428100634</td>\n",
       "      <td>https://www.kickstarter.com/projects/ryangrepp...</td>\n",
       "      <td>True</td>\n",
       "      <td>True</td>\n",
       "      <td>successful</td>\n",
       "      <td>1409360410</td>\n",
       "      <td>1.000000</td>\n",
       "      <td>1.00000</td>\n",
       "      <td>1.328523e+07</td>\n",
       "      <td>domestic</td>\n",
       "    </tr>\n",
       "    <tr>\n",
       "      <th>3</th>\n",
       "      <td>374744378</td>\n",
       "      <td>83193</td>\n",
       "      <td>Euro-inspired dungeon crawling sequel to the 2...</td>\n",
       "      <td>34</td>\n",
       "      <td>Tabletop Games</td>\n",
       "      <td>12.0</td>\n",
       "      <td>Games</td>\n",
       "      <td>http://www.kickstarter.com/discover/categories...</td>\n",
       "      <td>12969608</td>\n",
       "      <td>US</td>\n",
       "      <td>...</td>\n",
       "      <td>1588367201</td>\n",
       "      <td>https://www.kickstarter.com/projects/frosthave...</td>\n",
       "      <td>True</td>\n",
       "      <td>True</td>\n",
       "      <td>successful</td>\n",
       "      <td>1588366800</td>\n",
       "      <td>1.000000</td>\n",
       "      <td>1.00000</td>\n",
       "      <td>1.296961e+07</td>\n",
       "      <td>domestic</td>\n",
       "    </tr>\n",
       "    <tr>\n",
       "      <th>4</th>\n",
       "      <td>2103598555</td>\n",
       "      <td>66673</td>\n",
       "      <td>Two affordable, heart rate-enabled smartwatche...</td>\n",
       "      <td>28</td>\n",
       "      <td>Product Design</td>\n",
       "      <td>7.0</td>\n",
       "      <td>Design</td>\n",
       "      <td>http://www.kickstarter.com/discover/categories...</td>\n",
       "      <td>12779843</td>\n",
       "      <td>US</td>\n",
       "      <td>...</td>\n",
       "      <td>1467273864</td>\n",
       "      <td>https://www.kickstarter.com/projects/getpebble...</td>\n",
       "      <td>True</td>\n",
       "      <td>True</td>\n",
       "      <td>successful</td>\n",
       "      <td>1467262800</td>\n",
       "      <td>1.000000</td>\n",
       "      <td>1.00000</td>\n",
       "      <td>1.277984e+07</td>\n",
       "      <td>domestic</td>\n",
       "    </tr>\n",
       "    <tr>\n",
       "      <th>5</th>\n",
       "      <td>545070200</td>\n",
       "      <td>19264</td>\n",
       "      <td>A cooperative nightmare horror game experience...</td>\n",
       "      <td>34</td>\n",
       "      <td>Tabletop Games</td>\n",
       "      <td>12.0</td>\n",
       "      <td>Games</td>\n",
       "      <td>http://www.kickstarter.com/discover/categories...</td>\n",
       "      <td>12393139</td>\n",
       "      <td>US</td>\n",
       "      <td>...</td>\n",
       "      <td>1483997388</td>\n",
       "      <td>https://www.kickstarter.com/projects/poots/kin...</td>\n",
       "      <td>True</td>\n",
       "      <td>True</td>\n",
       "      <td>successful</td>\n",
       "      <td>1483830003</td>\n",
       "      <td>1.000000</td>\n",
       "      <td>1.00000</td>\n",
       "      <td>1.239314e+07</td>\n",
       "      <td>domestic</td>\n",
       "    </tr>\n",
       "    <tr>\n",
       "      <th>6</th>\n",
       "      <td>1198848775</td>\n",
       "      <td>3199</td>\n",
       "      <td>Expandable capacity (3.6-25kWh) | Power almost...</td>\n",
       "      <td>52</td>\n",
       "      <td>Hardware</td>\n",
       "      <td>16.0</td>\n",
       "      <td>Technology</td>\n",
       "      <td>http://www.kickstarter.com/discover/categories...</td>\n",
       "      <td>12179651</td>\n",
       "      <td>US</td>\n",
       "      <td>...</td>\n",
       "      <td>1625053977</td>\n",
       "      <td>https://www.kickstarter.com/projects/ecoflow/e...</td>\n",
       "      <td>True</td>\n",
       "      <td>True</td>\n",
       "      <td>successful</td>\n",
       "      <td>1631540391</td>\n",
       "      <td>1.000000</td>\n",
       "      <td>1.00000</td>\n",
       "      <td>1.217965e+07</td>\n",
       "      <td>domestic</td>\n",
       "    </tr>\n",
       "    <tr>\n",
       "      <th>7</th>\n",
       "      <td>1289129165</td>\n",
       "      <td>27168</td>\n",
       "      <td>A full-featured tripod in a truly portable form.</td>\n",
       "      <td>28</td>\n",
       "      <td>Product Design</td>\n",
       "      <td>7.0</td>\n",
       "      <td>Design</td>\n",
       "      <td>http://www.kickstarter.com/discover/categories...</td>\n",
       "      <td>12143435</td>\n",
       "      <td>US</td>\n",
       "      <td>...</td>\n",
       "      <td>1563558922</td>\n",
       "      <td>https://www.kickstarter.com/projects/peak-desi...</td>\n",
       "      <td>True</td>\n",
       "      <td>True</td>\n",
       "      <td>successful</td>\n",
       "      <td>1563494400</td>\n",
       "      <td>1.000000</td>\n",
       "      <td>1.00000</td>\n",
       "      <td>1.214344e+07</td>\n",
       "      <td>domestic</td>\n",
       "    </tr>\n",
       "    <tr>\n",
       "      <th>8</th>\n",
       "      <td>597041739</td>\n",
       "      <td>88887</td>\n",
       "      <td>Critical Role's The Legend of Vox Machina reun...</td>\n",
       "      <td>29</td>\n",
       "      <td>Animation</td>\n",
       "      <td>11.0</td>\n",
       "      <td>Film &amp; Video</td>\n",
       "      <td>http://www.kickstarter.com/discover/categories...</td>\n",
       "      <td>11385449</td>\n",
       "      <td>US</td>\n",
       "      <td>...</td>\n",
       "      <td>1549660952</td>\n",
       "      <td>https://www.kickstarter.com/projects/criticalr...</td>\n",
       "      <td>True</td>\n",
       "      <td>True</td>\n",
       "      <td>successful</td>\n",
       "      <td>1555657140</td>\n",
       "      <td>1.000000</td>\n",
       "      <td>1.00000</td>\n",
       "      <td>1.138545e+07</td>\n",
       "      <td>domestic</td>\n",
       "    </tr>\n",
       "    <tr>\n",
       "      <th>9</th>\n",
       "      <td>506924864</td>\n",
       "      <td>68929</td>\n",
       "      <td>Pebble is a customizable watch. Download new w...</td>\n",
       "      <td>28</td>\n",
       "      <td>Product Design</td>\n",
       "      <td>7.0</td>\n",
       "      <td>Design</td>\n",
       "      <td>http://www.kickstarter.com/discover/categories...</td>\n",
       "      <td>10266845</td>\n",
       "      <td>US</td>\n",
       "      <td>...</td>\n",
       "      <td>1455690795</td>\n",
       "      <td>https://www.kickstarter.com/projects/getpebble...</td>\n",
       "      <td>True</td>\n",
       "      <td>True</td>\n",
       "      <td>successful</td>\n",
       "      <td>1337396419</td>\n",
       "      <td>1.000000</td>\n",
       "      <td>1.00000</td>\n",
       "      <td>1.026685e+07</td>\n",
       "      <td>domestic</td>\n",
       "    </tr>\n",
       "    <tr>\n",
       "      <th>10</th>\n",
       "      <td>1010797520</td>\n",
       "      <td>81567</td>\n",
       "      <td>An officially licensed tabletop roleplaying ga...</td>\n",
       "      <td>34</td>\n",
       "      <td>Tabletop Games</td>\n",
       "      <td>12.0</td>\n",
       "      <td>Games</td>\n",
       "      <td>http://www.kickstarter.com/discover/categories...</td>\n",
       "      <td>9535317</td>\n",
       "      <td>US</td>\n",
       "      <td>...</td>\n",
       "      <td>1630626583</td>\n",
       "      <td>https://www.kickstarter.com/projects/magpiegam...</td>\n",
       "      <td>True</td>\n",
       "      <td>True</td>\n",
       "      <td>successful</td>\n",
       "      <td>1630625400</td>\n",
       "      <td>1.000000</td>\n",
       "      <td>1.00000</td>\n",
       "      <td>9.535317e+06</td>\n",
       "      <td>domestic</td>\n",
       "    </tr>\n",
       "    <tr>\n",
       "      <th>11</th>\n",
       "      <td>565687737</td>\n",
       "      <td>44949</td>\n",
       "      <td>TRAVEL JACKET with built-in Neck Pillow, Eye M...</td>\n",
       "      <td>28</td>\n",
       "      <td>Product Design</td>\n",
       "      <td>7.0</td>\n",
       "      <td>Design</td>\n",
       "      <td>http://www.kickstarter.com/discover/categories...</td>\n",
       "      <td>9192055</td>\n",
       "      <td>US</td>\n",
       "      <td>...</td>\n",
       "      <td>1441299790</td>\n",
       "      <td>https://www.kickstarter.com/projects/baubax/th...</td>\n",
       "      <td>True</td>\n",
       "      <td>False</td>\n",
       "      <td>successful</td>\n",
       "      <td>1441299615</td>\n",
       "      <td>1.000000</td>\n",
       "      <td>1.00000</td>\n",
       "      <td>9.192056e+06</td>\n",
       "      <td>domestic</td>\n",
       "    </tr>\n",
       "    <tr>\n",
       "      <th>12</th>\n",
       "      <td>865220570</td>\n",
       "      <td>28974</td>\n",
       "      <td>The hunger takes hold after the Marvel Univers...</td>\n",
       "      <td>34</td>\n",
       "      <td>Tabletop Games</td>\n",
       "      <td>12.0</td>\n",
       "      <td>Games</td>\n",
       "      <td>http://www.kickstarter.com/discover/categories...</td>\n",
       "      <td>9032583</td>\n",
       "      <td>US</td>\n",
       "      <td>...</td>\n",
       "      <td>1643940081</td>\n",
       "      <td>https://www.kickstarter.com/projects/cmon/marv...</td>\n",
       "      <td>True</td>\n",
       "      <td>True</td>\n",
       "      <td>successful</td>\n",
       "      <td>1643940000</td>\n",
       "      <td>1.000000</td>\n",
       "      <td>1.00000</td>\n",
       "      <td>9.032583e+06</td>\n",
       "      <td>domestic</td>\n",
       "    </tr>\n",
       "    <tr>\n",
       "      <th>13</th>\n",
       "      <td>1738059832</td>\n",
       "      <td>11313</td>\n",
       "      <td>Print Time Cut by 70% | Smooth 0.1 mm Detail |...</td>\n",
       "      <td>331</td>\n",
       "      <td>3D Printing</td>\n",
       "      <td>16.0</td>\n",
       "      <td>Technology</td>\n",
       "      <td>http://www.kickstarter.com/discover/categories...</td>\n",
       "      <td>8881095</td>\n",
       "      <td>US</td>\n",
       "      <td>...</td>\n",
       "      <td>1653292818</td>\n",
       "      <td>https://www.kickstarter.com/projects/ankermake...</td>\n",
       "      <td>True</td>\n",
       "      <td>False</td>\n",
       "      <td>successful</td>\n",
       "      <td>1653141551</td>\n",
       "      <td>1.000000</td>\n",
       "      <td>1.00000</td>\n",
       "      <td>8.881095e+06</td>\n",
       "      <td>domestic</td>\n",
       "    </tr>\n",
       "    <tr>\n",
       "      <th>14</th>\n",
       "      <td>645343012</td>\n",
       "      <td>7713</td>\n",
       "      <td>A revolutionary table that evolves over a life...</td>\n",
       "      <td>34</td>\n",
       "      <td>Tabletop Games</td>\n",
       "      <td>12.0</td>\n",
       "      <td>Games</td>\n",
       "      <td>http://www.kickstarter.com/discover/categories...</td>\n",
       "      <td>8808136</td>\n",
       "      <td>US</td>\n",
       "      <td>...</td>\n",
       "      <td>1602350085</td>\n",
       "      <td>https://www.kickstarter.com/projects/wyrmwood/...</td>\n",
       "      <td>True</td>\n",
       "      <td>True</td>\n",
       "      <td>successful</td>\n",
       "      <td>1602302340</td>\n",
       "      <td>1.000000</td>\n",
       "      <td>1.00000</td>\n",
       "      <td>8.808136e+06</td>\n",
       "      <td>domestic</td>\n",
       "    </tr>\n",
       "    <tr>\n",
       "      <th>15</th>\n",
       "      <td>1955357092</td>\n",
       "      <td>219382</td>\n",
       "      <td>This is a card game for people who are into ki...</td>\n",
       "      <td>34</td>\n",
       "      <td>Tabletop Games</td>\n",
       "      <td>12.0</td>\n",
       "      <td>Games</td>\n",
       "      <td>http://www.kickstarter.com/discover/categories...</td>\n",
       "      <td>8782571</td>\n",
       "      <td>US</td>\n",
       "      <td>...</td>\n",
       "      <td>1427580690</td>\n",
       "      <td>https://www.kickstarter.com/projects/elanlee/e...</td>\n",
       "      <td>True</td>\n",
       "      <td>True</td>\n",
       "      <td>successful</td>\n",
       "      <td>1424397679</td>\n",
       "      <td>1.000000</td>\n",
       "      <td>1.00000</td>\n",
       "      <td>8.782572e+06</td>\n",
       "      <td>domestic</td>\n",
       "    </tr>\n",
       "    <tr>\n",
       "      <th>16</th>\n",
       "      <td>1033978702</td>\n",
       "      <td>63416</td>\n",
       "      <td>Cracking open the last closed platform: the TV...</td>\n",
       "      <td>270</td>\n",
       "      <td>Gaming Hardware</td>\n",
       "      <td>12.0</td>\n",
       "      <td>Games</td>\n",
       "      <td>http://www.kickstarter.com/discover/categories...</td>\n",
       "      <td>8596474</td>\n",
       "      <td>US</td>\n",
       "      <td>...</td>\n",
       "      <td>1425915810</td>\n",
       "      <td>https://www.kickstarter.com/projects/ouya/ouya...</td>\n",
       "      <td>True</td>\n",
       "      <td>True</td>\n",
       "      <td>successful</td>\n",
       "      <td>1344491772</td>\n",
       "      <td>1.000000</td>\n",
       "      <td>1.00000</td>\n",
       "      <td>8.596475e+06</td>\n",
       "      <td>domestic</td>\n",
       "    </tr>\n",
       "    <tr>\n",
       "      <th>17</th>\n",
       "      <td>429298657</td>\n",
       "      <td>45162</td>\n",
       "      <td>Action-packed adventure board game, full of im...</td>\n",
       "      <td>34</td>\n",
       "      <td>Tabletop Games</td>\n",
       "      <td>12.0</td>\n",
       "      <td>Games</td>\n",
       "      <td>http://www.kickstarter.com/discover/categories...</td>\n",
       "      <td>8324792</td>\n",
       "      <td>PL</td>\n",
       "      <td>...</td>\n",
       "      <td>1623449579</td>\n",
       "      <td>https://www.kickstarter.com/projects/goonboard...</td>\n",
       "      <td>True</td>\n",
       "      <td>True</td>\n",
       "      <td>successful</td>\n",
       "      <td>1623448740</td>\n",
       "      <td>1.218138</td>\n",
       "      <td>1.21696</td>\n",
       "      <td>8.332854e+06</td>\n",
       "      <td>domestic</td>\n",
       "    </tr>\n",
       "    <tr>\n",
       "      <th>18</th>\n",
       "      <td>604109210</td>\n",
       "      <td>7388</td>\n",
       "      <td>Unlock your full creative potential from 3D pr...</td>\n",
       "      <td>331</td>\n",
       "      <td>3D Printing</td>\n",
       "      <td>16.0</td>\n",
       "      <td>Technology</td>\n",
       "      <td>http://www.kickstarter.com/discover/categories...</td>\n",
       "      <td>7850866</td>\n",
       "      <td>US</td>\n",
       "      <td>...</td>\n",
       "      <td>1559831751</td>\n",
       "      <td>https://www.kickstarter.com/projects/snapmaker...</td>\n",
       "      <td>True</td>\n",
       "      <td>True</td>\n",
       "      <td>successful</td>\n",
       "      <td>1559829638</td>\n",
       "      <td>1.000000</td>\n",
       "      <td>1.00000</td>\n",
       "      <td>7.850867e+06</td>\n",
       "      <td>domestic</td>\n",
       "    </tr>\n",
       "    <tr>\n",
       "      <th>19</th>\n",
       "      <td>647013276</td>\n",
       "      <td>43733</td>\n",
       "      <td>Get ready for brand new adventures in the firs...</td>\n",
       "      <td>34</td>\n",
       "      <td>Tabletop Games</td>\n",
       "      <td>12.0</td>\n",
       "      <td>Games</td>\n",
       "      <td>http://www.kickstarter.com/discover/categories...</td>\n",
       "      <td>7072757</td>\n",
       "      <td>US</td>\n",
       "      <td>...</td>\n",
       "      <td>1508523903</td>\n",
       "      <td>https://www.kickstarter.com/projects/seriouspo...</td>\n",
       "      <td>True</td>\n",
       "      <td>True</td>\n",
       "      <td>successful</td>\n",
       "      <td>1508450340</td>\n",
       "      <td>1.000000</td>\n",
       "      <td>1.00000</td>\n",
       "      <td>7.072757e+06</td>\n",
       "      <td>domestic</td>\n",
       "    </tr>\n",
       "  </tbody>\n",
       "</table>\n",
       "<p>20 rows × 42 columns</p>\n",
       "</div>"
      ],
      "text/plain": [
       "            id  backers_count  \\\n",
       "0   1497949659         185341   \n",
       "1   1799979574          78471   \n",
       "2    342886736          62642   \n",
       "3    374744378          83193   \n",
       "4   2103598555          66673   \n",
       "5    545070200          19264   \n",
       "6   1198848775           3199   \n",
       "7   1289129165          27168   \n",
       "8    597041739          88887   \n",
       "9    506924864          68929   \n",
       "10  1010797520          81567   \n",
       "11   565687737          44949   \n",
       "12   865220570          28974   \n",
       "13  1738059832          11313   \n",
       "14   645343012           7713   \n",
       "15  1955357092         219382   \n",
       "16  1033978702          63416   \n",
       "17   429298657          45162   \n",
       "18   604109210           7388   \n",
       "19   647013276          43733   \n",
       "\n",
       "                                                blurb  category_id  \\\n",
       "0   A Year of Sanderson: Enjoy books and swag boxe...           47   \n",
       "1   Color e-paper smartwatch with up to 7 days of ...           28   \n",
       "2   The COOLEST is a portable party disguised as a...           28   \n",
       "3   Euro-inspired dungeon crawling sequel to the 2...           34   \n",
       "4   Two affordable, heart rate-enabled smartwatche...           28   \n",
       "5   A cooperative nightmare horror game experience...           34   \n",
       "6   Expandable capacity (3.6-25kWh) | Power almost...           52   \n",
       "7    A full-featured tripod in a truly portable form.           28   \n",
       "8   Critical Role's The Legend of Vox Machina reun...           29   \n",
       "9   Pebble is a customizable watch. Download new w...           28   \n",
       "10  An officially licensed tabletop roleplaying ga...           34   \n",
       "11  TRAVEL JACKET with built-in Neck Pillow, Eye M...           28   \n",
       "12  The hunger takes hold after the Marvel Univers...           34   \n",
       "13  Print Time Cut by 70% | Smooth 0.1 mm Detail |...          331   \n",
       "14  A revolutionary table that evolves over a life...           34   \n",
       "15  This is a card game for people who are into ki...           34   \n",
       "16  Cracking open the last closed platform: the TV...          270   \n",
       "17  Action-packed adventure board game, full of im...           34   \n",
       "18  Unlock your full creative potential from 3D pr...          331   \n",
       "19  Get ready for brand new adventures in the firs...           34   \n",
       "\n",
       "      category_name  category_parent_id category_parent_name  \\\n",
       "0           Fiction                18.0           Publishing   \n",
       "1    Product Design                 7.0               Design   \n",
       "2    Product Design                 7.0               Design   \n",
       "3    Tabletop Games                12.0                Games   \n",
       "4    Product Design                 7.0               Design   \n",
       "5    Tabletop Games                12.0                Games   \n",
       "6          Hardware                16.0           Technology   \n",
       "7    Product Design                 7.0               Design   \n",
       "8         Animation                11.0         Film & Video   \n",
       "9    Product Design                 7.0               Design   \n",
       "10   Tabletop Games                12.0                Games   \n",
       "11   Product Design                 7.0               Design   \n",
       "12   Tabletop Games                12.0                Games   \n",
       "13      3D Printing                16.0           Technology   \n",
       "14   Tabletop Games                12.0                Games   \n",
       "15   Tabletop Games                12.0                Games   \n",
       "16  Gaming Hardware                12.0                Games   \n",
       "17   Tabletop Games                12.0                Games   \n",
       "18      3D Printing                16.0           Technology   \n",
       "19   Tabletop Games                12.0                Games   \n",
       "\n",
       "                                         category_url  \\\n",
       "0   http://www.kickstarter.com/discover/categories...   \n",
       "1   http://www.kickstarter.com/discover/categories...   \n",
       "2   http://www.kickstarter.com/discover/categories...   \n",
       "3   http://www.kickstarter.com/discover/categories...   \n",
       "4   http://www.kickstarter.com/discover/categories...   \n",
       "5   http://www.kickstarter.com/discover/categories...   \n",
       "6   http://www.kickstarter.com/discover/categories...   \n",
       "7   http://www.kickstarter.com/discover/categories...   \n",
       "8   http://www.kickstarter.com/discover/categories...   \n",
       "9   http://www.kickstarter.com/discover/categories...   \n",
       "10  http://www.kickstarter.com/discover/categories...   \n",
       "11  http://www.kickstarter.com/discover/categories...   \n",
       "12  http://www.kickstarter.com/discover/categories...   \n",
       "13  http://www.kickstarter.com/discover/categories...   \n",
       "14  http://www.kickstarter.com/discover/categories...   \n",
       "15  http://www.kickstarter.com/discover/categories...   \n",
       "16  http://www.kickstarter.com/discover/categories...   \n",
       "17  http://www.kickstarter.com/discover/categories...   \n",
       "18  http://www.kickstarter.com/discover/categories...   \n",
       "19  http://www.kickstarter.com/discover/categories...   \n",
       "\n",
       "    converted_pledged_amount country  ...  profile_state_changed_at  \\\n",
       "0                   41754153      US  ...                1648767693   \n",
       "1                   20338986      US  ...                1427589733   \n",
       "2                   13285226      US  ...                1428100634   \n",
       "3                   12969608      US  ...                1588367201   \n",
       "4                   12779843      US  ...                1467273864   \n",
       "5                   12393139      US  ...                1483997388   \n",
       "6                   12179651      US  ...                1625053977   \n",
       "7                   12143435      US  ...                1563558922   \n",
       "8                   11385449      US  ...                1549660952   \n",
       "9                   10266845      US  ...                1455690795   \n",
       "10                   9535317      US  ...                1630626583   \n",
       "11                   9192055      US  ...                1441299790   \n",
       "12                   9032583      US  ...                1643940081   \n",
       "13                   8881095      US  ...                1653292818   \n",
       "14                   8808136      US  ...                1602350085   \n",
       "15                   8782571      US  ...                1427580690   \n",
       "16                   8596474      US  ...                1425915810   \n",
       "17                   8324792      PL  ...                1623449579   \n",
       "18                   7850866      US  ...                1559831751   \n",
       "19                   7072757      US  ...                1508523903   \n",
       "\n",
       "                                          project_url spotlight staff_pick  \\\n",
       "0   https://www.kickstarter.com/projects/dragonste...      True       True   \n",
       "1   https://www.kickstarter.com/projects/getpebble...      True       True   \n",
       "2   https://www.kickstarter.com/projects/ryangrepp...      True       True   \n",
       "3   https://www.kickstarter.com/projects/frosthave...      True       True   \n",
       "4   https://www.kickstarter.com/projects/getpebble...      True       True   \n",
       "5   https://www.kickstarter.com/projects/poots/kin...      True       True   \n",
       "6   https://www.kickstarter.com/projects/ecoflow/e...      True       True   \n",
       "7   https://www.kickstarter.com/projects/peak-desi...      True       True   \n",
       "8   https://www.kickstarter.com/projects/criticalr...      True       True   \n",
       "9   https://www.kickstarter.com/projects/getpebble...      True       True   \n",
       "10  https://www.kickstarter.com/projects/magpiegam...      True       True   \n",
       "11  https://www.kickstarter.com/projects/baubax/th...      True      False   \n",
       "12  https://www.kickstarter.com/projects/cmon/marv...      True       True   \n",
       "13  https://www.kickstarter.com/projects/ankermake...      True      False   \n",
       "14  https://www.kickstarter.com/projects/wyrmwood/...      True       True   \n",
       "15  https://www.kickstarter.com/projects/elanlee/e...      True       True   \n",
       "16  https://www.kickstarter.com/projects/ouya/ouya...      True       True   \n",
       "17  https://www.kickstarter.com/projects/goonboard...      True       True   \n",
       "18  https://www.kickstarter.com/projects/snapmaker...      True       True   \n",
       "19  https://www.kickstarter.com/projects/seriouspo...      True       True   \n",
       "\n",
       "         state  state_changed_at  static_usd_rate  usd_exchange_rate  \\\n",
       "0   successful        1648767600         1.000000            1.00000   \n",
       "1   successful        1427508015         1.000000            1.00000   \n",
       "2   successful        1409360410         1.000000            1.00000   \n",
       "3   successful        1588366800         1.000000            1.00000   \n",
       "4   successful        1467262800         1.000000            1.00000   \n",
       "5   successful        1483830003         1.000000            1.00000   \n",
       "6   successful        1631540391         1.000000            1.00000   \n",
       "7   successful        1563494400         1.000000            1.00000   \n",
       "8   successful        1555657140         1.000000            1.00000   \n",
       "9   successful        1337396419         1.000000            1.00000   \n",
       "10  successful        1630625400         1.000000            1.00000   \n",
       "11  successful        1441299615         1.000000            1.00000   \n",
       "12  successful        1643940000         1.000000            1.00000   \n",
       "13  successful        1653141551         1.000000            1.00000   \n",
       "14  successful        1602302340         1.000000            1.00000   \n",
       "15  successful        1424397679         1.000000            1.00000   \n",
       "16  successful        1344491772         1.000000            1.00000   \n",
       "17  successful        1623448740         1.218138            1.21696   \n",
       "18  successful        1559829638         1.000000            1.00000   \n",
       "19  successful        1508450340         1.000000            1.00000   \n",
       "\n",
       "     usd_pledged  usd_type  \n",
       "0   4.175415e+07  domestic  \n",
       "1   2.033899e+07  domestic  \n",
       "2   1.328523e+07  domestic  \n",
       "3   1.296961e+07  domestic  \n",
       "4   1.277984e+07  domestic  \n",
       "5   1.239314e+07  domestic  \n",
       "6   1.217965e+07  domestic  \n",
       "7   1.214344e+07  domestic  \n",
       "8   1.138545e+07  domestic  \n",
       "9   1.026685e+07  domestic  \n",
       "10  9.535317e+06  domestic  \n",
       "11  9.192056e+06  domestic  \n",
       "12  9.032583e+06  domestic  \n",
       "13  8.881095e+06  domestic  \n",
       "14  8.808136e+06  domestic  \n",
       "15  8.782572e+06  domestic  \n",
       "16  8.596475e+06  domestic  \n",
       "17  8.332854e+06  domestic  \n",
       "18  7.850867e+06  domestic  \n",
       "19  7.072757e+06  domestic  \n",
       "\n",
       "[20 rows x 42 columns]"
      ]
     },
     "metadata": {},
     "output_type": "display_data"
    }
   ],
   "source": [
    "df = pd.read_csv(r'C:\\Users\\Noki\\AppData\\Local\\Temp\\Temp1_archive.zip\\most_funded_feb_2023.csv')\n",
    "display(df.head(20))"
   ]
  },
  {
   "attachments": {},
   "cell_type": "markdown",
   "metadata": {},
   "source": [
    "### Task 3: Create Visualizations\n",
    "Using matplotlib, create visualizations that answer the following questions about the data. Feel free to use whatever plots and graphs you would prefer to use. After you create the visualization, create a markdown cell below it, describing what relationship was plotted and what insights you gleaned. Make this more than a single sentence. \n",
    "\n",
    "**Bonus points for the more intricate and detailed visualizations!**"
   ]
  },
  {
   "attachments": {},
   "cell_type": "markdown",
   "metadata": {},
   "source": [
    "- What is the distribution of the `category_name` column?"
   ]
  },
  {
   "cell_type": "code",
   "execution_count": null,
   "metadata": {},
   "outputs": [],
   "source": []
  },
  {
   "cell_type": "code",
   "execution_count": null,
   "metadata": {},
   "outputs": [],
   "source": [
    "count = df['category_name'].value_counts()\n",
    "display(count)\n",
    "\n",
    "fig, ax = plt.subplots(figsize = (20,8))\n",
    "x_axis = np.linspace(-30,30, num=60)\n",
    "plt.bar(count.index, count.values)\n",
    "\n",
    "plt.xlabel(r'$Category Name$', fontsize = 17)\n",
    "plt.ylabel(r'$Count$', fontsize = 17)\n",
    "\n",
    "plt.xticks(rotation=90,fontsize = 15)\n",
    "plt.yticks(fontsize = 15)\n",
    "\n",
    "plt.title('Distribution of Category Names', fontsize = 20)\n",
    "plt.tight_layout()"
   ]
  },
  {
   "attachments": {},
   "cell_type": "markdown",
   "metadata": {},
   "source": [
    "Out of all the categories found in the data, there is a significant amount of \"Tabletop games\" and \"Product design\" compared to the reste of the data. \"Musical\" to \"Performance art\" have the lowest counts in the data."
   ]
  },
  {
   "attachments": {},
   "cell_type": "markdown",
   "metadata": {},
   "source": [
    "- Which country has the most projects?"
   ]
  },
  {
   "cell_type": "code",
   "execution_count": null,
   "metadata": {},
   "outputs": [],
   "source": [
    "country_count = df['country'].value_counts()\n",
    "# display(country_count)\n",
    "\n",
    "plt.figure(figsize = (13,10))\n",
    "\n",
    "plt.plot(country_count.index, country_count.values,\n",
    "        label = 'Countries',\n",
    "        color = 'r',\n",
    "        lw = 3,\n",
    "        marker = 'o',\n",
    "        markersize = 6,\n",
    "        markerfacecolor = 'b',\n",
    "        )\n",
    "plt.xlabel('Country', fontsize = 15, fontname = 'fantasy')\n",
    "plt.ylabel('Most Projects', fontsize = 15, fontname = 'fantasy')\n",
    "\n",
    "plt.legend(loc = 'upper right')\n",
    "plt.title('Country with the Most Projects', fontsize = 20, fontname = 'fantasy')\n",
    "plt.show()"
   ]
  },
  {
   "attachments": {},
   "cell_type": "markdown",
   "metadata": {},
   "source": [
    "- What are the top 20 Kickstarter projects?"
   ]
  },
  {
   "cell_type": "code",
   "execution_count": null,
   "metadata": {},
   "outputs": [],
   "source": [
    "top_20 = df.groupby('project_url').sum().sort_values('converted_pledged_amount', ascending=False).head(20)\n",
    "# display(top_20)\n",
    "\n",
    "fig, ax = plt.subplots(figsize = (40,30))\n",
    "plt.bar(top_20.index, top_20['converted_pledged_amount'],\n",
    "        color = 'green',\n",
    "        label = 'Project URL'\n",
    "        )\n",
    "\n",
    "plt.xlabel('Project Url', fontsize = 20)\n",
    "plt.ylabel('Converted Pledged Amount', fontsize = 20)\n",
    "\n",
    "plt.title('Top 20 Kickstarter Projects', fontsize = 25)\n",
    "\n",
    "plt.xticks(rotation=90, fontsize = 20)\n",
    "plt.yticks(fontsize = 20)\n",
    "\n",
    "plt.legend(loc = 'best', fontsize = 20)\n",
    "plt.tight_layout()"
   ]
  },
  {
   "attachments": {},
   "cell_type": "markdown",
   "metadata": {},
   "source": [
    "- Which parent category has the most funded projects?"
   ]
  },
  {
   "cell_type": "code",
   "execution_count": null,
   "metadata": {},
   "outputs": [],
   "source": [
    "top_cat = df.groupby('category_parent_name').sum().sort_values('converted_pledged_amount', ascending=False).head(20)\n",
    "# display(top_cat)\n",
    "\n",
    "fig, ax = plt.subplots(figsize = (10,10))\n",
    "plt.bar(top_cat.index, top_cat['converted_pledged_amount'],\n",
    "        color = 'purple',\n",
    "        label = 'Category Name'\n",
    "        )\n",
    "\n",
    "plt.xlabel('Parent Category', fontsize = 17)\n",
    "plt.ylabel('Converted Pledged Amount', fontsize = 17)\n",
    "\n",
    "plt.title('Category with the Most Funded Projects', fontsize = 25)\n",
    "\n",
    "plt.xticks(rotation=90, fontsize = 17)\n",
    "plt.yticks(fontsize = 17)\n",
    "\n",
    "plt.legend(loc = 'best', fontsize = 20)\n",
    "plt.tight_layout()"
   ]
  },
  {
   "attachments": {},
   "cell_type": "markdown",
   "metadata": {},
   "source": [
    "- Create a box-plot for the `category_parent_id` column"
   ]
  },
  {
   "cell_type": "code",
   "execution_count": 181,
   "metadata": {},
   "outputs": [
    {
     "data": {
      "image/png": "[encoded data removed]",
      "text/plain": [
       "<Figure size 640x480 with 1 Axes>"
      ]
     },
     "metadata": {},
     "output_type": "display_data"
    },
    {
     "data": {
      "image/png": "[encoded data removed]",
      "text/plain": [
       "<Figure size 640x480 with 1 Axes>"
      ]
     },
     "metadata": {},
     "output_type": "display_data"
    }
   ],
   "source": [
    "\"\"\"\n",
    "Not sure if there's missing info? category_parent_id only has number values. Created a bar chart to display frequency of each parent ID\n",
    "\"\"\"\n",
    "plt.boxplot(df['category_parent_id'])\n",
    "\n",
    "plt.ylabel('Category Parent ID')\n",
    "plt.title('Box Plot of Parent ID')\n",
    "plt.axis([0,10,0,20])\n",
    "plt.show()\n",
    "\n",
    "# count the frequency of each category parent ID\n",
    "category_parent_counts = df['category_parent_id'].value_counts()\n",
    "\n",
    "# create a bar chart of the category parent ID distribution\n",
    "category_parent_counts.plot(kind='bar')\n",
    "plt.xlabel('Category Parent ID')\n",
    "plt.ylabel('Frequency')\n",
    "plt.title('Distribution of Category Parent IDs')\n",
    "plt.show()\n"
   ]
  },
  {
   "attachments": {},
   "cell_type": "markdown",
   "metadata": {},
   "source": [
    "- Create a user-defined function that allows a user to input a category and returns a visualization of your choice."
   ]
  },
  {
   "cell_type": "code",
   "execution_count": 210,
   "metadata": {},
   "outputs": [
    {
     "ename": "AttributeError",
     "evalue": "'Axes' object has no attribute 'ylabel'",
     "output_type": "error",
     "traceback": [
      "\u001b[1;31m---------------------------------------------------------------------------\u001b[0m",
      "\u001b[1;31mAttributeError\u001b[0m                            Traceback (most recent call last)",
      "Cell \u001b[1;32mIn[210], line 25\u001b[0m\n\u001b[0;32m     23\u001b[0m \u001b[39m# example usage of the function\u001b[39;00m\n\u001b[0;32m     24\u001b[0m category_id \u001b[39m=\u001b[39m \u001b[39m47\u001b[39m\n\u001b[1;32m---> 25\u001b[0m get_category_parent(category_id)\n",
      "Cell \u001b[1;32mIn[210], line 17\u001b[0m, in \u001b[0;36mget_category_parent\u001b[1;34m(category_id)\u001b[0m\n\u001b[0;32m     15\u001b[0m \u001b[39m# create a horizontal bar chart of the top categories\u001b[39;00m\n\u001b[0;32m     16\u001b[0m ax \u001b[39m=\u001b[39m top_categories\u001b[39m.\u001b[39mplot(kind\u001b[39m=\u001b[39m\u001b[39m'\u001b[39m\u001b[39mbar\u001b[39m\u001b[39m'\u001b[39m)\n\u001b[1;32m---> 17\u001b[0m ax\u001b[39m.\u001b[39;49mylabel(\u001b[39m'\u001b[39m\u001b[39mNumber of Projects\u001b[39m\u001b[39m'\u001b[39m)\n\u001b[0;32m     18\u001b[0m ax\u001b[39m.\u001b[39mtitle(\u001b[39mf\u001b[39m\u001b[39m'\u001b[39m\u001b[39mTop 5 Category Parent Names for Category ID \u001b[39m\u001b[39m{\u001b[39;00mcategory_id\u001b[39m}\u001b[39;00m\u001b[39m'\u001b[39m)\n\u001b[0;32m     20\u001b[0m \u001b[39m# display the chart\u001b[39;00m\n",
      "\u001b[1;31mAttributeError\u001b[0m: 'Axes' object has no attribute 'ylabel'"
     ]
    },
    {
     "data": {
      "image/png": "[encoded data removed]",
      "text/plain": [
       "<Figure size 640x480 with 1 Axes>"
      ]
     },
     "metadata": {},
     "output_type": "display_data"
    }
   ],
   "source": []
  },
  {
   "attachments": {},
   "cell_type": "markdown",
   "metadata": {},
   "source": [
    "## **Part 2:**"
   ]
  },
  {
   "attachments": {},
   "cell_type": "markdown",
   "metadata": {},
   "source": [
    "### Getting Started\n",
    "\n",
    "For part 2, we will be working with the [US Public Food Assistance](https://www.kaggle.com/datasets/jpmiller/publicassistance) dataset. This dataset can be found on Kaggle via the hyperlink provided."
   ]
  },
  {
   "attachments": {},
   "cell_type": "markdown",
   "metadata": {},
   "source": [
    "### Task 1: Imports\n",
    "\n",
    "Import plotly.express. Alias according to industry standard."
   ]
  },
  {
   "cell_type": "code",
   "execution_count": 219,
   "metadata": {},
   "outputs": [],
   "source": [
    "import plotly.express as px\n"
   ]
  },
  {
   "attachments": {},
   "cell_type": "markdown",
   "metadata": {},
   "source": [
    "### Task 2: Load the data\n",
    "Write a function which does the following:\n",
    "- Input: \n",
    "    - Function should take a filepath (str) object\n",
    "- Creates a dataframe using pandas\n",
    "- Lower-case all column headers\n",
    "- Replace the space with an underscore (_) in all column headers\n",
    "- Output:\n",
    "    - Cleaned dataframe object"
   ]
  },
  {
   "cell_type": "code",
   "execution_count": 301,
   "metadata": {},
   "outputs": [
    {
     "data": {
      "text/html": [
       "<div>\n",
       "<style scoped>\n",
       "    .dataframe tbody tr th:only-of-type {\n",
       "        vertical-align: middle;\n",
       "    }\n",
       "\n",
       "    .dataframe tbody tr th {\n",
       "        vertical-align: top;\n",
       "    }\n",
       "\n",
       "    .dataframe thead th {\n",
       "        text-align: right;\n",
       "    }\n",
       "</style>\n",
       "<table border=\"1\" class=\"dataframe\">\n",
       "  <thead>\n",
       "    <tr style=\"text-align: right;\">\n",
       "      <th></th>\n",
       "      <th>fiscal_year</th>\n",
       "      <th>average_participation</th>\n",
       "      <th>average_benefit_per_person</th>\n",
       "      <th>total_benefits(m)</th>\n",
       "      <th>other_costs</th>\n",
       "      <th>total_costs(m)</th>\n",
       "    </tr>\n",
       "  </thead>\n",
       "  <tbody>\n",
       "    <tr>\n",
       "      <th>0</th>\n",
       "      <td>1969</td>\n",
       "      <td>2,878</td>\n",
       "      <td>6.63</td>\n",
       "      <td>228.80</td>\n",
       "      <td>21.70</td>\n",
       "      <td>250.50</td>\n",
       "    </tr>\n",
       "    <tr>\n",
       "      <th>1</th>\n",
       "      <td>1970</td>\n",
       "      <td>4,340</td>\n",
       "      <td>10.55</td>\n",
       "      <td>549.70</td>\n",
       "      <td>27.20</td>\n",
       "      <td>576.90</td>\n",
       "    </tr>\n",
       "    <tr>\n",
       "      <th>2</th>\n",
       "      <td>1971</td>\n",
       "      <td>9,368</td>\n",
       "      <td>13.55</td>\n",
       "      <td>1,522.70</td>\n",
       "      <td>53.20</td>\n",
       "      <td>1,575.90</td>\n",
       "    </tr>\n",
       "    <tr>\n",
       "      <th>3</th>\n",
       "      <td>1972</td>\n",
       "      <td>11,109</td>\n",
       "      <td>13.48</td>\n",
       "      <td>1,797.30</td>\n",
       "      <td>69.40</td>\n",
       "      <td>1,866.70</td>\n",
       "    </tr>\n",
       "    <tr>\n",
       "      <th>4</th>\n",
       "      <td>1973</td>\n",
       "      <td>12,166</td>\n",
       "      <td>14.60</td>\n",
       "      <td>2,131.40</td>\n",
       "      <td>76.00</td>\n",
       "      <td>2,207.40</td>\n",
       "    </tr>\n",
       "    <tr>\n",
       "      <th>5</th>\n",
       "      <td>1974</td>\n",
       "      <td>12,862</td>\n",
       "      <td>17.61</td>\n",
       "      <td>2,718.30</td>\n",
       "      <td>119.20</td>\n",
       "      <td>2,837.50</td>\n",
       "    </tr>\n",
       "    <tr>\n",
       "      <th>6</th>\n",
       "      <td>1975</td>\n",
       "      <td>17,064</td>\n",
       "      <td>21.40</td>\n",
       "      <td>4,385.50</td>\n",
       "      <td>233.20</td>\n",
       "      <td>4,618.70</td>\n",
       "    </tr>\n",
       "    <tr>\n",
       "      <th>7</th>\n",
       "      <td>1976</td>\n",
       "      <td>18,549</td>\n",
       "      <td>23.93</td>\n",
       "      <td>5,326.50</td>\n",
       "      <td>359.00</td>\n",
       "      <td>5,685.50</td>\n",
       "    </tr>\n",
       "    <tr>\n",
       "      <th>8</th>\n",
       "      <td>1977</td>\n",
       "      <td>17,077</td>\n",
       "      <td>24.71</td>\n",
       "      <td>5,067.00</td>\n",
       "      <td>394.00</td>\n",
       "      <td>5,461.00</td>\n",
       "    </tr>\n",
       "    <tr>\n",
       "      <th>9</th>\n",
       "      <td>1978</td>\n",
       "      <td>16,001</td>\n",
       "      <td>26.77</td>\n",
       "      <td>5,139.20</td>\n",
       "      <td>380.50</td>\n",
       "      <td>5,519.70</td>\n",
       "    </tr>\n",
       "    <tr>\n",
       "      <th>10</th>\n",
       "      <td>1979</td>\n",
       "      <td>17,653</td>\n",
       "      <td>30.59</td>\n",
       "      <td>6,480.20</td>\n",
       "      <td>459.60</td>\n",
       "      <td>6,939.80</td>\n",
       "    </tr>\n",
       "    <tr>\n",
       "      <th>11</th>\n",
       "      <td>1980</td>\n",
       "      <td>21,082</td>\n",
       "      <td>34.47</td>\n",
       "      <td>8,720.90</td>\n",
       "      <td>485.60</td>\n",
       "      <td>9,206.50</td>\n",
       "    </tr>\n",
       "    <tr>\n",
       "      <th>12</th>\n",
       "      <td>1981</td>\n",
       "      <td>22,430</td>\n",
       "      <td>39.49</td>\n",
       "      <td>10,629.90</td>\n",
       "      <td>595.40</td>\n",
       "      <td>11,225.20</td>\n",
       "    </tr>\n",
       "    <tr>\n",
       "      <th>13</th>\n",
       "      <td>1982 3]</td>\n",
       "      <td>21,717</td>\n",
       "      <td>39.17</td>\n",
       "      <td>10,208.30</td>\n",
       "      <td>628.40</td>\n",
       "      <td>10,836.70</td>\n",
       "    </tr>\n",
       "    <tr>\n",
       "      <th>14</th>\n",
       "      <td>1983</td>\n",
       "      <td>21,625</td>\n",
       "      <td>42.98</td>\n",
       "      <td>11,152.30</td>\n",
       "      <td>694.80</td>\n",
       "      <td>11,847.10</td>\n",
       "    </tr>\n",
       "    <tr>\n",
       "      <th>15</th>\n",
       "      <td>1984</td>\n",
       "      <td>20,854</td>\n",
       "      <td>42.74</td>\n",
       "      <td>10,696.10</td>\n",
       "      <td>882.60</td>\n",
       "      <td>11,578.80</td>\n",
       "    </tr>\n",
       "    <tr>\n",
       "      <th>16</th>\n",
       "      <td>1985</td>\n",
       "      <td>19,899</td>\n",
       "      <td>44.99</td>\n",
       "      <td>10,743.60</td>\n",
       "      <td>959.60</td>\n",
       "      <td>11,703.20</td>\n",
       "    </tr>\n",
       "    <tr>\n",
       "      <th>17</th>\n",
       "      <td>1986</td>\n",
       "      <td>19,429</td>\n",
       "      <td>45.49</td>\n",
       "      <td>10,605.20</td>\n",
       "      <td>1,033.20</td>\n",
       "      <td>11,638.40</td>\n",
       "    </tr>\n",
       "    <tr>\n",
       "      <th>18</th>\n",
       "      <td>1987</td>\n",
       "      <td>19,113</td>\n",
       "      <td>45.78</td>\n",
       "      <td>10,500.30</td>\n",
       "      <td>1,103.90</td>\n",
       "      <td>11,604.20</td>\n",
       "    </tr>\n",
       "    <tr>\n",
       "      <th>19</th>\n",
       "      <td>1988</td>\n",
       "      <td>18,645</td>\n",
       "      <td>49.83</td>\n",
       "      <td>11,149.10</td>\n",
       "      <td>1,167.70</td>\n",
       "      <td>12,316.80</td>\n",
       "    </tr>\n",
       "    <tr>\n",
       "      <th>20</th>\n",
       "      <td>1989</td>\n",
       "      <td>18,806</td>\n",
       "      <td>51.71</td>\n",
       "      <td>11,669.78</td>\n",
       "      <td>1,231.81</td>\n",
       "      <td>12,901.59</td>\n",
       "    </tr>\n",
       "    <tr>\n",
       "      <th>21</th>\n",
       "      <td>1990</td>\n",
       "      <td>20,049</td>\n",
       "      <td>58.78</td>\n",
       "      <td>14,142.79</td>\n",
       "      <td>1,304.47</td>\n",
       "      <td>15,447.26</td>\n",
       "    </tr>\n",
       "    <tr>\n",
       "      <th>22</th>\n",
       "      <td>1991</td>\n",
       "      <td>22,625</td>\n",
       "      <td>63.78</td>\n",
       "      <td>17,315.77</td>\n",
       "      <td>1,431.50</td>\n",
       "      <td>18,747.27</td>\n",
       "    </tr>\n",
       "    <tr>\n",
       "      <th>23</th>\n",
       "      <td>1992</td>\n",
       "      <td>25,407</td>\n",
       "      <td>68.57</td>\n",
       "      <td>20,905.68</td>\n",
       "      <td>1,556.66</td>\n",
       "      <td>22,462.34</td>\n",
       "    </tr>\n",
       "    <tr>\n",
       "      <th>24</th>\n",
       "      <td>1993</td>\n",
       "      <td>26,987</td>\n",
       "      <td>67.95</td>\n",
       "      <td>22,006.03</td>\n",
       "      <td>1,646.94</td>\n",
       "      <td>23,652.97</td>\n",
       "    </tr>\n",
       "    <tr>\n",
       "      <th>25</th>\n",
       "      <td>1994</td>\n",
       "      <td>27,474</td>\n",
       "      <td>69.00</td>\n",
       "      <td>22,748.58</td>\n",
       "      <td>1,744.87</td>\n",
       "      <td>24,493.45</td>\n",
       "    </tr>\n",
       "    <tr>\n",
       "      <th>26</th>\n",
       "      <td>1995</td>\n",
       "      <td>26,619</td>\n",
       "      <td>71.27</td>\n",
       "      <td>22,764.07</td>\n",
       "      <td>1,856.30</td>\n",
       "      <td>24,620.37</td>\n",
       "    </tr>\n",
       "    <tr>\n",
       "      <th>27</th>\n",
       "      <td>1996</td>\n",
       "      <td>25,543</td>\n",
       "      <td>73.21</td>\n",
       "      <td>22,440.11</td>\n",
       "      <td>1,890.88</td>\n",
       "      <td>24,330.99</td>\n",
       "    </tr>\n",
       "    <tr>\n",
       "      <th>28</th>\n",
       "      <td>1997</td>\n",
       "      <td>22,858</td>\n",
       "      <td>71.27</td>\n",
       "      <td>19,548.86</td>\n",
       "      <td>1,958.68</td>\n",
       "      <td>21,507.55</td>\n",
       "    </tr>\n",
       "    <tr>\n",
       "      <th>29</th>\n",
       "      <td>1998</td>\n",
       "      <td>19,791</td>\n",
       "      <td>71.12</td>\n",
       "      <td>16,890.49</td>\n",
       "      <td>2,097.84</td>\n",
       "      <td>18,988.32</td>\n",
       "    </tr>\n",
       "    <tr>\n",
       "      <th>30</th>\n",
       "      <td>1999</td>\n",
       "      <td>18,183</td>\n",
       "      <td>72.27</td>\n",
       "      <td>15,769.40</td>\n",
       "      <td>2,051.52</td>\n",
       "      <td>17,820.92</td>\n",
       "    </tr>\n",
       "    <tr>\n",
       "      <th>31</th>\n",
       "      <td>2000</td>\n",
       "      <td>17,194</td>\n",
       "      <td>72.62</td>\n",
       "      <td>14,983.32</td>\n",
       "      <td>2,070.70</td>\n",
       "      <td>17,054.02</td>\n",
       "    </tr>\n",
       "    <tr>\n",
       "      <th>32</th>\n",
       "      <td>2001</td>\n",
       "      <td>17,318</td>\n",
       "      <td>74.81</td>\n",
       "      <td>15,547.39</td>\n",
       "      <td>2,242.00</td>\n",
       "      <td>17,789.39</td>\n",
       "    </tr>\n",
       "    <tr>\n",
       "      <th>33</th>\n",
       "      <td>2002</td>\n",
       "      <td>19,096</td>\n",
       "      <td>79.67</td>\n",
       "      <td>18,256.20</td>\n",
       "      <td>2,380.82</td>\n",
       "      <td>20,637.02</td>\n",
       "    </tr>\n",
       "    <tr>\n",
       "      <th>34</th>\n",
       "      <td>2003</td>\n",
       "      <td>21,250</td>\n",
       "      <td>83.94</td>\n",
       "      <td>21,404.28</td>\n",
       "      <td>2,412.01</td>\n",
       "      <td>23,816.28</td>\n",
       "    </tr>\n",
       "    <tr>\n",
       "      <th>35</th>\n",
       "      <td>2004</td>\n",
       "      <td>23,811</td>\n",
       "      <td>86.16</td>\n",
       "      <td>24,618.89</td>\n",
       "      <td>2,480.14</td>\n",
       "      <td>27,099.03</td>\n",
       "    </tr>\n",
       "    <tr>\n",
       "      <th>36</th>\n",
       "      <td>2005</td>\n",
       "      <td>25,628</td>\n",
       "      <td>92.89</td>\n",
       "      <td>28,567.88</td>\n",
       "      <td>2,504.13</td>\n",
       "      <td>31,072.01</td>\n",
       "    </tr>\n",
       "    <tr>\n",
       "      <th>37</th>\n",
       "      <td>2006</td>\n",
       "      <td>26,549</td>\n",
       "      <td>94.75</td>\n",
       "      <td>30,187.35</td>\n",
       "      <td>2,715.72</td>\n",
       "      <td>32,903.06</td>\n",
       "    </tr>\n",
       "    <tr>\n",
       "      <th>38</th>\n",
       "      <td>2007</td>\n",
       "      <td>26,316</td>\n",
       "      <td>96.18</td>\n",
       "      <td>30,373.27</td>\n",
       "      <td>2,800.25</td>\n",
       "      <td>33,173.52</td>\n",
       "    </tr>\n",
       "    <tr>\n",
       "      <th>39</th>\n",
       "      <td>2008</td>\n",
       "      <td>28,223</td>\n",
       "      <td>102.19</td>\n",
       "      <td>34,608.40</td>\n",
       "      <td>3,031.25</td>\n",
       "      <td>37,639.64</td>\n",
       "    </tr>\n",
       "    <tr>\n",
       "      <th>40</th>\n",
       "      <td>2009</td>\n",
       "      <td>33,490</td>\n",
       "      <td>125.31</td>\n",
       "      <td>50,359.92</td>\n",
       "      <td>3,260.00</td>\n",
       "      <td>53,619.92</td>\n",
       "    </tr>\n",
       "    <tr>\n",
       "      <th>41</th>\n",
       "      <td>2010</td>\n",
       "      <td>40,302</td>\n",
       "      <td>133.79</td>\n",
       "      <td>64,702.16</td>\n",
       "      <td>3,581.30</td>\n",
       "      <td>68,283.47</td>\n",
       "    </tr>\n",
       "    <tr>\n",
       "      <th>42</th>\n",
       "      <td>2011</td>\n",
       "      <td>44,709</td>\n",
       "      <td>133.85</td>\n",
       "      <td>71,810.92</td>\n",
       "      <td>3,875.62</td>\n",
       "      <td>75,686.54</td>\n",
       "    </tr>\n",
       "    <tr>\n",
       "      <th>43</th>\n",
       "      <td>2012</td>\n",
       "      <td>46,609</td>\n",
       "      <td>133.41</td>\n",
       "      <td>74,619.34</td>\n",
       "      <td>3,791.75</td>\n",
       "      <td>78,411.10</td>\n",
       "    </tr>\n",
       "    <tr>\n",
       "      <th>44</th>\n",
       "      <td>2013</td>\n",
       "      <td>47,636</td>\n",
       "      <td>133.07</td>\n",
       "      <td>76,066.32</td>\n",
       "      <td>3,792.71</td>\n",
       "      <td>79,859.03</td>\n",
       "    </tr>\n",
       "    <tr>\n",
       "      <th>45</th>\n",
       "      <td>2014</td>\n",
       "      <td>46,664</td>\n",
       "      <td>125.01</td>\n",
       "      <td>69,998.84</td>\n",
       "      <td>4,061.49</td>\n",
       "      <td>74,060.33</td>\n",
       "    </tr>\n",
       "    <tr>\n",
       "      <th>46</th>\n",
       "      <td>2015</td>\n",
       "      <td>45,767</td>\n",
       "      <td>126.81</td>\n",
       "      <td>69,645.14</td>\n",
       "      <td>4,301.03</td>\n",
       "      <td>73,946.17</td>\n",
       "    </tr>\n",
       "    <tr>\n",
       "      <th>47</th>\n",
       "      <td>2016</td>\n",
       "      <td>44,220</td>\n",
       "      <td>125.40</td>\n",
       "      <td>66,539.27</td>\n",
       "      <td>4,374.28</td>\n",
       "      <td>70,913.55</td>\n",
       "    </tr>\n",
       "    <tr>\n",
       "      <th>48</th>\n",
       "      <td>2017</td>\n",
       "      <td>42,317</td>\n",
       "      <td>125.47</td>\n",
       "      <td>63,711.05</td>\n",
       "      <td>4,463.67</td>\n",
       "      <td>68,174.72</td>\n",
       "    </tr>\n",
       "    <tr>\n",
       "      <th>49</th>\n",
       "      <td>2018</td>\n",
       "      <td>40,776</td>\n",
       "      <td>124.50</td>\n",
       "      <td>60,916.85</td>\n",
       "      <td>4,529.55</td>\n",
       "      <td>65,446.40</td>\n",
       "    </tr>\n",
       "    <tr>\n",
       "      <th>50</th>\n",
       "      <td>2019</td>\n",
       "      <td>35,703</td>\n",
       "      <td>129.83</td>\n",
       "      <td>55,621.88</td>\n",
       "      <td>4,744.33</td>\n",
       "      <td>60,366.21</td>\n",
       "    </tr>\n",
       "  </tbody>\n",
       "</table>\n",
       "</div>"
      ],
      "text/plain": [
       "   fiscal_year average_participation  average_benefit_per_person  \\\n",
       "0         1969                 2,878                        6.63   \n",
       "1         1970                 4,340                       10.55   \n",
       "2         1971                 9,368                       13.55   \n",
       "3         1972                11,109                       13.48   \n",
       "4         1973                12,166                       14.60   \n",
       "5         1974                12,862                       17.61   \n",
       "6         1975                17,064                       21.40   \n",
       "7         1976                18,549                       23.93   \n",
       "8         1977                17,077                       24.71   \n",
       "9         1978                16,001                       26.77   \n",
       "10        1979                17,653                       30.59   \n",
       "11        1980                21,082                       34.47   \n",
       "12        1981                22,430                       39.49   \n",
       "13     1982 3]                21,717                       39.17   \n",
       "14        1983                21,625                       42.98   \n",
       "15        1984                20,854                       42.74   \n",
       "16        1985                19,899                       44.99   \n",
       "17        1986                19,429                       45.49   \n",
       "18        1987                19,113                       45.78   \n",
       "19        1988                18,645                       49.83   \n",
       "20        1989                18,806                       51.71   \n",
       "21        1990                20,049                       58.78   \n",
       "22        1991                22,625                       63.78   \n",
       "23        1992                25,407                       68.57   \n",
       "24        1993                26,987                       67.95   \n",
       "25        1994                27,474                       69.00   \n",
       "26        1995                26,619                       71.27   \n",
       "27        1996                25,543                       73.21   \n",
       "28        1997                22,858                       71.27   \n",
       "29        1998                19,791                       71.12   \n",
       "30        1999                18,183                       72.27   \n",
       "31        2000                17,194                       72.62   \n",
       "32        2001                17,318                       74.81   \n",
       "33        2002                19,096                       79.67   \n",
       "34        2003                21,250                       83.94   \n",
       "35        2004                23,811                       86.16   \n",
       "36        2005                25,628                       92.89   \n",
       "37        2006                26,549                       94.75   \n",
       "38        2007                26,316                       96.18   \n",
       "39        2008                28,223                      102.19   \n",
       "40        2009                33,490                      125.31   \n",
       "41        2010                40,302                      133.79   \n",
       "42        2011                44,709                      133.85   \n",
       "43        2012                46,609                      133.41   \n",
       "44        2013                47,636                      133.07   \n",
       "45        2014                46,664                      125.01   \n",
       "46        2015                45,767                      126.81   \n",
       "47        2016                44,220                      125.40   \n",
       "48        2017                42,317                      125.47   \n",
       "49        2018                40,776                      124.50   \n",
       "50        2019                35,703                      129.83   \n",
       "\n",
       "   total_benefits(m) other_costs total_costs(m)  \n",
       "0             228.80       21.70         250.50  \n",
       "1             549.70       27.20         576.90  \n",
       "2           1,522.70       53.20       1,575.90  \n",
       "3           1,797.30       69.40       1,866.70  \n",
       "4           2,131.40       76.00       2,207.40  \n",
       "5           2,718.30      119.20       2,837.50  \n",
       "6           4,385.50      233.20       4,618.70  \n",
       "7           5,326.50      359.00       5,685.50  \n",
       "8           5,067.00      394.00       5,461.00  \n",
       "9           5,139.20      380.50       5,519.70  \n",
       "10          6,480.20      459.60       6,939.80  \n",
       "11          8,720.90      485.60       9,206.50  \n",
       "12         10,629.90      595.40      11,225.20  \n",
       "13         10,208.30      628.40      10,836.70  \n",
       "14         11,152.30      694.80      11,847.10  \n",
       "15         10,696.10      882.60      11,578.80  \n",
       "16         10,743.60      959.60      11,703.20  \n",
       "17         10,605.20    1,033.20      11,638.40  \n",
       "18         10,500.30    1,103.90      11,604.20  \n",
       "19         11,149.10    1,167.70      12,316.80  \n",
       "20         11,669.78    1,231.81      12,901.59  \n",
       "21         14,142.79    1,304.47      15,447.26  \n",
       "22         17,315.77    1,431.50      18,747.27  \n",
       "23         20,905.68    1,556.66      22,462.34  \n",
       "24         22,006.03    1,646.94      23,652.97  \n",
       "25         22,748.58    1,744.87      24,493.45  \n",
       "26         22,764.07    1,856.30      24,620.37  \n",
       "27         22,440.11    1,890.88      24,330.99  \n",
       "28         19,548.86    1,958.68      21,507.55  \n",
       "29         16,890.49    2,097.84      18,988.32  \n",
       "30         15,769.40    2,051.52      17,820.92  \n",
       "31         14,983.32    2,070.70      17,054.02  \n",
       "32         15,547.39    2,242.00      17,789.39  \n",
       "33         18,256.20    2,380.82      20,637.02  \n",
       "34         21,404.28    2,412.01      23,816.28  \n",
       "35         24,618.89    2,480.14      27,099.03  \n",
       "36         28,567.88    2,504.13      31,072.01  \n",
       "37         30,187.35    2,715.72      32,903.06  \n",
       "38         30,373.27    2,800.25      33,173.52  \n",
       "39         34,608.40    3,031.25      37,639.64  \n",
       "40         50,359.92    3,260.00      53,619.92  \n",
       "41         64,702.16    3,581.30      68,283.47  \n",
       "42         71,810.92    3,875.62      75,686.54  \n",
       "43         74,619.34    3,791.75      78,411.10  \n",
       "44         76,066.32    3,792.71      79,859.03  \n",
       "45         69,998.84    4,061.49      74,060.33  \n",
       "46         69,645.14    4,301.03      73,946.17  \n",
       "47         66,539.27    4,374.28      70,913.55  \n",
       "48         63,711.05    4,463.67      68,174.72  \n",
       "49         60,916.85    4,529.55      65,446.40  \n",
       "50         55,621.88    4,744.33      60,366.21  "
      ]
     },
     "metadata": {},
     "output_type": "display_data"
    }
   ],
   "source": [
    "# Function should take filepath\n",
    "# Create df with pandas\n",
    "# column headers .lower()\n",
    "# colummn headers replace space with _\n",
    "\n",
    "file = r'C:\\Users\\Noki\\AppData\\Local\\Temp\\Temp1_archive (1).zip\\SNAP_history_1969_2019.csv'\n",
    "\n",
    "def clean_data(filepath):\n",
    "    df = pd.read_csv(filepath)\n",
    "    df.columns = [col.lower().replace(' ', '_') for col in df.columns]\n",
    "\n",
    "    return df\n",
    "\n",
    "# Provided csv file with the column headers all lowercase and with an (_) for the spaces\n",
    "clean_df = clean_data(file)\n",
    "display(clean_df)"
   ]
  },
  {
   "cell_type": "code",
   "execution_count": null,
   "metadata": {},
   "outputs": [],
   "source": [
    "display(clean_df)"
   ]
  },
  {
   "attachments": {},
   "cell_type": "markdown",
   "metadata": {},
   "source": [
    "### Task 3: Basic EDA\n",
    "- Using plotly express, create a violin plot of each numerical feature in the data."
   ]
  },
  {
   "cell_type": "code",
   "execution_count": 255,
   "metadata": {},
   "outputs": [
    {
     "data": {
      "application/vnd.plotly.v1+json": {
       "config": {
        "plotlyServerURL": "https://plot.ly"
       },
       "data": [
        {
         "alignmentgroup": "True",
         "box": {
          "visible": false
         },
         "hovertemplate": "average_benefit_per_person=6.63<br>fiscal_year=%{x}<br>value=%{y}<extra></extra>",
         "legendgroup": "6.63",
         "marker": {
          "color": "#636efa"
         },
         "name": "6.63",
         "offsetgroup": "6.63",
         "orientation": "v",
         "points": "all",
         "scalegroup": "True",
         "showlegend": true,
         "type": "violin",
         "x": [
          "1969",
          "1969"
         ],
         "x0": " ",
         "xaxis": "x",
         "y": [
          "250.50",
          "228.80"
         ],
         "y0": " ",
         "yaxis": "y"
        },
        {
         "alignmentgroup": "True",
         "box": {
          "visible": false
         },
         "hovertemplate": "average_benefit_per_person=10.55<br>fiscal_year=%{x}<br>value=%{y}<extra></extra>",
         "legendgroup": "10.55",
         "marker": {
          "color": "#EF553B"
         },
         "name": "10.55",
         "offsetgroup": "10.55",
         "orientation": "v",
         "points": "all",
         "scalegroup": "True",
         "showlegend": true,
         "type": "violin",
         "x": [
          "1970",
          "1970"
         ],
         "x0": " ",
         "xaxis": "x",
         "y": [
          "576.90",
          "549.70"
         ],
         "y0": " ",
         "yaxis": "y"
        },
        {
         "alignmentgroup": "True",
         "box": {
          "visible": false
         },
         "hovertemplate": "average_benefit_per_person=13.55<br>fiscal_year=%{x}<br>value=%{y}<extra></extra>",
         "legendgroup": "13.55",
         "marker": {
          "color": "#00cc96"
         },
         "name": "13.55",
         "offsetgroup": "13.55",
         "orientation": "v",
         "points": "all",
         "scalegroup": "True",
         "showlegend": true,
         "type": "violin",
         "x": [
          "1971",
          "1971"
         ],
         "x0": " ",
         "xaxis": "x",
         "y": [
          "1,575.90",
          "1,522.70"
         ],
         "y0": " ",
         "yaxis": "y"
        },
        {
         "alignmentgroup": "True",
         "box": {
          "visible": false
         },
         "hovertemplate": "average_benefit_per_person=13.48<br>fiscal_year=%{x}<br>value=%{y}<extra></extra>",
         "legendgroup": "13.48",
         "marker": {
          "color": "#ab63fa"
         },
         "name": "13.48",
         "offsetgroup": "13.48",
         "orientation": "v",
         "points": "all",
         "scalegroup": "True",
         "showlegend": true,
         "type": "violin",
         "x": [
          "1972",
          "1972"
         ],
         "x0": " ",
         "xaxis": "x",
         "y": [
          "1,866.70",
          "1,797.30"
         ],
         "y0": " ",
         "yaxis": "y"
        },
        {
         "alignmentgroup": "True",
         "box": {
          "visible": false
         },
         "hovertemplate": "average_benefit_per_person=14.6<br>fiscal_year=%{x}<br>value=%{y}<extra></extra>",
         "legendgroup": "14.6",
         "marker": {
          "color": "#FFA15A"
         },
         "name": "14.6",
         "offsetgroup": "14.6",
         "orientation": "v",
         "points": "all",
         "scalegroup": "True",
         "showlegend": true,
         "type": "violin",
         "x": [
          "1973",
          "1973"
         ],
         "x0": " ",
         "xaxis": "x",
         "y": [
          "2,207.40",
          "2,131.40"
         ],
         "y0": " ",
         "yaxis": "y"
        },
        {
         "alignmentgroup": "True",
         "box": {
          "visible": false
         },
         "hovertemplate": "average_benefit_per_person=17.61<br>fiscal_year=%{x}<br>value=%{y}<extra></extra>",
         "legendgroup": "17.61",
         "marker": {
          "color": "#19d3f3"
         },
         "name": "17.61",
         "offsetgroup": "17.61",
         "orientation": "v",
         "points": "all",
         "scalegroup": "True",
         "showlegend": true,
         "type": "violin",
         "x": [
          "1974",
          "1974"
         ],
         "x0": " ",
         "xaxis": "x",
         "y": [
          "2,837.50",
          "2,718.30"
         ],
         "y0": " ",
         "yaxis": "y"
        },
        {
         "alignmentgroup": "True",
         "box": {
          "visible": false
         },
         "hovertemplate": "average_benefit_per_person=21.4<br>fiscal_year=%{x}<br>value=%{y}<extra></extra>",
         "legendgroup": "21.4",
         "marker": {
          "color": "#FF6692"
         },
         "name": "21.4",
         "offsetgroup": "21.4",
         "orientation": "v",
         "points": "all",
         "scalegroup": "True",
         "showlegend": true,
         "type": "violin",
         "x": [
          "1975",
          "1975"
         ],
         "x0": " ",
         "xaxis": "x",
         "y": [
          "4,618.70",
          "4,385.50"
         ],
         "y0": " ",
         "yaxis": "y"
        },
        {
         "alignmentgroup": "True",
         "box": {
          "visible": false
         },
         "hovertemplate": "average_benefit_per_person=23.93<br>fiscal_year=%{x}<br>value=%{y}<extra></extra>",
         "legendgroup": "23.93",
         "marker": {
          "color": "#B6E880"
         },
         "name": "23.93",
         "offsetgroup": "23.93",
         "orientation": "v",
         "points": "all",
         "scalegroup": "True",
         "showlegend": true,
         "type": "violin",
         "x": [
          "1976",
          "1976"
         ],
         "x0": " ",
         "xaxis": "x",
         "y": [
          "5,685.50",
          "5,326.50"
         ],
         "y0": " ",
         "yaxis": "y"
        },
        {
         "alignmentgroup": "True",
         "box": {
          "visible": false
         },
         "hovertemplate": "average_benefit_per_person=24.71<br>fiscal_year=%{x}<br>value=%{y}<extra></extra>",
         "legendgroup": "24.71",
         "marker": {
          "color": "#FF97FF"
         },
         "name": "24.71",
         "offsetgroup": "24.71",
         "orientation": "v",
         "points": "all",
         "scalegroup": "True",
         "showlegend": true,
         "type": "violin",
         "x": [
          "1977",
          "1977"
         ],
         "x0": " ",
         "xaxis": "x",
         "y": [
          "5,461.00",
          "5,067.00"
         ],
         "y0": " ",
         "yaxis": "y"
        },
        {
         "alignmentgroup": "True",
         "box": {
          "visible": false
         },
         "hovertemplate": "average_benefit_per_person=26.77<br>fiscal_year=%{x}<br>value=%{y}<extra></extra>",
         "legendgroup": "26.77",
         "marker": {
          "color": "#FECB52"
         },
         "name": "26.77",
         "offsetgroup": "26.77",
         "orientation": "v",
         "points": "all",
         "scalegroup": "True",
         "showlegend": true,
         "type": "violin",
         "x": [
          "1978",
          "1978"
         ],
         "x0": " ",
         "xaxis": "x",
         "y": [
          "5,519.70",
          "5,139.20"
         ],
         "y0": " ",
         "yaxis": "y"
        },
        {
         "alignmentgroup": "True",
         "box": {
          "visible": false
         },
         "hovertemplate": "average_benefit_per_person=30.59<br>fiscal_year=%{x}<br>value=%{y}<extra></extra>",
         "legendgroup": "30.59",
         "marker": {
          "color": "#636efa"
         },
         "name": "30.59",
         "offsetgroup": "30.59",
         "orientation": "v",
         "points": "all",
         "scalegroup": "True",
         "showlegend": true,
         "type": "violin",
         "x": [
          "1979",
          "1979"
         ],
         "x0": " ",
         "xaxis": "x",
         "y": [
          "6,939.80",
          "6,480.20"
         ],
         "y0": " ",
         "yaxis": "y"
        },
        {
         "alignmentgroup": "True",
         "box": {
          "visible": false
         },
         "hovertemplate": "average_benefit_per_person=34.47<br>fiscal_year=%{x}<br>value=%{y}<extra></extra>",
         "legendgroup": "34.47",
         "marker": {
          "color": "#EF553B"
         },
         "name": "34.47",
         "offsetgroup": "34.47",
         "orientation": "v",
         "points": "all",
         "scalegroup": "True",
         "showlegend": true,
         "type": "violin",
         "x": [
          "1980",
          "1980"
         ],
         "x0": " ",
         "xaxis": "x",
         "y": [
          "9,206.50",
          "8,720.90"
         ],
         "y0": " ",
         "yaxis": "y"
        },
        {
         "alignmentgroup": "True",
         "box": {
          "visible": false
         },
         "hovertemplate": "average_benefit_per_person=39.49<br>fiscal_year=%{x}<br>value=%{y}<extra></extra>",
         "legendgroup": "39.49",
         "marker": {
          "color": "#00cc96"
         },
         "name": "39.49",
         "offsetgroup": "39.49",
         "orientation": "v",
         "points": "all",
         "scalegroup": "True",
         "showlegend": true,
         "type": "violin",
         "x": [
          "1981",
          "1981"
         ],
         "x0": " ",
         "xaxis": "x",
         "y": [
          "11,225.20",
          "10,629.90"
         ],
         "y0": " ",
         "yaxis": "y"
        },
        {
         "alignmentgroup": "True",
         "box": {
          "visible": false
         },
         "hovertemplate": "average_benefit_per_person=39.17<br>fiscal_year=%{x}<br>value=%{y}<extra></extra>",
         "legendgroup": "39.17",
         "marker": {
          "color": "#ab63fa"
         },
         "name": "39.17",
         "offsetgroup": "39.17",
         "orientation": "v",
         "points": "all",
         "scalegroup": "True",
         "showlegend": true,
         "type": "violin",
         "x": [
          "1982 3]",
          "1982 3]"
         ],
         "x0": " ",
         "xaxis": "x",
         "y": [
          "10,836.70",
          "10,208.30"
         ],
         "y0": " ",
         "yaxis": "y"
        },
        {
         "alignmentgroup": "True",
         "box": {
          "visible": false
         },
         "hovertemplate": "average_benefit_per_person=42.98<br>fiscal_year=%{x}<br>value=%{y}<extra></extra>",
         "legendgroup": "42.98",
         "marker": {
          "color": "#FFA15A"
         },
         "name": "42.98",
         "offsetgroup": "42.98",
         "orientation": "v",
         "points": "all",
         "scalegroup": "True",
         "showlegend": true,
         "type": "violin",
         "x": [
          "1983",
          "1983"
         ],
         "x0": " ",
         "xaxis": "x",
         "y": [
          "11,847.10",
          "11,152.30"
         ],
         "y0": " ",
         "yaxis": "y"
        },
        {
         "alignmentgroup": "True",
         "box": {
          "visible": false
         },
         "hovertemplate": "average_benefit_per_person=42.74<br>fiscal_year=%{x}<br>value=%{y}<extra></extra>",
         "legendgroup": "42.74",
         "marker": {
          "color": "#19d3f3"
         },
         "name": "42.74",
         "offsetgroup": "42.74",
         "orientation": "v",
         "points": "all",
         "scalegroup": "True",
         "showlegend": true,
         "type": "violin",
         "x": [
          "1984",
          "1984"
         ],
         "x0": " ",
         "xaxis": "x",
         "y": [
          "11,578.80",
          "10,696.10"
         ],
         "y0": " ",
         "yaxis": "y"
        },
        {
         "alignmentgroup": "True",
         "box": {
          "visible": false
         },
         "hovertemplate": "average_benefit_per_person=44.99<br>fiscal_year=%{x}<br>value=%{y}<extra></extra>",
         "legendgroup": "44.99",
         "marker": {
          "color": "#FF6692"
         },
         "name": "44.99",
         "offsetgroup": "44.99",
         "orientation": "v",
         "points": "all",
         "scalegroup": "True",
         "showlegend": true,
         "type": "violin",
         "x": [
          "1985",
          "1985"
         ],
         "x0": " ",
         "xaxis": "x",
         "y": [
          "11,703.20",
          "10,743.60"
         ],
         "y0": " ",
         "yaxis": "y"
        },
        {
         "alignmentgroup": "True",
         "box": {
          "visible": false
         },
         "hovertemplate": "average_benefit_per_person=45.49<br>fiscal_year=%{x}<br>value=%{y}<extra></extra>",
         "legendgroup": "45.49",
         "marker": {
          "color": "#B6E880"
         },
         "name": "45.49",
         "offsetgroup": "45.49",
         "orientation": "v",
         "points": "all",
         "scalegroup": "True",
         "showlegend": true,
         "type": "violin",
         "x": [
          "1986",
          "1986"
         ],
         "x0": " ",
         "xaxis": "x",
         "y": [
          "11,638.40",
          "10,605.20"
         ],
         "y0": " ",
         "yaxis": "y"
        },
        {
         "alignmentgroup": "True",
         "box": {
          "visible": false
         },
         "hovertemplate": "average_benefit_per_person=45.78<br>fiscal_year=%{x}<br>value=%{y}<extra></extra>",
         "legendgroup": "45.78",
         "marker": {
          "color": "#FF97FF"
         },
         "name": "45.78",
         "offsetgroup": "45.78",
         "orientation": "v",
         "points": "all",
         "scalegroup": "True",
         "showlegend": true,
         "type": "violin",
         "x": [
          "1987",
          "1987"
         ],
         "x0": " ",
         "xaxis": "x",
         "y": [
          "11,604.20",
          "10,500.30"
         ],
         "y0": " ",
         "yaxis": "y"
        },
        {
         "alignmentgroup": "True",
         "box": {
          "visible": false
         },
         "hovertemplate": "average_benefit_per_person=49.83<br>fiscal_year=%{x}<br>value=%{y}<extra></extra>",
         "legendgroup": "49.83",
         "marker": {
          "color": "#FECB52"
         },
         "name": "49.83",
         "offsetgroup": "49.83",
         "orientation": "v",
         "points": "all",
         "scalegroup": "True",
         "showlegend": true,
         "type": "violin",
         "x": [
          "1988",
          "1988"
         ],
         "x0": " ",
         "xaxis": "x",
         "y": [
          "12,316.80",
          "11,149.10"
         ],
         "y0": " ",
         "yaxis": "y"
        },
        {
         "alignmentgroup": "True",
         "box": {
          "visible": false
         },
         "hovertemplate": "average_benefit_per_person=51.71<br>fiscal_year=%{x}<br>value=%{y}<extra></extra>",
         "legendgroup": "51.71",
         "marker": {
          "color": "#636efa"
         },
         "name": "51.71",
         "offsetgroup": "51.71",
         "orientation": "v",
         "points": "all",
         "scalegroup": "True",
         "showlegend": true,
         "type": "violin",
         "x": [
          "1989",
          "1989"
         ],
         "x0": " ",
         "xaxis": "x",
         "y": [
          "12,901.59",
          "11,669.78"
         ],
         "y0": " ",
         "yaxis": "y"
        },
        {
         "alignmentgroup": "True",
         "box": {
          "visible": false
         },
         "hovertemplate": "average_benefit_per_person=58.78<br>fiscal_year=%{x}<br>value=%{y}<extra></extra>",
         "legendgroup": "58.78",
         "marker": {
          "color": "#EF553B"
         },
         "name": "58.78",
         "offsetgroup": "58.78",
         "orientation": "v",
         "points": "all",
         "scalegroup": "True",
         "showlegend": true,
         "type": "violin",
         "x": [
          "1990",
          "1990"
         ],
         "x0": " ",
         "xaxis": "x",
         "y": [
          "15,447.26",
          "14,142.79"
         ],
         "y0": " ",
         "yaxis": "y"
        },
        {
         "alignmentgroup": "True",
         "box": {
          "visible": false
         },
         "hovertemplate": "average_benefit_per_person=63.78<br>fiscal_year=%{x}<br>value=%{y}<extra></extra>",
         "legendgroup": "63.78",
         "marker": {
          "color": "#00cc96"
         },
         "name": "63.78",
         "offsetgroup": "63.78",
         "orientation": "v",
         "points": "all",
         "scalegroup": "True",
         "showlegend": true,
         "type": "violin",
         "x": [
          "1991",
          "1991"
         ],
         "x0": " ",
         "xaxis": "x",
         "y": [
          "18,747.27",
          "17,315.77"
         ],
         "y0": " ",
         "yaxis": "y"
        },
        {
         "alignmentgroup": "True",
         "box": {
          "visible": false
         },
         "hovertemplate": "average_benefit_per_person=68.57<br>fiscal_year=%{x}<br>value=%{y}<extra></extra>",
         "legendgroup": "68.57",
         "marker": {
          "color": "#ab63fa"
         },
         "name": "68.57",
         "offsetgroup": "68.57",
         "orientation": "v",
         "points": "all",
         "scalegroup": "True",
         "showlegend": true,
         "type": "violin",
         "x": [
          "1992",
          "1992"
         ],
         "x0": " ",
         "xaxis": "x",
         "y": [
          "22,462.34",
          "20,905.68"
         ],
         "y0": " ",
         "yaxis": "y"
        },
        {
         "alignmentgroup": "True",
         "box": {
          "visible": false
         },
         "hovertemplate": "average_benefit_per_person=67.95<br>fiscal_year=%{x}<br>value=%{y}<extra></extra>",
         "legendgroup": "67.95",
         "marker": {
          "color": "#FFA15A"
         },
         "name": "67.95",
         "offsetgroup": "67.95",
         "orientation": "v",
         "points": "all",
         "scalegroup": "True",
         "showlegend": true,
         "type": "violin",
         "x": [
          "1993",
          "1993"
         ],
         "x0": " ",
         "xaxis": "x",
         "y": [
          "23,652.97",
          "22,006.03"
         ],
         "y0": " ",
         "yaxis": "y"
        },
        {
         "alignmentgroup": "True",
         "box": {
          "visible": false
         },
         "hovertemplate": "average_benefit_per_person=69.0<br>fiscal_year=%{x}<br>value=%{y}<extra></extra>",
         "legendgroup": "69.0",
         "marker": {
          "color": "#19d3f3"
         },
         "name": "69.0",
         "offsetgroup": "69.0",
         "orientation": "v",
         "points": "all",
         "scalegroup": "True",
         "showlegend": true,
         "type": "violin",
         "x": [
          "1994",
          "1994"
         ],
         "x0": " ",
         "xaxis": "x",
         "y": [
          "24,493.45",
          "22,748.58"
         ],
         "y0": " ",
         "yaxis": "y"
        },
        {
         "alignmentgroup": "True",
         "box": {
          "visible": false
         },
         "hovertemplate": "average_benefit_per_person=71.27<br>fiscal_year=%{x}<br>value=%{y}<extra></extra>",
         "legendgroup": "71.27",
         "marker": {
          "color": "#FF6692"
         },
         "name": "71.27",
         "offsetgroup": "71.27",
         "orientation": "v",
         "points": "all",
         "scalegroup": "True",
         "showlegend": true,
         "type": "violin",
         "x": [
          "1995",
          "1997",
          "1995",
          "1997"
         ],
         "x0": " ",
         "xaxis": "x",
         "y": [
          "24,620.37",
          "21,507.55",
          "22,764.07",
          "19,548.86"
         ],
         "y0": " ",
         "yaxis": "y"
        },
        {
         "alignmentgroup": "True",
         "box": {
          "visible": false
         },
         "hovertemplate": "average_benefit_per_person=73.21<br>fiscal_year=%{x}<br>value=%{y}<extra></extra>",
         "legendgroup": "73.21",
         "marker": {
          "color": "#B6E880"
         },
         "name": "73.21",
         "offsetgroup": "73.21",
         "orientation": "v",
         "points": "all",
         "scalegroup": "True",
         "showlegend": true,
         "type": "violin",
         "x": [
          "1996",
          "1996"
         ],
         "x0": " ",
         "xaxis": "x",
         "y": [
          "24,330.99",
          "22,440.11"
         ],
         "y0": " ",
         "yaxis": "y"
        },
        {
         "alignmentgroup": "True",
         "box": {
          "visible": false
         },
         "hovertemplate": "average_benefit_per_person=71.12<br>fiscal_year=%{x}<br>value=%{y}<extra></extra>",
         "legendgroup": "71.12",
         "marker": {
          "color": "#FF97FF"
         },
         "name": "71.12",
         "offsetgroup": "71.12",
         "orientation": "v",
         "points": "all",
         "scalegroup": "True",
         "showlegend": true,
         "type": "violin",
         "x": [
          "1998",
          "1998"
         ],
         "x0": " ",
         "xaxis": "x",
         "y": [
          "18,988.32",
          "16,890.49"
         ],
         "y0": " ",
         "yaxis": "y"
        },
        {
         "alignmentgroup": "True",
         "box": {
          "visible": false
         },
         "hovertemplate": "average_benefit_per_person=72.27<br>fiscal_year=%{x}<br>value=%{y}<extra></extra>",
         "legendgroup": "72.27",
         "marker": {
          "color": "#FECB52"
         },
         "name": "72.27",
         "offsetgroup": "72.27",
         "orientation": "v",
         "points": "all",
         "scalegroup": "True",
         "showlegend": true,
         "type": "violin",
         "x": [
          "1999",
          "1999"
         ],
         "x0": " ",
         "xaxis": "x",
         "y": [
          "17,820.92",
          "15,769.40"
         ],
         "y0": " ",
         "yaxis": "y"
        },
        {
         "alignmentgroup": "True",
         "box": {
          "visible": false
         },
         "hovertemplate": "average_benefit_per_person=72.62<br>fiscal_year=%{x}<br>value=%{y}<extra></extra>",
         "legendgroup": "72.62",
         "marker": {
          "color": "#636efa"
         },
         "name": "72.62",
         "offsetgroup": "72.62",
         "orientation": "v",
         "points": "all",
         "scalegroup": "True",
         "showlegend": true,
         "type": "violin",
         "x": [
          "2000",
          "2000"
         ],
         "x0": " ",
         "xaxis": "x",
         "y": [
          "17,054.02",
          "14,983.32"
         ],
         "y0": " ",
         "yaxis": "y"
        },
        {
         "alignmentgroup": "True",
         "box": {
          "visible": false
         },
         "hovertemplate": "average_benefit_per_person=74.81<br>fiscal_year=%{x}<br>value=%{y}<extra></extra>",
         "legendgroup": "74.81",
         "marker": {
          "color": "#EF553B"
         },
         "name": "74.81",
         "offsetgroup": "74.81",
         "orientation": "v",
         "points": "all",
         "scalegroup": "True",
         "showlegend": true,
         "type": "violin",
         "x": [
          "2001",
          "2001"
         ],
         "x0": " ",
         "xaxis": "x",
         "y": [
          "17,789.39",
          "15,547.39"
         ],
         "y0": " ",
         "yaxis": "y"
        },
        {
         "alignmentgroup": "True",
         "box": {
          "visible": false
         },
         "hovertemplate": "average_benefit_per_person=79.67<br>fiscal_year=%{x}<br>value=%{y}<extra></extra>",
         "legendgroup": "79.67",
         "marker": {
          "color": "#00cc96"
         },
         "name": "79.67",
         "offsetgroup": "79.67",
         "orientation": "v",
         "points": "all",
         "scalegroup": "True",
         "showlegend": true,
         "type": "violin",
         "x": [
          "2002",
          "2002"
         ],
         "x0": " ",
         "xaxis": "x",
         "y": [
          "20,637.02",
          "18,256.20"
         ],
         "y0": " ",
         "yaxis": "y"
        },
        {
         "alignmentgroup": "True",
         "box": {
          "visible": false
         },
         "hovertemplate": "average_benefit_per_person=83.94<br>fiscal_year=%{x}<br>value=%{y}<extra></extra>",
         "legendgroup": "83.94",
         "marker": {
          "color": "#ab63fa"
         },
         "name": "83.94",
         "offsetgroup": "83.94",
         "orientation": "v",
         "points": "all",
         "scalegroup": "True",
         "showlegend": true,
         "type": "violin",
         "x": [
          "2003",
          "2003"
         ],
         "x0": " ",
         "xaxis": "x",
         "y": [
          "23,816.28",
          "21,404.28"
         ],
         "y0": " ",
         "yaxis": "y"
        },
        {
         "alignmentgroup": "True",
         "box": {
          "visible": false
         },
         "hovertemplate": "average_benefit_per_person=86.16<br>fiscal_year=%{x}<br>value=%{y}<extra></extra>",
         "legendgroup": "86.16",
         "marker": {
          "color": "#FFA15A"
         },
         "name": "86.16",
         "offsetgroup": "86.16",
         "orientation": "v",
         "points": "all",
         "scalegroup": "True",
         "showlegend": true,
         "type": "violin",
         "x": [
          "2004",
          "2004"
         ],
         "x0": " ",
         "xaxis": "x",
         "y": [
          "27,099.03",
          "24,618.89"
         ],
         "y0": " ",
         "yaxis": "y"
        },
        {
         "alignmentgroup": "True",
         "box": {
          "visible": false
         },
         "hovertemplate": "average_benefit_per_person=92.89<br>fiscal_year=%{x}<br>value=%{y}<extra></extra>",
         "legendgroup": "92.89",
         "marker": {
          "color": "#19d3f3"
         },
         "name": "92.89",
         "offsetgroup": "92.89",
         "orientation": "v",
         "points": "all",
         "scalegroup": "True",
         "showlegend": true,
         "type": "violin",
         "x": [
          "2005",
          "2005"
         ],
         "x0": " ",
         "xaxis": "x",
         "y": [
          "31,072.01",
          "28,567.88"
         ],
         "y0": " ",
         "yaxis": "y"
        },
        {
         "alignmentgroup": "True",
         "box": {
          "visible": false
         },
         "hovertemplate": "average_benefit_per_person=94.75<br>fiscal_year=%{x}<br>value=%{y}<extra></extra>",
         "legendgroup": "94.75",
         "marker": {
          "color": "#FF6692"
         },
         "name": "94.75",
         "offsetgroup": "94.75",
         "orientation": "v",
         "points": "all",
         "scalegroup": "True",
         "showlegend": true,
         "type": "violin",
         "x": [
          "2006",
          "2006"
         ],
         "x0": " ",
         "xaxis": "x",
         "y": [
          "32,903.06",
          "30,187.35"
         ],
         "y0": " ",
         "yaxis": "y"
        },
        {
         "alignmentgroup": "True",
         "box": {
          "visible": false
         },
         "hovertemplate": "average_benefit_per_person=96.18<br>fiscal_year=%{x}<br>value=%{y}<extra></extra>",
         "legendgroup": "96.18",
         "marker": {
          "color": "#B6E880"
         },
         "name": "96.18",
         "offsetgroup": "96.18",
         "orientation": "v",
         "points": "all",
         "scalegroup": "True",
         "showlegend": true,
         "type": "violin",
         "x": [
          "2007",
          "2007"
         ],
         "x0": " ",
         "xaxis": "x",
         "y": [
          "33,173.52",
          "30,373.27"
         ],
         "y0": " ",
         "yaxis": "y"
        },
        {
         "alignmentgroup": "True",
         "box": {
          "visible": false
         },
         "hovertemplate": "average_benefit_per_person=102.19<br>fiscal_year=%{x}<br>value=%{y}<extra></extra>",
         "legendgroup": "102.19",
         "marker": {
          "color": "#FF97FF"
         },
         "name": "102.19",
         "offsetgroup": "102.19",
         "orientation": "v",
         "points": "all",
         "scalegroup": "True",
         "showlegend": true,
         "type": "violin",
         "x": [
          "2008",
          "2008"
         ],
         "x0": " ",
         "xaxis": "x",
         "y": [
          "37,639.64",
          "34,608.40"
         ],
         "y0": " ",
         "yaxis": "y"
        },
        {
         "alignmentgroup": "True",
         "box": {
          "visible": false
         },
         "hovertemplate": "average_benefit_per_person=125.31<br>fiscal_year=%{x}<br>value=%{y}<extra></extra>",
         "legendgroup": "125.31",
         "marker": {
          "color": "#FECB52"
         },
         "name": "125.31",
         "offsetgroup": "125.31",
         "orientation": "v",
         "points": "all",
         "scalegroup": "True",
         "showlegend": true,
         "type": "violin",
         "x": [
          "2009",
          "2009"
         ],
         "x0": " ",
         "xaxis": "x",
         "y": [
          "53,619.92",
          "50,359.92"
         ],
         "y0": " ",
         "yaxis": "y"
        },
        {
         "alignmentgroup": "True",
         "box": {
          "visible": false
         },
         "hovertemplate": "average_benefit_per_person=133.79<br>fiscal_year=%{x}<br>value=%{y}<extra></extra>",
         "legendgroup": "133.79",
         "marker": {
          "color": "#636efa"
         },
         "name": "133.79",
         "offsetgroup": "133.79",
         "orientation": "v",
         "points": "all",
         "scalegroup": "True",
         "showlegend": true,
         "type": "violin",
         "x": [
          "2010",
          "2010"
         ],
         "x0": " ",
         "xaxis": "x",
         "y": [
          "68,283.47",
          "64,702.16"
         ],
         "y0": " ",
         "yaxis": "y"
        },
        {
         "alignmentgroup": "True",
         "box": {
          "visible": false
         },
         "hovertemplate": "average_benefit_per_person=133.85<br>fiscal_year=%{x}<br>value=%{y}<extra></extra>",
         "legendgroup": "133.85",
         "marker": {
          "color": "#EF553B"
         },
         "name": "133.85",
         "offsetgroup": "133.85",
         "orientation": "v",
         "points": "all",
         "scalegroup": "True",
         "showlegend": true,
         "type": "violin",
         "x": [
          "2011",
          "2011"
         ],
         "x0": " ",
         "xaxis": "x",
         "y": [
          "75,686.54",
          "71,810.92"
         ],
         "y0": " ",
         "yaxis": "y"
        },
        {
         "alignmentgroup": "True",
         "box": {
          "visible": false
         },
         "hovertemplate": "average_benefit_per_person=133.41<br>fiscal_year=%{x}<br>value=%{y}<extra></extra>",
         "legendgroup": "133.41",
         "marker": {
          "color": "#00cc96"
         },
         "name": "133.41",
         "offsetgroup": "133.41",
         "orientation": "v",
         "points": "all",
         "scalegroup": "True",
         "showlegend": true,
         "type": "violin",
         "x": [
          "2012",
          "2012"
         ],
         "x0": " ",
         "xaxis": "x",
         "y": [
          "78,411.10",
          "74,619.34"
         ],
         "y0": " ",
         "yaxis": "y"
        },
        {
         "alignmentgroup": "True",
         "box": {
          "visible": false
         },
         "hovertemplate": "average_benefit_per_person=133.07<br>fiscal_year=%{x}<br>value=%{y}<extra></extra>",
         "legendgroup": "133.07",
         "marker": {
          "color": "#ab63fa"
         },
         "name": "133.07",
         "offsetgroup": "133.07",
         "orientation": "v",
         "points": "all",
         "scalegroup": "True",
         "showlegend": true,
         "type": "violin",
         "x": [
          "2013",
          "2013"
         ],
         "x0": " ",
         "xaxis": "x",
         "y": [
          "79,859.03",
          "76,066.32"
         ],
         "y0": " ",
         "yaxis": "y"
        },
        {
         "alignmentgroup": "True",
         "box": {
          "visible": false
         },
         "hovertemplate": "average_benefit_per_person=125.01<br>fiscal_year=%{x}<br>value=%{y}<extra></extra>",
         "legendgroup": "125.01",
         "marker": {
          "color": "#FFA15A"
         },
         "name": "125.01",
         "offsetgroup": "125.01",
         "orientation": "v",
         "points": "all",
         "scalegroup": "True",
         "showlegend": true,
         "type": "violin",
         "x": [
          "2014",
          "2014"
         ],
         "x0": " ",
         "xaxis": "x",
         "y": [
          "74,060.33",
          "69,998.84"
         ],
         "y0": " ",
         "yaxis": "y"
        },
        {
         "alignmentgroup": "True",
         "box": {
          "visible": false
         },
         "hovertemplate": "average_benefit_per_person=126.81<br>fiscal_year=%{x}<br>value=%{y}<extra></extra>",
         "legendgroup": "126.81",
         "marker": {
          "color": "#19d3f3"
         },
         "name": "126.81",
         "offsetgroup": "126.81",
         "orientation": "v",
         "points": "all",
         "scalegroup": "True",
         "showlegend": true,
         "type": "violin",
         "x": [
          "2015",
          "2015"
         ],
         "x0": " ",
         "xaxis": "x",
         "y": [
          "73,946.17",
          "69,645.14"
         ],
         "y0": " ",
         "yaxis": "y"
        },
        {
         "alignmentgroup": "True",
         "box": {
          "visible": false
         },
         "hovertemplate": "average_benefit_per_person=125.4<br>fiscal_year=%{x}<br>value=%{y}<extra></extra>",
         "legendgroup": "125.4",
         "marker": {
          "color": "#FF6692"
         },
         "name": "125.4",
         "offsetgroup": "125.4",
         "orientation": "v",
         "points": "all",
         "scalegroup": "True",
         "showlegend": true,
         "type": "violin",
         "x": [
          "2016",
          "2016"
         ],
         "x0": " ",
         "xaxis": "x",
         "y": [
          "70,913.55",
          "66,539.27"
         ],
         "y0": " ",
         "yaxis": "y"
        },
        {
         "alignmentgroup": "True",
         "box": {
          "visible": false
         },
         "hovertemplate": "average_benefit_per_person=125.47<br>fiscal_year=%{x}<br>value=%{y}<extra></extra>",
         "legendgroup": "125.47",
         "marker": {
          "color": "#B6E880"
         },
         "name": "125.47",
         "offsetgroup": "125.47",
         "orientation": "v",
         "points": "all",
         "scalegroup": "True",
         "showlegend": true,
         "type": "violin",
         "x": [
          "2017",
          "2017"
         ],
         "x0": " ",
         "xaxis": "x",
         "y": [
          "68,174.72",
          "63,711.05"
         ],
         "y0": " ",
         "yaxis": "y"
        },
        {
         "alignmentgroup": "True",
         "box": {
          "visible": false
         },
         "hovertemplate": "average_benefit_per_person=124.5<br>fiscal_year=%{x}<br>value=%{y}<extra></extra>",
         "legendgroup": "124.5",
         "marker": {
          "color": "#FF97FF"
         },
         "name": "124.5",
         "offsetgroup": "124.5",
         "orientation": "v",
         "points": "all",
         "scalegroup": "True",
         "showlegend": true,
         "type": "violin",
         "x": [
          "2018",
          "2018"
         ],
         "x0": " ",
         "xaxis": "x",
         "y": [
          "65,446.40",
          "60,916.85"
         ],
         "y0": " ",
         "yaxis": "y"
        },
        {
         "alignmentgroup": "True",
         "box": {
          "visible": false
         },
         "hovertemplate": "average_benefit_per_person=129.83<br>fiscal_year=%{x}<br>value=%{y}<extra></extra>",
         "legendgroup": "129.83",
         "marker": {
          "color": "#FECB52"
         },
         "name": "129.83",
         "offsetgroup": "129.83",
         "orientation": "v",
         "points": "all",
         "scalegroup": "True",
         "showlegend": true,
         "type": "violin",
         "x": [
          "2019",
          "2019"
         ],
         "x0": " ",
         "xaxis": "x",
         "y": [
          "60,366.21",
          "55,621.88"
         ],
         "y0": " ",
         "yaxis": "y"
        }
       ],
       "layout": {
        "legend": {
         "title": {
          "text": "average_benefit_per_person"
         },
         "tracegroupgap": 0
        },
        "margin": {
         "t": 60
        },
        "template": {
         "data": {
          "bar": [
           {
            "error_x": {
             "color": "#2a3f5f"
            },
            "error_y": {
             "color": "#2a3f5f"
            },
            "marker": {
             "line": {
              "color": "#E5ECF6",
              "width": 0.5
             },
             "pattern": {
              "fillmode": "overlay",
              "size": 10,
              "solidity": 0.2
             }
            },
            "type": "bar"
           }
          ],
          "barpolar": [
           {
            "marker": {
             "line": {
              "color": "#E5ECF6",
              "width": 0.5
             },
             "pattern": {
              "fillmode": "overlay",
              "size": 10,
              "solidity": 0.2
             }
            },
            "type": "barpolar"
           }
          ],
          "carpet": [
           {
            "aaxis": {
             "endlinecolor": "#2a3f5f",
             "gridcolor": "white",
             "linecolor": "white",
             "minorgridcolor": "white",
             "startlinecolor": "#2a3f5f"
            },
            "baxis": {
             "endlinecolor": "#2a3f5f",
             "gridcolor": "white",
             "linecolor": "white",
             "minorgridcolor": "white",
             "startlinecolor": "#2a3f5f"
            },
            "type": "carpet"
           }
          ],
          "choropleth": [
           {
            "colorbar": {
             "outlinewidth": 0,
             "ticks": ""
            },
            "type": "choropleth"
           }
          ],
          "contour": [
           {
            "colorbar": {
             "outlinewidth": 0,
             "ticks": ""
            },
            "colorscale": [
             [
              0,
              "#0d0887"
             ],
             [
              0.1111111111111111,
              "#46039f"
             ],
             [
              0.2222222222222222,
              "#7201a8"
             ],
             [
              0.3333333333333333,
              "#9c179e"
             ],
             [
              0.4444444444444444,
              "#bd3786"
             ],
             [
              0.5555555555555556,
              "#d8576b"
             ],
             [
              0.6666666666666666,
              "#ed7953"
             ],
             [
              0.7777777777777778,
              "#fb9f3a"
             ],
             [
              0.8888888888888888,
              "#fdca26"
             ],
             [
              1,
              "#f0f921"
             ]
            ],
            "type": "contour"
           }
          ],
          "contourcarpet": [
           {
            "colorbar": {
             "outlinewidth": 0,
             "ticks": ""
            },
            "type": "contourcarpet"
           }
          ],
          "heatmap": [
           {
            "colorbar": {
             "outlinewidth": 0,
             "ticks": ""
            },
            "colorscale": [
             [
              0,
              "#0d0887"
             ],
             [
              0.1111111111111111,
              "#46039f"
             ],
             [
              0.2222222222222222,
              "#7201a8"
             ],
             [
              0.3333333333333333,
              "#9c179e"
             ],
             [
              0.4444444444444444,
              "#bd3786"
             ],
             [
              0.5555555555555556,
              "#d8576b"
             ],
             [
              0.6666666666666666,
              "#ed7953"
             ],
             [
              0.7777777777777778,
              "#fb9f3a"
             ],
             [
              0.8888888888888888,
              "#fdca26"
             ],
             [
              1,
              "#f0f921"
             ]
            ],
            "type": "heatmap"
           }
          ],
          "heatmapgl": [
           {
            "colorbar": {
             "outlinewidth": 0,
             "ticks": ""
            },
            "colorscale": [
             [
              0,
              "#0d0887"
             ],
             [
              0.1111111111111111,
              "#46039f"
             ],
             [
              0.2222222222222222,
              "#7201a8"
             ],
             [
              0.3333333333333333,
              "#9c179e"
             ],
             [
              0.4444444444444444,
              "#bd3786"
             ],
             [
              0.5555555555555556,
              "#d8576b"
             ],
             [
              0.6666666666666666,
              "#ed7953"
             ],
             [
              0.7777777777777778,
              "#fb9f3a"
             ],
             [
              0.8888888888888888,
              "#fdca26"
             ],
             [
              1,
              "#f0f921"
             ]
            ],
            "type": "heatmapgl"
           }
          ],
          "histogram": [
           {
            "marker": {
             "pattern": {
              "fillmode": "overlay",
              "size": 10,
              "solidity": 0.2
             }
            },
            "type": "histogram"
           }
          ],
          "histogram2d": [
           {
            "colorbar": {
             "outlinewidth": 0,
             "ticks": ""
            },
            "colorscale": [
             [
              0,
              "#0d0887"
             ],
             [
              0.1111111111111111,
              "#46039f"
             ],
             [
              0.2222222222222222,
              "#7201a8"
             ],
             [
              0.3333333333333333,
              "#9c179e"
             ],
             [
              0.4444444444444444,
              "#bd3786"
             ],
             [
              0.5555555555555556,
              "#d8576b"
             ],
             [
              0.6666666666666666,
              "#ed7953"
             ],
             [
              0.7777777777777778,
              "#fb9f3a"
             ],
             [
              0.8888888888888888,
              "#fdca26"
             ],
             [
              1,
              "#f0f921"
             ]
            ],
            "type": "histogram2d"
           }
          ],
          "histogram2dcontour": [
           {
            "colorbar": {
             "outlinewidth": 0,
             "ticks": ""
            },
            "colorscale": [
             [
              0,
              "#0d0887"
             ],
             [
              0.1111111111111111,
              "#46039f"
             ],
             [
              0.2222222222222222,
              "#7201a8"
             ],
             [
              0.3333333333333333,
              "#9c179e"
             ],
             [
              0.4444444444444444,
              "#bd3786"
             ],
             [
              0.5555555555555556,
              "#d8576b"
             ],
             [
              0.6666666666666666,
              "#ed7953"
             ],
             [
              0.7777777777777778,
              "#fb9f3a"
             ],
             [
              0.8888888888888888,
              "#fdca26"
             ],
             [
              1,
              "#f0f921"
             ]
            ],
            "type": "histogram2dcontour"
           }
          ],
          "mesh3d": [
           {
            "colorbar": {
             "outlinewidth": 0,
             "ticks": ""
            },
            "type": "mesh3d"
           }
          ],
          "parcoords": [
           {
            "line": {
             "colorbar": {
              "outlinewidth": 0,
              "ticks": ""
             }
            },
            "type": "parcoords"
           }
          ],
          "pie": [
           {
            "automargin": true,
            "type": "pie"
           }
          ],
          "scatter": [
           {
            "fillpattern": {
             "fillmode": "overlay",
             "size": 10,
             "solidity": 0.2
            },
            "type": "scatter"
           }
          ],
          "scatter3d": [
           {
            "line": {
             "colorbar": {
              "outlinewidth": 0,
              "ticks": ""
             }
            },
            "marker": {
             "colorbar": {
              "outlinewidth": 0,
              "ticks": ""
             }
            },
            "type": "scatter3d"
           }
          ],
          "scattercarpet": [
           {
            "marker": {
             "colorbar": {
              "outlinewidth": 0,
              "ticks": ""
             }
            },
            "type": "scattercarpet"
           }
          ],
          "scattergeo": [
           {
            "marker": {
             "colorbar": {
              "outlinewidth": 0,
              "ticks": ""
             }
            },
            "type": "scattergeo"
           }
          ],
          "scattergl": [
           {
            "marker": {
             "colorbar": {
              "outlinewidth": 0,
              "ticks": ""
             }
            },
            "type": "scattergl"
           }
          ],
          "scattermapbox": [
           {
            "marker": {
             "colorbar": {
              "outlinewidth": 0,
              "ticks": ""
             }
            },
            "type": "scattermapbox"
           }
          ],
          "scatterpolar": [
           {
            "marker": {
             "colorbar": {
              "outlinewidth": 0,
              "ticks": ""
             }
            },
            "type": "scatterpolar"
           }
          ],
          "scatterpolargl": [
           {
            "marker": {
             "colorbar": {
              "outlinewidth": 0,
              "ticks": ""
             }
            },
            "type": "scatterpolargl"
           }
          ],
          "scatterternary": [
           {
            "marker": {
             "colorbar": {
              "outlinewidth": 0,
              "ticks": ""
             }
            },
            "type": "scatterternary"
           }
          ],
          "surface": [
           {
            "colorbar": {
             "outlinewidth": 0,
             "ticks": ""
            },
            "colorscale": [
             [
              0,
              "#0d0887"
             ],
             [
              0.1111111111111111,
              "#46039f"
             ],
             [
              0.2222222222222222,
              "#7201a8"
             ],
             [
              0.3333333333333333,
              "#9c179e"
             ],
             [
              0.4444444444444444,
              "#bd3786"
             ],
             [
              0.5555555555555556,
              "#d8576b"
             ],
             [
              0.6666666666666666,
              "#ed7953"
             ],
             [
              0.7777777777777778,
              "#fb9f3a"
             ],
             [
              0.8888888888888888,
              "#fdca26"
             ],
             [
              1,
              "#f0f921"
             ]
            ],
            "type": "surface"
           }
          ],
          "table": [
           {
            "cells": {
             "fill": {
              "color": "#EBF0F8"
             },
             "line": {
              "color": "white"
             }
            },
            "header": {
             "fill": {
              "color": "#C8D4E3"
             },
             "line": {
              "color": "white"
             }
            },
            "type": "table"
           }
          ]
         },
         "layout": {
          "annotationdefaults": {
           "arrowcolor": "#2a3f5f",
           "arrowhead": 0,
           "arrowwidth": 1
          },
          "autotypenumbers": "strict",
          "coloraxis": {
           "colorbar": {
            "outlinewidth": 0,
            "ticks": ""
           }
          },
          "colorscale": {
           "diverging": [
            [
             0,
             "#8e0152"
            ],
            [
             0.1,
             "#c51b7d"
            ],
            [
             0.2,
             "#de77ae"
            ],
            [
             0.3,
             "#f1b6da"
            ],
            [
             0.4,
             "#fde0ef"
            ],
            [
             0.5,
             "#f7f7f7"
            ],
            [
             0.6,
             "#e6f5d0"
            ],
            [
             0.7,
             "#b8e186"
            ],
            [
             0.8,
             "#7fbc41"
            ],
            [
             0.9,
             "#4d9221"
            ],
            [
             1,
             "#276419"
            ]
           ],
           "sequential": [
            [
             0,
             "#0d0887"
            ],
            [
             0.1111111111111111,
             "#46039f"
            ],
            [
             0.2222222222222222,
             "#7201a8"
            ],
            [
             0.3333333333333333,
             "#9c179e"
            ],
            [
             0.4444444444444444,
             "#bd3786"
            ],
            [
             0.5555555555555556,
             "#d8576b"
            ],
            [
             0.6666666666666666,
             "#ed7953"
            ],
            [
             0.7777777777777778,
             "#fb9f3a"
            ],
            [
             0.8888888888888888,
             "#fdca26"
            ],
            [
             1,
             "#f0f921"
            ]
           ],
           "sequentialminus": [
            [
             0,
             "#0d0887"
            ],
            [
             0.1111111111111111,
             "#46039f"
            ],
            [
             0.2222222222222222,
             "#7201a8"
            ],
            [
             0.3333333333333333,
             "#9c179e"
            ],
            [
             0.4444444444444444,
             "#bd3786"
            ],
            [
             0.5555555555555556,
             "#d8576b"
            ],
            [
             0.6666666666666666,
             "#ed7953"
            ],
            [
             0.7777777777777778,
             "#fb9f3a"
            ],
            [
             0.8888888888888888,
             "#fdca26"
            ],
            [
             1,
             "#f0f921"
            ]
           ]
          },
          "colorway": [
           "#636efa",
           "#EF553B",
           "#00cc96",
           "#ab63fa",
           "#FFA15A",
           "#19d3f3",
           "#FF6692",
           "#B6E880",
           "#FF97FF",
           "#FECB52"
          ],
          "font": {
           "color": "#2a3f5f"
          },
          "geo": {
           "bgcolor": "white",
           "lakecolor": "white",
           "landcolor": "#E5ECF6",
           "showlakes": true,
           "showland": true,
           "subunitcolor": "white"
          },
          "hoverlabel": {
           "align": "left"
          },
          "hovermode": "closest",
          "mapbox": {
           "style": "light"
          },
          "paper_bgcolor": "white",
          "plot_bgcolor": "#E5ECF6",
          "polar": {
           "angularaxis": {
            "gridcolor": "white",
            "linecolor": "white",
            "ticks": ""
           },
           "bgcolor": "#E5ECF6",
           "radialaxis": {
            "gridcolor": "white",
            "linecolor": "white",
            "ticks": ""
           }
          },
          "scene": {
           "xaxis": {
            "backgroundcolor": "#E5ECF6",
            "gridcolor": "white",
            "gridwidth": 2,
            "linecolor": "white",
            "showbackground": true,
            "ticks": "",
            "zerolinecolor": "white"
           },
           "yaxis": {
            "backgroundcolor": "#E5ECF6",
            "gridcolor": "white",
            "gridwidth": 2,
            "linecolor": "white",
            "showbackground": true,
            "ticks": "",
            "zerolinecolor": "white"
           },
           "zaxis": {
            "backgroundcolor": "#E5ECF6",
            "gridcolor": "white",
            "gridwidth": 2,
            "linecolor": "white",
            "showbackground": true,
            "ticks": "",
            "zerolinecolor": "white"
           }
          },
          "shapedefaults": {
           "line": {
            "color": "#2a3f5f"
           }
          },
          "ternary": {
           "aaxis": {
            "gridcolor": "white",
            "linecolor": "white",
            "ticks": ""
           },
           "baxis": {
            "gridcolor": "white",
            "linecolor": "white",
            "ticks": ""
           },
           "bgcolor": "#E5ECF6",
           "caxis": {
            "gridcolor": "white",
            "linecolor": "white",
            "ticks": ""
           }
          },
          "title": {
           "x": 0.05
          },
          "xaxis": {
           "automargin": true,
           "gridcolor": "white",
           "linecolor": "white",
           "ticks": "",
           "title": {
            "standoff": 15
           },
           "zerolinecolor": "white",
           "zerolinewidth": 2
          },
          "yaxis": {
           "automargin": true,
           "gridcolor": "white",
           "linecolor": "white",
           "ticks": "",
           "title": {
            "standoff": 15
           },
           "zerolinecolor": "white",
           "zerolinewidth": 2
          }
         }
        },
        "violinmode": "group",
        "xaxis": {
         "anchor": "y",
         "domain": [
          0,
          1
         ],
         "title": {
          "text": "fiscal_year"
         }
        },
        "yaxis": {
         "anchor": "x",
         "domain": [
          0,
          1
         ],
         "title": {
          "text": "value"
         }
        }
       }
      }
     },
     "metadata": {},
     "output_type": "display_data"
    }
   ],
   "source": [
    "px.violin(clean_df, y = ['total_costs(m)', 'total_benefits(m)'], x = 'fiscal_year', color= 'average_benefit_per_person', points='all')"
   ]
  },
  {
   "attachments": {},
   "cell_type": "markdown",
   "metadata": {},
   "source": [
    "- Create a histogram of the `total_costs(m)` column"
   ]
  },
  {
   "cell_type": "code",
   "execution_count": 273,
   "metadata": {},
   "outputs": [
    {
     "data": {
      "application/vnd.plotly.v1+json": {
       "config": {
        "plotlyServerURL": "https://plot.ly"
       },
       "data": [
        {
         "alignmentgroup": "True",
         "bingroup": "x",
         "histfunc": "avg",
         "hovertemplate": "fiscal_year=1969<br>total_costs(m)=%{x}<br>avg of average_benefit_per_person=%{y}<extra></extra>",
         "legendgroup": "1969",
         "marker": {
          "color": "#636efa",
          "pattern": {
           "shape": ""
          }
         },
         "name": "1969",
         "offsetgroup": "1969",
         "orientation": "v",
         "showlegend": true,
         "texttemplate": "%{value}",
         "type": "histogram",
         "x": [
          "250.50"
         ],
         "xaxis": "x",
         "y": [
          6.63
         ],
         "yaxis": "y"
        },
        {
         "alignmentgroup": "True",
         "bingroup": "x",
         "histfunc": "avg",
         "hovertemplate": "fiscal_year=1970<br>total_costs(m)=%{x}<br>avg of average_benefit_per_person=%{y}<extra></extra>",
         "legendgroup": "1970",
         "marker": {
          "color": "#EF553B",
          "pattern": {
           "shape": ""
          }
         },
         "name": "1970",
         "offsetgroup": "1970",
         "orientation": "v",
         "showlegend": true,
         "texttemplate": "%{value}",
         "type": "histogram",
         "x": [
          "576.90"
         ],
         "xaxis": "x",
         "y": [
          10.55
         ],
         "yaxis": "y"
        },
        {
         "alignmentgroup": "True",
         "bingroup": "x",
         "histfunc": "avg",
         "hovertemplate": "fiscal_year=1971<br>total_costs(m)=%{x}<br>avg of average_benefit_per_person=%{y}<extra></extra>",
         "legendgroup": "1971",
         "marker": {
          "color": "#00cc96",
          "pattern": {
           "shape": ""
          }
         },
         "name": "1971",
         "offsetgroup": "1971",
         "orientation": "v",
         "showlegend": true,
         "texttemplate": "%{value}",
         "type": "histogram",
         "x": [
          "1,575.90"
         ],
         "xaxis": "x",
         "y": [
          13.55
         ],
         "yaxis": "y"
        },
        {
         "alignmentgroup": "True",
         "bingroup": "x",
         "histfunc": "avg",
         "hovertemplate": "fiscal_year=1972<br>total_costs(m)=%{x}<br>avg of average_benefit_per_person=%{y}<extra></extra>",
         "legendgroup": "1972",
         "marker": {
          "color": "#ab63fa",
          "pattern": {
           "shape": ""
          }
         },
         "name": "1972",
         "offsetgroup": "1972",
         "orientation": "v",
         "showlegend": true,
         "texttemplate": "%{value}",
         "type": "histogram",
         "x": [
          "1,866.70"
         ],
         "xaxis": "x",
         "y": [
          13.48
         ],
         "yaxis": "y"
        },
        {
         "alignmentgroup": "True",
         "bingroup": "x",
         "histfunc": "avg",
         "hovertemplate": "fiscal_year=1973<br>total_costs(m)=%{x}<br>avg of average_benefit_per_person=%{y}<extra></extra>",
         "legendgroup": "1973",
         "marker": {
          "color": "#FFA15A",
          "pattern": {
           "shape": ""
          }
         },
         "name": "1973",
         "offsetgroup": "1973",
         "orientation": "v",
         "showlegend": true,
         "texttemplate": "%{value}",
         "type": "histogram",
         "x": [
          "2,207.40"
         ],
         "xaxis": "x",
         "y": [
          14.6
         ],
         "yaxis": "y"
        },
        {
         "alignmentgroup": "True",
         "bingroup": "x",
         "histfunc": "avg",
         "hovertemplate": "fiscal_year=1974<br>total_costs(m)=%{x}<br>avg of average_benefit_per_person=%{y}<extra></extra>",
         "legendgroup": "1974",
         "marker": {
          "color": "#19d3f3",
          "pattern": {
           "shape": ""
          }
         },
         "name": "1974",
         "offsetgroup": "1974",
         "orientation": "v",
         "showlegend": true,
         "texttemplate": "%{value}",
         "type": "histogram",
         "x": [
          "2,837.50"
         ],
         "xaxis": "x",
         "y": [
          17.61
         ],
         "yaxis": "y"
        },
        {
         "alignmentgroup": "True",
         "bingroup": "x",
         "histfunc": "avg",
         "hovertemplate": "fiscal_year=1975<br>total_costs(m)=%{x}<br>avg of average_benefit_per_person=%{y}<extra></extra>",
         "legendgroup": "1975",
         "marker": {
          "color": "#FF6692",
          "pattern": {
           "shape": ""
          }
         },
         "name": "1975",
         "offsetgroup": "1975",
         "orientation": "v",
         "showlegend": true,
         "texttemplate": "%{value}",
         "type": "histogram",
         "x": [
          "4,618.70"
         ],
         "xaxis": "x",
         "y": [
          21.4
         ],
         "yaxis": "y"
        },
        {
         "alignmentgroup": "True",
         "bingroup": "x",
         "histfunc": "avg",
         "hovertemplate": "fiscal_year=1976<br>total_costs(m)=%{x}<br>avg of average_benefit_per_person=%{y}<extra></extra>",
         "legendgroup": "1976",
         "marker": {
          "color": "#B6E880",
          "pattern": {
           "shape": ""
          }
         },
         "name": "1976",
         "offsetgroup": "1976",
         "orientation": "v",
         "showlegend": true,
         "texttemplate": "%{value}",
         "type": "histogram",
         "x": [
          "5,685.50"
         ],
         "xaxis": "x",
         "y": [
          23.93
         ],
         "yaxis": "y"
        },
        {
         "alignmentgroup": "True",
         "bingroup": "x",
         "histfunc": "avg",
         "hovertemplate": "fiscal_year=1977<br>total_costs(m)=%{x}<br>avg of average_benefit_per_person=%{y}<extra></extra>",
         "legendgroup": "1977",
         "marker": {
          "color": "#FF97FF",
          "pattern": {
           "shape": ""
          }
         },
         "name": "1977",
         "offsetgroup": "1977",
         "orientation": "v",
         "showlegend": true,
         "texttemplate": "%{value}",
         "type": "histogram",
         "x": [
          "5,461.00"
         ],
         "xaxis": "x",
         "y": [
          24.71
         ],
         "yaxis": "y"
        },
        {
         "alignmentgroup": "True",
         "bingroup": "x",
         "histfunc": "avg",
         "hovertemplate": "fiscal_year=1978<br>total_costs(m)=%{x}<br>avg of average_benefit_per_person=%{y}<extra></extra>",
         "legendgroup": "1978",
         "marker": {
          "color": "#FECB52",
          "pattern": {
           "shape": ""
          }
         },
         "name": "1978",
         "offsetgroup": "1978",
         "orientation": "v",
         "showlegend": true,
         "texttemplate": "%{value}",
         "type": "histogram",
         "x": [
          "5,519.70"
         ],
         "xaxis": "x",
         "y": [
          26.77
         ],
         "yaxis": "y"
        },
        {
         "alignmentgroup": "True",
         "bingroup": "x",
         "histfunc": "avg",
         "hovertemplate": "fiscal_year=1979<br>total_costs(m)=%{x}<br>avg of average_benefit_per_person=%{y}<extra></extra>",
         "legendgroup": "1979",
         "marker": {
          "color": "#636efa",
          "pattern": {
           "shape": ""
          }
         },
         "name": "1979",
         "offsetgroup": "1979",
         "orientation": "v",
         "showlegend": true,
         "texttemplate": "%{value}",
         "type": "histogram",
         "x": [
          "6,939.80"
         ],
         "xaxis": "x",
         "y": [
          30.59
         ],
         "yaxis": "y"
        },
        {
         "alignmentgroup": "True",
         "bingroup": "x",
         "histfunc": "avg",
         "hovertemplate": "fiscal_year=1980<br>total_costs(m)=%{x}<br>avg of average_benefit_per_person=%{y}<extra></extra>",
         "legendgroup": "1980",
         "marker": {
          "color": "#EF553B",
          "pattern": {
           "shape": ""
          }
         },
         "name": "1980",
         "offsetgroup": "1980",
         "orientation": "v",
         "showlegend": true,
         "texttemplate": "%{value}",
         "type": "histogram",
         "x": [
          "9,206.50"
         ],
         "xaxis": "x",
         "y": [
          34.47
         ],
         "yaxis": "y"
        },
        {
         "alignmentgroup": "True",
         "bingroup": "x",
         "histfunc": "avg",
         "hovertemplate": "fiscal_year=1981<br>total_costs(m)=%{x}<br>avg of average_benefit_per_person=%{y}<extra></extra>",
         "legendgroup": "1981",
         "marker": {
          "color": "#00cc96",
          "pattern": {
           "shape": ""
          }
         },
         "name": "1981",
         "offsetgroup": "1981",
         "orientation": "v",
         "showlegend": true,
         "texttemplate": "%{value}",
         "type": "histogram",
         "x": [
          "11,225.20"
         ],
         "xaxis": "x",
         "y": [
          39.49
         ],
         "yaxis": "y"
        },
        {
         "alignmentgroup": "True",
         "bingroup": "x",
         "histfunc": "avg",
         "hovertemplate": "fiscal_year=1982 3]<br>total_costs(m)=%{x}<br>avg of average_benefit_per_person=%{y}<extra></extra>",
         "legendgroup": "1982 3]",
         "marker": {
          "color": "#ab63fa",
          "pattern": {
           "shape": ""
          }
         },
         "name": "1982 3]",
         "offsetgroup": "1982 3]",
         "orientation": "v",
         "showlegend": true,
         "texttemplate": "%{value}",
         "type": "histogram",
         "x": [
          "10,836.70"
         ],
         "xaxis": "x",
         "y": [
          39.17
         ],
         "yaxis": "y"
        },
        {
         "alignmentgroup": "True",
         "bingroup": "x",
         "histfunc": "avg",
         "hovertemplate": "fiscal_year=1983<br>total_costs(m)=%{x}<br>avg of average_benefit_per_person=%{y}<extra></extra>",
         "legendgroup": "1983",
         "marker": {
          "color": "#FFA15A",
          "pattern": {
           "shape": ""
          }
         },
         "name": "1983",
         "offsetgroup": "1983",
         "orientation": "v",
         "showlegend": true,
         "texttemplate": "%{value}",
         "type": "histogram",
         "x": [
          "11,847.10"
         ],
         "xaxis": "x",
         "y": [
          42.98
         ],
         "yaxis": "y"
        },
        {
         "alignmentgroup": "True",
         "bingroup": "x",
         "histfunc": "avg",
         "hovertemplate": "fiscal_year=1984<br>total_costs(m)=%{x}<br>avg of average_benefit_per_person=%{y}<extra></extra>",
         "legendgroup": "1984",
         "marker": {
          "color": "#19d3f3",
          "pattern": {
           "shape": ""
          }
         },
         "name": "1984",
         "offsetgroup": "1984",
         "orientation": "v",
         "showlegend": true,
         "texttemplate": "%{value}",
         "type": "histogram",
         "x": [
          "11,578.80"
         ],
         "xaxis": "x",
         "y": [
          42.74
         ],
         "yaxis": "y"
        },
        {
         "alignmentgroup": "True",
         "bingroup": "x",
         "histfunc": "avg",
         "hovertemplate": "fiscal_year=1985<br>total_costs(m)=%{x}<br>avg of average_benefit_per_person=%{y}<extra></extra>",
         "legendgroup": "1985",
         "marker": {
          "color": "#FF6692",
          "pattern": {
           "shape": ""
          }
         },
         "name": "1985",
         "offsetgroup": "1985",
         "orientation": "v",
         "showlegend": true,
         "texttemplate": "%{value}",
         "type": "histogram",
         "x": [
          "11,703.20"
         ],
         "xaxis": "x",
         "y": [
          44.99
         ],
         "yaxis": "y"
        },
        {
         "alignmentgroup": "True",
         "bingroup": "x",
         "histfunc": "avg",
         "hovertemplate": "fiscal_year=1986<br>total_costs(m)=%{x}<br>avg of average_benefit_per_person=%{y}<extra></extra>",
         "legendgroup": "1986",
         "marker": {
          "color": "#B6E880",
          "pattern": {
           "shape": ""
          }
         },
         "name": "1986",
         "offsetgroup": "1986",
         "orientation": "v",
         "showlegend": true,
         "texttemplate": "%{value}",
         "type": "histogram",
         "x": [
          "11,638.40"
         ],
         "xaxis": "x",
         "y": [
          45.49
         ],
         "yaxis": "y"
        },
        {
         "alignmentgroup": "True",
         "bingroup": "x",
         "histfunc": "avg",
         "hovertemplate": "fiscal_year=1987<br>total_costs(m)=%{x}<br>avg of average_benefit_per_person=%{y}<extra></extra>",
         "legendgroup": "1987",
         "marker": {
          "color": "#FF97FF",
          "pattern": {
           "shape": ""
          }
         },
         "name": "1987",
         "offsetgroup": "1987",
         "orientation": "v",
         "showlegend": true,
         "texttemplate": "%{value}",
         "type": "histogram",
         "x": [
          "11,604.20"
         ],
         "xaxis": "x",
         "y": [
          45.78
         ],
         "yaxis": "y"
        },
        {
         "alignmentgroup": "True",
         "bingroup": "x",
         "histfunc": "avg",
         "hovertemplate": "fiscal_year=1988<br>total_costs(m)=%{x}<br>avg of average_benefit_per_person=%{y}<extra></extra>",
         "legendgroup": "1988",
         "marker": {
          "color": "#FECB52",
          "pattern": {
           "shape": ""
          }
         },
         "name": "1988",
         "offsetgroup": "1988",
         "orientation": "v",
         "showlegend": true,
         "texttemplate": "%{value}",
         "type": "histogram",
         "x": [
          "12,316.80"
         ],
         "xaxis": "x",
         "y": [
          49.83
         ],
         "yaxis": "y"
        },
        {
         "alignmentgroup": "True",
         "bingroup": "x",
         "histfunc": "avg",
         "hovertemplate": "fiscal_year=1989<br>total_costs(m)=%{x}<br>avg of average_benefit_per_person=%{y}<extra></extra>",
         "legendgroup": "1989",
         "marker": {
          "color": "#636efa",
          "pattern": {
           "shape": ""
          }
         },
         "name": "1989",
         "offsetgroup": "1989",
         "orientation": "v",
         "showlegend": true,
         "texttemplate": "%{value}",
         "type": "histogram",
         "x": [
          "12,901.59"
         ],
         "xaxis": "x",
         "y": [
          51.71
         ],
         "yaxis": "y"
        },
        {
         "alignmentgroup": "True",
         "bingroup": "x",
         "histfunc": "avg",
         "hovertemplate": "fiscal_year=1990<br>total_costs(m)=%{x}<br>avg of average_benefit_per_person=%{y}<extra></extra>",
         "legendgroup": "1990",
         "marker": {
          "color": "#EF553B",
          "pattern": {
           "shape": ""
          }
         },
         "name": "1990",
         "offsetgroup": "1990",
         "orientation": "v",
         "showlegend": true,
         "texttemplate": "%{value}",
         "type": "histogram",
         "x": [
          "15,447.26"
         ],
         "xaxis": "x",
         "y": [
          58.78
         ],
         "yaxis": "y"
        },
        {
         "alignmentgroup": "True",
         "bingroup": "x",
         "histfunc": "avg",
         "hovertemplate": "fiscal_year=1991<br>total_costs(m)=%{x}<br>avg of average_benefit_per_person=%{y}<extra></extra>",
         "legendgroup": "1991",
         "marker": {
          "color": "#00cc96",
          "pattern": {
           "shape": ""
          }
         },
         "name": "1991",
         "offsetgroup": "1991",
         "orientation": "v",
         "showlegend": true,
         "texttemplate": "%{value}",
         "type": "histogram",
         "x": [
          "18,747.27"
         ],
         "xaxis": "x",
         "y": [
          63.78
         ],
         "yaxis": "y"
        },
        {
         "alignmentgroup": "True",
         "bingroup": "x",
         "histfunc": "avg",
         "hovertemplate": "fiscal_year=1992<br>total_costs(m)=%{x}<br>avg of average_benefit_per_person=%{y}<extra></extra>",
         "legendgroup": "1992",
         "marker": {
          "color": "#ab63fa",
          "pattern": {
           "shape": ""
          }
         },
         "name": "1992",
         "offsetgroup": "1992",
         "orientation": "v",
         "showlegend": true,
         "texttemplate": "%{value}",
         "type": "histogram",
         "x": [
          "22,462.34"
         ],
         "xaxis": "x",
         "y": [
          68.57
         ],
         "yaxis": "y"
        },
        {
         "alignmentgroup": "True",
         "bingroup": "x",
         "histfunc": "avg",
         "hovertemplate": "fiscal_year=1993<br>total_costs(m)=%{x}<br>avg of average_benefit_per_person=%{y}<extra></extra>",
         "legendgroup": "1993",
         "marker": {
          "color": "#FFA15A",
          "pattern": {
           "shape": ""
          }
         },
         "name": "1993",
         "offsetgroup": "1993",
         "orientation": "v",
         "showlegend": true,
         "texttemplate": "%{value}",
         "type": "histogram",
         "x": [
          "23,652.97"
         ],
         "xaxis": "x",
         "y": [
          67.95
         ],
         "yaxis": "y"
        },
        {
         "alignmentgroup": "True",
         "bingroup": "x",
         "histfunc": "avg",
         "hovertemplate": "fiscal_year=1994<br>total_costs(m)=%{x}<br>avg of average_benefit_per_person=%{y}<extra></extra>",
         "legendgroup": "1994",
         "marker": {
          "color": "#19d3f3",
          "pattern": {
           "shape": ""
          }
         },
         "name": "1994",
         "offsetgroup": "1994",
         "orientation": "v",
         "showlegend": true,
         "texttemplate": "%{value}",
         "type": "histogram",
         "x": [
          "24,493.45"
         ],
         "xaxis": "x",
         "y": [
          69
         ],
         "yaxis": "y"
        },
        {
         "alignmentgroup": "True",
         "bingroup": "x",
         "histfunc": "avg",
         "hovertemplate": "fiscal_year=1995<br>total_costs(m)=%{x}<br>avg of average_benefit_per_person=%{y}<extra></extra>",
         "legendgroup": "1995",
         "marker": {
          "color": "#FF6692",
          "pattern": {
           "shape": ""
          }
         },
         "name": "1995",
         "offsetgroup": "1995",
         "orientation": "v",
         "showlegend": true,
         "texttemplate": "%{value}",
         "type": "histogram",
         "x": [
          "24,620.37"
         ],
         "xaxis": "x",
         "y": [
          71.27
         ],
         "yaxis": "y"
        },
        {
         "alignmentgroup": "True",
         "bingroup": "x",
         "histfunc": "avg",
         "hovertemplate": "fiscal_year=1996<br>total_costs(m)=%{x}<br>avg of average_benefit_per_person=%{y}<extra></extra>",
         "legendgroup": "1996",
         "marker": {
          "color": "#B6E880",
          "pattern": {
           "shape": ""
          }
         },
         "name": "1996",
         "offsetgroup": "1996",
         "orientation": "v",
         "showlegend": true,
         "texttemplate": "%{value}",
         "type": "histogram",
         "x": [
          "24,330.99"
         ],
         "xaxis": "x",
         "y": [
          73.21
         ],
         "yaxis": "y"
        },
        {
         "alignmentgroup": "True",
         "bingroup": "x",
         "histfunc": "avg",
         "hovertemplate": "fiscal_year=1997<br>total_costs(m)=%{x}<br>avg of average_benefit_per_person=%{y}<extra></extra>",
         "legendgroup": "1997",
         "marker": {
          "color": "#FF97FF",
          "pattern": {
           "shape": ""
          }
         },
         "name": "1997",
         "offsetgroup": "1997",
         "orientation": "v",
         "showlegend": true,
         "texttemplate": "%{value}",
         "type": "histogram",
         "x": [
          "21,507.55"
         ],
         "xaxis": "x",
         "y": [
          71.27
         ],
         "yaxis": "y"
        },
        {
         "alignmentgroup": "True",
         "bingroup": "x",
         "histfunc": "avg",
         "hovertemplate": "fiscal_year=1998<br>total_costs(m)=%{x}<br>avg of average_benefit_per_person=%{y}<extra></extra>",
         "legendgroup": "1998",
         "marker": {
          "color": "#FECB52",
          "pattern": {
           "shape": ""
          }
         },
         "name": "1998",
         "offsetgroup": "1998",
         "orientation": "v",
         "showlegend": true,
         "texttemplate": "%{value}",
         "type": "histogram",
         "x": [
          "18,988.32"
         ],
         "xaxis": "x",
         "y": [
          71.12
         ],
         "yaxis": "y"
        },
        {
         "alignmentgroup": "True",
         "bingroup": "x",
         "histfunc": "avg",
         "hovertemplate": "fiscal_year=1999<br>total_costs(m)=%{x}<br>avg of average_benefit_per_person=%{y}<extra></extra>",
         "legendgroup": "1999",
         "marker": {
          "color": "#636efa",
          "pattern": {
           "shape": ""
          }
         },
         "name": "1999",
         "offsetgroup": "1999",
         "orientation": "v",
         "showlegend": true,
         "texttemplate": "%{value}",
         "type": "histogram",
         "x": [
          "17,820.92"
         ],
         "xaxis": "x",
         "y": [
          72.27
         ],
         "yaxis": "y"
        },
        {
         "alignmentgroup": "True",
         "bingroup": "x",
         "histfunc": "avg",
         "hovertemplate": "fiscal_year=2000<br>total_costs(m)=%{x}<br>avg of average_benefit_per_person=%{y}<extra></extra>",
         "legendgroup": "2000",
         "marker": {
          "color": "#EF553B",
          "pattern": {
           "shape": ""
          }
         },
         "name": "2000",
         "offsetgroup": "2000",
         "orientation": "v",
         "showlegend": true,
         "texttemplate": "%{value}",
         "type": "histogram",
         "x": [
          "17,054.02"
         ],
         "xaxis": "x",
         "y": [
          72.62
         ],
         "yaxis": "y"
        },
        {
         "alignmentgroup": "True",
         "bingroup": "x",
         "histfunc": "avg",
         "hovertemplate": "fiscal_year=2001<br>total_costs(m)=%{x}<br>avg of average_benefit_per_person=%{y}<extra></extra>",
         "legendgroup": "2001",
         "marker": {
          "color": "#00cc96",
          "pattern": {
           "shape": ""
          }
         },
         "name": "2001",
         "offsetgroup": "2001",
         "orientation": "v",
         "showlegend": true,
         "texttemplate": "%{value}",
         "type": "histogram",
         "x": [
          "17,789.39"
         ],
         "xaxis": "x",
         "y": [
          74.81
         ],
         "yaxis": "y"
        },
        {
         "alignmentgroup": "True",
         "bingroup": "x",
         "histfunc": "avg",
         "hovertemplate": "fiscal_year=2002<br>total_costs(m)=%{x}<br>avg of average_benefit_per_person=%{y}<extra></extra>",
         "legendgroup": "2002",
         "marker": {
          "color": "#ab63fa",
          "pattern": {
           "shape": ""
          }
         },
         "name": "2002",
         "offsetgroup": "2002",
         "orientation": "v",
         "showlegend": true,
         "texttemplate": "%{value}",
         "type": "histogram",
         "x": [
          "20,637.02"
         ],
         "xaxis": "x",
         "y": [
          79.67
         ],
         "yaxis": "y"
        },
        {
         "alignmentgroup": "True",
         "bingroup": "x",
         "histfunc": "avg",
         "hovertemplate": "fiscal_year=2003<br>total_costs(m)=%{x}<br>avg of average_benefit_per_person=%{y}<extra></extra>",
         "legendgroup": "2003",
         "marker": {
          "color": "#FFA15A",
          "pattern": {
           "shape": ""
          }
         },
         "name": "2003",
         "offsetgroup": "2003",
         "orientation": "v",
         "showlegend": true,
         "texttemplate": "%{value}",
         "type": "histogram",
         "x": [
          "23,816.28"
         ],
         "xaxis": "x",
         "y": [
          83.94
         ],
         "yaxis": "y"
        },
        {
         "alignmentgroup": "True",
         "bingroup": "x",
         "histfunc": "avg",
         "hovertemplate": "fiscal_year=2004<br>total_costs(m)=%{x}<br>avg of average_benefit_per_person=%{y}<extra></extra>",
         "legendgroup": "2004",
         "marker": {
          "color": "#19d3f3",
          "pattern": {
           "shape": ""
          }
         },
         "name": "2004",
         "offsetgroup": "2004",
         "orientation": "v",
         "showlegend": true,
         "texttemplate": "%{value}",
         "type": "histogram",
         "x": [
          "27,099.03"
         ],
         "xaxis": "x",
         "y": [
          86.16
         ],
         "yaxis": "y"
        },
        {
         "alignmentgroup": "True",
         "bingroup": "x",
         "histfunc": "avg",
         "hovertemplate": "fiscal_year=2005<br>total_costs(m)=%{x}<br>avg of average_benefit_per_person=%{y}<extra></extra>",
         "legendgroup": "2005",
         "marker": {
          "color": "#FF6692",
          "pattern": {
           "shape": ""
          }
         },
         "name": "2005",
         "offsetgroup": "2005",
         "orientation": "v",
         "showlegend": true,
         "texttemplate": "%{value}",
         "type": "histogram",
         "x": [
          "31,072.01"
         ],
         "xaxis": "x",
         "y": [
          92.89
         ],
         "yaxis": "y"
        },
        {
         "alignmentgroup": "True",
         "bingroup": "x",
         "histfunc": "avg",
         "hovertemplate": "fiscal_year=2006<br>total_costs(m)=%{x}<br>avg of average_benefit_per_person=%{y}<extra></extra>",
         "legendgroup": "2006",
         "marker": {
          "color": "#B6E880",
          "pattern": {
           "shape": ""
          }
         },
         "name": "2006",
         "offsetgroup": "2006",
         "orientation": "v",
         "showlegend": true,
         "texttemplate": "%{value}",
         "type": "histogram",
         "x": [
          "32,903.06"
         ],
         "xaxis": "x",
         "y": [
          94.75
         ],
         "yaxis": "y"
        },
        {
         "alignmentgroup": "True",
         "bingroup": "x",
         "histfunc": "avg",
         "hovertemplate": "fiscal_year=2007<br>total_costs(m)=%{x}<br>avg of average_benefit_per_person=%{y}<extra></extra>",
         "legendgroup": "2007",
         "marker": {
          "color": "#FF97FF",
          "pattern": {
           "shape": ""
          }
         },
         "name": "2007",
         "offsetgroup": "2007",
         "orientation": "v",
         "showlegend": true,
         "texttemplate": "%{value}",
         "type": "histogram",
         "x": [
          "33,173.52"
         ],
         "xaxis": "x",
         "y": [
          96.18
         ],
         "yaxis": "y"
        },
        {
         "alignmentgroup": "True",
         "bingroup": "x",
         "histfunc": "avg",
         "hovertemplate": "fiscal_year=2008<br>total_costs(m)=%{x}<br>avg of average_benefit_per_person=%{y}<extra></extra>",
         "legendgroup": "2008",
         "marker": {
          "color": "#FECB52",
          "pattern": {
           "shape": ""
          }
         },
         "name": "2008",
         "offsetgroup": "2008",
         "orientation": "v",
         "showlegend": true,
         "texttemplate": "%{value}",
         "type": "histogram",
         "x": [
          "37,639.64"
         ],
         "xaxis": "x",
         "y": [
          102.19
         ],
         "yaxis": "y"
        },
        {
         "alignmentgroup": "True",
         "bingroup": "x",
         "histfunc": "avg",
         "hovertemplate": "fiscal_year=2009<br>total_costs(m)=%{x}<br>avg of average_benefit_per_person=%{y}<extra></extra>",
         "legendgroup": "2009",
         "marker": {
          "color": "#636efa",
          "pattern": {
           "shape": ""
          }
         },
         "name": "2009",
         "offsetgroup": "2009",
         "orientation": "v",
         "showlegend": true,
         "texttemplate": "%{value}",
         "type": "histogram",
         "x": [
          "53,619.92"
         ],
         "xaxis": "x",
         "y": [
          125.31
         ],
         "yaxis": "y"
        },
        {
         "alignmentgroup": "True",
         "bingroup": "x",
         "histfunc": "avg",
         "hovertemplate": "fiscal_year=2010<br>total_costs(m)=%{x}<br>avg of average_benefit_per_person=%{y}<extra></extra>",
         "legendgroup": "2010",
         "marker": {
          "color": "#EF553B",
          "pattern": {
           "shape": ""
          }
         },
         "name": "2010",
         "offsetgroup": "2010",
         "orientation": "v",
         "showlegend": true,
         "texttemplate": "%{value}",
         "type": "histogram",
         "x": [
          "68,283.47"
         ],
         "xaxis": "x",
         "y": [
          133.79
         ],
         "yaxis": "y"
        },
        {
         "alignmentgroup": "True",
         "bingroup": "x",
         "histfunc": "avg",
         "hovertemplate": "fiscal_year=2011<br>total_costs(m)=%{x}<br>avg of average_benefit_per_person=%{y}<extra></extra>",
         "legendgroup": "2011",
         "marker": {
          "color": "#00cc96",
          "pattern": {
           "shape": ""
          }
         },
         "name": "2011",
         "offsetgroup": "2011",
         "orientation": "v",
         "showlegend": true,
         "texttemplate": "%{value}",
         "type": "histogram",
         "x": [
          "75,686.54"
         ],
         "xaxis": "x",
         "y": [
          133.85
         ],
         "yaxis": "y"
        },
        {
         "alignmentgroup": "True",
         "bingroup": "x",
         "histfunc": "avg",
         "hovertemplate": "fiscal_year=2012<br>total_costs(m)=%{x}<br>avg of average_benefit_per_person=%{y}<extra></extra>",
         "legendgroup": "2012",
         "marker": {
          "color": "#ab63fa",
          "pattern": {
           "shape": ""
          }
         },
         "name": "2012",
         "offsetgroup": "2012",
         "orientation": "v",
         "showlegend": true,
         "texttemplate": "%{value}",
         "type": "histogram",
         "x": [
          "78,411.10"
         ],
         "xaxis": "x",
         "y": [
          133.41
         ],
         "yaxis": "y"
        },
        {
         "alignmentgroup": "True",
         "bingroup": "x",
         "histfunc": "avg",
         "hovertemplate": "fiscal_year=2013<br>total_costs(m)=%{x}<br>avg of average_benefit_per_person=%{y}<extra></extra>",
         "legendgroup": "2013",
         "marker": {
          "color": "#FFA15A",
          "pattern": {
           "shape": ""
          }
         },
         "name": "2013",
         "offsetgroup": "2013",
         "orientation": "v",
         "showlegend": true,
         "texttemplate": "%{value}",
         "type": "histogram",
         "x": [
          "79,859.03"
         ],
         "xaxis": "x",
         "y": [
          133.07
         ],
         "yaxis": "y"
        },
        {
         "alignmentgroup": "True",
         "bingroup": "x",
         "histfunc": "avg",
         "hovertemplate": "fiscal_year=2014<br>total_costs(m)=%{x}<br>avg of average_benefit_per_person=%{y}<extra></extra>",
         "legendgroup": "2014",
         "marker": {
          "color": "#19d3f3",
          "pattern": {
           "shape": ""
          }
         },
         "name": "2014",
         "offsetgroup": "2014",
         "orientation": "v",
         "showlegend": true,
         "texttemplate": "%{value}",
         "type": "histogram",
         "x": [
          "74,060.33"
         ],
         "xaxis": "x",
         "y": [
          125.01
         ],
         "yaxis": "y"
        },
        {
         "alignmentgroup": "True",
         "bingroup": "x",
         "histfunc": "avg",
         "hovertemplate": "fiscal_year=2015<br>total_costs(m)=%{x}<br>avg of average_benefit_per_person=%{y}<extra></extra>",
         "legendgroup": "2015",
         "marker": {
          "color": "#FF6692",
          "pattern": {
           "shape": ""
          }
         },
         "name": "2015",
         "offsetgroup": "2015",
         "orientation": "v",
         "showlegend": true,
         "texttemplate": "%{value}",
         "type": "histogram",
         "x": [
          "73,946.17"
         ],
         "xaxis": "x",
         "y": [
          126.81
         ],
         "yaxis": "y"
        },
        {
         "alignmentgroup": "True",
         "bingroup": "x",
         "histfunc": "avg",
         "hovertemplate": "fiscal_year=2016<br>total_costs(m)=%{x}<br>avg of average_benefit_per_person=%{y}<extra></extra>",
         "legendgroup": "2016",
         "marker": {
          "color": "#B6E880",
          "pattern": {
           "shape": ""
          }
         },
         "name": "2016",
         "offsetgroup": "2016",
         "orientation": "v",
         "showlegend": true,
         "texttemplate": "%{value}",
         "type": "histogram",
         "x": [
          "70,913.55"
         ],
         "xaxis": "x",
         "y": [
          125.4
         ],
         "yaxis": "y"
        },
        {
         "alignmentgroup": "True",
         "bingroup": "x",
         "histfunc": "avg",
         "hovertemplate": "fiscal_year=2017<br>total_costs(m)=%{x}<br>avg of average_benefit_per_person=%{y}<extra></extra>",
         "legendgroup": "2017",
         "marker": {
          "color": "#FF97FF",
          "pattern": {
           "shape": ""
          }
         },
         "name": "2017",
         "offsetgroup": "2017",
         "orientation": "v",
         "showlegend": true,
         "texttemplate": "%{value}",
         "type": "histogram",
         "x": [
          "68,174.72"
         ],
         "xaxis": "x",
         "y": [
          125.47
         ],
         "yaxis": "y"
        },
        {
         "alignmentgroup": "True",
         "bingroup": "x",
         "histfunc": "avg",
         "hovertemplate": "fiscal_year=2018<br>total_costs(m)=%{x}<br>avg of average_benefit_per_person=%{y}<extra></extra>",
         "legendgroup": "2018",
         "marker": {
          "color": "#FECB52",
          "pattern": {
           "shape": ""
          }
         },
         "name": "2018",
         "offsetgroup": "2018",
         "orientation": "v",
         "showlegend": true,
         "texttemplate": "%{value}",
         "type": "histogram",
         "x": [
          "65,446.40"
         ],
         "xaxis": "x",
         "y": [
          124.5
         ],
         "yaxis": "y"
        },
        {
         "alignmentgroup": "True",
         "bingroup": "x",
         "histfunc": "avg",
         "hovertemplate": "fiscal_year=2019<br>total_costs(m)=%{x}<br>avg of average_benefit_per_person=%{y}<extra></extra>",
         "legendgroup": "2019",
         "marker": {
          "color": "#636efa",
          "pattern": {
           "shape": ""
          }
         },
         "name": "2019",
         "offsetgroup": "2019",
         "orientation": "v",
         "showlegend": true,
         "texttemplate": "%{value}",
         "type": "histogram",
         "x": [
          "60,366.21"
         ],
         "xaxis": "x",
         "y": [
          129.83
         ],
         "yaxis": "y"
        }
       ],
       "layout": {
        "barmode": "relative",
        "legend": {
         "title": {
          "text": "fiscal_year"
         },
         "tracegroupgap": 0
        },
        "margin": {
         "t": 60
        },
        "template": {
         "data": {
          "bar": [
           {
            "error_x": {
             "color": "#2a3f5f"
            },
            "error_y": {
             "color": "#2a3f5f"
            },
            "marker": {
             "line": {
              "color": "#E5ECF6",
              "width": 0.5
             },
             "pattern": {
              "fillmode": "overlay",
              "size": 10,
              "solidity": 0.2
             }
            },
            "type": "bar"
           }
          ],
          "barpolar": [
           {
            "marker": {
             "line": {
              "color": "#E5ECF6",
              "width": 0.5
             },
             "pattern": {
              "fillmode": "overlay",
              "size": 10,
              "solidity": 0.2
             }
            },
            "type": "barpolar"
           }
          ],
          "carpet": [
           {
            "aaxis": {
             "endlinecolor": "#2a3f5f",
             "gridcolor": "white",
             "linecolor": "white",
             "minorgridcolor": "white",
             "startlinecolor": "#2a3f5f"
            },
            "baxis": {
             "endlinecolor": "#2a3f5f",
             "gridcolor": "white",
             "linecolor": "white",
             "minorgridcolor": "white",
             "startlinecolor": "#2a3f5f"
            },
            "type": "carpet"
           }
          ],
          "choropleth": [
           {
            "colorbar": {
             "outlinewidth": 0,
             "ticks": ""
            },
            "type": "choropleth"
           }
          ],
          "contour": [
           {
            "colorbar": {
             "outlinewidth": 0,
             "ticks": ""
            },
            "colorscale": [
             [
              0,
              "#0d0887"
             ],
             [
              0.1111111111111111,
              "#46039f"
             ],
             [
              0.2222222222222222,
              "#7201a8"
             ],
             [
              0.3333333333333333,
              "#9c179e"
             ],
             [
              0.4444444444444444,
              "#bd3786"
             ],
             [
              0.5555555555555556,
              "#d8576b"
             ],
             [
              0.6666666666666666,
              "#ed7953"
             ],
             [
              0.7777777777777778,
              "#fb9f3a"
             ],
             [
              0.8888888888888888,
              "#fdca26"
             ],
             [
              1,
              "#f0f921"
             ]
            ],
            "type": "contour"
           }
          ],
          "contourcarpet": [
           {
            "colorbar": {
             "outlinewidth": 0,
             "ticks": ""
            },
            "type": "contourcarpet"
           }
          ],
          "heatmap": [
           {
            "colorbar": {
             "outlinewidth": 0,
             "ticks": ""
            },
            "colorscale": [
             [
              0,
              "#0d0887"
             ],
             [
              0.1111111111111111,
              "#46039f"
             ],
             [
              0.2222222222222222,
              "#7201a8"
             ],
             [
              0.3333333333333333,
              "#9c179e"
             ],
             [
              0.4444444444444444,
              "#bd3786"
             ],
             [
              0.5555555555555556,
              "#d8576b"
             ],
             [
              0.6666666666666666,
              "#ed7953"
             ],
             [
              0.7777777777777778,
              "#fb9f3a"
             ],
             [
              0.8888888888888888,
              "#fdca26"
             ],
             [
              1,
              "#f0f921"
             ]
            ],
            "type": "heatmap"
           }
          ],
          "heatmapgl": [
           {
            "colorbar": {
             "outlinewidth": 0,
             "ticks": ""
            },
            "colorscale": [
             [
              0,
              "#0d0887"
             ],
             [
              0.1111111111111111,
              "#46039f"
             ],
             [
              0.2222222222222222,
              "#7201a8"
             ],
             [
              0.3333333333333333,
              "#9c179e"
             ],
             [
              0.4444444444444444,
              "#bd3786"
             ],
             [
              0.5555555555555556,
              "#d8576b"
             ],
             [
              0.6666666666666666,
              "#ed7953"
             ],
             [
              0.7777777777777778,
              "#fb9f3a"
             ],
             [
              0.8888888888888888,
              "#fdca26"
             ],
             [
              1,
              "#f0f921"
             ]
            ],
            "type": "heatmapgl"
           }
          ],
          "histogram": [
           {
            "marker": {
             "pattern": {
              "fillmode": "overlay",
              "size": 10,
              "solidity": 0.2
             }
            },
            "type": "histogram"
           }
          ],
          "histogram2d": [
           {
            "colorbar": {
             "outlinewidth": 0,
             "ticks": ""
            },
            "colorscale": [
             [
              0,
              "#0d0887"
             ],
             [
              0.1111111111111111,
              "#46039f"
             ],
             [
              0.2222222222222222,
              "#7201a8"
             ],
             [
              0.3333333333333333,
              "#9c179e"
             ],
             [
              0.4444444444444444,
              "#bd3786"
             ],
             [
              0.5555555555555556,
              "#d8576b"
             ],
             [
              0.6666666666666666,
              "#ed7953"
             ],
             [
              0.7777777777777778,
              "#fb9f3a"
             ],
             [
              0.8888888888888888,
              "#fdca26"
             ],
             [
              1,
              "#f0f921"
             ]
            ],
            "type": "histogram2d"
           }
          ],
          "histogram2dcontour": [
           {
            "colorbar": {
             "outlinewidth": 0,
             "ticks": ""
            },
            "colorscale": [
             [
              0,
              "#0d0887"
             ],
             [
              0.1111111111111111,
              "#46039f"
             ],
             [
              0.2222222222222222,
              "#7201a8"
             ],
             [
              0.3333333333333333,
              "#9c179e"
             ],
             [
              0.4444444444444444,
              "#bd3786"
             ],
             [
              0.5555555555555556,
              "#d8576b"
             ],
             [
              0.6666666666666666,
              "#ed7953"
             ],
             [
              0.7777777777777778,
              "#fb9f3a"
             ],
             [
              0.8888888888888888,
              "#fdca26"
             ],
             [
              1,
              "#f0f921"
             ]
            ],
            "type": "histogram2dcontour"
           }
          ],
          "mesh3d": [
           {
            "colorbar": {
             "outlinewidth": 0,
             "ticks": ""
            },
            "type": "mesh3d"
           }
          ],
          "parcoords": [
           {
            "line": {
             "colorbar": {
              "outlinewidth": 0,
              "ticks": ""
             }
            },
            "type": "parcoords"
           }
          ],
          "pie": [
           {
            "automargin": true,
            "type": "pie"
           }
          ],
          "scatter": [
           {
            "fillpattern": {
             "fillmode": "overlay",
             "size": 10,
             "solidity": 0.2
            },
            "type": "scatter"
           }
          ],
          "scatter3d": [
           {
            "line": {
             "colorbar": {
              "outlinewidth": 0,
              "ticks": ""
             }
            },
            "marker": {
             "colorbar": {
              "outlinewidth": 0,
              "ticks": ""
             }
            },
            "type": "scatter3d"
           }
          ],
          "scattercarpet": [
           {
            "marker": {
             "colorbar": {
              "outlinewidth": 0,
              "ticks": ""
             }
            },
            "type": "scattercarpet"
           }
          ],
          "scattergeo": [
           {
            "marker": {
             "colorbar": {
              "outlinewidth": 0,
              "ticks": ""
             }
            },
            "type": "scattergeo"
           }
          ],
          "scattergl": [
           {
            "marker": {
             "colorbar": {
              "outlinewidth": 0,
              "ticks": ""
             }
            },
            "type": "scattergl"
           }
          ],
          "scattermapbox": [
           {
            "marker": {
             "colorbar": {
              "outlinewidth": 0,
              "ticks": ""
             }
            },
            "type": "scattermapbox"
           }
          ],
          "scatterpolar": [
           {
            "marker": {
             "colorbar": {
              "outlinewidth": 0,
              "ticks": ""
             }
            },
            "type": "scatterpolar"
           }
          ],
          "scatterpolargl": [
           {
            "marker": {
             "colorbar": {
              "outlinewidth": 0,
              "ticks": ""
             }
            },
            "type": "scatterpolargl"
           }
          ],
          "scatterternary": [
           {
            "marker": {
             "colorbar": {
              "outlinewidth": 0,
              "ticks": ""
             }
            },
            "type": "scatterternary"
           }
          ],
          "surface": [
           {
            "colorbar": {
             "outlinewidth": 0,
             "ticks": ""
            },
            "colorscale": [
             [
              0,
              "#0d0887"
             ],
             [
              0.1111111111111111,
              "#46039f"
             ],
             [
              0.2222222222222222,
              "#7201a8"
             ],
             [
              0.3333333333333333,
              "#9c179e"
             ],
             [
              0.4444444444444444,
              "#bd3786"
             ],
             [
              0.5555555555555556,
              "#d8576b"
             ],
             [
              0.6666666666666666,
              "#ed7953"
             ],
             [
              0.7777777777777778,
              "#fb9f3a"
             ],
             [
              0.8888888888888888,
              "#fdca26"
             ],
             [
              1,
              "#f0f921"
             ]
            ],
            "type": "surface"
           }
          ],
          "table": [
           {
            "cells": {
             "fill": {
              "color": "#EBF0F8"
             },
             "line": {
              "color": "white"
             }
            },
            "header": {
             "fill": {
              "color": "#C8D4E3"
             },
             "line": {
              "color": "white"
             }
            },
            "type": "table"
           }
          ]
         },
         "layout": {
          "annotationdefaults": {
           "arrowcolor": "#2a3f5f",
           "arrowhead": 0,
           "arrowwidth": 1
          },
          "autotypenumbers": "strict",
          "coloraxis": {
           "colorbar": {
            "outlinewidth": 0,
            "ticks": ""
           }
          },
          "colorscale": {
           "diverging": [
            [
             0,
             "#8e0152"
            ],
            [
             0.1,
             "#c51b7d"
            ],
            [
             0.2,
             "#de77ae"
            ],
            [
             0.3,
             "#f1b6da"
            ],
            [
             0.4,
             "#fde0ef"
            ],
            [
             0.5,
             "#f7f7f7"
            ],
            [
             0.6,
             "#e6f5d0"
            ],
            [
             0.7,
             "#b8e186"
            ],
            [
             0.8,
             "#7fbc41"
            ],
            [
             0.9,
             "#4d9221"
            ],
            [
             1,
             "#276419"
            ]
           ],
           "sequential": [
            [
             0,
             "#0d0887"
            ],
            [
             0.1111111111111111,
             "#46039f"
            ],
            [
             0.2222222222222222,
             "#7201a8"
            ],
            [
             0.3333333333333333,
             "#9c179e"
            ],
            [
             0.4444444444444444,
             "#bd3786"
            ],
            [
             0.5555555555555556,
             "#d8576b"
            ],
            [
             0.6666666666666666,
             "#ed7953"
            ],
            [
             0.7777777777777778,
             "#fb9f3a"
            ],
            [
             0.8888888888888888,
             "#fdca26"
            ],
            [
             1,
             "#f0f921"
            ]
           ],
           "sequentialminus": [
            [
             0,
             "#0d0887"
            ],
            [
             0.1111111111111111,
             "#46039f"
            ],
            [
             0.2222222222222222,
             "#7201a8"
            ],
            [
             0.3333333333333333,
             "#9c179e"
            ],
            [
             0.4444444444444444,
             "#bd3786"
            ],
            [
             0.5555555555555556,
             "#d8576b"
            ],
            [
             0.6666666666666666,
             "#ed7953"
            ],
            [
             0.7777777777777778,
             "#fb9f3a"
            ],
            [
             0.8888888888888888,
             "#fdca26"
            ],
            [
             1,
             "#f0f921"
            ]
           ]
          },
          "colorway": [
           "#636efa",
           "#EF553B",
           "#00cc96",
           "#ab63fa",
           "#FFA15A",
           "#19d3f3",
           "#FF6692",
           "#B6E880",
           "#FF97FF",
           "#FECB52"
          ],
          "font": {
           "color": "#2a3f5f"
          },
          "geo": {
           "bgcolor": "white",
           "lakecolor": "white",
           "landcolor": "#E5ECF6",
           "showlakes": true,
           "showland": true,
           "subunitcolor": "white"
          },
          "hoverlabel": {
           "align": "left"
          },
          "hovermode": "closest",
          "mapbox": {
           "style": "light"
          },
          "paper_bgcolor": "white",
          "plot_bgcolor": "#E5ECF6",
          "polar": {
           "angularaxis": {
            "gridcolor": "white",
            "linecolor": "white",
            "ticks": ""
           },
           "bgcolor": "#E5ECF6",
           "radialaxis": {
            "gridcolor": "white",
            "linecolor": "white",
            "ticks": ""
           }
          },
          "scene": {
           "xaxis": {
            "backgroundcolor": "#E5ECF6",
            "gridcolor": "white",
            "gridwidth": 2,
            "linecolor": "white",
            "showbackground": true,
            "ticks": "",
            "zerolinecolor": "white"
           },
           "yaxis": {
            "backgroundcolor": "#E5ECF6",
            "gridcolor": "white",
            "gridwidth": 2,
            "linecolor": "white",
            "showbackground": true,
            "ticks": "",
            "zerolinecolor": "white"
           },
           "zaxis": {
            "backgroundcolor": "#E5ECF6",
            "gridcolor": "white",
            "gridwidth": 2,
            "linecolor": "white",
            "showbackground": true,
            "ticks": "",
            "zerolinecolor": "white"
           }
          },
          "shapedefaults": {
           "line": {
            "color": "#2a3f5f"
           }
          },
          "ternary": {
           "aaxis": {
            "gridcolor": "white",
            "linecolor": "white",
            "ticks": ""
           },
           "baxis": {
            "gridcolor": "white",
            "linecolor": "white",
            "ticks": ""
           },
           "bgcolor": "#E5ECF6",
           "caxis": {
            "gridcolor": "white",
            "linecolor": "white",
            "ticks": ""
           }
          },
          "title": {
           "x": 0.05
          },
          "xaxis": {
           "automargin": true,
           "gridcolor": "white",
           "linecolor": "white",
           "ticks": "",
           "title": {
            "standoff": 15
           },
           "zerolinecolor": "white",
           "zerolinewidth": 2
          },
          "yaxis": {
           "automargin": true,
           "gridcolor": "white",
           "linecolor": "white",
           "ticks": "",
           "title": {
            "standoff": 15
           },
           "zerolinecolor": "white",
           "zerolinewidth": 2
          }
         }
        },
        "xaxis": {
         "anchor": "y",
         "domain": [
          0,
          1
         ],
         "title": {
          "text": "total_costs(m)"
         }
        },
        "yaxis": {
         "anchor": "x",
         "domain": [
          0,
          1
         ],
         "title": {
          "text": "avg of average_benefit_per_person"
         }
        }
       }
      }
     },
     "metadata": {},
     "output_type": "display_data"
    }
   ],
   "source": [
    "px.histogram(clean_df, x = 'total_costs(m)', y = 'average_benefit_per_person', histfunc='avg', text_auto=True,  color='fiscal_year')"
   ]
  },
  {
   "attachments": {},
   "cell_type": "markdown",
   "metadata": {},
   "source": [
    "- Create a visualization detailing the ratio of non-null values to null values in the entire dataset"
   ]
  },
  {
   "cell_type": "code",
   "execution_count": 276,
   "metadata": {},
   "outputs": [
    {
     "data": {
      "image/png": "[encoded data removed]",
      "text/plain": [
       "<Figure size 800x1000 with 1 Axes>"
      ]
     },
     "metadata": {},
     "output_type": "display_data"
    }
   ],
   "source": [
    "null_ratios = clean_df.isnull().sum() / len(df)\n",
    "\n",
    "\n",
    "fig, ax = plt.subplots(figsize=(8,10))\n",
    "ax.bar(null_ratios.index, null_ratios.values)\n",
    "\n",
    "ax.set_title('Ratio of Non-Null Values to Null Values')\n",
    "\n",
    "ax.set_xlabel('Columns')\n",
    "ax.set_ylabel('Ratio')\n",
    "\n",
    "plt.xticks(rotation=90)\n",
    "plt.show() ## There is no null values?? ##"
   ]
  },
  {
   "attachments": {},
   "cell_type": "markdown",
   "metadata": {},
   "source": [
    "- Create a scatterplot to show the relationship bewtween the total benefits and total costs"
   ]
  },
  {
   "cell_type": "code",
   "execution_count": 285,
   "metadata": {},
   "outputs": [
    {
     "data": {
      "application/vnd.plotly.v1+json": {
       "config": {
        "plotlyServerURL": "https://plot.ly"
       },
       "data": [
        {
         "hovertemplate": "total_benefits(m)=%{x}<br>total_costs(m)=%{y}<extra></extra>",
         "legendgroup": "228.80",
         "marker": {
          "color": "#636efa",
          "symbol": "circle"
         },
         "mode": "markers",
         "name": "228.80",
         "orientation": "v",
         "showlegend": true,
         "type": "scatter",
         "x": [
          "228.80"
         ],
         "xaxis": "x",
         "y": [
          "250.50"
         ],
         "yaxis": "y"
        },
        {
         "hovertemplate": "total_benefits(m)=%{x}<br>total_costs(m)=%{y}<extra></extra>",
         "legendgroup": "549.70",
         "marker": {
          "color": "#EF553B",
          "symbol": "diamond"
         },
         "mode": "markers",
         "name": "549.70",
         "orientation": "v",
         "showlegend": true,
         "type": "scatter",
         "x": [
          "549.70"
         ],
         "xaxis": "x",
         "y": [
          "576.90"
         ],
         "yaxis": "y"
        },
        {
         "hovertemplate": "total_benefits(m)=%{x}<br>total_costs(m)=%{y}<extra></extra>",
         "legendgroup": "1,522.70",
         "marker": {
          "color": "#00cc96",
          "symbol": "square"
         },
         "mode": "markers",
         "name": "1,522.70",
         "orientation": "v",
         "showlegend": true,
         "type": "scatter",
         "x": [
          "1,522.70"
         ],
         "xaxis": "x",
         "y": [
          "1,575.90"
         ],
         "yaxis": "y"
        },
        {
         "hovertemplate": "total_benefits(m)=%{x}<br>total_costs(m)=%{y}<extra></extra>",
         "legendgroup": "1,797.30",
         "marker": {
          "color": "#ab63fa",
          "symbol": "x"
         },
         "mode": "markers",
         "name": "1,797.30",
         "orientation": "v",
         "showlegend": true,
         "type": "scatter",
         "x": [
          "1,797.30"
         ],
         "xaxis": "x",
         "y": [
          "1,866.70"
         ],
         "yaxis": "y"
        },
        {
         "hovertemplate": "total_benefits(m)=%{x}<br>total_costs(m)=%{y}<extra></extra>",
         "legendgroup": "2,131.40",
         "marker": {
          "color": "#FFA15A",
          "symbol": "cross"
         },
         "mode": "markers",
         "name": "2,131.40",
         "orientation": "v",
         "showlegend": true,
         "type": "scatter",
         "x": [
          "2,131.40"
         ],
         "xaxis": "x",
         "y": [
          "2,207.40"
         ],
         "yaxis": "y"
        },
        {
         "hovertemplate": "total_benefits(m)=%{x}<br>total_costs(m)=%{y}<extra></extra>",
         "legendgroup": "2,718.30",
         "marker": {
          "color": "#19d3f3",
          "symbol": "circle"
         },
         "mode": "markers",
         "name": "2,718.30",
         "orientation": "v",
         "showlegend": true,
         "type": "scatter",
         "x": [
          "2,718.30"
         ],
         "xaxis": "x",
         "y": [
          "2,837.50"
         ],
         "yaxis": "y"
        },
        {
         "hovertemplate": "total_benefits(m)=%{x}<br>total_costs(m)=%{y}<extra></extra>",
         "legendgroup": "4,385.50",
         "marker": {
          "color": "#FF6692",
          "symbol": "diamond"
         },
         "mode": "markers",
         "name": "4,385.50",
         "orientation": "v",
         "showlegend": true,
         "type": "scatter",
         "x": [
          "4,385.50"
         ],
         "xaxis": "x",
         "y": [
          "4,618.70"
         ],
         "yaxis": "y"
        },
        {
         "hovertemplate": "total_benefits(m)=%{x}<br>total_costs(m)=%{y}<extra></extra>",
         "legendgroup": "5,326.50",
         "marker": {
          "color": "#B6E880",
          "symbol": "square"
         },
         "mode": "markers",
         "name": "5,326.50",
         "orientation": "v",
         "showlegend": true,
         "type": "scatter",
         "x": [
          "5,326.50"
         ],
         "xaxis": "x",
         "y": [
          "5,685.50"
         ],
         "yaxis": "y"
        },
        {
         "hovertemplate": "total_benefits(m)=%{x}<br>total_costs(m)=%{y}<extra></extra>",
         "legendgroup": "5,067.00",
         "marker": {
          "color": "#FF97FF",
          "symbol": "x"
         },
         "mode": "markers",
         "name": "5,067.00",
         "orientation": "v",
         "showlegend": true,
         "type": "scatter",
         "x": [
          "5,067.00"
         ],
         "xaxis": "x",
         "y": [
          "5,461.00"
         ],
         "yaxis": "y"
        },
        {
         "hovertemplate": "total_benefits(m)=%{x}<br>total_costs(m)=%{y}<extra></extra>",
         "legendgroup": "5,139.20",
         "marker": {
          "color": "#FECB52",
          "symbol": "cross"
         },
         "mode": "markers",
         "name": "5,139.20",
         "orientation": "v",
         "showlegend": true,
         "type": "scatter",
         "x": [
          "5,139.20"
         ],
         "xaxis": "x",
         "y": [
          "5,519.70"
         ],
         "yaxis": "y"
        },
        {
         "hovertemplate": "total_benefits(m)=%{x}<br>total_costs(m)=%{y}<extra></extra>",
         "legendgroup": "6,480.20",
         "marker": {
          "color": "#636efa",
          "symbol": "circle"
         },
         "mode": "markers",
         "name": "6,480.20",
         "orientation": "v",
         "showlegend": true,
         "type": "scatter",
         "x": [
          "6,480.20"
         ],
         "xaxis": "x",
         "y": [
          "6,939.80"
         ],
         "yaxis": "y"
        },
        {
         "hovertemplate": "total_benefits(m)=%{x}<br>total_costs(m)=%{y}<extra></extra>",
         "legendgroup": "8,720.90",
         "marker": {
          "color": "#EF553B",
          "symbol": "diamond"
         },
         "mode": "markers",
         "name": "8,720.90",
         "orientation": "v",
         "showlegend": true,
         "type": "scatter",
         "x": [
          "8,720.90"
         ],
         "xaxis": "x",
         "y": [
          "9,206.50"
         ],
         "yaxis": "y"
        },
        {
         "hovertemplate": "total_benefits(m)=%{x}<br>total_costs(m)=%{y}<extra></extra>",
         "legendgroup": "10,629.90",
         "marker": {
          "color": "#00cc96",
          "symbol": "square"
         },
         "mode": "markers",
         "name": "10,629.90",
         "orientation": "v",
         "showlegend": true,
         "type": "scatter",
         "x": [
          "10,629.90"
         ],
         "xaxis": "x",
         "y": [
          "11,225.20"
         ],
         "yaxis": "y"
        },
        {
         "hovertemplate": "total_benefits(m)=%{x}<br>total_costs(m)=%{y}<extra></extra>",
         "legendgroup": "10,208.30",
         "marker": {
          "color": "#ab63fa",
          "symbol": "x"
         },
         "mode": "markers",
         "name": "10,208.30",
         "orientation": "v",
         "showlegend": true,
         "type": "scatter",
         "x": [
          "10,208.30"
         ],
         "xaxis": "x",
         "y": [
          "10,836.70"
         ],
         "yaxis": "y"
        },
        {
         "hovertemplate": "total_benefits(m)=%{x}<br>total_costs(m)=%{y}<extra></extra>",
         "legendgroup": "11,152.30",
         "marker": {
          "color": "#FFA15A",
          "symbol": "cross"
         },
         "mode": "markers",
         "name": "11,152.30",
         "orientation": "v",
         "showlegend": true,
         "type": "scatter",
         "x": [
          "11,152.30"
         ],
         "xaxis": "x",
         "y": [
          "11,847.10"
         ],
         "yaxis": "y"
        },
        {
         "hovertemplate": "total_benefits(m)=%{x}<br>total_costs(m)=%{y}<extra></extra>",
         "legendgroup": "10,696.10",
         "marker": {
          "color": "#19d3f3",
          "symbol": "circle"
         },
         "mode": "markers",
         "name": "10,696.10",
         "orientation": "v",
         "showlegend": true,
         "type": "scatter",
         "x": [
          "10,696.10"
         ],
         "xaxis": "x",
         "y": [
          "11,578.80"
         ],
         "yaxis": "y"
        },
        {
         "hovertemplate": "total_benefits(m)=%{x}<br>total_costs(m)=%{y}<extra></extra>",
         "legendgroup": "10,743.60",
         "marker": {
          "color": "#FF6692",
          "symbol": "diamond"
         },
         "mode": "markers",
         "name": "10,743.60",
         "orientation": "v",
         "showlegend": true,
         "type": "scatter",
         "x": [
          "10,743.60"
         ],
         "xaxis": "x",
         "y": [
          "11,703.20"
         ],
         "yaxis": "y"
        },
        {
         "hovertemplate": "total_benefits(m)=%{x}<br>total_costs(m)=%{y}<extra></extra>",
         "legendgroup": "10,605.20",
         "marker": {
          "color": "#B6E880",
          "symbol": "square"
         },
         "mode": "markers",
         "name": "10,605.20",
         "orientation": "v",
         "showlegend": true,
         "type": "scatter",
         "x": [
          "10,605.20"
         ],
         "xaxis": "x",
         "y": [
          "11,638.40"
         ],
         "yaxis": "y"
        },
        {
         "hovertemplate": "total_benefits(m)=%{x}<br>total_costs(m)=%{y}<extra></extra>",
         "legendgroup": "10,500.30",
         "marker": {
          "color": "#FF97FF",
          "symbol": "x"
         },
         "mode": "markers",
         "name": "10,500.30",
         "orientation": "v",
         "showlegend": true,
         "type": "scatter",
         "x": [
          "10,500.30"
         ],
         "xaxis": "x",
         "y": [
          "11,604.20"
         ],
         "yaxis": "y"
        },
        {
         "hovertemplate": "total_benefits(m)=%{x}<br>total_costs(m)=%{y}<extra></extra>",
         "legendgroup": "11,149.10",
         "marker": {
          "color": "#FECB52",
          "symbol": "cross"
         },
         "mode": "markers",
         "name": "11,149.10",
         "orientation": "v",
         "showlegend": true,
         "type": "scatter",
         "x": [
          "11,149.10"
         ],
         "xaxis": "x",
         "y": [
          "12,316.80"
         ],
         "yaxis": "y"
        },
        {
         "hovertemplate": "total_benefits(m)=%{x}<br>total_costs(m)=%{y}<extra></extra>",
         "legendgroup": "11,669.78",
         "marker": {
          "color": "#636efa",
          "symbol": "circle"
         },
         "mode": "markers",
         "name": "11,669.78",
         "orientation": "v",
         "showlegend": true,
         "type": "scatter",
         "x": [
          "11,669.78"
         ],
         "xaxis": "x",
         "y": [
          "12,901.59"
         ],
         "yaxis": "y"
        },
        {
         "hovertemplate": "total_benefits(m)=%{x}<br>total_costs(m)=%{y}<extra></extra>",
         "legendgroup": "14,142.79",
         "marker": {
          "color": "#EF553B",
          "symbol": "diamond"
         },
         "mode": "markers",
         "name": "14,142.79",
         "orientation": "v",
         "showlegend": true,
         "type": "scatter",
         "x": [
          "14,142.79"
         ],
         "xaxis": "x",
         "y": [
          "15,447.26"
         ],
         "yaxis": "y"
        },
        {
         "hovertemplate": "total_benefits(m)=%{x}<br>total_costs(m)=%{y}<extra></extra>",
         "legendgroup": "17,315.77",
         "marker": {
          "color": "#00cc96",
          "symbol": "square"
         },
         "mode": "markers",
         "name": "17,315.77",
         "orientation": "v",
         "showlegend": true,
         "type": "scatter",
         "x": [
          "17,315.77"
         ],
         "xaxis": "x",
         "y": [
          "18,747.27"
         ],
         "yaxis": "y"
        },
        {
         "hovertemplate": "total_benefits(m)=%{x}<br>total_costs(m)=%{y}<extra></extra>",
         "legendgroup": "20,905.68",
         "marker": {
          "color": "#ab63fa",
          "symbol": "x"
         },
         "mode": "markers",
         "name": "20,905.68",
         "orientation": "v",
         "showlegend": true,
         "type": "scatter",
         "x": [
          "20,905.68"
         ],
         "xaxis": "x",
         "y": [
          "22,462.34"
         ],
         "yaxis": "y"
        },
        {
         "hovertemplate": "total_benefits(m)=%{x}<br>total_costs(m)=%{y}<extra></extra>",
         "legendgroup": "22,006.03",
         "marker": {
          "color": "#FFA15A",
          "symbol": "cross"
         },
         "mode": "markers",
         "name": "22,006.03",
         "orientation": "v",
         "showlegend": true,
         "type": "scatter",
         "x": [
          "22,006.03"
         ],
         "xaxis": "x",
         "y": [
          "23,652.97"
         ],
         "yaxis": "y"
        },
        {
         "hovertemplate": "total_benefits(m)=%{x}<br>total_costs(m)=%{y}<extra></extra>",
         "legendgroup": "22,748.58",
         "marker": {
          "color": "#19d3f3",
          "symbol": "circle"
         },
         "mode": "markers",
         "name": "22,748.58",
         "orientation": "v",
         "showlegend": true,
         "type": "scatter",
         "x": [
          "22,748.58"
         ],
         "xaxis": "x",
         "y": [
          "24,493.45"
         ],
         "yaxis": "y"
        },
        {
         "hovertemplate": "total_benefits(m)=%{x}<br>total_costs(m)=%{y}<extra></extra>",
         "legendgroup": "22,764.07",
         "marker": {
          "color": "#FF6692",
          "symbol": "diamond"
         },
         "mode": "markers",
         "name": "22,764.07",
         "orientation": "v",
         "showlegend": true,
         "type": "scatter",
         "x": [
          "22,764.07"
         ],
         "xaxis": "x",
         "y": [
          "24,620.37"
         ],
         "yaxis": "y"
        },
        {
         "hovertemplate": "total_benefits(m)=%{x}<br>total_costs(m)=%{y}<extra></extra>",
         "legendgroup": "22,440.11",
         "marker": {
          "color": "#B6E880",
          "symbol": "square"
         },
         "mode": "markers",
         "name": "22,440.11",
         "orientation": "v",
         "showlegend": true,
         "type": "scatter",
         "x": [
          "22,440.11"
         ],
         "xaxis": "x",
         "y": [
          "24,330.99"
         ],
         "yaxis": "y"
        },
        {
         "hovertemplate": "total_benefits(m)=%{x}<br>total_costs(m)=%{y}<extra></extra>",
         "legendgroup": "19,548.86",
         "marker": {
          "color": "#FF97FF",
          "symbol": "x"
         },
         "mode": "markers",
         "name": "19,548.86",
         "orientation": "v",
         "showlegend": true,
         "type": "scatter",
         "x": [
          "19,548.86"
         ],
         "xaxis": "x",
         "y": [
          "21,507.55"
         ],
         "yaxis": "y"
        },
        {
         "hovertemplate": "total_benefits(m)=%{x}<br>total_costs(m)=%{y}<extra></extra>",
         "legendgroup": "16,890.49",
         "marker": {
          "color": "#FECB52",
          "symbol": "cross"
         },
         "mode": "markers",
         "name": "16,890.49",
         "orientation": "v",
         "showlegend": true,
         "type": "scatter",
         "x": [
          "16,890.49"
         ],
         "xaxis": "x",
         "y": [
          "18,988.32"
         ],
         "yaxis": "y"
        },
        {
         "hovertemplate": "total_benefits(m)=%{x}<br>total_costs(m)=%{y}<extra></extra>",
         "legendgroup": "15,769.40",
         "marker": {
          "color": "#636efa",
          "symbol": "circle"
         },
         "mode": "markers",
         "name": "15,769.40",
         "orientation": "v",
         "showlegend": true,
         "type": "scatter",
         "x": [
          "15,769.40"
         ],
         "xaxis": "x",
         "y": [
          "17,820.92"
         ],
         "yaxis": "y"
        },
        {
         "hovertemplate": "total_benefits(m)=%{x}<br>total_costs(m)=%{y}<extra></extra>",
         "legendgroup": "14,983.32",
         "marker": {
          "color": "#EF553B",
          "symbol": "diamond"
         },
         "mode": "markers",
         "name": "14,983.32",
         "orientation": "v",
         "showlegend": true,
         "type": "scatter",
         "x": [
          "14,983.32"
         ],
         "xaxis": "x",
         "y": [
          "17,054.02"
         ],
         "yaxis": "y"
        },
        {
         "hovertemplate": "total_benefits(m)=%{x}<br>total_costs(m)=%{y}<extra></extra>",
         "legendgroup": "15,547.39",
         "marker": {
          "color": "#00cc96",
          "symbol": "square"
         },
         "mode": "markers",
         "name": "15,547.39",
         "orientation": "v",
         "showlegend": true,
         "type": "scatter",
         "x": [
          "15,547.39"
         ],
         "xaxis": "x",
         "y": [
          "17,789.39"
         ],
         "yaxis": "y"
        },
        {
         "hovertemplate": "total_benefits(m)=%{x}<br>total_costs(m)=%{y}<extra></extra>",
         "legendgroup": "18,256.20",
         "marker": {
          "color": "#ab63fa",
          "symbol": "x"
         },
         "mode": "markers",
         "name": "18,256.20",
         "orientation": "v",
         "showlegend": true,
         "type": "scatter",
         "x": [
          "18,256.20"
         ],
         "xaxis": "x",
         "y": [
          "20,637.02"
         ],
         "yaxis": "y"
        },
        {
         "hovertemplate": "total_benefits(m)=%{x}<br>total_costs(m)=%{y}<extra></extra>",
         "legendgroup": "21,404.28",
         "marker": {
          "color": "#FFA15A",
          "symbol": "cross"
         },
         "mode": "markers",
         "name": "21,404.28",
         "orientation": "v",
         "showlegend": true,
         "type": "scatter",
         "x": [
          "21,404.28"
         ],
         "xaxis": "x",
         "y": [
          "23,816.28"
         ],
         "yaxis": "y"
        },
        {
         "hovertemplate": "total_benefits(m)=%{x}<br>total_costs(m)=%{y}<extra></extra>",
         "legendgroup": "24,618.89",
         "marker": {
          "color": "#19d3f3",
          "symbol": "circle"
         },
         "mode": "markers",
         "name": "24,618.89",
         "orientation": "v",
         "showlegend": true,
         "type": "scatter",
         "x": [
          "24,618.89"
         ],
         "xaxis": "x",
         "y": [
          "27,099.03"
         ],
         "yaxis": "y"
        },
        {
         "hovertemplate": "total_benefits(m)=%{x}<br>total_costs(m)=%{y}<extra></extra>",
         "legendgroup": "28,567.88",
         "marker": {
          "color": "#FF6692",
          "symbol": "diamond"
         },
         "mode": "markers",
         "name": "28,567.88",
         "orientation": "v",
         "showlegend": true,
         "type": "scatter",
         "x": [
          "28,567.88"
         ],
         "xaxis": "x",
         "y": [
          "31,072.01"
         ],
         "yaxis": "y"
        },
        {
         "hovertemplate": "total_benefits(m)=%{x}<br>total_costs(m)=%{y}<extra></extra>",
         "legendgroup": "30,187.35",
         "marker": {
          "color": "#B6E880",
          "symbol": "square"
         },
         "mode": "markers",
         "name": "30,187.35",
         "orientation": "v",
         "showlegend": true,
         "type": "scatter",
         "x": [
          "30,187.35"
         ],
         "xaxis": "x",
         "y": [
          "32,903.06"
         ],
         "yaxis": "y"
        },
        {
         "hovertemplate": "total_benefits(m)=%{x}<br>total_costs(m)=%{y}<extra></extra>",
         "legendgroup": "30,373.27",
         "marker": {
          "color": "#FF97FF",
          "symbol": "x"
         },
         "mode": "markers",
         "name": "30,373.27",
         "orientation": "v",
         "showlegend": true,
         "type": "scatter",
         "x": [
          "30,373.27"
         ],
         "xaxis": "x",
         "y": [
          "33,173.52"
         ],
         "yaxis": "y"
        },
        {
         "hovertemplate": "total_benefits(m)=%{x}<br>total_costs(m)=%{y}<extra></extra>",
         "legendgroup": "34,608.40",
         "marker": {
          "color": "#FECB52",
          "symbol": "cross"
         },
         "mode": "markers",
         "name": "34,608.40",
         "orientation": "v",
         "showlegend": true,
         "type": "scatter",
         "x": [
          "34,608.40"
         ],
         "xaxis": "x",
         "y": [
          "37,639.64"
         ],
         "yaxis": "y"
        },
        {
         "hovertemplate": "total_benefits(m)=%{x}<br>total_costs(m)=%{y}<extra></extra>",
         "legendgroup": "50,359.92",
         "marker": {
          "color": "#636efa",
          "symbol": "circle"
         },
         "mode": "markers",
         "name": "50,359.92",
         "orientation": "v",
         "showlegend": true,
         "type": "scatter",
         "x": [
          "50,359.92"
         ],
         "xaxis": "x",
         "y": [
          "53,619.92"
         ],
         "yaxis": "y"
        },
        {
         "hovertemplate": "total_benefits(m)=%{x}<br>total_costs(m)=%{y}<extra></extra>",
         "legendgroup": "64,702.16",
         "marker": {
          "color": "#EF553B",
          "symbol": "diamond"
         },
         "mode": "markers",
         "name": "64,702.16",
         "orientation": "v",
         "showlegend": true,
         "type": "scatter",
         "x": [
          "64,702.16"
         ],
         "xaxis": "x",
         "y": [
          "68,283.47"
         ],
         "yaxis": "y"
        },
        {
         "hovertemplate": "total_benefits(m)=%{x}<br>total_costs(m)=%{y}<extra></extra>",
         "legendgroup": "71,810.92",
         "marker": {
          "color": "#00cc96",
          "symbol": "square"
         },
         "mode": "markers",
         "name": "71,810.92",
         "orientation": "v",
         "showlegend": true,
         "type": "scatter",
         "x": [
          "71,810.92"
         ],
         "xaxis": "x",
         "y": [
          "75,686.54"
         ],
         "yaxis": "y"
        },
        {
         "hovertemplate": "total_benefits(m)=%{x}<br>total_costs(m)=%{y}<extra></extra>",
         "legendgroup": "74,619.34",
         "marker": {
          "color": "#ab63fa",
          "symbol": "x"
         },
         "mode": "markers",
         "name": "74,619.34",
         "orientation": "v",
         "showlegend": true,
         "type": "scatter",
         "x": [
          "74,619.34"
         ],
         "xaxis": "x",
         "y": [
          "78,411.10"
         ],
         "yaxis": "y"
        },
        {
         "hovertemplate": "total_benefits(m)=%{x}<br>total_costs(m)=%{y}<extra></extra>",
         "legendgroup": "76,066.32",
         "marker": {
          "color": "#FFA15A",
          "symbol": "cross"
         },
         "mode": "markers",
         "name": "76,066.32",
         "orientation": "v",
         "showlegend": true,
         "type": "scatter",
         "x": [
          "76,066.32"
         ],
         "xaxis": "x",
         "y": [
          "79,859.03"
         ],
         "yaxis": "y"
        },
        {
         "hovertemplate": "total_benefits(m)=%{x}<br>total_costs(m)=%{y}<extra></extra>",
         "legendgroup": "69,998.84",
         "marker": {
          "color": "#19d3f3",
          "symbol": "circle"
         },
         "mode": "markers",
         "name": "69,998.84",
         "orientation": "v",
         "showlegend": true,
         "type": "scatter",
         "x": [
          "69,998.84"
         ],
         "xaxis": "x",
         "y": [
          "74,060.33"
         ],
         "yaxis": "y"
        },
        {
         "hovertemplate": "total_benefits(m)=%{x}<br>total_costs(m)=%{y}<extra></extra>",
         "legendgroup": "69,645.14",
         "marker": {
          "color": "#FF6692",
          "symbol": "diamond"
         },
         "mode": "markers",
         "name": "69,645.14",
         "orientation": "v",
         "showlegend": true,
         "type": "scatter",
         "x": [
          "69,645.14"
         ],
         "xaxis": "x",
         "y": [
          "73,946.17"
         ],
         "yaxis": "y"
        },
        {
         "hovertemplate": "total_benefits(m)=%{x}<br>total_costs(m)=%{y}<extra></extra>",
         "legendgroup": "66,539.27",
         "marker": {
          "color": "#B6E880",
          "symbol": "square"
         },
         "mode": "markers",
         "name": "66,539.27",
         "orientation": "v",
         "showlegend": true,
         "type": "scatter",
         "x": [
          "66,539.27"
         ],
         "xaxis": "x",
         "y": [
          "70,913.55"
         ],
         "yaxis": "y"
        },
        {
         "hovertemplate": "total_benefits(m)=%{x}<br>total_costs(m)=%{y}<extra></extra>",
         "legendgroup": "63,711.05",
         "marker": {
          "color": "#FF97FF",
          "symbol": "x"
         },
         "mode": "markers",
         "name": "63,711.05",
         "orientation": "v",
         "showlegend": true,
         "type": "scatter",
         "x": [
          "63,711.05"
         ],
         "xaxis": "x",
         "y": [
          "68,174.72"
         ],
         "yaxis": "y"
        },
        {
         "hovertemplate": "total_benefits(m)=%{x}<br>total_costs(m)=%{y}<extra></extra>",
         "legendgroup": "60,916.85",
         "marker": {
          "color": "#FECB52",
          "symbol": "cross"
         },
         "mode": "markers",
         "name": "60,916.85",
         "orientation": "v",
         "showlegend": true,
         "type": "scatter",
         "x": [
          "60,916.85"
         ],
         "xaxis": "x",
         "y": [
          "65,446.40"
         ],
         "yaxis": "y"
        },
        {
         "hovertemplate": "total_benefits(m)=%{x}<br>total_costs(m)=%{y}<extra></extra>",
         "legendgroup": "55,621.88",
         "marker": {
          "color": "#636efa",
          "symbol": "circle"
         },
         "mode": "markers",
         "name": "55,621.88",
         "orientation": "v",
         "showlegend": true,
         "type": "scatter",
         "x": [
          "55,621.88"
         ],
         "xaxis": "x",
         "y": [
          "60,366.21"
         ],
         "yaxis": "y"
        }
       ],
       "layout": {
        "legend": {
         "title": {
          "text": "total_benefits(m)"
         },
         "tracegroupgap": 0
        },
        "margin": {
         "t": 60
        },
        "template": {
         "data": {
          "bar": [
           {
            "error_x": {
             "color": "#2a3f5f"
            },
            "error_y": {
             "color": "#2a3f5f"
            },
            "marker": {
             "line": {
              "color": "#E5ECF6",
              "width": 0.5
             },
             "pattern": {
              "fillmode": "overlay",
              "size": 10,
              "solidity": 0.2
             }
            },
            "type": "bar"
           }
          ],
          "barpolar": [
           {
            "marker": {
             "line": {
              "color": "#E5ECF6",
              "width": 0.5
             },
             "pattern": {
              "fillmode": "overlay",
              "size": 10,
              "solidity": 0.2
             }
            },
            "type": "barpolar"
           }
          ],
          "carpet": [
           {
            "aaxis": {
             "endlinecolor": "#2a3f5f",
             "gridcolor": "white",
             "linecolor": "white",
             "minorgridcolor": "white",
             "startlinecolor": "#2a3f5f"
            },
            "baxis": {
             "endlinecolor": "#2a3f5f",
             "gridcolor": "white",
             "linecolor": "white",
             "minorgridcolor": "white",
             "startlinecolor": "#2a3f5f"
            },
            "type": "carpet"
           }
          ],
          "choropleth": [
           {
            "colorbar": {
             "outlinewidth": 0,
             "ticks": ""
            },
            "type": "choropleth"
           }
          ],
          "contour": [
           {
            "colorbar": {
             "outlinewidth": 0,
             "ticks": ""
            },
            "colorscale": [
             [
              0,
              "#0d0887"
             ],
             [
              0.1111111111111111,
              "#46039f"
             ],
             [
              0.2222222222222222,
              "#7201a8"
             ],
             [
              0.3333333333333333,
              "#9c179e"
             ],
             [
              0.4444444444444444,
              "#bd3786"
             ],
             [
              0.5555555555555556,
              "#d8576b"
             ],
             [
              0.6666666666666666,
              "#ed7953"
             ],
             [
              0.7777777777777778,
              "#fb9f3a"
             ],
             [
              0.8888888888888888,
              "#fdca26"
             ],
             [
              1,
              "#f0f921"
             ]
            ],
            "type": "contour"
           }
          ],
          "contourcarpet": [
           {
            "colorbar": {
             "outlinewidth": 0,
             "ticks": ""
            },
            "type": "contourcarpet"
           }
          ],
          "heatmap": [
           {
            "colorbar": {
             "outlinewidth": 0,
             "ticks": ""
            },
            "colorscale": [
             [
              0,
              "#0d0887"
             ],
             [
              0.1111111111111111,
              "#46039f"
             ],
             [
              0.2222222222222222,
              "#7201a8"
             ],
             [
              0.3333333333333333,
              "#9c179e"
             ],
             [
              0.4444444444444444,
              "#bd3786"
             ],
             [
              0.5555555555555556,
              "#d8576b"
             ],
             [
              0.6666666666666666,
              "#ed7953"
             ],
             [
              0.7777777777777778,
              "#fb9f3a"
             ],
             [
              0.8888888888888888,
              "#fdca26"
             ],
             [
              1,
              "#f0f921"
             ]
            ],
            "type": "heatmap"
           }
          ],
          "heatmapgl": [
           {
            "colorbar": {
             "outlinewidth": 0,
             "ticks": ""
            },
            "colorscale": [
             [
              0,
              "#0d0887"
             ],
             [
              0.1111111111111111,
              "#46039f"
             ],
             [
              0.2222222222222222,
              "#7201a8"
             ],
             [
              0.3333333333333333,
              "#9c179e"
             ],
             [
              0.4444444444444444,
              "#bd3786"
             ],
             [
              0.5555555555555556,
              "#d8576b"
             ],
             [
              0.6666666666666666,
              "#ed7953"
             ],
             [
              0.7777777777777778,
              "#fb9f3a"
             ],
             [
              0.8888888888888888,
              "#fdca26"
             ],
             [
              1,
              "#f0f921"
             ]
            ],
            "type": "heatmapgl"
           }
          ],
          "histogram": [
           {
            "marker": {
             "pattern": {
              "fillmode": "overlay",
              "size": 10,
              "solidity": 0.2
             }
            },
            "type": "histogram"
           }
          ],
          "histogram2d": [
           {
            "colorbar": {
             "outlinewidth": 0,
             "ticks": ""
            },
            "colorscale": [
             [
              0,
              "#0d0887"
             ],
             [
              0.1111111111111111,
              "#46039f"
             ],
             [
              0.2222222222222222,
              "#7201a8"
             ],
             [
              0.3333333333333333,
              "#9c179e"
             ],
             [
              0.4444444444444444,
              "#bd3786"
             ],
             [
              0.5555555555555556,
              "#d8576b"
             ],
             [
              0.6666666666666666,
              "#ed7953"
             ],
             [
              0.7777777777777778,
              "#fb9f3a"
             ],
             [
              0.8888888888888888,
              "#fdca26"
             ],
             [
              1,
              "#f0f921"
             ]
            ],
            "type": "histogram2d"
           }
          ],
          "histogram2dcontour": [
           {
            "colorbar": {
             "outlinewidth": 0,
             "ticks": ""
            },
            "colorscale": [
             [
              0,
              "#0d0887"
             ],
             [
              0.1111111111111111,
              "#46039f"
             ],
             [
              0.2222222222222222,
              "#7201a8"
             ],
             [
              0.3333333333333333,
              "#9c179e"
             ],
             [
              0.4444444444444444,
              "#bd3786"
             ],
             [
              0.5555555555555556,
              "#d8576b"
             ],
             [
              0.6666666666666666,
              "#ed7953"
             ],
             [
              0.7777777777777778,
              "#fb9f3a"
             ],
             [
              0.8888888888888888,
              "#fdca26"
             ],
             [
              1,
              "#f0f921"
             ]
            ],
            "type": "histogram2dcontour"
           }
          ],
          "mesh3d": [
           {
            "colorbar": {
             "outlinewidth": 0,
             "ticks": ""
            },
            "type": "mesh3d"
           }
          ],
          "parcoords": [
           {
            "line": {
             "colorbar": {
              "outlinewidth": 0,
              "ticks": ""
             }
            },
            "type": "parcoords"
           }
          ],
          "pie": [
           {
            "automargin": true,
            "type": "pie"
           }
          ],
          "scatter": [
           {
            "fillpattern": {
             "fillmode": "overlay",
             "size": 10,
             "solidity": 0.2
            },
            "type": "scatter"
           }
          ],
          "scatter3d": [
           {
            "line": {
             "colorbar": {
              "outlinewidth": 0,
              "ticks": ""
             }
            },
            "marker": {
             "colorbar": {
              "outlinewidth": 0,
              "ticks": ""
             }
            },
            "type": "scatter3d"
           }
          ],
          "scattercarpet": [
           {
            "marker": {
             "colorbar": {
              "outlinewidth": 0,
              "ticks": ""
             }
            },
            "type": "scattercarpet"
           }
          ],
          "scattergeo": [
           {
            "marker": {
             "colorbar": {
              "outlinewidth": 0,
              "ticks": ""
             }
            },
            "type": "scattergeo"
           }
          ],
          "scattergl": [
           {
            "marker": {
             "colorbar": {
              "outlinewidth": 0,
              "ticks": ""
             }
            },
            "type": "scattergl"
           }
          ],
          "scattermapbox": [
           {
            "marker": {
             "colorbar": {
              "outlinewidth": 0,
              "ticks": ""
             }
            },
            "type": "scattermapbox"
           }
          ],
          "scatterpolar": [
           {
            "marker": {
             "colorbar": {
              "outlinewidth": 0,
              "ticks": ""
             }
            },
            "type": "scatterpolar"
           }
          ],
          "scatterpolargl": [
           {
            "marker": {
             "colorbar": {
              "outlinewidth": 0,
              "ticks": ""
             }
            },
            "type": "scatterpolargl"
           }
          ],
          "scatterternary": [
           {
            "marker": {
             "colorbar": {
              "outlinewidth": 0,
              "ticks": ""
             }
            },
            "type": "scatterternary"
           }
          ],
          "surface": [
           {
            "colorbar": {
             "outlinewidth": 0,
             "ticks": ""
            },
            "colorscale": [
             [
              0,
              "#0d0887"
             ],
             [
              0.1111111111111111,
              "#46039f"
             ],
             [
              0.2222222222222222,
              "#7201a8"
             ],
             [
              0.3333333333333333,
              "#9c179e"
             ],
             [
              0.4444444444444444,
              "#bd3786"
             ],
             [
              0.5555555555555556,
              "#d8576b"
             ],
             [
              0.6666666666666666,
              "#ed7953"
             ],
             [
              0.7777777777777778,
              "#fb9f3a"
             ],
             [
              0.8888888888888888,
              "#fdca26"
             ],
             [
              1,
              "#f0f921"
             ]
            ],
            "type": "surface"
           }
          ],
          "table": [
           {
            "cells": {
             "fill": {
              "color": "#EBF0F8"
             },
             "line": {
              "color": "white"
             }
            },
            "header": {
             "fill": {
              "color": "#C8D4E3"
             },
             "line": {
              "color": "white"
             }
            },
            "type": "table"
           }
          ]
         },
         "layout": {
          "annotationdefaults": {
           "arrowcolor": "#2a3f5f",
           "arrowhead": 0,
           "arrowwidth": 1
          },
          "autotypenumbers": "strict",
          "coloraxis": {
           "colorbar": {
            "outlinewidth": 0,
            "ticks": ""
           }
          },
          "colorscale": {
           "diverging": [
            [
             0,
             "#8e0152"
            ],
            [
             0.1,
             "#c51b7d"
            ],
            [
             0.2,
             "#de77ae"
            ],
            [
             0.3,
             "#f1b6da"
            ],
            [
             0.4,
             "#fde0ef"
            ],
            [
             0.5,
             "#f7f7f7"
            ],
            [
             0.6,
             "#e6f5d0"
            ],
            [
             0.7,
             "#b8e186"
            ],
            [
             0.8,
             "#7fbc41"
            ],
            [
             0.9,
             "#4d9221"
            ],
            [
             1,
             "#276419"
            ]
           ],
           "sequential": [
            [
             0,
             "#0d0887"
            ],
            [
             0.1111111111111111,
             "#46039f"
            ],
            [
             0.2222222222222222,
             "#7201a8"
            ],
            [
             0.3333333333333333,
             "#9c179e"
            ],
            [
             0.4444444444444444,
             "#bd3786"
            ],
            [
             0.5555555555555556,
             "#d8576b"
            ],
            [
             0.6666666666666666,
             "#ed7953"
            ],
            [
             0.7777777777777778,
             "#fb9f3a"
            ],
            [
             0.8888888888888888,
             "#fdca26"
            ],
            [
             1,
             "#f0f921"
            ]
           ],
           "sequentialminus": [
            [
             0,
             "#0d0887"
            ],
            [
             0.1111111111111111,
             "#46039f"
            ],
            [
             0.2222222222222222,
             "#7201a8"
            ],
            [
             0.3333333333333333,
             "#9c179e"
            ],
            [
             0.4444444444444444,
             "#bd3786"
            ],
            [
             0.5555555555555556,
             "#d8576b"
            ],
            [
             0.6666666666666666,
             "#ed7953"
            ],
            [
             0.7777777777777778,
             "#fb9f3a"
            ],
            [
             0.8888888888888888,
             "#fdca26"
            ],
            [
             1,
             "#f0f921"
            ]
           ]
          },
          "colorway": [
           "#636efa",
           "#EF553B",
           "#00cc96",
           "#ab63fa",
           "#FFA15A",
           "#19d3f3",
           "#FF6692",
           "#B6E880",
           "#FF97FF",
           "#FECB52"
          ],
          "font": {
           "color": "#2a3f5f"
          },
          "geo": {
           "bgcolor": "white",
           "lakecolor": "white",
           "landcolor": "#E5ECF6",
           "showlakes": true,
           "showland": true,
           "subunitcolor": "white"
          },
          "hoverlabel": {
           "align": "left"
          },
          "hovermode": "closest",
          "mapbox": {
           "style": "light"
          },
          "paper_bgcolor": "white",
          "plot_bgcolor": "#E5ECF6",
          "polar": {
           "angularaxis": {
            "gridcolor": "white",
            "linecolor": "white",
            "ticks": ""
           },
           "bgcolor": "#E5ECF6",
           "radialaxis": {
            "gridcolor": "white",
            "linecolor": "white",
            "ticks": ""
           }
          },
          "scene": {
           "xaxis": {
            "backgroundcolor": "#E5ECF6",
            "gridcolor": "white",
            "gridwidth": 2,
            "linecolor": "white",
            "showbackground": true,
            "ticks": "",
            "zerolinecolor": "white"
           },
           "yaxis": {
            "backgroundcolor": "#E5ECF6",
            "gridcolor": "white",
            "gridwidth": 2,
            "linecolor": "white",
            "showbackground": true,
            "ticks": "",
            "zerolinecolor": "white"
           },
           "zaxis": {
            "backgroundcolor": "#E5ECF6",
            "gridcolor": "white",
            "gridwidth": 2,
            "linecolor": "white",
            "showbackground": true,
            "ticks": "",
            "zerolinecolor": "white"
           }
          },
          "shapedefaults": {
           "line": {
            "color": "#2a3f5f"
           }
          },
          "ternary": {
           "aaxis": {
            "gridcolor": "white",
            "linecolor": "white",
            "ticks": ""
           },
           "baxis": {
            "gridcolor": "white",
            "linecolor": "white",
            "ticks": ""
           },
           "bgcolor": "#E5ECF6",
           "caxis": {
            "gridcolor": "white",
            "linecolor": "white",
            "ticks": ""
           }
          },
          "title": {
           "x": 0.05
          },
          "xaxis": {
           "automargin": true,
           "gridcolor": "white",
           "linecolor": "white",
           "ticks": "",
           "title": {
            "standoff": 15
           },
           "zerolinecolor": "white",
           "zerolinewidth": 2
          },
          "yaxis": {
           "automargin": true,
           "gridcolor": "white",
           "linecolor": "white",
           "ticks": "",
           "title": {
            "standoff": 15
           },
           "zerolinecolor": "white",
           "zerolinewidth": 2
          }
         }
        },
        "xaxis": {
         "anchor": "y",
         "categoryarray": [
          "228.80",
          "549.70",
          "1,522.70",
          "1,797.30",
          "2,131.40",
          "2,718.30",
          "4,385.50",
          "5,326.50",
          "5,067.00",
          "5,139.20",
          "6,480.20",
          "8,720.90",
          "10,629.90",
          "10,208.30",
          "11,152.30",
          "10,696.10",
          "10,743.60",
          "10,605.20",
          "10,500.30",
          "11,149.10",
          "11,669.78",
          "14,142.79",
          "17,315.77",
          "20,905.68",
          "22,006.03",
          "22,748.58",
          "22,764.07",
          "22,440.11",
          "19,548.86",
          "16,890.49",
          "15,769.40",
          "14,983.32",
          "15,547.39",
          "18,256.20",
          "21,404.28",
          "24,618.89",
          "28,567.88",
          "30,187.35",
          "30,373.27",
          "34,608.40",
          "50,359.92",
          "64,702.16",
          "71,810.92",
          "74,619.34",
          "76,066.32",
          "69,998.84",
          "69,645.14",
          "66,539.27",
          "63,711.05",
          "60,916.85",
          "55,621.88"
         ],
         "categoryorder": "array",
         "domain": [
          0,
          1
         ],
         "title": {
          "text": "total_benefits(m)"
         }
        },
        "yaxis": {
         "anchor": "x",
         "domain": [
          0,
          1
         ],
         "title": {
          "text": "total_costs(m)"
         }
        }
       }
      }
     },
     "metadata": {},
     "output_type": "display_data"
    }
   ],
   "source": [
    "fig = px.scatter(clean_df, x = 'total_benefits(m)', y = 'total_costs(m)', color= 'total_benefits(m)', symbol = 'total_benefits(m)')\n",
    "fig"
   ]
  },
  {
   "attachments": {},
   "cell_type": "markdown",
   "metadata": {},
   "source": [
    "### Task 4: Feature Engineering\n",
    "Now, let's create a new column, representing the change in total_cost from the previous fiscal year.\n",
    "\n",
    "After you have the code working in the cell below, try to incorporate it into your function from task 2!"
   ]
  },
  {
   "cell_type": "code",
   "execution_count": 292,
   "metadata": {},
   "outputs": [
    {
     "data": {
      "text/html": [
       "<div>\n",
       "<style scoped>\n",
       "    .dataframe tbody tr th:only-of-type {\n",
       "        vertical-align: middle;\n",
       "    }\n",
       "\n",
       "    .dataframe tbody tr th {\n",
       "        vertical-align: top;\n",
       "    }\n",
       "\n",
       "    .dataframe thead th {\n",
       "        text-align: right;\n",
       "    }\n",
       "</style>\n",
       "<table border=\"1\" class=\"dataframe\">\n",
       "  <thead>\n",
       "    <tr style=\"text-align: right;\">\n",
       "      <th></th>\n",
       "      <th>fiscal_year</th>\n",
       "      <th>average_participation</th>\n",
       "      <th>average_benefit_per_person</th>\n",
       "      <th>total_benefits(m)</th>\n",
       "      <th>other_costs</th>\n",
       "      <th>total_costs(m)</th>\n",
       "      <th>total_cost_change</th>\n",
       "    </tr>\n",
       "  </thead>\n",
       "  <tbody>\n",
       "    <tr>\n",
       "      <th>0</th>\n",
       "      <td>1969</td>\n",
       "      <td>2,878</td>\n",
       "      <td>6.63</td>\n",
       "      <td>228.80</td>\n",
       "      <td>21.70</td>\n",
       "      <td>250.5</td>\n",
       "      <td>NaN</td>\n",
       "    </tr>\n",
       "    <tr>\n",
       "      <th>1</th>\n",
       "      <td>1970</td>\n",
       "      <td>4,340</td>\n",
       "      <td>10.55</td>\n",
       "      <td>549.70</td>\n",
       "      <td>27.20</td>\n",
       "      <td>576.9</td>\n",
       "      <td>326.4</td>\n",
       "    </tr>\n",
       "    <tr>\n",
       "      <th>2</th>\n",
       "      <td>1971</td>\n",
       "      <td>9,368</td>\n",
       "      <td>13.55</td>\n",
       "      <td>1,522.70</td>\n",
       "      <td>53.20</td>\n",
       "      <td>NaN</td>\n",
       "      <td>NaN</td>\n",
       "    </tr>\n",
       "    <tr>\n",
       "      <th>3</th>\n",
       "      <td>1972</td>\n",
       "      <td>11,109</td>\n",
       "      <td>13.48</td>\n",
       "      <td>1,797.30</td>\n",
       "      <td>69.40</td>\n",
       "      <td>NaN</td>\n",
       "      <td>NaN</td>\n",
       "    </tr>\n",
       "    <tr>\n",
       "      <th>4</th>\n",
       "      <td>1973</td>\n",
       "      <td>12,166</td>\n",
       "      <td>14.60</td>\n",
       "      <td>2,131.40</td>\n",
       "      <td>76.00</td>\n",
       "      <td>NaN</td>\n",
       "      <td>NaN</td>\n",
       "    </tr>\n",
       "  </tbody>\n",
       "</table>\n",
       "</div>"
      ],
      "text/plain": [
       "  fiscal_year average_participation  average_benefit_per_person  \\\n",
       "0        1969                 2,878                        6.63   \n",
       "1        1970                 4,340                       10.55   \n",
       "2        1971                 9,368                       13.55   \n",
       "3        1972                11,109                       13.48   \n",
       "4        1973                12,166                       14.60   \n",
       "\n",
       "  total_benefits(m) other_costs  total_costs(m)  total_cost_change  \n",
       "0            228.80       21.70           250.5                NaN  \n",
       "1            549.70       27.20           576.9              326.4  \n",
       "2          1,522.70       53.20             NaN                NaN  \n",
       "3          1,797.30       69.40             NaN                NaN  \n",
       "4          2,131.40       76.00             NaN                NaN  "
      ]
     },
     "metadata": {},
     "output_type": "display_data"
    }
   ],
   "source": [
    "clean_df = clean_df.sort_values('fiscal_year')\n",
    "\n",
    "clean_df['total_costs(m)'] = pd.to_numeric(clean_df['total_costs(m)'], errors='coerce') # errors = 'coerce' arguement is used to replace any non-numeric values in the column with NaN values. \n",
    "# was recieving errors so i researched and found the need for having errors = 'coerce'\n",
    "\n",
    "# Add a new column for the change in 'total_costs(m)' from the previous fiscal year\n",
    "clean_df['total_cost_change'] = clean_df['total_costs(m)'].diff()\n",
    "\n",
    "# Display the updated dataframe\n",
    "display(clean_df.head())"
   ]
  },
  {
   "attachments": {},
   "cell_type": "markdown",
   "metadata": {},
   "source": [
    "### Task 5: Heatmap\n",
    "\n",
    "Create a heatmap visualization. Return text in the heatmap and move the x axes to the top of the graph. "
   ]
  },
  {
   "cell_type": "code",
   "execution_count": 300,
   "metadata": {},
   "outputs": [
    {
     "data": {
      "application/vnd.plotly.v1+json": {
       "config": {
        "plotlyServerURL": "https://plot.ly"
       },
       "data": [
        {
         "coloraxis": "coloraxis",
         "hovertemplate": "x: %{x}<br>y: %{y}<br>color: %{z}<extra></extra>",
         "name": "0",
         "texttemplate": "%{z}",
         "type": "heatmap",
         "x": [
          "fiscal_year",
          "average_participation",
          "average_benefit_per_person",
          "total_benefits(m)",
          "other_costs",
          "total_costs(m)"
         ],
         "xaxis": "x",
         "y": [
          0,
          1,
          2,
          3,
          4,
          5,
          6,
          7,
          8,
          9,
          10,
          11,
          12,
          13,
          14,
          15,
          16,
          17,
          18,
          19,
          20,
          21,
          22,
          23,
          24,
          25,
          26,
          27,
          28,
          29,
          30,
          31,
          32,
          33,
          34,
          35,
          36,
          37,
          38,
          39,
          40,
          41,
          42,
          43,
          44,
          45,
          46,
          47,
          48,
          49,
          50
         ],
         "yaxis": "y",
         "z": [
          [
           "1969",
           "2,878",
           6.63,
           "228.80",
           "21.70",
           "250.50"
          ],
          [
           "1970",
           "4,340",
           10.55,
           "549.70",
           "27.20",
           "576.90"
          ],
          [
           "1971",
           "9,368",
           13.55,
           "1,522.70",
           "53.20",
           "1,575.90"
          ],
          [
           "1972",
           "11,109",
           13.48,
           "1,797.30",
           "69.40",
           "1,866.70"
          ],
          [
           "1973",
           "12,166",
           14.6,
           "2,131.40",
           "76.00",
           "2,207.40"
          ],
          [
           "1974",
           "12,862",
           17.61,
           "2,718.30",
           "119.20",
           "2,837.50"
          ],
          [
           "1975",
           "17,064",
           21.4,
           "4,385.50",
           "233.20",
           "4,618.70"
          ],
          [
           "1976",
           "18,549",
           23.93,
           "5,326.50",
           "359.00",
           "5,685.50"
          ],
          [
           "1977",
           "17,077",
           24.71,
           "5,067.00",
           "394.00",
           "5,461.00"
          ],
          [
           "1978",
           "16,001",
           26.77,
           "5,139.20",
           "380.50",
           "5,519.70"
          ],
          [
           "1979",
           "17,653",
           30.59,
           "6,480.20",
           "459.60",
           "6,939.80"
          ],
          [
           "1980",
           "21,082",
           34.47,
           "8,720.90",
           "485.60",
           "9,206.50"
          ],
          [
           "1981",
           "22,430",
           39.49,
           "10,629.90",
           "595.40",
           "11,225.20"
          ],
          [
           "1982 3]",
           "21,717",
           39.17,
           "10,208.30",
           "628.40",
           "10,836.70"
          ],
          [
           "1983",
           "21,625",
           42.98,
           "11,152.30",
           "694.80",
           "11,847.10"
          ],
          [
           "1984",
           "20,854",
           42.74,
           "10,696.10",
           "882.60",
           "11,578.80"
          ],
          [
           "1985",
           "19,899",
           44.99,
           "10,743.60",
           "959.60",
           "11,703.20"
          ],
          [
           "1986",
           "19,429",
           45.49,
           "10,605.20",
           "1,033.20",
           "11,638.40"
          ],
          [
           "1987",
           "19,113",
           45.78,
           "10,500.30",
           "1,103.90",
           "11,604.20"
          ],
          [
           "1988",
           "18,645",
           49.83,
           "11,149.10",
           "1,167.70",
           "12,316.80"
          ],
          [
           "1989",
           "18,806",
           51.71,
           "11,669.78",
           "1,231.81",
           "12,901.59"
          ],
          [
           "1990",
           "20,049",
           58.78,
           "14,142.79",
           "1,304.47",
           "15,447.26"
          ],
          [
           "1991",
           "22,625",
           63.78,
           "17,315.77",
           "1,431.50",
           "18,747.27"
          ],
          [
           "1992",
           "25,407",
           68.57,
           "20,905.68",
           "1,556.66",
           "22,462.34"
          ],
          [
           "1993",
           "26,987",
           67.95,
           "22,006.03",
           "1,646.94",
           "23,652.97"
          ],
          [
           "1994",
           "27,474",
           69,
           "22,748.58",
           "1,744.87",
           "24,493.45"
          ],
          [
           "1995",
           "26,619",
           71.27,
           "22,764.07",
           "1,856.30",
           "24,620.37"
          ],
          [
           "1996",
           "25,543",
           73.21,
           "22,440.11",
           "1,890.88",
           "24,330.99"
          ],
          [
           "1997",
           "22,858",
           71.27,
           "19,548.86",
           "1,958.68",
           "21,507.55"
          ],
          [
           "1998",
           "19,791",
           71.12,
           "16,890.49",
           "2,097.84",
           "18,988.32"
          ],
          [
           "1999",
           "18,183",
           72.27,
           "15,769.40",
           "2,051.52",
           "17,820.92"
          ],
          [
           "2000",
           "17,194",
           72.62,
           "14,983.32",
           "2,070.70",
           "17,054.02"
          ],
          [
           "2001",
           "17,318",
           74.81,
           "15,547.39",
           "2,242.00",
           "17,789.39"
          ],
          [
           "2002",
           "19,096",
           79.67,
           "18,256.20",
           "2,380.82",
           "20,637.02"
          ],
          [
           "2003",
           "21,250",
           83.94,
           "21,404.28",
           "2,412.01",
           "23,816.28"
          ],
          [
           "2004",
           "23,811",
           86.16,
           "24,618.89",
           "2,480.14",
           "27,099.03"
          ],
          [
           "2005",
           "25,628",
           92.89,
           "28,567.88",
           "2,504.13",
           "31,072.01"
          ],
          [
           "2006",
           "26,549",
           94.75,
           "30,187.35",
           "2,715.72",
           "32,903.06"
          ],
          [
           "2007",
           "26,316",
           96.18,
           "30,373.27",
           "2,800.25",
           "33,173.52"
          ],
          [
           "2008",
           "28,223",
           102.19,
           "34,608.40",
           "3,031.25",
           "37,639.64"
          ],
          [
           "2009",
           "33,490",
           125.31,
           "50,359.92",
           "3,260.00",
           "53,619.92"
          ],
          [
           "2010",
           "40,302",
           133.79,
           "64,702.16",
           "3,581.30",
           "68,283.47"
          ],
          [
           "2011",
           "44,709",
           133.85,
           "71,810.92",
           "3,875.62",
           "75,686.54"
          ],
          [
           "2012",
           "46,609",
           133.41,
           "74,619.34",
           "3,791.75",
           "78,411.10"
          ],
          [
           "2013",
           "47,636",
           133.07,
           "76,066.32",
           "3,792.71",
           "79,859.03"
          ],
          [
           "2014",
           "46,664",
           125.01,
           "69,998.84",
           "4,061.49",
           "74,060.33"
          ],
          [
           "2015",
           "45,767",
           126.81,
           "69,645.14",
           "4,301.03",
           "73,946.17"
          ],
          [
           "2016",
           "44,220",
           125.4,
           "66,539.27",
           "4,374.28",
           "70,913.55"
          ],
          [
           "2017",
           "42,317",
           125.47,
           "63,711.05",
           "4,463.67",
           "68,174.72"
          ],
          [
           "2018",
           "40,776",
           124.5,
           "60,916.85",
           "4,529.55",
           "65,446.40"
          ],
          [
           "2019",
           "35,703",
           129.83,
           "55,621.88",
           "4,744.33",
           "60,366.21"
          ]
         ]
        }
       ],
       "layout": {
        "coloraxis": {
         "colorscale": [
          [
           0,
           "#0d0887"
          ],
          [
           0.1111111111111111,
           "#46039f"
          ],
          [
           0.2222222222222222,
           "#7201a8"
          ],
          [
           0.3333333333333333,
           "#9c179e"
          ],
          [
           0.4444444444444444,
           "#bd3786"
          ],
          [
           0.5555555555555556,
           "#d8576b"
          ],
          [
           0.6666666666666666,
           "#ed7953"
          ],
          [
           0.7777777777777778,
           "#fb9f3a"
          ],
          [
           0.8888888888888888,
           "#fdca26"
          ],
          [
           1,
           "#f0f921"
          ]
         ]
        },
        "margin": {
         "t": 60
        },
        "template": {
         "data": {
          "bar": [
           {
            "error_x": {
             "color": "#2a3f5f"
            },
            "error_y": {
             "color": "#2a3f5f"
            },
            "marker": {
             "line": {
              "color": "#E5ECF6",
              "width": 0.5
             },
             "pattern": {
              "fillmode": "overlay",
              "size": 10,
              "solidity": 0.2
             }
            },
            "type": "bar"
           }
          ],
          "barpolar": [
           {
            "marker": {
             "line": {
              "color": "#E5ECF6",
              "width": 0.5
             },
             "pattern": {
              "fillmode": "overlay",
              "size": 10,
              "solidity": 0.2
             }
            },
            "type": "barpolar"
           }
          ],
          "carpet": [
           {
            "aaxis": {
             "endlinecolor": "#2a3f5f",
             "gridcolor": "white",
             "linecolor": "white",
             "minorgridcolor": "white",
             "startlinecolor": "#2a3f5f"
            },
            "baxis": {
             "endlinecolor": "#2a3f5f",
             "gridcolor": "white",
             "linecolor": "white",
             "minorgridcolor": "white",
             "startlinecolor": "#2a3f5f"
            },
            "type": "carpet"
           }
          ],
          "choropleth": [
           {
            "colorbar": {
             "outlinewidth": 0,
             "ticks": ""
            },
            "type": "choropleth"
           }
          ],
          "contour": [
           {
            "colorbar": {
             "outlinewidth": 0,
             "ticks": ""
            },
            "colorscale": [
             [
              0,
              "#0d0887"
             ],
             [
              0.1111111111111111,
              "#46039f"
             ],
             [
              0.2222222222222222,
              "#7201a8"
             ],
             [
              0.3333333333333333,
              "#9c179e"
             ],
             [
              0.4444444444444444,
              "#bd3786"
             ],
             [
              0.5555555555555556,
              "#d8576b"
             ],
             [
              0.6666666666666666,
              "#ed7953"
             ],
             [
              0.7777777777777778,
              "#fb9f3a"
             ],
             [
              0.8888888888888888,
              "#fdca26"
             ],
             [
              1,
              "#f0f921"
             ]
            ],
            "type": "contour"
           }
          ],
          "contourcarpet": [
           {
            "colorbar": {
             "outlinewidth": 0,
             "ticks": ""
            },
            "type": "contourcarpet"
           }
          ],
          "heatmap": [
           {
            "colorbar": {
             "outlinewidth": 0,
             "ticks": ""
            },
            "colorscale": [
             [
              0,
              "#0d0887"
             ],
             [
              0.1111111111111111,
              "#46039f"
             ],
             [
              0.2222222222222222,
              "#7201a8"
             ],
             [
              0.3333333333333333,
              "#9c179e"
             ],
             [
              0.4444444444444444,
              "#bd3786"
             ],
             [
              0.5555555555555556,
              "#d8576b"
             ],
             [
              0.6666666666666666,
              "#ed7953"
             ],
             [
              0.7777777777777778,
              "#fb9f3a"
             ],
             [
              0.8888888888888888,
              "#fdca26"
             ],
             [
              1,
              "#f0f921"
             ]
            ],
            "type": "heatmap"
           }
          ],
          "heatmapgl": [
           {
            "colorbar": {
             "outlinewidth": 0,
             "ticks": ""
            },
            "colorscale": [
             [
              0,
              "#0d0887"
             ],
             [
              0.1111111111111111,
              "#46039f"
             ],
             [
              0.2222222222222222,
              "#7201a8"
             ],
             [
              0.3333333333333333,
              "#9c179e"
             ],
             [
              0.4444444444444444,
              "#bd3786"
             ],
             [
              0.5555555555555556,
              "#d8576b"
             ],
             [
              0.6666666666666666,
              "#ed7953"
             ],
             [
              0.7777777777777778,
              "#fb9f3a"
             ],
             [
              0.8888888888888888,
              "#fdca26"
             ],
             [
              1,
              "#f0f921"
             ]
            ],
            "type": "heatmapgl"
           }
          ],
          "histogram": [
           {
            "marker": {
             "pattern": {
              "fillmode": "overlay",
              "size": 10,
              "solidity": 0.2
             }
            },
            "type": "histogram"
           }
          ],
          "histogram2d": [
           {
            "colorbar": {
             "outlinewidth": 0,
             "ticks": ""
            },
            "colorscale": [
             [
              0,
              "#0d0887"
             ],
             [
              0.1111111111111111,
              "#46039f"
             ],
             [
              0.2222222222222222,
              "#7201a8"
             ],
             [
              0.3333333333333333,
              "#9c179e"
             ],
             [
              0.4444444444444444,
              "#bd3786"
             ],
             [
              0.5555555555555556,
              "#d8576b"
             ],
             [
              0.6666666666666666,
              "#ed7953"
             ],
             [
              0.7777777777777778,
              "#fb9f3a"
             ],
             [
              0.8888888888888888,
              "#fdca26"
             ],
             [
              1,
              "#f0f921"
             ]
            ],
            "type": "histogram2d"
           }
          ],
          "histogram2dcontour": [
           {
            "colorbar": {
             "outlinewidth": 0,
             "ticks": ""
            },
            "colorscale": [
             [
              0,
              "#0d0887"
             ],
             [
              0.1111111111111111,
              "#46039f"
             ],
             [
              0.2222222222222222,
              "#7201a8"
             ],
             [
              0.3333333333333333,
              "#9c179e"
             ],
             [
              0.4444444444444444,
              "#bd3786"
             ],
             [
              0.5555555555555556,
              "#d8576b"
             ],
             [
              0.6666666666666666,
              "#ed7953"
             ],
             [
              0.7777777777777778,
              "#fb9f3a"
             ],
             [
              0.8888888888888888,
              "#fdca26"
             ],
             [
              1,
              "#f0f921"
             ]
            ],
            "type": "histogram2dcontour"
           }
          ],
          "mesh3d": [
           {
            "colorbar": {
             "outlinewidth": 0,
             "ticks": ""
            },
            "type": "mesh3d"
           }
          ],
          "parcoords": [
           {
            "line": {
             "colorbar": {
              "outlinewidth": 0,
              "ticks": ""
             }
            },
            "type": "parcoords"
           }
          ],
          "pie": [
           {
            "automargin": true,
            "type": "pie"
           }
          ],
          "scatter": [
           {
            "fillpattern": {
             "fillmode": "overlay",
             "size": 10,
             "solidity": 0.2
            },
            "type": "scatter"
           }
          ],
          "scatter3d": [
           {
            "line": {
             "colorbar": {
              "outlinewidth": 0,
              "ticks": ""
             }
            },
            "marker": {
             "colorbar": {
              "outlinewidth": 0,
              "ticks": ""
             }
            },
            "type": "scatter3d"
           }
          ],
          "scattercarpet": [
           {
            "marker": {
             "colorbar": {
              "outlinewidth": 0,
              "ticks": ""
             }
            },
            "type": "scattercarpet"
           }
          ],
          "scattergeo": [
           {
            "marker": {
             "colorbar": {
              "outlinewidth": 0,
              "ticks": ""
             }
            },
            "type": "scattergeo"
           }
          ],
          "scattergl": [
           {
            "marker": {
             "colorbar": {
              "outlinewidth": 0,
              "ticks": ""
             }
            },
            "type": "scattergl"
           }
          ],
          "scattermapbox": [
           {
            "marker": {
             "colorbar": {
              "outlinewidth": 0,
              "ticks": ""
             }
            },
            "type": "scattermapbox"
           }
          ],
          "scatterpolar": [
           {
            "marker": {
             "colorbar": {
              "outlinewidth": 0,
              "ticks": ""
             }
            },
            "type": "scatterpolar"
           }
          ],
          "scatterpolargl": [
           {
            "marker": {
             "colorbar": {
              "outlinewidth": 0,
              "ticks": ""
             }
            },
            "type": "scatterpolargl"
           }
          ],
          "scatterternary": [
           {
            "marker": {
             "colorbar": {
              "outlinewidth": 0,
              "ticks": ""
             }
            },
            "type": "scatterternary"
           }
          ],
          "surface": [
           {
            "colorbar": {
             "outlinewidth": 0,
             "ticks": ""
            },
            "colorscale": [
             [
              0,
              "#0d0887"
             ],
             [
              0.1111111111111111,
              "#46039f"
             ],
             [
              0.2222222222222222,
              "#7201a8"
             ],
             [
              0.3333333333333333,
              "#9c179e"
             ],
             [
              0.4444444444444444,
              "#bd3786"
             ],
             [
              0.5555555555555556,
              "#d8576b"
             ],
             [
              0.6666666666666666,
              "#ed7953"
             ],
             [
              0.7777777777777778,
              "#fb9f3a"
             ],
             [
              0.8888888888888888,
              "#fdca26"
             ],
             [
              1,
              "#f0f921"
             ]
            ],
            "type": "surface"
           }
          ],
          "table": [
           {
            "cells": {
             "fill": {
              "color": "#EBF0F8"
             },
             "line": {
              "color": "white"
             }
            },
            "header": {
             "fill": {
              "color": "#C8D4E3"
             },
             "line": {
              "color": "white"
             }
            },
            "type": "table"
           }
          ]
         },
         "layout": {
          "annotationdefaults": {
           "arrowcolor": "#2a3f5f",
           "arrowhead": 0,
           "arrowwidth": 1
          },
          "autotypenumbers": "strict",
          "coloraxis": {
           "colorbar": {
            "outlinewidth": 0,
            "ticks": ""
           }
          },
          "colorscale": {
           "diverging": [
            [
             0,
             "#8e0152"
            ],
            [
             0.1,
             "#c51b7d"
            ],
            [
             0.2,
             "#de77ae"
            ],
            [
             0.3,
             "#f1b6da"
            ],
            [
             0.4,
             "#fde0ef"
            ],
            [
             0.5,
             "#f7f7f7"
            ],
            [
             0.6,
             "#e6f5d0"
            ],
            [
             0.7,
             "#b8e186"
            ],
            [
             0.8,
             "#7fbc41"
            ],
            [
             0.9,
             "#4d9221"
            ],
            [
             1,
             "#276419"
            ]
           ],
           "sequential": [
            [
             0,
             "#0d0887"
            ],
            [
             0.1111111111111111,
             "#46039f"
            ],
            [
             0.2222222222222222,
             "#7201a8"
            ],
            [
             0.3333333333333333,
             "#9c179e"
            ],
            [
             0.4444444444444444,
             "#bd3786"
            ],
            [
             0.5555555555555556,
             "#d8576b"
            ],
            [
             0.6666666666666666,
             "#ed7953"
            ],
            [
             0.7777777777777778,
             "#fb9f3a"
            ],
            [
             0.8888888888888888,
             "#fdca26"
            ],
            [
             1,
             "#f0f921"
            ]
           ],
           "sequentialminus": [
            [
             0,
             "#0d0887"
            ],
            [
             0.1111111111111111,
             "#46039f"
            ],
            [
             0.2222222222222222,
             "#7201a8"
            ],
            [
             0.3333333333333333,
             "#9c179e"
            ],
            [
             0.4444444444444444,
             "#bd3786"
            ],
            [
             0.5555555555555556,
             "#d8576b"
            ],
            [
             0.6666666666666666,
             "#ed7953"
            ],
            [
             0.7777777777777778,
             "#fb9f3a"
            ],
            [
             0.8888888888888888,
             "#fdca26"
            ],
            [
             1,
             "#f0f921"
            ]
           ]
          },
          "colorway": [
           "#636efa",
           "#EF553B",
           "#00cc96",
           "#ab63fa",
           "#FFA15A",
           "#19d3f3",
           "#FF6692",
           "#B6E880",
           "#FF97FF",
           "#FECB52"
          ],
          "font": {
           "color": "#2a3f5f"
          },
          "geo": {
           "bgcolor": "white",
           "lakecolor": "white",
           "landcolor": "#E5ECF6",
           "showlakes": true,
           "showland": true,
           "subunitcolor": "white"
          },
          "hoverlabel": {
           "align": "left"
          },
          "hovermode": "closest",
          "mapbox": {
           "style": "light"
          },
          "paper_bgcolor": "white",
          "plot_bgcolor": "#E5ECF6",
          "polar": {
           "angularaxis": {
            "gridcolor": "white",
            "linecolor": "white",
            "ticks": ""
           },
           "bgcolor": "#E5ECF6",
           "radialaxis": {
            "gridcolor": "white",
            "linecolor": "white",
            "ticks": ""
           }
          },
          "scene": {
           "xaxis": {
            "backgroundcolor": "#E5ECF6",
            "gridcolor": "white",
            "gridwidth": 2,
            "linecolor": "white",
            "showbackground": true,
            "ticks": "",
            "zerolinecolor": "white"
           },
           "yaxis": {
            "backgroundcolor": "#E5ECF6",
            "gridcolor": "white",
            "gridwidth": 2,
            "linecolor": "white",
            "showbackground": true,
            "ticks": "",
            "zerolinecolor": "white"
           },
           "zaxis": {
            "backgroundcolor": "#E5ECF6",
            "gridcolor": "white",
            "gridwidth": 2,
            "linecolor": "white",
            "showbackground": true,
            "ticks": "",
            "zerolinecolor": "white"
           }
          },
          "shapedefaults": {
           "line": {
            "color": "#2a3f5f"
           }
          },
          "ternary": {
           "aaxis": {
            "gridcolor": "white",
            "linecolor": "white",
            "ticks": ""
           },
           "baxis": {
            "gridcolor": "white",
            "linecolor": "white",
            "ticks": ""
           },
           "bgcolor": "#E5ECF6",
           "caxis": {
            "gridcolor": "white",
            "linecolor": "white",
            "ticks": ""
           }
          },
          "title": {
           "x": 0.05
          },
          "xaxis": {
           "automargin": true,
           "gridcolor": "white",
           "linecolor": "white",
           "ticks": "",
           "title": {
            "standoff": 15
           },
           "zerolinecolor": "white",
           "zerolinewidth": 2
          },
          "yaxis": {
           "automargin": true,
           "gridcolor": "white",
           "linecolor": "white",
           "ticks": "",
           "title": {
            "standoff": 15
           },
           "zerolinecolor": "white",
           "zerolinewidth": 2
          }
         }
        },
        "xaxis": {
         "anchor": "y",
         "constrain": "domain",
         "domain": [
          0,
          1
         ],
         "scaleanchor": "y",
         "side": "top"
        },
        "yaxis": {
         "anchor": "x",
         "autorange": "reversed",
         "constrain": "domain",
         "domain": [
          0,
          1
         ]
        }
       }
      }
     },
     "metadata": {},
     "output_type": "display_data"
    }
   ],
   "source": [
    "fig = px.imshow(clean_df, text_auto=True)\n",
    "fig.update_xaxes(side='top')\n",
    "fig"
   ]
  },
  {
   "attachments": {},
   "cell_type": "markdown",
   "metadata": {},
   "source": [
    "### Task 6: Communicate Results\n",
    "In the markdown cell below, please give an explanation of what the visualization represents as if it were a presentation to someone who had never seen this data before!"
   ]
  },
  {
   "attachments": {},
   "cell_type": "markdown",
   "metadata": {},
   "source": [
    "**YOUR ANSWER HERE**\n",
    "The visuals I have provided above have shown that the average costs and benefits have a linear effect. They are both increasing each year since the start of the data in 1969. The higher the costs, the more benefits each person will receive. Between 2010 and 2013 have the highest average benefits per person. We can conclude that this trend will continue to go in a linear pattern as the years go on."
   ]
  },
  {
   "cell_type": "markdown",
   "metadata": {},
   "source": []
  }
 ],
 "metadata": {
  "kernelspec": {
   "display_name": "Python 3",
   "language": "python",
   "name": "python3"
  },
  "language_info": {
   "codemirror_mode": {
    "name": "ipython",
    "version": 3
   },
   "file_extension": ".py",
   "mimetype": "text/x-python",
   "name": "python",
   "nbconvert_exporter": "python",
   "pygments_lexer": "ipython3",
   "version": "3.11.2"
  },
  "orig_nbformat": 4,
  "vscode": {
   "interpreter": {
    "hash": "26de051ba29f2982a8de78e945f0abaf191376122a1563185a90213a26c5da77"
   }
  }
 },
 "nbformat": 4,
 "nbformat_minor": 2
}
